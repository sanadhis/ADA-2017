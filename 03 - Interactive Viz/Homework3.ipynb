{
 "cells": [
  {
   "cell_type": "markdown",
   "metadata": {
    "collapsed": true
   },
   "source": [
    "## Libraries\n",
    "* required libraries for this homework. We specifically use folium to visualize interactive map"
   ]
  },
  {
   "cell_type": "code",
   "execution_count": 1,
   "metadata": {
    "collapsed": true
   },
   "outputs": [],
   "source": [
    "import pandas as pd\n",
    "import numpy as np\n",
    "import seaborn as sns\n",
    "import folium\n",
    "import json\n",
    "import matplotlib.pyplot as plt\n",
    "%matplotlib inline\n",
    "\n",
    "from branca.colormap import linear"
   ]
  },
  {
   "cell_type": "markdown",
   "metadata": {
    "collapsed": true
   },
   "source": [
    "## Functions & Helpers\n",
    "We define three functions that we use within the rest of tasks\n",
    "1. save_map : helpers function to create html file for a given map\n",
    "2. decodeArc : helpers function to map arcs coordinates into longitude and latitude coordinates\n",
    "3. reconstruct_shape: helpers function to convert arc indices into arcs longitude and latitude coordinates "
   ]
  },
  {
   "cell_type": "code",
   "execution_count": 2,
   "metadata": {
    "collapsed": true
   },
   "outputs": [],
   "source": [
    "# to save map into html file\n",
    "def save_map(map_name, filename):\n",
    "    map_filename = \"maps/\"+filename+\".html\"\n",
    "    map_name.save(map_filename)\n",
    "\n",
    "# Function used to map an array of arcs coordinates to an array of longitude and latitude coordinates\n",
    "def decodeArc(arcs) :\n",
    "    x=0\n",
    "    y=0\n",
    "    conversion = []\n",
    "    for arc in arcs:\n",
    "        arc1 = (x + arc[0])*topo_json_data['transform']['scale'][0]+topo_json_data['transform']['translate'][0]\n",
    "        arc2 = (y + arc[1])*topo_json_data['transform']['scale'][1]+topo_json_data['transform']['translate'][1]\n",
    "        conversion.append([arc1,arc2])\n",
    "        x += arc[0]\n",
    "        y += arc[1]\n",
    "    return conversion\n",
    "\n",
    "# Takes an array of arc indices and returns the corresponding array of arcs in longitude/latitude \n",
    "# coordinates depending on the shape \n",
    "def reconstruct_shape(arcIdx, shape, arcIndices):\n",
    "    if(shape == 'MultiPolygon') :\n",
    "        layer1=[]\n",
    "        for x in range(len(arcs)):\n",
    "            layer2 = []\n",
    "            for y in range(len(arcs[x])):\n",
    "                layer3 = []\n",
    "                for z in range(len(arcs[x][y])):\n",
    "                    if(arcs[x][y][z] <0):\n",
    "                        layer3=layer3 + decodeArc(arcIndices[-arcs[x][y][z]-1])[::-1]\n",
    "                    else:   \n",
    "                        layer3=layer3 + decodeArc(arcIndices[arcs[x][y][z]])\n",
    "                layer2.append(layer3)\n",
    "            layer1.append(layer2)\n",
    "        return layer1\n",
    "    if(shape == 'Polygon') :\n",
    "        layer1=[]\n",
    "        for x in range(len(arcs)):\n",
    "            layer2 = []\n",
    "            for y in range(len(arcs[x])):\n",
    "                if(arcs[x][y] <0):\n",
    "                    layer2=layer2 + decodeArc(arcIndices[-arcs[x][y]-1])[::-1]\n",
    "                else :   \n",
    "                    layer2=layer2 + decodeArc(arcIndices[arcs[x][y]])\n",
    "            layer1.append(layer2)\n",
    "        return layer1"
   ]
  },
  {
   "cell_type": "markdown",
   "metadata": {
    "collapsed": true
   },
   "source": [
    "## Color Choice : Choropleth map with diverging colormap\n",
    "Reason: This kind of color map uses two more distinct colors for minimum and maximum values, which improves the drawback of sequential color map. We know sequential colormap only use one color and it's easy to make users confused. Although quantized mapping is very clear in the aspect of color, we think too many colors also make it difficult on understanding too.\n",
    "\n",
    "\n",
    "\n",
    "![Sequential Colormap](figures/sequential.png)\n",
    "\n",
    "![Diverging Colormap](figures/diverging.png)\n",
    "\n",
    "![Quantized Coloarmap](figures/quantized.png)\n",
    "\n",
    "[Reference](http://www.kennethmoreland.com/color-maps/ColorMapsExpanded.pdf)"
   ]
  },
  {
   "cell_type": "markdown",
   "metadata": {},
   "source": [
    "### Diverging Colormap : GnBu\n",
    "We choose the linear scale 'GnBu' which is a scale used to represent divergent data using light green colors for weak unemployement rate and dark blue colors for high ones. It also uses colors that can be <b>distinguished by most colorblind people</b>. Furthermore, we set fill_opacity = 1 to make the colors more distinguishable and use interactive map to show the name of canton and unemployment rate.\n",
    "<br><a href=\"https://venngage.com/blog/color-blind-friendly-palette/\" target=\"_blank\">Reference</a>"
   ]
  },
  {
   "cell_type": "markdown",
   "metadata": {},
   "source": [
    "![GnBu](figures/GnBu.png)"
   ]
  },
  {
   "cell_type": "markdown",
   "metadata": {
    "collapsed": true
   },
   "source": [
    "# 1. Analyzing Unemployment Rates in Europe"
   ]
  },
  {
   "cell_type": "code",
   "execution_count": 3,
   "metadata": {
    "scrolled": false
   },
   "outputs": [
    {
     "data": {
      "text/html": [
       "<div>\n",
       "<style>\n",
       "    .dataframe thead tr:only-child th {\n",
       "        text-align: right;\n",
       "    }\n",
       "\n",
       "    .dataframe thead th {\n",
       "        text-align: left;\n",
       "    }\n",
       "\n",
       "    .dataframe tbody tr th {\n",
       "        vertical-align: top;\n",
       "    }\n",
       "</style>\n",
       "<table border=\"1\" class=\"dataframe\">\n",
       "  <thead>\n",
       "    <tr style=\"text-align: right;\">\n",
       "      <th></th>\n",
       "      <th>Unemployment rates by citizenship (%)</th>\n",
       "      <th>2015Q1</th>\n",
       "      <th>2015Q2</th>\n",
       "      <th>2015Q3</th>\n",
       "      <th>2015Q4</th>\n",
       "      <th>2016Q1</th>\n",
       "      <th>2016Q2</th>\n",
       "      <th>2016Q3</th>\n",
       "      <th>2016Q4</th>\n",
       "      <th>2017Q1</th>\n",
       "      <th>2017Q2</th>\n",
       "    </tr>\n",
       "  </thead>\n",
       "  <tbody>\n",
       "    <tr>\n",
       "      <th>0</th>\n",
       "      <td>Belgium</td>\n",
       "      <td>8.8</td>\n",
       "      <td>8.4</td>\n",
       "      <td>8.2</td>\n",
       "      <td>8.7</td>\n",
       "      <td>8.3</td>\n",
       "      <td>7.9</td>\n",
       "      <td>7.9</td>\n",
       "      <td>7.2</td>\n",
       "      <td>7.7</td>\n",
       "      <td>7</td>\n",
       "    </tr>\n",
       "    <tr>\n",
       "      <th>1</th>\n",
       "      <td>Bulgaria</td>\n",
       "      <td>10.6</td>\n",
       "      <td>9.9</td>\n",
       "      <td>8.3</td>\n",
       "      <td>7.9</td>\n",
       "      <td>8.6</td>\n",
       "      <td>8.1</td>\n",
       "      <td>7</td>\n",
       "      <td>6.7</td>\n",
       "      <td>6.9</td>\n",
       "      <td>6.3</td>\n",
       "    </tr>\n",
       "    <tr>\n",
       "      <th>2</th>\n",
       "      <td>Czech Republic</td>\n",
       "      <td>6</td>\n",
       "      <td>4.9</td>\n",
       "      <td>4.8</td>\n",
       "      <td>4.5</td>\n",
       "      <td>4.4</td>\n",
       "      <td>3.9</td>\n",
       "      <td>4</td>\n",
       "      <td>3.6</td>\n",
       "      <td>3.5</td>\n",
       "      <td>3</td>\n",
       "    </tr>\n",
       "    <tr>\n",
       "      <th>3</th>\n",
       "      <td>Denmark</td>\n",
       "      <td>6.6</td>\n",
       "      <td>6</td>\n",
       "      <td>6.2</td>\n",
       "      <td>5.8</td>\n",
       "      <td>6.3</td>\n",
       "      <td>6</td>\n",
       "      <td>6.3</td>\n",
       "      <td>6.1</td>\n",
       "      <td>6.5</td>\n",
       "      <td>5.5</td>\n",
       "    </tr>\n",
       "    <tr>\n",
       "      <th>4</th>\n",
       "      <td>Germany</td>\n",
       "      <td>5</td>\n",
       "      <td>4.7</td>\n",
       "      <td>4.4</td>\n",
       "      <td>4.5</td>\n",
       "      <td>4.5</td>\n",
       "      <td>4.2</td>\n",
       "      <td>4</td>\n",
       "      <td>3.8</td>\n",
       "      <td>4.1</td>\n",
       "      <td>3.8</td>\n",
       "    </tr>\n",
       "  </tbody>\n",
       "</table>\n",
       "</div>"
      ],
      "text/plain": [
       "  Unemployment rates by citizenship (%) 2015Q1 2015Q2 2015Q3 2015Q4 2016Q1  \\\n",
       "0                               Belgium    8.8    8.4    8.2    8.7    8.3   \n",
       "1                              Bulgaria   10.6    9.9    8.3    7.9    8.6   \n",
       "2                        Czech Republic      6    4.9    4.8    4.5    4.4   \n",
       "3                               Denmark    6.6      6    6.2    5.8    6.3   \n",
       "4                               Germany      5    4.7    4.4    4.5    4.5   \n",
       "\n",
       "  2016Q2 2016Q3 2016Q4 2017Q1 2017Q2  \n",
       "0    7.9    7.9    7.2    7.7      7  \n",
       "1    8.1      7    6.7    6.9    6.3  \n",
       "2    3.9      4    3.6    3.5      3  \n",
       "3      6    6.3    6.1    6.5    5.5  \n",
       "4    4.2      4    3.8    4.1    3.8  "
      ]
     },
     "execution_count": 3,
     "metadata": {},
     "output_type": "execute_result"
    }
   ],
   "source": [
    "# load the dataset of unemployment rate\n",
    "unemployment_data         = pd.read_excel('data/lfsq_urgan.xls')\n",
    "unemployment_data.columns = np.append(\"Unemployment rates by citizenship (%)\",unemployment_data.iloc[10][1:])\n",
    "\n",
    "#We drop useless rows and match country names to the ones in the topojson file\n",
    "unemployment_data = unemployment_data.drop(np.append(range(0,17),range(50,151)))\n",
    "unemployment_data = unemployment_data.reset_index(drop=True)\n",
    "unemployment_data['Unemployment rates by citizenship (%)'][4]  = 'Germany'\n",
    "unemployment_data['Unemployment rates by citizenship (%)'][31] = 'The former Yugoslav Republic of Macedonia'\n",
    "unemployment_data.head(5)"
   ]
  },
  {
   "cell_type": "markdown",
   "metadata": {},
   "source": [
    "The most recent complete data we could get is for the second quarter of 2017. There was some more recent data yet there were some missing values for certain countries as Switzerland. We can see that we don't have the data for countries outside of the European Union, we will then need to ignore them in the topojson file when creating our map."
   ]
  },
  {
   "cell_type": "code",
   "execution_count": 4,
   "metadata": {
    "scrolled": false
   },
   "outputs": [
    {
     "data": {
      "image/png": "[encoded data removed]",
      "text/plain": [
       "<matplotlib.figure.Figure at 0x29a3b599da0>"
      ]
     },
     "metadata": {},
     "output_type": "display_data"
    }
   ],
   "source": [
    "#We can change the period and choose one between the first quarter of 2015 to the second of 2017 here \n",
    "#using column names\n",
    "period = '2017Q2'\n",
    "\n",
    "#We sort by employement rate for the second quarter of 2017 as it is the most recent data we have \n",
    "#for all EU countries and plot it.\n",
    "unemployment_data = unemployment_data.sort_values(period)\n",
    "plt.rcParams['figure.figsize'] = (15,8)\n",
    "plt.rcParams[\"axes.labelsize\"] = 15\n",
    "plot = sns.barplot(y=unemployment_data[period], x=unemployment_data['Unemployment rates by citizenship (%)'])\n",
    "plot.set_xticklabels(labels =unemployment_data['Unemployment rates by citizenship (%)'] ,rotation=90,  fontsize=12)\n",
    "plot.set_yticklabels(labels =[0,5,10,15,20] ,fontsize=12)\n",
    "plot.set_ylabel(ylabel='Unemployment rates by citizenship (%)')\n",
    "plot.set_xlabel(xlabel='Country')\n",
    "plt.show()"
   ]
  },
  {
   "cell_type": "markdown",
   "metadata": {},
   "source": [
    "We can see that most values lie between 3% and 12% so we will create our scale so it is more precise (i. e. more interval classes) for these values."
   ]
  },
  {
   "cell_type": "code",
   "execution_count": 5,
   "metadata": {
    "collapsed": true
   },
   "outputs": [],
   "source": [
    "#creation of interval classes\n",
    "threshold_scale = [3, 6, 10, 12, 23]"
   ]
  },
  {
   "cell_type": "markdown",
   "metadata": {},
   "source": [
    "We now utilize the provided topojson file to draw overlays, especially line boundaries between countries."
   ]
  },
  {
   "cell_type": "code",
   "execution_count": 6,
   "metadata": {
    "collapsed": true,
    "scrolled": false
   },
   "outputs": [],
   "source": [
    "#loading topojson data and getting the array of all arcs in the json.\n",
    "topo_json_data = json.load(open(r'topojson/europe.topojson.json'))\n",
    "arcIndices     = topo_json_data['arcs']"
   ]
  },
  {
   "cell_type": "markdown",
   "metadata": {},
   "source": [
    "We delete non-eu countries in provided topo_json_data since we want to emphasize unemployment rates in Europe only."
   ]
  },
  {
   "cell_type": "code",
   "execution_count": 7,
   "metadata": {
    "collapsed": true,
    "scrolled": false
   },
   "outputs": [],
   "source": [
    "#Deletion of the entries corresponding to non-eu countries\n",
    "offset = 0\n",
    "for c in range(len(topo_json_data['objects']['europe']['geometries'])):\n",
    "    if(topo_json_data['objects']['europe']['geometries'][c-offset]['properties']['NAME'] not in unemployment_data['Unemployment rates by citizenship (%)'].tolist()):\n",
    "        del topo_json_data['objects']['europe']['geometries'][c-offset]\n",
    "        offset+=1"
   ]
  },
  {
   "cell_type": "markdown",
   "metadata": {},
   "source": [
    "## 1.1 Visual Map of Unemployment Rates in Europe"
   ]
  },
  {
   "cell_type": "code",
   "execution_count": 8,
   "metadata": {
    "collapsed": true,
    "scrolled": false
   },
   "outputs": [],
   "source": [
    "#Create the original map using folium\n",
    "m_eu = folium.Map([52,10], tiles='cartodbpositron', zoom_start=4)\n",
    "\n",
    "#Adding choropleth to the map using our unemployment data for the second quarter of 2017, topojson and colormap\n",
    "m_eu.choropleth(\n",
    "                geo_data        = topo_json_data, \n",
    "                data            = unemployment_data,\n",
    "                key_on          = 'properties.NAME',\n",
    "                threshold_scale = threshold_scale,\n",
    "                columns         = ['Unemployment rates by citizenship (%)',period],\n",
    "                fill_color      = 'GnBu', \n",
    "                fill_opacity    = 1, \n",
    "                line_opacity    = 0.5,\n",
    "                legend_name     = 'Percentage of unemployment per country (%) (2nd quarter of 2017)',\n",
    "                topojson        ='objects.europe')\n",
    "\n",
    "\n",
    "#For every country we recontruct the shape of the country in order to create a clickable marker of the same shape and \n",
    "#if the country is in our data frame we display its name and unemployment rate.\n",
    "for country in topo_json_data['objects']['europe']['geometries']:\n",
    "    shape = country['type']\n",
    "    arcs  = country['arcs']\n",
    "    gj    = folium.GeoJson(\n",
    "        data={\n",
    "            'type': shape,\n",
    "            'coordinates': reconstruct_shape(arcs,shape,arcIndices)\n",
    "        }, style_function=  lambda x: {'fillColor': 'white',\n",
    "                                       'opacity': 0,\n",
    "                                       'color': 'white',\n",
    "                                       'fillOpacity': 0},\n",
    "    )\n",
    "    try:\n",
    "        gj.add_child(folium.Popup(country['properties']['NAME']+': '+repr(unemployment_data.set_index('Unemployment rates by citizenship (%)')[period][country['properties']['NAME']])+'%'))\n",
    "    except KeyError:\n",
    "        gj.add_child(folium.Popup((country['properties']['NAME']+': unkown')))\n",
    "    gj.add_to(m_eu)\n",
    "    \n",
    "save_map(m_eu,\"task1\")"
   ]
  },
  {
   "cell_type": "markdown",
   "metadata": {},
   "source": [
    "<h5>To visualize our map, please follow the following link:</h5>\n",
    "<br>&emsp;<a href=\"https://sanadhis.github.io/ITT-ADA-2017/03%20-%20Interactive%20Viz/maps/task1.html\" target=\"_blank\">Task 1 - Map 1</a>\n",
    "\n",
    "<b> The map is an interactive map, so do not hesitate to click! </b>"
   ]
  },
  {
   "cell_type": "markdown",
   "metadata": {},
   "source": [
    "#### Observations:\n",
    "As we can see Switzerland is doing well compared to other countries in Europe as its unemployment rate is of only 4.4% for the second quarter of 2017. Therefore Switzerland belongs to the lowest interval class as well as countries from the center of Europe such as Germany or Austria, it is ranked 7th in terms of lowest unemployment rate for this period."
   ]
  },
  {
   "cell_type": "markdown",
   "metadata": {
    "collapsed": true
   },
   "source": [
    "# 2. Analyzing Unemployment Rate in Switzerland with Amstat Dataset\n",
    "For analyzing unemployement rates in Switzerland, we use dataset provided by <a href=\"https://www.amstat.ch/v2/index.jsp\">Amstat.ch</a>. \n",
    "\n",
    "* <i>Note that we opt to use the dataset of September 2017 since it is the most recent data available in Amstat</i>.\n",
    "\n",
    "We also use the provided definitions <a href=\"https://www.amstat.ch/v2/definition.jsp?lang=fr\">here</a> and pay attention into three categories of unemployment:\n",
    "* Registered unemployed (“Chômeurs inscrits”)\n",
    "* Registered jobseekers (“Demandeurs d'emploi inscrits”)\n",
    "* Registered employed jobseekers (“Demandeurs d'emploi inscrits non-chômeurs”)\n",
    "\n",
    "In addition into these three categories, Amstat also provide us with \"Unemployment Rate\" which quantifies the number of people looking for a job divided by the size of the active population (scaled by 100). \n",
    "\n",
    "Thus, using these four data, we can analyze the unemployment rates in Switzerland by cantons. "
   ]
  },
  {
   "cell_type": "markdown",
   "metadata": {
    "collapsed": true
   },
   "source": [
    "## 2.1 Read data from the dataset\n",
    "As we have described above, we make use only <b>\"unemployment_rate\"</b>, <b>\"registered_unemployed\"</b>, <b>\"registered_jobseekers\"</b>, <b>\"registered_employed_jobseekers\"</b> of each canton. These columns are columns <b>2,4,5,6</b> in our excel dataset file."
   ]
  },
  {
   "cell_type": "code",
   "execution_count": 9,
   "metadata": {},
   "outputs": [
    {
     "data": {
      "text/html": [
       "<div>\n",
       "<style>\n",
       "    .dataframe thead tr:only-child th {\n",
       "        text-align: right;\n",
       "    }\n",
       "\n",
       "    .dataframe thead th {\n",
       "        text-align: left;\n",
       "    }\n",
       "\n",
       "    .dataframe tbody tr th {\n",
       "        vertical-align: top;\n",
       "    }\n",
       "</style>\n",
       "<table border=\"1\" class=\"dataframe\">\n",
       "  <thead>\n",
       "    <tr style=\"text-align: right;\">\n",
       "      <th></th>\n",
       "      <th>canton</th>\n",
       "      <th>unemployment_rate</th>\n",
       "      <th>registered_unemployed</th>\n",
       "      <th>registered_jobseekers</th>\n",
       "      <th>registered_employed_jobseekers</th>\n",
       "    </tr>\n",
       "  </thead>\n",
       "  <tbody>\n",
       "    <tr>\n",
       "      <th>0</th>\n",
       "      <td>Zürich</td>\n",
       "      <td>3.3</td>\n",
       "      <td>27225</td>\n",
       "      <td>34156</td>\n",
       "      <td>6931</td>\n",
       "    </tr>\n",
       "    <tr>\n",
       "      <th>1</th>\n",
       "      <td>Bern</td>\n",
       "      <td>2.4</td>\n",
       "      <td>13658</td>\n",
       "      <td>18385</td>\n",
       "      <td>4727</td>\n",
       "    </tr>\n",
       "    <tr>\n",
       "      <th>2</th>\n",
       "      <td>Luzern</td>\n",
       "      <td>1.7</td>\n",
       "      <td>3885</td>\n",
       "      <td>6756</td>\n",
       "      <td>2871</td>\n",
       "    </tr>\n",
       "    <tr>\n",
       "      <th>3</th>\n",
       "      <td>Uri</td>\n",
       "      <td>0.6</td>\n",
       "      <td>112</td>\n",
       "      <td>257</td>\n",
       "      <td>145</td>\n",
       "    </tr>\n",
       "    <tr>\n",
       "      <th>4</th>\n",
       "      <td>Schwyz</td>\n",
       "      <td>1.7</td>\n",
       "      <td>1455</td>\n",
       "      <td>2229</td>\n",
       "      <td>774</td>\n",
       "    </tr>\n",
       "  </tbody>\n",
       "</table>\n",
       "</div>"
      ],
      "text/plain": [
       "   canton  unemployment_rate  registered_unemployed  registered_jobseekers  \\\n",
       "0  Zürich                3.3                  27225                  34156   \n",
       "1    Bern                2.4                  13658                  18385   \n",
       "2  Luzern                1.7                   3885                   6756   \n",
       "3     Uri                0.6                    112                    257   \n",
       "4  Schwyz                1.7                   1455                   2229   \n",
       "\n",
       "   registered_employed_jobseekers  \n",
       "0                            6931  \n",
       "1                            4727  \n",
       "2                            2871  \n",
       "3                             145  \n",
       "4                             774  "
      ]
     },
     "execution_count": 9,
     "metadata": {},
     "output_type": "execute_result"
    }
   ],
   "source": [
    "amstat_dataset  = \"data/amstat-unemployment_rate.xlsx\"\n",
    "\n",
    "# use of columns: [0=canton, 2=unemployment_rate, 4=registered_unemployed, \n",
    "# 5=registered_jobseekers, 6=registered_employed_jobseekers]\n",
    "columns         = [0, 2, 4, 5, 6]\n",
    "columns_name    = [\"canton\", \n",
    "                   \"unemployment_rate\", \n",
    "                   \"registered_unemployed\", \n",
    "                   \"registered_jobseekers\", \n",
    "                   \"registered_employed_jobseekers\"]\n",
    "\n",
    "# Read throught dataset file. Remove title, headers in first three rows and total entries in the last row.\n",
    "amstat_unemployment_data                      = pd.read_excel(amstat_dataset, skiprows=[0,1,2], \n",
    "                                                              skip_footer=1, usecols=columns)\n",
    "\n",
    "# Change columns name from French to English ones\n",
    "amstat_unemployment_data.columns              = columns_name\n",
    "\n",
    "# Display first 5 entries\n",
    "amstat_unemployment_data.head(5)"
   ]
  },
  {
   "cell_type": "markdown",
   "metadata": {
    "collapsed": true
   },
   "source": [
    "Next, we replace cantons' name in column canton with canton ids (ZH=Zurich, BE=Bern, and so on). We perform this in order to be able to utilize the <b>ch-cantons.topojson.json</b> later for map properties."
   ]
  },
  {
   "cell_type": "code",
   "execution_count": 10,
   "metadata": {},
   "outputs": [
    {
     "data": {
      "text/html": [
       "<div>\n",
       "<style>\n",
       "    .dataframe thead tr:only-child th {\n",
       "        text-align: right;\n",
       "    }\n",
       "\n",
       "    .dataframe thead th {\n",
       "        text-align: left;\n",
       "    }\n",
       "\n",
       "    .dataframe tbody tr th {\n",
       "        vertical-align: top;\n",
       "    }\n",
       "</style>\n",
       "<table border=\"1\" class=\"dataframe\">\n",
       "  <thead>\n",
       "    <tr style=\"text-align: right;\">\n",
       "      <th></th>\n",
       "      <th>canton</th>\n",
       "      <th>unemployment_rate</th>\n",
       "      <th>registered_unemployed</th>\n",
       "      <th>registered_jobseekers</th>\n",
       "      <th>registered_employed_jobseekers</th>\n",
       "    </tr>\n",
       "  </thead>\n",
       "  <tbody>\n",
       "    <tr>\n",
       "      <th>0</th>\n",
       "      <td>ZH</td>\n",
       "      <td>3.3</td>\n",
       "      <td>27225</td>\n",
       "      <td>34156</td>\n",
       "      <td>6931</td>\n",
       "    </tr>\n",
       "    <tr>\n",
       "      <th>1</th>\n",
       "      <td>BE</td>\n",
       "      <td>2.4</td>\n",
       "      <td>13658</td>\n",
       "      <td>18385</td>\n",
       "      <td>4727</td>\n",
       "    </tr>\n",
       "    <tr>\n",
       "      <th>2</th>\n",
       "      <td>LU</td>\n",
       "      <td>1.7</td>\n",
       "      <td>3885</td>\n",
       "      <td>6756</td>\n",
       "      <td>2871</td>\n",
       "    </tr>\n",
       "    <tr>\n",
       "      <th>3</th>\n",
       "      <td>UR</td>\n",
       "      <td>0.6</td>\n",
       "      <td>112</td>\n",
       "      <td>257</td>\n",
       "      <td>145</td>\n",
       "    </tr>\n",
       "    <tr>\n",
       "      <th>4</th>\n",
       "      <td>SZ</td>\n",
       "      <td>1.7</td>\n",
       "      <td>1455</td>\n",
       "      <td>2229</td>\n",
       "      <td>774</td>\n",
       "    </tr>\n",
       "  </tbody>\n",
       "</table>\n",
       "</div>"
      ],
      "text/plain": [
       "  canton  unemployment_rate  registered_unemployed  registered_jobseekers  \\\n",
       "0     ZH                3.3                  27225                  34156   \n",
       "1     BE                2.4                  13658                  18385   \n",
       "2     LU                1.7                   3885                   6756   \n",
       "3     UR                0.6                    112                    257   \n",
       "4     SZ                1.7                   1455                   2229   \n",
       "\n",
       "   registered_employed_jobseekers  \n",
       "0                            6931  \n",
       "1                            4727  \n",
       "2                            2871  \n",
       "3                             145  \n",
       "4                             774  "
      ]
     },
     "execution_count": 10,
     "metadata": {},
     "output_type": "execute_result"
    }
   ],
   "source": [
    "# Define each canton id respectively \n",
    "cantonIds = pd.Series(['ZH', 'BE', 'LU', 'UR', 'SZ', 'OW', 'NW', 'GL', 'ZG', 'FR', 'SO', \\\n",
    "                       'BS', 'BL', 'SH', 'AR', 'AI', 'SG', 'GR', 'AG', 'TG', 'TI', 'VD', \\\n",
    "                       'VS', 'NE', 'GE', 'JU'])\n",
    "\n",
    "# Replace cantons' name with their ids accordingly\n",
    "amstat_unemployment_data['canton'] = cantonIds\n",
    "\n",
    "# Display first 5 entries\n",
    "amstat_unemployment_data.head(5)"
   ]
  },
  {
   "cell_type": "markdown",
   "metadata": {
    "collapsed": true
   },
   "source": [
    "## 2.2 Maps"
   ]
  },
  {
   "cell_type": "markdown",
   "metadata": {
    "collapsed": true
   },
   "source": [
    "To draw clear boundaries between cantons, we use the provided <b>ch-cantons.topojson.json</b> as the overlays."
   ]
  },
  {
   "cell_type": "code",
   "execution_count": 11,
   "metadata": {
    "collapsed": true
   },
   "outputs": [],
   "source": [
    "ch_coordinate     = [46.9, 8.3]\n",
    "\n",
    "#loading ch-cantons data and getting the array of all arcs in the json.\n",
    "cantons_json_data = json.load(open(r'topojson/ch-cantons.topojson.json'))\n",
    "arcIndices        = cantons_json_data['arcs']\n"
   ]
  },
  {
   "cell_type": "markdown",
   "metadata": {
    "collapsed": true
   },
   "source": [
    "### Map 1: Showing Unemployment Rates using unemployment_rate from Amstat\n",
    "For this part, we shows how unemployment_rate from Amstat describe unemployment accross Switzerland"
   ]
  },
  {
   "cell_type": "code",
   "execution_count": 12,
   "metadata": {
    "collapsed": true
   },
   "outputs": [],
   "source": [
    "#Create the original map ch using folium\n",
    "map_ch = folium.Map(location = ch_coordinate, tiles='cartodbpositron', zoom_start=8)\n",
    "\n",
    "folium.TopoJson(open(r'topojson/ch-cantons.topojson.json'), 'objects.cantons').add_to(map_ch)\n",
    "\n",
    "#Adding choropleth to the map using our unemployment data for the septembet of 2017, topojson and colormap\n",
    "map_ch.choropleth(\n",
    "                geo_data     = cantons_json_data, \n",
    "                data         = amstat_unemployment_data,\n",
    "                columns      = ['canton','unemployment_rate'],\n",
    "                key_on       = 'id',\n",
    "                fill_color   = 'GnBu', \n",
    "                fill_opacity = 1, \n",
    "                line_opacity = 0.5,\n",
    "                legend_name  = 'Rate of unemployment per canton (%) (September 2017)',\n",
    "                topojson     = 'objects.cantons'\n",
    "                )\n",
    "\n",
    "#For every canton we recontruct the shape of the canton in order to create a clickable marker of the same shape and \n",
    "#if the canton is in our data frame we display its name and unemployment rate.\n",
    "for canton in cantons_json_data['objects']['cantons']['geometries']:\n",
    "    shape = canton['type']\n",
    "    arcs = canton['arcs']\n",
    "    gj = folium.GeoJson(\n",
    "        data={\n",
    "            'type': shape,\n",
    "            'coordinates': reconstruct_shape(arcs,shape,arcIndices)\n",
    "        }, style_function=  lambda x: {'fillColor': 'white',\n",
    "                                       'opacity': 0,\n",
    "                                       'color': 'white',\n",
    "                                       'fillOpacity': 0}\n",
    "    )\n",
    "    try:\n",
    "        gj.add_child(folium.Popup(canton['properties']['name']+': '+ '%.2f' % (amstat_unemployment_data.set_index('canton')['unemployment_rate'][canton['id']])+'%'))\n",
    "    except KeyError:\n",
    "        gj.add_child(folium.Popup((canton['properties']['name']+': unkown')))\n",
    "    gj.add_to(map_ch)\n",
    "\n",
    "save_map(map_ch,\"task2_1\")"
   ]
  },
  {
   "cell_type": "markdown",
   "metadata": {},
   "source": [
    "<h5>To visualize our map, please follow the following link:</h5>\n",
    "\n",
    "<br>&emsp;<a href=\"https://sanadhis.github.io/ITT-ADA-2017/03%20-%20Interactive%20Viz/maps/task2_1.html\" target=\"_blank\">Task 2 - Map 1</a>\n",
    "\n",
    "<b> The map is an interactive map, so do not hesitate to click! </b>"
   ]
  },
  {
   "cell_type": "markdown",
   "metadata": {
    "collapsed": true
   },
   "source": [
    "### Map 2: Showing Unemployment Rates based on Total Jobseekers\n",
    "As we have mentioned that Amstat defines \"Registered Jobseekers\" / Demandeurs d'emploi as total Jobseekers per canton, thus we assume this is equal to the sum of unemployed people and employed jobseekers."
   ]
  },
  {
   "cell_type": "code",
   "execution_count": 13,
   "metadata": {
    "collapsed": true
   },
   "outputs": [],
   "source": [
    "#Create the original map ch using folium\n",
    "map_ch = folium.Map(location = ch_coordinate, tiles='cartodbpositron', zoom_start=8)\n",
    "\n",
    "folium.TopoJson(open(r'topojson/ch-cantons.topojson.json'), 'objects.cantons').add_to(map_ch)\n",
    "\n",
    "#Adding choropleth to the map using our unemployment data for the septembet of 2017, topojson and colormap\n",
    "map_ch.choropleth(\n",
    "                geo_data     = cantons_json_data, \n",
    "                data         = amstat_unemployment_data,\n",
    "                columns      = ['canton','registered_jobseekers'],\n",
    "                key_on       = 'id',\n",
    "                fill_color   = 'GnBu', \n",
    "                fill_opacity = 1, \n",
    "                line_opacity = 0.5,\n",
    "                legend_name  = 'Number of Jobseekers (September 2017)',\n",
    "                topojson     = 'objects.cantons'\n",
    "                )\n",
    "\n",
    "#For every canton we recontruct the shape of the canton in order to create a clickable marker of the same shape and \n",
    "#if the canton is in our data frame we display its name and total jobseekers.\n",
    "for canton in cantons_json_data['objects']['cantons']['geometries']:\n",
    "    shape = canton['type']\n",
    "    arcs = canton['arcs']\n",
    "    gj = folium.GeoJson(\n",
    "        data={\n",
    "            'type': shape,\n",
    "            'coordinates': reconstruct_shape(arcs,shape,arcIndices)\n",
    "        }, style_function=  lambda x: {'fillColor': 'white',\n",
    "                                       'opacity': 0,\n",
    "                                       'color': 'white',\n",
    "                                       'fillOpacity': 0}\n",
    "    )\n",
    "    try:\n",
    "        gj.add_child(folium.Popup(canton['properties']['name']+': '+ str(amstat_unemployment_data.set_index('canton')['registered_jobseekers'][canton['id']])))\n",
    "    except KeyError:\n",
    "        gj.add_child(folium.Popup((canton['properties']['name']+': unkown')))\n",
    "    gj.add_to(map_ch)\n",
    "\n",
    "save_map(map_ch,\"task2_2\")"
   ]
  },
  {
   "cell_type": "markdown",
   "metadata": {},
   "source": [
    "<h5>To visualize our map, please follow the following link:</h5>\n",
    "\n",
    "<br>&emsp;<a href=\"https://sanadhis.github.io/ITT-ADA-2017/03%20-%20Interactive%20Viz/maps/task2_2.html\" target=\"_blank\">Task 2 - Map 2</a>\n",
    "\n",
    "<b> The map is an interactive map, so do not hesitate to click! </b>"
   ]
  },
  {
   "cell_type": "markdown",
   "metadata": {
    "collapsed": true
   },
   "source": [
    "### Map 3: Showing Unemployment Rates by Excluding People who already have a job and are looking for a new one\n",
    "For this part, we exclude \"Registered Employed Jobseekers\" since we want to account only unemployed people. Therefore, we map only \"registered_unemployed\" for this part."
   ]
  },
  {
   "cell_type": "code",
   "execution_count": 14,
   "metadata": {
    "collapsed": true
   },
   "outputs": [],
   "source": [
    "#Create the original map ch using folium\n",
    "map_ch = folium.Map(location = ch_coordinate, tiles='cartodbpositron', zoom_start=8)\n",
    "\n",
    "folium.TopoJson(open(r'topojson/ch-cantons.topojson.json'), 'objects.cantons').add_to(map_ch)\n",
    "\n",
    "#Adding choropleth to the map using our unemployment data for the septembet of 2017, topojson and colormap\n",
    "map_ch.choropleth(\n",
    "                geo_data     = cantons_json_data, \n",
    "                data         = amstat_unemployment_data,\n",
    "                columns      = ['canton','registered_unemployed'],\n",
    "                key_on       = 'id',\n",
    "                fill_color   = 'GnBu', \n",
    "                fill_opacity = 1, \n",
    "                line_opacity = 0.5,\n",
    "                legend_name  = 'Number of Unemployed Jobseekers(September 2017)',\n",
    "                topojson     = 'objects.cantons'\n",
    "                )\n",
    "\n",
    "#For every canton we recontruct the shape of the canton in order to create a clickable marker of the same shape and \n",
    "#if the canton is in our data frame we display its name and registered unemployed.\n",
    "for canton in cantons_json_data['objects']['cantons']['geometries']:\n",
    "    shape = canton['type']\n",
    "    arcs = canton['arcs']\n",
    "    gj = folium.GeoJson(\n",
    "        data={\n",
    "            'type': shape,\n",
    "            'coordinates': reconstruct_shape(arcs,shape,arcIndices)\n",
    "        }, style_function=  lambda x: {'fillColor': 'white',\n",
    "                                       'opacity': 0,\n",
    "                                       'color': 'white',\n",
    "                                       'fillOpacity': 0}\n",
    "    )\n",
    "    try:\n",
    "        gj.add_child(folium.Popup(canton['properties']['name']+': '+ str(amstat_unemployment_data.set_index('canton')['registered_unemployed'][canton['id']])))\n",
    "    except KeyError:\n",
    "        gj.add_child(folium.Popup((canton['properties']['name']+': unkown')))\n",
    "    gj.add_to(map_ch)\n",
    "\n",
    "save_map(map_ch,\"task2_3\")"
   ]
  },
  {
   "cell_type": "markdown",
   "metadata": {},
   "source": [
    "<h5>To visualize our map, please follow the following link:</h5>\n",
    "\n",
    "<br>&emsp;<a href=\"https://sanadhis.github.io/ITT-ADA-2017/03%20-%20Interactive%20Viz/maps/task2_3.html\" target=\"_blank\">Task 2 - Map 3</a>\n",
    "\n",
    "<b> The map is an interactive map, so do not hesitate to click! </b>"
   ]
  },
  {
   "cell_type": "markdown",
   "metadata": {},
   "source": [
    "# 3. Unemployment Rates in Switzerland with distinction between Swiss and foreign workers"
   ]
  },
  {
   "cell_type": "markdown",
   "metadata": {},
   "source": [
    "Decription of dataset of unemployment rate\n",
    "We use the dataset with the following attributes:\n",
    "1. Unemployment rate indicators - Unemployment rate\n",
    "2. Unemployed indicators - Registered unemployed\n",
    "3. Geographical features - Canton\n",
    "4. Other attributes - Nationality\n",
    "5. Date - September, 2017\n",
    "\n",
    "<br>\n",
    "Based on the definition in amstat, registered unemployed is the people advertised at regional employment agencies, who are unemployed and immediately available for placement. It does not matter whether they are receiving unemployment benefits or not. This attribute shows the people who don't have a job and intend to get a job as soon as possible, and hence we think it's the best attribute we want to know.\n",
    "<br><br>\n",
    "And because the assignment asks us to choose recent date, we choose the most recent one: September 2017. In our opinion, we only consider the \"current\" situation in the aspect of unemployment rate. Unemployment rate is not like temperature, it makes no sense to take the average or median of the unemployment rate. For example, if you choose unemployment rate of 6 months (e.g. from April to September) and you find the median of unemployment rate as your reference, and it would be unreasonable because you may calculate the difference between the unemployment rate of foreigners in April and the unemployment rate of Swiss in July as your result."
   ]
  },
  {
   "cell_type": "markdown",
   "metadata": {},
   "source": [
    "### Load the dataset of unemployment rate and preprocess"
   ]
  },
  {
   "cell_type": "code",
   "execution_count": 15,
   "metadata": {},
   "outputs": [
    {
     "data": {
      "text/html": [
       "<div>\n",
       "<style>\n",
       "    .dataframe thead tr:only-child th {\n",
       "        text-align: right;\n",
       "    }\n",
       "\n",
       "    .dataframe thead th {\n",
       "        text-align: left;\n",
       "    }\n",
       "\n",
       "    .dataframe tbody tr th {\n",
       "        vertical-align: top;\n",
       "    }\n",
       "</style>\n",
       "<table border=\"1\" class=\"dataframe\">\n",
       "  <thead>\n",
       "    <tr style=\"text-align: right;\">\n",
       "      <th></th>\n",
       "      <th>Canton</th>\n",
       "      <th>Nationalité</th>\n",
       "      <th>Unemployment_Rate</th>\n",
       "      <th>Canton_Short</th>\n",
       "    </tr>\n",
       "  </thead>\n",
       "  <tbody>\n",
       "    <tr>\n",
       "      <th>0</th>\n",
       "      <td>Zurich</td>\n",
       "      <td>Etrangers</td>\n",
       "      <td>5.3</td>\n",
       "      <td>ZH</td>\n",
       "    </tr>\n",
       "    <tr>\n",
       "      <th>1</th>\n",
       "      <td>Berne</td>\n",
       "      <td>Etrangers</td>\n",
       "      <td>5.5</td>\n",
       "      <td>BE</td>\n",
       "    </tr>\n",
       "    <tr>\n",
       "      <th>2</th>\n",
       "      <td>Lucerne</td>\n",
       "      <td>Etrangers</td>\n",
       "      <td>3.9</td>\n",
       "      <td>LU</td>\n",
       "    </tr>\n",
       "    <tr>\n",
       "      <th>3</th>\n",
       "      <td>Uri</td>\n",
       "      <td>Etrangers</td>\n",
       "      <td>2.1</td>\n",
       "      <td>UR</td>\n",
       "    </tr>\n",
       "    <tr>\n",
       "      <th>4</th>\n",
       "      <td>Schwyz</td>\n",
       "      <td>Etrangers</td>\n",
       "      <td>3.4</td>\n",
       "      <td>SZ</td>\n",
       "    </tr>\n",
       "  </tbody>\n",
       "</table>\n",
       "</div>"
      ],
      "text/plain": [
       "    Canton Nationalité  Unemployment_Rate Canton_Short\n",
       "0   Zurich   Etrangers                5.3           ZH\n",
       "1    Berne   Etrangers                5.5           BE\n",
       "2  Lucerne   Etrangers                3.9           LU\n",
       "3      Uri   Etrangers                2.1           UR\n",
       "4   Schwyz   Etrangers                3.4           SZ"
      ]
     },
     "execution_count": 15,
     "metadata": {},
     "output_type": "execute_result"
    }
   ],
   "source": [
    "# load the dataset of unemployment rate\n",
    "unemployment_data = pd.read_excel('data/2017_09_nationality.xlsx')\n",
    "\n",
    "unemployment_data = unemployment_data.drop(0)\n",
    "unemployment_data = unemployment_data.drop(['Mois', 'Total'], axis = 1)\n",
    "\n",
    "unemployment_data=unemployment_data.rename(columns = {'Septembre 2017':'Unemployment_Rate'})\n",
    "\n",
    "\n",
    "unemployment_data['Unemployment_Rate'] = unemployment_data['Unemployment_Rate'].astype(float)\n",
    "unemployment_data_foreigner = unemployment_data[unemployment_data['Nationalité'] == 'Etrangers']\n",
    "unemployment_data_suisse = unemployment_data[unemployment_data['Nationalité'] == 'Suisses']\n",
    "\n",
    "unemployment_data_foreigner = unemployment_data_foreigner.reset_index(drop=True)\n",
    "unemployment_data_suisse = unemployment_data_suisse.reset_index(drop=True)\n",
    "\n",
    "\n",
    "cantonNames = pd.Series(['ZH', 'BE', 'LU', 'UR', 'SZ', 'OW', 'NW', 'GL', 'ZG', 'FR', 'SO', \\\n",
    "                        'BS', 'BL', 'SH', 'AR', 'AI', 'SG', 'GR', 'AG', 'TG', 'TI', 'VD', 'VS', 'NE', 'GE', 'JU'])\n",
    "unemployment_data_foreigner['Canton_Short'] = cantonNames\n",
    "unemployment_data_suisse['Canton_Short'] = cantonNames\n",
    "\n",
    "# show how the current dataframe looks like\n",
    "unemployment_data_foreigner.head(5)"
   ]
  },
  {
   "cell_type": "markdown",
   "metadata": {},
   "source": [
    "### 3.1 Show the difference of unemployment rate for each canton\n",
    "First we observe that all unemployment rate of foreigners are higher than that of swiss, and hence, it's reasonable to show the result by unemployment_rate_foreigner - nemployment_rate_swiss"
   ]
  },
  {
   "cell_type": "code",
   "execution_count": 16,
   "metadata": {},
   "outputs": [
    {
     "data": {
      "text/plain": [
       "True"
      ]
     },
     "execution_count": 16,
     "metadata": {},
     "output_type": "execute_result"
    }
   ],
   "source": [
    "# to show that it's true that unemployment rate of foreigners are higher than that of swiss\n",
    "all(unemployment_data_foreigner['Unemployment_Rate'] > unemployment_data_suisse['Unemployment_Rate'])"
   ]
  },
  {
   "cell_type": "code",
   "execution_count": 17,
   "metadata": {},
   "outputs": [
    {
     "data": {
      "text/html": [
       "<div>\n",
       "<style>\n",
       "    .dataframe thead tr:only-child th {\n",
       "        text-align: right;\n",
       "    }\n",
       "\n",
       "    .dataframe thead th {\n",
       "        text-align: left;\n",
       "    }\n",
       "\n",
       "    .dataframe tbody tr th {\n",
       "        vertical-align: top;\n",
       "    }\n",
       "</style>\n",
       "<table border=\"1\" class=\"dataframe\">\n",
       "  <thead>\n",
       "    <tr style=\"text-align: right;\">\n",
       "      <th></th>\n",
       "      <th>Canton</th>\n",
       "      <th>Nationalité</th>\n",
       "      <th>Unemployment_Rate</th>\n",
       "      <th>Canton_Short</th>\n",
       "      <th>Diff_With_Swiss</th>\n",
       "    </tr>\n",
       "  </thead>\n",
       "  <tbody>\n",
       "    <tr>\n",
       "      <th>0</th>\n",
       "      <td>Zurich</td>\n",
       "      <td>Etrangers</td>\n",
       "      <td>5.3</td>\n",
       "      <td>ZH</td>\n",
       "      <td>2.8</td>\n",
       "    </tr>\n",
       "    <tr>\n",
       "      <th>1</th>\n",
       "      <td>Berne</td>\n",
       "      <td>Etrangers</td>\n",
       "      <td>5.5</td>\n",
       "      <td>BE</td>\n",
       "      <td>3.7</td>\n",
       "    </tr>\n",
       "    <tr>\n",
       "      <th>2</th>\n",
       "      <td>Lucerne</td>\n",
       "      <td>Etrangers</td>\n",
       "      <td>3.9</td>\n",
       "      <td>LU</td>\n",
       "      <td>2.6</td>\n",
       "    </tr>\n",
       "    <tr>\n",
       "      <th>3</th>\n",
       "      <td>Uri</td>\n",
       "      <td>Etrangers</td>\n",
       "      <td>2.1</td>\n",
       "      <td>UR</td>\n",
       "      <td>1.7</td>\n",
       "    </tr>\n",
       "  </tbody>\n",
       "</table>\n",
       "</div>"
      ],
      "text/plain": [
       "    Canton Nationalité  Unemployment_Rate Canton_Short  Diff_With_Swiss\n",
       "0   Zurich   Etrangers                5.3           ZH              2.8\n",
       "1    Berne   Etrangers                5.5           BE              3.7\n",
       "2  Lucerne   Etrangers                3.9           LU              2.6\n",
       "3      Uri   Etrangers                2.1           UR              1.7"
      ]
     },
     "execution_count": 17,
     "metadata": {},
     "output_type": "execute_result"
    }
   ],
   "source": [
    "# calculate the difference of unemployment rate\n",
    "unemployment_data_foreigner['Diff_With_Swiss'] = unemployment_data_foreigner['Unemployment_Rate'] - \\\n",
    "                                                 unemployment_data_suisse['Unemployment_Rate']\n",
    "unemployment_data_foreigner.head(4)"
   ]
  },
  {
   "cell_type": "code",
   "execution_count": 18,
   "metadata": {
    "collapsed": true,
    "scrolled": true
   },
   "outputs": [],
   "source": [
    "# create the map of Switzerland\n",
    "suisse_coord = [46.9, 8.3]\n",
    "map_suisse = folium.Map(location = suisse_coord, \n",
    "                         tiles = 'cartodbpositron',\n",
    "                         zoom_start = 8)\n",
    "\n",
    "# import the topo json file\n",
    "topo_path = r'topojson/ch-cantons.topojson.json'\n",
    "topo_json_data = json.load(open(topo_path))\n",
    "\n",
    "# add the topo to the map and show the result\n",
    "folium.TopoJson(open(topo_path), 'objects.cantons').add_to(map_suisse)\n",
    "\n",
    "map_suisse.choropleth(geo_data    = topo_json_data, \n",
    "                  data        = unemployment_data_foreigner,\n",
    "                  columns     = ['Canton_Short', 'Diff_With_Swiss'],\n",
    "                  key_on      = 'id',\n",
    "                  fill_color  = 'GnBu', fill_opacity=1, line_opacity=0.3,\n",
    "                  topojson    = 'objects.cantons',\n",
    "                  legend_name = 'Unemployment Rate')\n",
    "\n",
    "arcIndices = topo_json_data['arcs']\n",
    "for country in topo_json_data['objects']['cantons']['geometries']:\n",
    "    shape = country['type']\n",
    "    arcs = country['arcs']\n",
    "    gj = folium.GeoJson(\n",
    "        data={\n",
    "            'type': shape,\n",
    "            'coordinates': reconstruct_shape(arcs,shape,arcIndices)\n",
    "        }, style_function=  lambda x: {'fillColor': 'white',\n",
    "                                       'opacity': 0,\n",
    "                                       'color': 'white',\n",
    "                                       'fillOpacity': 0}\n",
    "    )\n",
    "    try:\n",
    "        gj.add_child(folium.Popup(country['properties']['name'] + \": \" + \\\n",
    "                                 '%.2f' % round(unemployment_data_foreigner.set_index('Canton_Short').loc[country['id']][3],1) + '%'))\n",
    "    except KeyError:\n",
    "        gj.add_child(folium.Popup((country['properties']['name']+': unkown')))\n",
    "    gj.add_to(map_suisse)\n",
    "\n",
    "save_map(map_suisse,\"task3\")"
   ]
  },
  {
   "cell_type": "markdown",
   "metadata": {},
   "source": [
    "<h5>To visualize our map, please follow the following link:</h5>\n",
    "\n",
    "<br>&emsp;<a href=\"https://sanadhis.github.io/ITT-ADA-2017/03%20-%20Interactive%20Viz/maps/task3.html\" target=\"_blank\">Task 3</a>\n",
    "\n",
    "<b> The map is an interactive map, so do not hesitate to click! </b>"
   ]
  },
  {
   "cell_type": "markdown",
   "metadata": {},
   "source": [
    "### 3.2 Adding the differences between age groups and show it by bar plot\n",
    "To do this, we need another dataset:\n",
    "### Decription of dataset of number of unemployed by age and nationality\n",
    "We use the dataset with the following attributes:\n",
    "1. Unemployed indicators        - Registered unemployed\n",
    "2. Geographical features        - Canton\n",
    "3. General characteristic       - Nationality & Age class {15 - 24, 25 - 49, 50 and over}\n",
    "4. Date                         - September, 2017"
   ]
  },
  {
   "cell_type": "markdown",
   "metadata": {},
   "source": [
    "### Load the dataset and preprocess"
   ]
  },
  {
   "cell_type": "code",
   "execution_count": 19,
   "metadata": {},
   "outputs": [
    {
     "data": {
      "text/html": [
       "<div>\n",
       "<style>\n",
       "    .dataframe thead tr:only-child th {\n",
       "        text-align: right;\n",
       "    }\n",
       "\n",
       "    .dataframe thead th {\n",
       "        text-align: left;\n",
       "    }\n",
       "\n",
       "    .dataframe tbody tr th {\n",
       "        vertical-align: top;\n",
       "    }\n",
       "</style>\n",
       "<table border=\"1\" class=\"dataframe\">\n",
       "  <thead>\n",
       "    <tr style=\"text-align: right;\">\n",
       "      <th></th>\n",
       "      <th>Canton</th>\n",
       "      <th>Nationalité</th>\n",
       "      <th>Age Category</th>\n",
       "      <th>Unemployment_Number</th>\n",
       "    </tr>\n",
       "  </thead>\n",
       "  <tbody>\n",
       "    <tr>\n",
       "      <th>1</th>\n",
       "      <td>Zurich</td>\n",
       "      <td>Etrangers</td>\n",
       "      <td>15-24 ans</td>\n",
       "      <td>1015</td>\n",
       "    </tr>\n",
       "    <tr>\n",
       "      <th>2</th>\n",
       "      <td>Zurich</td>\n",
       "      <td>Etrangers</td>\n",
       "      <td>25-49 ans</td>\n",
       "      <td>8846</td>\n",
       "    </tr>\n",
       "    <tr>\n",
       "      <th>3</th>\n",
       "      <td>Zurich</td>\n",
       "      <td>Etrangers</td>\n",
       "      <td>50 ans et plus</td>\n",
       "      <td>2250</td>\n",
       "    </tr>\n",
       "    <tr>\n",
       "      <th>5</th>\n",
       "      <td>Zurich</td>\n",
       "      <td>Suisses</td>\n",
       "      <td>15-24 ans</td>\n",
       "      <td>2405</td>\n",
       "    </tr>\n",
       "    <tr>\n",
       "      <th>6</th>\n",
       "      <td>Zurich</td>\n",
       "      <td>Suisses</td>\n",
       "      <td>25-49 ans</td>\n",
       "      <td>8207</td>\n",
       "    </tr>\n",
       "    <tr>\n",
       "      <th>7</th>\n",
       "      <td>Zurich</td>\n",
       "      <td>Suisses</td>\n",
       "      <td>50 ans et plus</td>\n",
       "      <td>4502</td>\n",
       "    </tr>\n",
       "    <tr>\n",
       "      <th>10</th>\n",
       "      <td>Berne</td>\n",
       "      <td>Etrangers</td>\n",
       "      <td>15-24 ans</td>\n",
       "      <td>597</td>\n",
       "    </tr>\n",
       "    <tr>\n",
       "      <th>11</th>\n",
       "      <td>Berne</td>\n",
       "      <td>Etrangers</td>\n",
       "      <td>25-49 ans</td>\n",
       "      <td>3316</td>\n",
       "    </tr>\n",
       "    <tr>\n",
       "      <th>12</th>\n",
       "      <td>Berne</td>\n",
       "      <td>Etrangers</td>\n",
       "      <td>50 ans et plus</td>\n",
       "      <td>987</td>\n",
       "    </tr>\n",
       "    <tr>\n",
       "      <th>14</th>\n",
       "      <td>Berne</td>\n",
       "      <td>Suisses</td>\n",
       "      <td>15-24 ans</td>\n",
       "      <td>1406</td>\n",
       "    </tr>\n",
       "    <tr>\n",
       "      <th>15</th>\n",
       "      <td>Berne</td>\n",
       "      <td>Suisses</td>\n",
       "      <td>25-49 ans</td>\n",
       "      <td>4457</td>\n",
       "    </tr>\n",
       "    <tr>\n",
       "      <th>16</th>\n",
       "      <td>Berne</td>\n",
       "      <td>Suisses</td>\n",
       "      <td>50 ans et plus</td>\n",
       "      <td>2895</td>\n",
       "    </tr>\n",
       "  </tbody>\n",
       "</table>\n",
       "</div>"
      ],
      "text/plain": [
       "    Canton Nationalité    Age Category  Unemployment_Number\n",
       "1   Zurich   Etrangers       15-24 ans                 1015\n",
       "2   Zurich   Etrangers       25-49 ans                 8846\n",
       "3   Zurich   Etrangers  50 ans et plus                 2250\n",
       "5   Zurich     Suisses       15-24 ans                 2405\n",
       "6   Zurich     Suisses       25-49 ans                 8207\n",
       "7   Zurich     Suisses  50 ans et plus                 4502\n",
       "10   Berne   Etrangers       15-24 ans                  597\n",
       "11   Berne   Etrangers       25-49 ans                 3316\n",
       "12   Berne   Etrangers  50 ans et plus                  987\n",
       "14   Berne     Suisses       15-24 ans                 1406\n",
       "15   Berne     Suisses       25-49 ans                 4457\n",
       "16   Berne     Suisses  50 ans et plus                 2895"
      ]
     },
     "execution_count": 19,
     "metadata": {},
     "output_type": "execute_result"
    }
   ],
   "source": [
    "# load the dataset of unemployment rate\n",
    "unemployment_data_age_nationality = pd.read_excel('data/2017_09_age_nationality.xlsx')\n",
    "\n",
    "# drop the unnecessary rows and columns\n",
    "unemployment_data_age_nationality = unemployment_data_age_nationality.drop(0)\n",
    "unemployment_data_age_nationality = unemployment_data_age_nationality.drop(['Mois', \"Classes d'âge 15-24, 25-49, 50 ans et plus\"], axis = 1)\n",
    "\n",
    "# change the colunm name to a meaningful name\n",
    "unemployment_data_age_nationality = unemployment_data_age_nationality.rename(columns = {'Septembre 2017':'Unemployment_Number'})\n",
    "unemployment_data_age_nationality = unemployment_data_age_nationality.rename(columns = {'Unnamed: 3':'Age Category'})\n",
    "\n",
    "# drop the unnecessary age rows\n",
    "unemployment_data_age_nationality = unemployment_data_age_nationality.dropna()\n",
    "\n",
    "# change the dat type of unemployment rate to int\n",
    "unemployment_data_age_nationality['Unemployment_Number'] = unemployment_data_age_nationality['Unemployment_Number'].astype('int')\n",
    "\n",
    "# show how the dataset looks like\n",
    "unemployment_data_age_nationality.head(12)\n"
   ]
  },
  {
   "cell_type": "markdown",
   "metadata": {},
   "source": [
    "### Calculate the unemployment rate\n",
    "In this dataset, it shows the number of unemployed rather than the unemployment rate. However, combined with the dataframe in 3.1, we can easily calculate the unemployment rate in each (nationality, age) class. For example, we can get the unemployment rate of foreigners 6% from the previous dataframe, and based on this current dataframe, we know the number of unemployed foriegners in {15 - 24, 25 - 49, 50 and over} are 100, 200, 300 respectively, so we can find the unemployment rate of foreigners in {15 - 24, 25 - 49, 50 and over} are 1%, 2%, 3% respectively."
   ]
  },
  {
   "cell_type": "code",
   "execution_count": 20,
   "metadata": {},
   "outputs": [
    {
     "data": {
      "text/html": [
       "<div>\n",
       "<style>\n",
       "    .dataframe thead tr:only-child th {\n",
       "        text-align: right;\n",
       "    }\n",
       "\n",
       "    .dataframe thead th {\n",
       "        text-align: left;\n",
       "    }\n",
       "\n",
       "    .dataframe tbody tr th {\n",
       "        vertical-align: top;\n",
       "    }\n",
       "</style>\n",
       "<table border=\"1\" class=\"dataframe\">\n",
       "  <thead>\n",
       "    <tr style=\"text-align: right;\">\n",
       "      <th></th>\n",
       "      <th>Canton</th>\n",
       "      <th>Nationalité</th>\n",
       "      <th>Age Category</th>\n",
       "      <th>Unemployment_Number</th>\n",
       "      <th>Unemployment_Rate</th>\n",
       "    </tr>\n",
       "  </thead>\n",
       "  <tbody>\n",
       "    <tr>\n",
       "      <th>1</th>\n",
       "      <td>Zurich</td>\n",
       "      <td>Etrangers</td>\n",
       "      <td>15-24 ans</td>\n",
       "      <td>1015</td>\n",
       "      <td>0.444183</td>\n",
       "    </tr>\n",
       "    <tr>\n",
       "      <th>2</th>\n",
       "      <td>Zurich</td>\n",
       "      <td>Etrangers</td>\n",
       "      <td>25-49 ans</td>\n",
       "      <td>8846</td>\n",
       "      <td>3.871175</td>\n",
       "    </tr>\n",
       "    <tr>\n",
       "      <th>3</th>\n",
       "      <td>Zurich</td>\n",
       "      <td>Etrangers</td>\n",
       "      <td>50 ans et plus</td>\n",
       "      <td>2250</td>\n",
       "      <td>0.984642</td>\n",
       "    </tr>\n",
       "    <tr>\n",
       "      <th>5</th>\n",
       "      <td>Zurich</td>\n",
       "      <td>Suisses</td>\n",
       "      <td>15-24 ans</td>\n",
       "      <td>2405</td>\n",
       "      <td>0.397810</td>\n",
       "    </tr>\n",
       "    <tr>\n",
       "      <th>6</th>\n",
       "      <td>Zurich</td>\n",
       "      <td>Suisses</td>\n",
       "      <td>25-49 ans</td>\n",
       "      <td>8207</td>\n",
       "      <td>1.357516</td>\n",
       "    </tr>\n",
       "    <tr>\n",
       "      <th>7</th>\n",
       "      <td>Zurich</td>\n",
       "      <td>Suisses</td>\n",
       "      <td>50 ans et plus</td>\n",
       "      <td>4502</td>\n",
       "      <td>0.744674</td>\n",
       "    </tr>\n",
       "    <tr>\n",
       "      <th>10</th>\n",
       "      <td>Berne</td>\n",
       "      <td>Etrangers</td>\n",
       "      <td>15-24 ans</td>\n",
       "      <td>597</td>\n",
       "      <td>0.670102</td>\n",
       "    </tr>\n",
       "    <tr>\n",
       "      <th>11</th>\n",
       "      <td>Berne</td>\n",
       "      <td>Etrangers</td>\n",
       "      <td>25-49 ans</td>\n",
       "      <td>3316</td>\n",
       "      <td>3.722041</td>\n",
       "    </tr>\n",
       "    <tr>\n",
       "      <th>12</th>\n",
       "      <td>Berne</td>\n",
       "      <td>Etrangers</td>\n",
       "      <td>50 ans et plus</td>\n",
       "      <td>987</td>\n",
       "      <td>1.107857</td>\n",
       "    </tr>\n",
       "    <tr>\n",
       "      <th>14</th>\n",
       "      <td>Berne</td>\n",
       "      <td>Suisses</td>\n",
       "      <td>15-24 ans</td>\n",
       "      <td>1406</td>\n",
       "      <td>0.288970</td>\n",
       "    </tr>\n",
       "    <tr>\n",
       "      <th>15</th>\n",
       "      <td>Berne</td>\n",
       "      <td>Suisses</td>\n",
       "      <td>25-49 ans</td>\n",
       "      <td>4457</td>\n",
       "      <td>0.916031</td>\n",
       "    </tr>\n",
       "    <tr>\n",
       "      <th>16</th>\n",
       "      <td>Berne</td>\n",
       "      <td>Suisses</td>\n",
       "      <td>50 ans et plus</td>\n",
       "      <td>2895</td>\n",
       "      <td>0.594999</td>\n",
       "    </tr>\n",
       "  </tbody>\n",
       "</table>\n",
       "</div>"
      ],
      "text/plain": [
       "    Canton Nationalité    Age Category  Unemployment_Number  Unemployment_Rate\n",
       "1   Zurich   Etrangers       15-24 ans                 1015           0.444183\n",
       "2   Zurich   Etrangers       25-49 ans                 8846           3.871175\n",
       "3   Zurich   Etrangers  50 ans et plus                 2250           0.984642\n",
       "5   Zurich     Suisses       15-24 ans                 2405           0.397810\n",
       "6   Zurich     Suisses       25-49 ans                 8207           1.357516\n",
       "7   Zurich     Suisses  50 ans et plus                 4502           0.744674\n",
       "10   Berne   Etrangers       15-24 ans                  597           0.670102\n",
       "11   Berne   Etrangers       25-49 ans                 3316           3.722041\n",
       "12   Berne   Etrangers  50 ans et plus                  987           1.107857\n",
       "14   Berne     Suisses       15-24 ans                 1406           0.288970\n",
       "15   Berne     Suisses       25-49 ans                 4457           0.916031\n",
       "16   Berne     Suisses  50 ans et plus                 2895           0.594999"
      ]
     },
     "execution_count": 20,
     "metadata": {},
     "output_type": "execute_result"
    }
   ],
   "source": [
    "# calculate the total number of people in each caton by nationality\n",
    "total_unemployed_number = unemployment_data_age_nationality.groupby(['Canton', 'Nationalité']).sum()\n",
    "unemployment_rate = unemployment_data.set_index(['Canton', 'Nationalité'])\n",
    "\n",
    "# multiply unemployment rate given in part3.1 to get the unemployment rate for each (canton, nationality)\n",
    "unemployment_data_age_nationality['Unemployment_Rate'] = \\\n",
    "[element.Unemployment_Number * unemployment_rate.loc[element.Canton, element.Nationalité][0] \\\n",
    " /total_unemployed_number.loc[element.Canton, element.Nationalité][0] \\\n",
    " for idx, element in unemployment_data_age_nationality.iterrows()]\n",
    "\n",
    "# show the short result\n",
    "unemployment_data_age_nationality.head(12)"
   ]
  },
  {
   "cell_type": "markdown",
   "metadata": {},
   "source": [
    "### Show the result in bar chart"
   ]
  },
  {
   "cell_type": "code",
   "execution_count": 21,
   "metadata": {
    "collapsed": true
   },
   "outputs": [],
   "source": [
    "# the function used to access the data with given (age, nationality)\n",
    "def getData(age_class, nationality):\n",
    "    condition = (unemployment_data_age_nationality['Age Category'] == age_class) & (unemployment_data_age_nationality['Nationalité'] == nationality)\n",
    "    return unemployment_data_age_nationality[condition]\n",
    "\n",
    "# the function used to plot the bar chart\n",
    "def plot_(data, title):\n",
    "    fig, ax = plt.subplots()\n",
    "    fig.set_size_inches(12, 5)\n",
    "    ax1 = sns.barplot(x = data.Canton , y = data.Unemployment_Rate, ax = ax, ci = None)\n",
    "    ax1.set_xticklabels(ax.get_xticklabels(), rotation = 90)\n",
    "    ax1.set_title(title)\n",
    "\n",
    "    return ax1"
   ]
  },
  {
   "cell_type": "markdown",
   "metadata": {},
   "source": [
    "### Age Category: 15 - 24 "
   ]
  },
  {
   "cell_type": "code",
   "execution_count": 22,
   "metadata": {},
   "outputs": [
    {
     "data": {
      "text/plain": [
       "<matplotlib.axes._subplots.AxesSubplot at 0x29a3e4daef0>"
      ]
     },
     "execution_count": 22,
     "metadata": {},
     "output_type": "execute_result"
    },
    {
     "data": {
      "image/png": "[encoded data removed]",
      "text/plain": [
       "<matplotlib.figure.Figure at 0x29a3d5fbcc0>"
      ]
     },
     "metadata": {},
     "output_type": "display_data"
    },
    {
     "data": {
      "image/png": "[encoded data removed]",
      "text/plain": [
       "<matplotlib.figure.Figure at 0x29a3df7bfd0>"
      ]
     },
     "metadata": {},
     "output_type": "display_data"
    }
   ],
   "source": [
    "# parameter setting\n",
    "sns.set_style(\"whitegrid\")\n",
    "\n",
    "# plot 2 barcharts: age 15-24, foreigners and swiss\n",
    "data = getData('15-24 ans', 'Etrangers')\n",
    "plot_(data, 'Canton v.s. unemployment rate in age 15-24 (Etrangers)')\n",
    "\n",
    "data = getData('15-24 ans', 'Suisses')\n",
    "plot_(data, 'Canton v.s. unemployment rate in age 15-24 (Suisses)')"
   ]
  },
  {
   "cell_type": "markdown",
   "metadata": {},
   "source": [
    "### Age category: 25-49"
   ]
  },
  {
   "cell_type": "code",
   "execution_count": 23,
   "metadata": {},
   "outputs": [
    {
     "data": {
      "text/plain": [
       "<matplotlib.axes._subplots.AxesSubplot at 0x29a3e6edfd0>"
      ]
     },
     "execution_count": 23,
     "metadata": {},
     "output_type": "execute_result"
    },
    {
     "data": {
      "image/png": "[encoded data removed]",
      "text/plain": [
       "<matplotlib.figure.Figure at 0x29a3e53cf28>"
      ]
     },
     "metadata": {},
     "output_type": "display_data"
    },
    {
     "data": {
      "image/png": "[encoded data removed]",
      "text/plain": [
       "<matplotlib.figure.Figure at 0x29a3e633da0>"
      ]
     },
     "metadata": {},
     "output_type": "display_data"
    }
   ],
   "source": [
    "# plot 2 barcharts: age 25-49, foreigners and swiss\n",
    "\n",
    "data = getData('25-49 ans', 'Etrangers')\n",
    "plot_(data, 'Canton v.s. unemployment rate in age 25-49 (Etrangers)')\n",
    "\n",
    "data = getData('25-49 ans', 'Suisses')\n",
    "plot_(data, 'Canton v.s. unemployment rate in age 25-49 (Suisses)')"
   ]
  },
  {
   "cell_type": "markdown",
   "metadata": {},
   "source": [
    "### Age category: >50"
   ]
  },
  {
   "cell_type": "code",
   "execution_count": 24,
   "metadata": {
    "scrolled": false
   },
   "outputs": [
    {
     "data": {
      "text/plain": [
       "<matplotlib.axes._subplots.AxesSubplot at 0x29a3ec1c1d0>"
      ]
     },
     "execution_count": 24,
     "metadata": {},
     "output_type": "execute_result"
    },
    {
     "data": {
      "image/png": "[encoded data removed]",
      "text/plain": [
       "<matplotlib.figure.Figure at 0x29a3e68df98>"
      ]
     },
     "metadata": {},
     "output_type": "display_data"
    },
    {
     "data": {
      "image/png": "[encoded data removed]",
      "text/plain": [
       "<matplotlib.figure.Figure at 0x29a3eb63f60>"
      ]
     },
     "metadata": {},
     "output_type": "display_data"
    }
   ],
   "source": [
    "# plot 2 barcharts: age > 50, foreigners and swiss\n",
    "\n",
    "data = getData('50 ans et plus', 'Etrangers')\n",
    "plot_(data, 'Canton v.s. unemployment rate in age > 50 (Etrangers)')\n",
    "\n",
    "data = getData('50 ans et plus', 'Suisses')\n",
    "plot_(data, 'Canton v.s. unemployment rate in age > 50 (Suisses)')"
   ]
  },
  {
   "cell_type": "markdown",
   "metadata": {},
   "source": [
    "# BONUS\n",
    "give a rough estimate of the difference in unemployment rates between the areas divided by the [Röstigraben](https://en.wikipedia.org/wiki/R%C3%B6stigraben)\n",
    "\n",
    "Rules we follow:\n",
    "1. we omit the bilingual speaking part because it's hard to calculate the proportion of this area, but we consider Romansh in this part because it's one of the official language in Switzerland.\n",
    "2. To roughly compute the unemployment rate, we classify Bern into german speaking part because large proportion of Bern locates in german speaking part (Fribourg is classified into french speaking part for the same reason), and we only separate Valais because obviously half of Valais belongs to french speaking part and the other half of it belongs to german speaking part\n",
    "\n",
    "Strategy:\n",
    "1. Find the total number of unemployed in French, German, Italian and Romansh speaking part\n",
    "2. Find the total number of active people in each speaking part\n",
    "3. Divide with the total number of active people in each speaking part to get overall unemployment rate\n",
    "\n",
    "Note:\n",
    "We will deal with Romansh in the 2nd step. In 1st step, we count Romansh into German speaking part, and we will subtract it in 2nd step"
   ]
  },
  {
   "cell_type": "markdown",
   "metadata": {},
   "source": [
    "#### Step1. Find the total number of unemployed in French, German, Italian and Romansh speaking part"
   ]
  },
  {
   "cell_type": "code",
   "execution_count": 25,
   "metadata": {},
   "outputs": [],
   "source": [
    "# spliting the cantons with language\n",
    "fr_speaking = ['GE', 'VD', 'NE', 'JU', 'FR']\n",
    "it_speaking = ['TI']\n",
    "half_fr_de = ['VS']\n",
    "de_speaking = (list)(cantonNames[\\\n",
    "                                 [not(canton in fr_speaking or canton in it_speaking or canton in half_fr_de)\\\n",
    "                                  for canton in unemployment_data_foreigner.Canton_Short]])\n",
    "\n",
    "# find the total number of unemployed in each part\n",
    "def getNumber(speaking_part):\n",
    "    return unemployment_data_age_nationality[\\\n",
    "                                      [canton in speaking_part for canton in unemployment_data_age_nationality.Canton_Short]]\\\n",
    "                                      .Unemployment_Number.sum()\n",
    "\n",
    "# augment the abbreviation of canton to the dataframe in part3.2\n",
    "tmp = []\n",
    "for canton in cantonNames:\n",
    "    for i in range(6):\n",
    "        tmp.append(canton)\n",
    "unemployment_data_age_nationality['Canton_Short'] = tmp\n",
    "\n",
    "# get the total number of people in each part\n",
    "total_fr = getNumber(fr_speaking)\n",
    "total_de = getNumber(de_speaking)\n",
    "total_it = getNumber(it_speaking)\n",
    "\n",
    "# half of people counted to french speaking pare and german speaking part for Valais\n",
    "total_fr += round(0.5 * getNumber(half_fr_de)).astype(int)\n",
    "total_de += round(0.5 * getNumber(half_fr_de)).astype(int)\n"
   ]
  },
  {
   "cell_type": "markdown",
   "metadata": {},
   "source": [
    "#### Step2. Find the total number of active people in each speaking part\n",
    "$$ActivePeople = \\frac{NumberOfUnemployed}{UnemploymentRate}$$"
   ]
  },
  {
   "cell_type": "code",
   "execution_count": 26,
   "metadata": {},
   "outputs": [
    {
     "data": {
      "text/html": [
       "<div>\n",
       "<style>\n",
       "    .dataframe thead tr:only-child th {\n",
       "        text-align: right;\n",
       "    }\n",
       "\n",
       "    .dataframe thead th {\n",
       "        text-align: left;\n",
       "    }\n",
       "\n",
       "    .dataframe tbody tr th {\n",
       "        vertical-align: top;\n",
       "    }\n",
       "</style>\n",
       "<table border=\"1\" class=\"dataframe\">\n",
       "  <thead>\n",
       "    <tr style=\"text-align: right;\">\n",
       "      <th></th>\n",
       "      <th>Canton</th>\n",
       "      <th>Nationalité</th>\n",
       "      <th>Unemployment_Rate</th>\n",
       "      <th>Canton_Short</th>\n",
       "      <th>Number_Unemployed</th>\n",
       "      <th>Active_People</th>\n",
       "    </tr>\n",
       "  </thead>\n",
       "  <tbody>\n",
       "    <tr>\n",
       "      <th>0</th>\n",
       "      <td>Zurich</td>\n",
       "      <td>Suisses</td>\n",
       "      <td>2.5</td>\n",
       "      <td>ZH</td>\n",
       "      <td>15114</td>\n",
       "      <td>604560</td>\n",
       "    </tr>\n",
       "    <tr>\n",
       "      <th>1</th>\n",
       "      <td>Berne</td>\n",
       "      <td>Suisses</td>\n",
       "      <td>1.8</td>\n",
       "      <td>BE</td>\n",
       "      <td>8758</td>\n",
       "      <td>486556</td>\n",
       "    </tr>\n",
       "    <tr>\n",
       "      <th>2</th>\n",
       "      <td>Lucerne</td>\n",
       "      <td>Suisses</td>\n",
       "      <td>1.3</td>\n",
       "      <td>LU</td>\n",
       "      <td>2292</td>\n",
       "      <td>176308</td>\n",
       "    </tr>\n",
       "    <tr>\n",
       "      <th>3</th>\n",
       "      <td>Uri</td>\n",
       "      <td>Suisses</td>\n",
       "      <td>0.4</td>\n",
       "      <td>UR</td>\n",
       "      <td>59</td>\n",
       "      <td>14750</td>\n",
       "    </tr>\n",
       "  </tbody>\n",
       "</table>\n",
       "</div>"
      ],
      "text/plain": [
       "    Canton Nationalité  Unemployment_Rate Canton_Short  Number_Unemployed  \\\n",
       "0   Zurich     Suisses                2.5           ZH              15114   \n",
       "1    Berne     Suisses                1.8           BE               8758   \n",
       "2  Lucerne     Suisses                1.3           LU               2292   \n",
       "3      Uri     Suisses                0.4           UR                 59   \n",
       "\n",
       "   Active_People  \n",
       "0         604560  \n",
       "1         486556  \n",
       "2         176308  \n",
       "3          14750  "
      ]
     },
     "execution_count": 26,
     "metadata": {},
     "output_type": "execute_result"
    }
   ],
   "source": [
    "# add new columns: number of unemployed and number of active people into the dataframe in part3.2\n",
    "tmp = []\n",
    "for canton in cantonNames:\n",
    "    tmp.append(unemployment_data_age_nationality[(unemployment_data_age_nationality.Canton_Short == canton) & \\\n",
    "                                  (unemployment_data_age_nationality.Nationalité == 'Suisses')].Unemployment_Number.sum())\n",
    "\n",
    "unemployment_data_suisse['Number_Unemployed'] = tmp\n",
    "unemployment_data_suisse['Active_People'] = round(unemployment_data_suisse.Number_Unemployed / \\\n",
    "                                            unemployment_data_suisse.Unemployment_Rate * 100).astype(int)\n",
    "\n",
    "\n",
    "tmp = []\n",
    "for canton in cantonNames:\n",
    "    tmp.append(unemployment_data_age_nationality[(unemployment_data_age_nationality.Canton_Short == canton) & \\\n",
    "                                  (unemployment_data_age_nationality.Nationalité == 'Etrangers')].Unemployment_Number.sum())\n",
    "\n",
    "unemployment_data_foreigner['Number_Unemployed'] = tmp\n",
    "unemployment_data_foreigner['Active_People'] = round(unemployment_data_foreigner.Number_Unemployed / \\\n",
    "                                            unemployment_data_foreigner.Unemployment_Rate * 100).astype(int)\n",
    "unemployment_data_suisse.head(4)"
   ]
  },
  {
   "cell_type": "markdown",
   "metadata": {},
   "source": [
    "Based on [wikipedia](https://en.wikipedia.org/wiki/Languages_of_Switzerland), we find that the percentage of Romansh speaker is 0.6%. Consider the percentage of active people has the same distribution, i.e. 0.6% of active people speak Romansh, we can find the number of active people speaking Romansh by\n",
    "$$ActiveRomansh = TotalActicePeople * 0.6\\%$$"
   ]
  },
  {
   "cell_type": "code",
   "execution_count": 27,
   "metadata": {
    "collapsed": true
   },
   "outputs": [],
   "source": [
    "# function used to return the number of active people in each nationality and speaking part\n",
    "def getActivePeople(nationality, part):\n",
    "    if nationality == 'foreigner':\n",
    "        return unemployment_data_foreigner[\\\n",
    "                                    [canton in part for canton in unemployment_data_foreigner.Canton_Short]].Active_People.sum()\n",
    "    elif nationality == 'suisse':\n",
    "        return unemployment_data_suisse[\\\n",
    "                                    [canton in part for canton in unemployment_data_suisse.Canton_Short]].Active_People.sum()\n",
    "    else:\n",
    "        print('input error')\n",
    "        \n",
    "\n",
    "# find the number of active people in each speaking part\n",
    "\n",
    "# Romansh -> calculate by the formula above\n",
    "total_active = unemployment_data_foreigner.Active_People.sum() + unemployment_data_suisse.Active_People.sum() \n",
    "active_ro = round(total_active * 0.006).astype(int)\n",
    "\n",
    "# Other, calculate directly by summing active people in each canton\n",
    "active_fr = getActivePeople('foreigner', fr_speaking) + getActivePeople('suisse', fr_speaking)\n",
    "active_de = getActivePeople('foreigner', de_speaking) + getActivePeople('suisse', de_speaking)\n",
    "active_it = getActivePeople('foreigner', it_speaking) + getActivePeople('suisse', it_speaking)\n",
    "active_half_fr_de = getActivePeople('foreigner', half_fr_de) + getActivePeople('suisse', half_fr_de)\n",
    "\n",
    "# half of active people in Valais belong to french speaking part and german speaking part\n",
    "active_fr += round(0.5 * active_half_fr_de).astype(int)\n",
    "active_de += round(0.5 * active_half_fr_de).astype(int)\n",
    "\n",
    "# minus romansh from german speaking part because we count Romansh into German previously\n",
    "active_de -= active_ro"
   ]
  },
  {
   "cell_type": "markdown",
   "metadata": {},
   "source": [
    "#### 3. Divide with the total number of active people in each speaking part to get overall unemployment rate"
   ]
  },
  {
   "cell_type": "code",
   "execution_count": 28,
   "metadata": {},
   "outputs": [
    {
     "name": "stdout",
     "output_type": "stream",
     "text": [
      "unemployment rate in french speaking part: 4.22%\n",
      "unemployment rate in german speaking part: 2.58%\n",
      "unemployment rate in italien speaking part: 3.13%\n",
      "unemployment rate in romansh speaking part: 1.02%\n"
     ]
    }
   ],
   "source": [
    "print('unemployment rate in french speaking part:', '%.2f' % (total_fr/active_fr * 100) + '%')\n",
    "print('unemployment rate in german speaking part:', '%.2f' % (total_de/active_de * 100) + '%')\n",
    "print('unemployment rate in italien speaking part:', '%.2f' % (total_it/active_it * 100) + '%')\n",
    "\n",
    "# because there's no further information for people speaking Romansh\n",
    "# we consider the unemployment rate for Romansh is the same as the unemployment rate in Grisons \n",
    "rate = (unemployment_data_foreigner.loc[17, 'Number_Unemployed'] + unemployment_data_suisse.loc[17, 'Number_Unemployed'])/ \\\n",
    "       (unemployment_data_foreigner.loc[17, 'Active_People'] + unemployment_data_suisse.loc[17, 'Active_People'])\n",
    "\n",
    "print('unemployment rate in romansh speaking part:', '%.2f' % (rate * 100) + '%')"
   ]
  }
 ],
 "metadata": {
  "kernelspec": {
   "display_name": "Python 3",
   "language": "python",
   "name": "python3"
  },
  "language_info": {
   "codemirror_mode": {
    "name": "ipython",
    "version": 3
   },
   "file_extension": ".py",
   "mimetype": "text/x-python",
   "name": "python",
   "nbconvert_exporter": "python",
   "pygments_lexer": "ipython3",
   "version": "3.6.1"
  }
 },
 "nbformat": 4,
 "nbformat_minor": 2
}
