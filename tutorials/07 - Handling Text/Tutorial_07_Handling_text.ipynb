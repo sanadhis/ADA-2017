{
 "cells": [
  {
   "cell_type": "markdown",
   "metadata": {},
   "source": [
    "The purpose of this lab is to introduce some tricks and tools to handle text.\n",
    "\n",
    "We will do the following:\n",
    "    * Work on preprocessing steps\n",
    "    * See a typical task: topic detection\n",
    "    * Run an exercise together: recomposing books with topic modelling\n",
    "    * List of resources\n",
    "    * More exercises for the brave"
   ]
  },
  {
   "cell_type": "markdown",
   "metadata": {},
   "source": [
    "### Basic imports"
   ]
  },
  {
   "cell_type": "code",
   "execution_count": 12,
   "metadata": {},
   "outputs": [],
   "source": [
    "# to support both python 2 and python 3\n",
    "from __future__ import division, print_function, unicode_literals\n",
    "\n",
    "# magics and warnings\n",
    "%load_ext autoreload\n",
    "%autoreload 2\n",
    "import warnings; warnings.simplefilter('ignore')\n",
    "\n",
    "# machinery\n",
    "import os, codecs, string, random\n",
    "from numpy.random import seed as random_seed\n",
    "from numpy.random import shuffle as random_shuffle\n",
    "import numpy as np\n",
    "seed = 42 # reproducibility!\n",
    "random.seed(seed)\n",
    "random_seed(seed)\n",
    "np.random.seed(seed)\n",
    "import nltk, gensim, sklearn, spacy # the armory!\n",
    "import matplotlib.pyplot as plt\n",
    "import pyLDAvis.gensim\n",
    "\n",
    "# where our books are\n",
    "corpus_root = 'books/'"
   ]
  },
  {
   "cell_type": "markdown",
   "metadata": {},
   "source": [
    "### Some data first\n",
    "We have 4 books in the folder, in plain text."
   ]
  },
  {
   "cell_type": "code",
   "execution_count": 2,
   "metadata": {},
   "outputs": [
    {
     "name": "stdout",
     "output_type": "stream",
     "text": [
      "DRACULA.txt\n",
      "Frankenstein.txt\n",
      "Moby_Dick.txt\n",
      "PRIDE_AND_PREJUDICE.txt\n"
     ]
    }
   ],
   "source": [
    "# See Gutenberg Project for more: http://www.gutenberg.org/wiki/Main_Page\n",
    "books = list()\n",
    "for book_file in os.listdir(corpus_root): # use os functions to be os independent\n",
    "    if \".txt\" in book_file:\n",
    "        print(book_file)\n",
    "        with codecs.open(os.path.join(corpus_root,book_file),encoding=\"utf8\") as f: # use codecs for a variety of encodings\n",
    "            books.append(f.read())"
   ]
  },
  {
   "cell_type": "code",
   "execution_count": 4,
   "metadata": {},
   "outputs": [
    {
     "data": {
      "text/plain": [
       "str"
      ]
     },
     "execution_count": 4,
     "metadata": {},
     "output_type": "execute_result"
    }
   ],
   "source": [
    "type(books[0])"
   ]
  },
  {
   "cell_type": "code",
   "execution_count": 5,
   "metadata": {},
   "outputs": [
    {
     "data": {
      "text/plain": [
       "\"DRACULA\\n\\nBram Stoker\\n\\nCHAPTER I\\n\\nJONATHAN HARKER'S JOURNAL\\n\\n(_Kept in shorthand._)\\n\\n\\n_3 May. Bistrit\""
      ]
     },
     "execution_count": 5,
     "metadata": {},
     "output_type": "execute_result"
    }
   ],
   "source": [
    "books[0][:100]"
   ]
  },
  {
   "cell_type": "code",
   "execution_count": 6,
   "metadata": {},
   "outputs": [],
   "source": [
    "books = [\" \".join(b.split()) for b in books] # getting rid of new lines and all extra white space"
   ]
  },
  {
   "cell_type": "code",
   "execution_count": 7,
   "metadata": {},
   "outputs": [
    {
     "data": {
      "text/plain": [
       "\"DRACULA Bram Stoker CHAPTER I JONATHAN HARKER'S JOURNAL (_Kept in shorthand._) _3 May. Bistritz._--L\""
      ]
     },
     "execution_count": 7,
     "metadata": {},
     "output_type": "execute_result"
    }
   ],
   "source": [
    "books[0][:100]"
   ]
  },
  {
   "cell_type": "code",
   "execution_count": 12,
   "metadata": {},
   "outputs": [],
   "source": [
    "# let's get all chars and their frequency\n",
    "fdist1 = nltk.FreqDist(books[0])"
   ]
  },
  {
   "cell_type": "code",
   "execution_count": 13,
   "metadata": {},
   "outputs": [
    {
     "data": {
      "text/plain": [
       "[(' ', 160814),\n",
       " ('e', 79373),\n",
       " ('t', 56733),\n",
       " ('a', 51463),\n",
       " ('o', 50179),\n",
       " ('n', 43478),\n",
       " ('h', 41834),\n",
       " ('s', 38827),\n",
       " ('i', 37244),\n",
       " ('r', 34843)]"
      ]
     },
     "execution_count": 13,
     "metadata": {},
     "output_type": "execute_result"
    }
   ],
   "source": [
    "fdist1.most_common(10)"
   ]
  },
  {
   "cell_type": "code",
   "execution_count": 16,
   "metadata": {},
   "outputs": [
    {
     "data": {
      "image/png": "[encoded data removed]",
      "text/plain": [
       "<matplotlib.figure.Figure at 0x116bb3cc0>"
      ]
     },
     "metadata": {},
     "output_type": "display_data"
    }
   ],
   "source": [
    "fdist1.plot(30,cumulative=True)"
   ]
  },
  {
   "cell_type": "code",
   "execution_count": 17,
   "metadata": {},
   "outputs": [
    {
     "name": "stdout",
     "output_type": "stream",
     "text": [
      "835261\n",
      "418009\n",
      "1209558\n",
      "682302\n"
     ]
    }
   ],
   "source": [
    "for b in books:\n",
    "    print(len(b))"
   ]
  },
  {
   "cell_type": "code",
   "execution_count": 18,
   "metadata": {},
   "outputs": [],
   "source": [
    "# tokens now\n",
    "books_token = [nltk.word_tokenize(b) for b in books]"
   ]
  },
  {
   "cell_type": "code",
   "execution_count": 19,
   "metadata": {},
   "outputs": [
    {
     "data": {
      "text/plain": [
       "['DRACULA',\n",
       " 'Bram',\n",
       " 'Stoker',\n",
       " 'CHAPTER',\n",
       " 'I',\n",
       " 'JONATHAN',\n",
       " 'HARKER',\n",
       " \"'S\",\n",
       " 'JOURNAL',\n",
       " '(']"
      ]
     },
     "execution_count": 19,
     "metadata": {},
     "output_type": "execute_result"
    }
   ],
   "source": [
    "books_token[0][:10]"
   ]
  },
  {
   "cell_type": "code",
   "execution_count": 20,
   "metadata": {},
   "outputs": [
    {
     "data": {
      "text/plain": [
       "[(',', 11231),\n",
       " ('the', 7297),\n",
       " ('.', 7261),\n",
       " ('and', 5727),\n",
       " ('I', 4831),\n",
       " ('to', 4420),\n",
       " ('of', 3584),\n",
       " ('a', 2855),\n",
       " ('that', 2420),\n",
       " ('in', 2400)]"
      ]
     },
     "execution_count": 20,
     "metadata": {},
     "output_type": "execute_result"
    }
   ],
   "source": [
    "# let's get all words and their frequency\n",
    "fdist2 = nltk.FreqDist(books_token[0])\n",
    "fdist2.most_common(10)"
   ]
  },
  {
   "cell_type": "code",
   "execution_count": 13,
   "metadata": {},
   "outputs": [
    {
     "data": {
      "image/png": "[encoded data removed]",
      "text/plain": [
       "<matplotlib.figure.Figure at 0x118391ba8>"
      ]
     },
     "metadata": {},
     "output_type": "display_data"
    }
   ],
   "source": [
    "fdist2.plot(50,cumulative=True)"
   ]
  },
  {
   "cell_type": "code",
   "execution_count": 14,
   "metadata": {},
   "outputs": [
    {
     "data": {
      "text/plain": [
       "[('*In', 'Sperm-whalemen'),\n",
       " ('2,800', 'firkins'),\n",
       " ('A.S.', 'Walwian'),\n",
       " ('AM', 'ESCAPED'),\n",
       " ('Agassiz', 'imagines'),\n",
       " ('Albert', 'Durer'),\n",
       " ('Anacharsis', 'Clootz'),\n",
       " ('Andrew', 'Jackson'),\n",
       " ('Animated', 'Nature.'),\n",
       " ('Anno', '1652')]"
      ]
     },
     "execution_count": 14,
     "metadata": {},
     "output_type": "execute_result"
    }
   ],
   "source": [
    "# Collocations (n-grams)\n",
    "finder = nltk.collocations.BigramCollocationFinder.from_words(books_token[0])\n",
    "bigram_measures = nltk.collocations.BigramAssocMeasures()\n",
    "# explore measures for different outcomes!\n",
    "finder.nbest(bigram_measures.pmi, 10)"
   ]
  },
  {
   "cell_type": "markdown",
   "metadata": {},
   "source": [
    "### Preprocessing"
   ]
  },
  {
   "cell_type": "code",
   "execution_count": 21,
   "metadata": {},
   "outputs": [],
   "source": [
    "# Let's get sentences\n",
    "books_sents = [nltk.sent_tokenize(b) for b in books]"
   ]
  },
  {
   "cell_type": "code",
   "execution_count": 30,
   "metadata": {},
   "outputs": [
    {
     "data": {
      "text/plain": [
       "\"DRACULA Bram Stoker CHAPTER I JONATHAN HARKER'S JOURNAL (_Kept in shorthand._) _3 May.\""
      ]
     },
     "execution_count": 30,
     "metadata": {},
     "output_type": "execute_result"
    }
   ],
   "source": [
    "(books_sents[0][0])"
   ]
  },
  {
   "cell_type": "code",
   "execution_count": 31,
   "metadata": {},
   "outputs": [
    {
     "data": {
      "text/plain": [
       "'!\"#$%&\\'()*+,-./:;<=>?@[\\\\]^_`{|}~“’—.”’“--,”'"
      ]
     },
     "execution_count": 31,
     "metadata": {},
     "output_type": "execute_result"
    }
   ],
   "source": [
    "stop_words=stopwords.words(\"english\")\n",
    "stop_words\n",
    "punctuation"
   ]
  },
  {
   "cell_type": "code",
   "execution_count": 27,
   "metadata": {},
   "outputs": [],
   "source": [
    "# A basic (and crude) function to get rid of stopwords, punctuation, lower case, numbers\n",
    "from nltk.corpus import stopwords\n",
    "punctuation = string.punctuation+'“’—.”’“--,”' # pimp the list of punctuation to remove\n",
    "def rem_stop(txt,stop_words=stopwords.words(\"english\"),lower=True,punct=True):\n",
    "    \"\"\"\n",
    "    Removes stopwords, punct and other things from a text, inc. numbers\n",
    "    :param list txt: text tokens (list of str)\n",
    "    :param list stop_words: stopwords to remove (list of str)\n",
    "    :param bol lower: if to lowercase\n",
    "    :param bol punct: if to rid punctuation\n",
    "    \"\"\"\n",
    "    if lower and punct:\n",
    "        return [t.lower() for t in txt if t.lower() not in stop_words and t.lower() not in punctuation and not t.isdigit()]\n",
    "    elif lower:\n",
    "        return [t.lower() for t in txt if t.lower() not in stop_words and not t.isdigit()]\n",
    "    elif punct:\n",
    "        return [t for t in txt if t.lower() not in stop_words and t.lower() not in punctuation and not t.isdigit()]\n",
    "    return [t for t in txt if t.lower() not in stop_words and not t.isdigit()]"
   ]
  },
  {
   "cell_type": "code",
   "execution_count": 37,
   "metadata": {},
   "outputs": [
    {
     "data": {
      "text/plain": [
       "list"
      ]
     },
     "execution_count": 37,
     "metadata": {},
     "output_type": "execute_result"
    }
   ],
   "source": [
    "type(books_token)"
   ]
  },
  {
   "cell_type": "code",
   "execution_count": 17,
   "metadata": {},
   "outputs": [],
   "source": [
    "books_stop = [rem_stop(b,lower=False,punct=False) for b in books_token]"
   ]
  },
  {
   "cell_type": "code",
   "execution_count": 18,
   "metadata": {},
   "outputs": [
    {
     "data": {
      "text/plain": [
       "['MOBY',\n",
       " 'DICK',\n",
       " ';',\n",
       " ',',\n",
       " 'WHALE',\n",
       " '.',\n",
       " 'Herman',\n",
       " 'Melville',\n",
       " 'ETYMOLOGY',\n",
       " '.']"
      ]
     },
     "execution_count": 18,
     "metadata": {},
     "output_type": "execute_result"
    }
   ],
   "source": [
    "books_stop[0][:10]"
   ]
  },
  {
   "cell_type": "markdown",
   "metadata": {},
   "source": [
    "#### Stemming and lemmatizing"
   ]
  },
  {
   "cell_type": "code",
   "execution_count": 19,
   "metadata": {},
   "outputs": [
    {
     "data": {
      "text/plain": [
       "['and',\n",
       " 'to',\n",
       " 'teach',\n",
       " 'them',\n",
       " 'by',\n",
       " 'what',\n",
       " 'name',\n",
       " 'a',\n",
       " 'whale-fish',\n",
       " 'is',\n",
       " 'to',\n",
       " 'be',\n",
       " 'called',\n",
       " 'in',\n",
       " 'our',\n",
       " 'tongue']"
      ]
     },
     "execution_count": 19,
     "metadata": {},
     "output_type": "execute_result"
    }
   ],
   "source": [
    "# our target\n",
    "ranges = (102,118)\n",
    "books_token[0][ranges[0]:ranges[1]]"
   ]
  },
  {
   "cell_type": "code",
   "execution_count": 41,
   "metadata": {},
   "outputs": [],
   "source": [
    "# support function to work with WordNet POS tags\n",
    "from nltk.corpus import wordnet\n",
    "\n",
    "def get_wordnet_pos(treebank_tag):\n",
    "    \"\"\"\n",
    "    Cf. https://stackoverflow.com/questions/15586721/wordnet-lemmatization-and-pos-tagging-in-python\n",
    "    :param treebank_tag: a tag from nltk.pos_tag treebank\n",
    "    \"\"\"\n",
    "    \n",
    "    if treebank_tag.startswith('J'):\n",
    "        return wordnet.ADJ\n",
    "    elif treebank_tag.startswith('V'):\n",
    "        return wordnet.VERB\n",
    "    elif treebank_tag.startswith('N'):\n",
    "        return wordnet.NOUN\n",
    "    elif treebank_tag.startswith('R'):\n",
    "        return wordnet.ADV\n",
    "    else:\n",
    "        return wordnet.NOUN"
   ]
  },
  {
   "cell_type": "code",
   "execution_count": 39,
   "metadata": {},
   "outputs": [
    {
     "data": {
      "text/plain": [
       "[('DRACULA', 'NNP'),\n",
       " ('Bram', 'NNP'),\n",
       " ('Stoker', 'NNP'),\n",
       " ('CHAPTER', 'NNP'),\n",
       " ('I', 'PRP'),\n",
       " ('JONATHAN', 'NNP'),\n",
       " ('HARKER', 'NNP'),\n",
       " (\"'S\", 'POS'),\n",
       " ('JOURNAL', 'NNP'),\n",
       " ('(', '(')]"
      ]
     },
     "execution_count": 39,
     "metadata": {},
     "output_type": "execute_result"
    }
   ],
   "source": [
    "nltk.pos_tag(books_token[0][:10])"
   ]
  },
  {
   "cell_type": "code",
   "execution_count": 42,
   "metadata": {},
   "outputs": [],
   "source": [
    "# stem and lemmatize\n",
    "porter = nltk.PorterStemmer()\n",
    "wnl = nltk.WordNetLemmatizer()\n",
    "books_stem = [[porter.stem(t) for t in b] for b in books_token]\n",
    "books_pos = [nltk.pos_tag(b) for b in books_token]\n",
    "books_lem = [[wnl.lemmatize(t,pos=get_wordnet_pos(p[1])) for t,p in zip(b,bp)] for b,bp in zip(books_token,books_pos)]"
   ]
  },
  {
   "cell_type": "code",
   "execution_count": 44,
   "metadata": {},
   "outputs": [
    {
     "name": "stdout",
     "output_type": "stream",
     "text": [
      ".  -  .  -  .\n",
      "The  -  the  -  The\n",
      "impression  -  impress  -  impression\n",
      "I  -  I  -  I\n",
      "had  -  had  -  have\n",
      "was  -  wa  -  be\n",
      "that  -  that  -  that\n",
      "we  -  we  -  we\n",
      "were  -  were  -  be\n",
      "leaving  -  leav  -  leave\n",
      "the  -  the  -  the\n",
      "West  -  west  -  West\n",
      "and  -  and  -  and\n",
      "entering  -  enter  -  enter\n",
      "the  -  the  -  the\n",
      "East  -  east  -  East\n"
     ]
    }
   ],
   "source": [
    "# compare\n",
    "ranges = (102,118)\n",
    "# ranges = (0,10)\n",
    "for t,s,l in zip(books_token[0][ranges[0]:ranges[1]],books_stem[0][ranges[0]:ranges[1]],books_lem[0][ranges[0]:ranges[1]]):\n",
    "    print(t, \" - \", s,\" - \",l)"
   ]
  },
  {
   "cell_type": "code",
   "execution_count": 45,
   "metadata": {},
   "outputs": [],
   "source": [
    "# Let's load our corpus via NLTK\n",
    "from nltk.corpus import PlaintextCorpusReader\n",
    "?PlaintextCorpusReader"
   ]
  },
  {
   "cell_type": "code",
   "execution_count": 46,
   "metadata": {},
   "outputs": [
    {
     "name": "stdout",
     "output_type": "stream",
     "text": [
      "['DRACULA.txt', 'Frankenstein.txt', 'Moby_Dick.txt', 'PRIDE_AND_PREJUDICE.txt']\n"
     ]
    }
   ],
   "source": [
    "# corpus_root is 'books/' directory\n",
    "our_books = PlaintextCorpusReader(corpus_root, '.*.txt')\n",
    "print(our_books.fileids())"
   ]
  },
  {
   "cell_type": "code",
   "execution_count": 47,
   "metadata": {},
   "outputs": [
    {
     "data": {
      "text/plain": [
       "['austen-emma.txt',\n",
       " 'austen-persuasion.txt',\n",
       " 'austen-sense.txt',\n",
       " 'bible-kjv.txt',\n",
       " 'blake-poems.txt',\n",
       " 'bryant-stories.txt',\n",
       " 'burgess-busterbrown.txt',\n",
       " 'carroll-alice.txt',\n",
       " 'chesterton-ball.txt',\n",
       " 'chesterton-brown.txt',\n",
       " 'chesterton-thursday.txt',\n",
       " 'edgeworth-parents.txt',\n",
       " 'melville-moby_dick.txt',\n",
       " 'milton-paradise.txt',\n",
       " 'shakespeare-caesar.txt',\n",
       " 'shakespeare-hamlet.txt',\n",
       " 'shakespeare-macbeth.txt',\n",
       " 'whitman-leaves.txt']"
      ]
     },
     "execution_count": 47,
     "metadata": {},
     "output_type": "execute_result"
    }
   ],
   "source": [
    "# Note that we also have some from nltk\n",
    "nltk.corpus.gutenberg.fileids()"
   ]
  },
  {
   "cell_type": "markdown",
   "metadata": {},
   "source": [
    "### Typical task: topic detection\n",
    "Let's get some sentences from nltk, move to gensim to get a BOW representation, go back to numpy for LSA\n",
    "\n"
   ]
  },
  {
   "cell_type": "code",
   "execution_count": 48,
   "metadata": {},
   "outputs": [],
   "source": [
    "# get sentences\n",
    "dracula_sentences = our_books.sents('DRACULA.txt')"
   ]
  },
  {
   "cell_type": "code",
   "execution_count": 58,
   "metadata": {},
   "outputs": [
    {
     "data": {
      "text/plain": [
       "list"
      ]
     },
     "execution_count": 58,
     "metadata": {},
     "output_type": "execute_result"
    }
   ],
   "source": [
    "type(dracula_sentences[0])"
   ]
  },
  {
   "cell_type": "code",
   "execution_count": 60,
   "metadata": {},
   "outputs": [
    {
     "data": {
      "text/plain": [
       "str"
      ]
     },
     "execution_count": 60,
     "metadata": {},
     "output_type": "execute_result"
    }
   ],
   "source": [
    "type(\"sss\")"
   ]
  },
  {
   "cell_type": "code",
   "execution_count": 59,
   "metadata": {},
   "outputs": [
    {
     "data": {
      "text/plain": [
       "[str]"
      ]
     },
     "execution_count": 59,
     "metadata": {},
     "output_type": "execute_result"
    }
   ],
   "source": [
    "# notice that it's not 'str' but [str] instead\n",
    "[type(t) for t in (dracula_sentences[0])]"
   ]
  },
  {
   "cell_type": "code",
   "execution_count": 52,
   "metadata": {},
   "outputs": [
    {
     "data": {
      "text/plain": [
       "[['DRACULA'], ['Bram', 'Stoker'], ['CHAPTER', 'I']]"
      ]
     },
     "execution_count": 52,
     "metadata": {},
     "output_type": "execute_result"
    }
   ],
   "source": [
    "dracula_sentences[:3]"
   ]
  },
  {
   "cell_type": "code",
   "execution_count": 53,
   "metadata": {},
   "outputs": [],
   "source": [
    "# clean a bit\n",
    "dracula_sentences = [rem_stop(s) for s in dracula_sentences]"
   ]
  },
  {
   "cell_type": "code",
   "execution_count": 54,
   "metadata": {},
   "outputs": [
    {
     "data": {
      "text/plain": [
       "[['dracula'], ['bram', 'stoker'], ['chapter']]"
      ]
     },
     "execution_count": 54,
     "metadata": {},
     "output_type": "execute_result"
    }
   ],
   "source": [
    "dracula_sentences[:3]"
   ]
  },
  {
   "cell_type": "code",
   "execution_count": 61,
   "metadata": {},
   "outputs": [],
   "source": [
    "# create a dictionary and BOW representation using gensim\n",
    "from gensim import corpora\n",
    "dictionary = corpora.Dictionary(dracula_sentences)\n",
    "# filter dictionary\n",
    "max_freq = 0.5\n",
    "min_wordcount = 5\n",
    "dictionary.filter_extremes(no_below=min_wordcount, no_above=max_freq)\n",
    "corpus = [dictionary.doc2bow(s) for s in dracula_sentences]\n",
    "corpus = [s for s in corpus if len(s)>0] # filter out empty sentences"
   ]
  },
  {
   "cell_type": "code",
   "execution_count": 62,
   "metadata": {},
   "outputs": [
    {
     "data": {
      "text/plain": [
       "[[(0, 1)], [(1, 1)], [(2, 1), (3, 1), (4, 1)]]"
      ]
     },
     "execution_count": 62,
     "metadata": {},
     "output_type": "execute_result"
    }
   ],
   "source": [
    "corpus[:3] # we loose some sentences in the process!"
   ]
  },
  {
   "cell_type": "code",
   "execution_count": 63,
   "metadata": {},
   "outputs": [
    {
     "data": {
      "text/plain": [
       "0"
      ]
     },
     "execution_count": 63,
     "metadata": {},
     "output_type": "execute_result"
    }
   ],
   "source": [
    "dictionary.token2id[\"dracula\"]"
   ]
  },
  {
   "cell_type": "code",
   "execution_count": 64,
   "metadata": {},
   "outputs": [],
   "source": [
    "# Let's move to numpy for LSA\n",
    "matrix = gensim.matutils.corpus2dense(corpus,num_terms=len(dictionary))"
   ]
  },
  {
   "cell_type": "code",
   "execution_count": 65,
   "metadata": {},
   "outputs": [
    {
     "data": {
      "text/plain": [
       "(9028, 2276)"
      ]
     },
     "execution_count": 65,
     "metadata": {},
     "output_type": "execute_result"
    }
   ],
   "source": [
    "matrix.T.shape # sentence x vocab matrix (your matrix from class, this is not tf-idf weighted)"
   ]
  },
  {
   "cell_type": "code",
   "execution_count": 66,
   "metadata": {},
   "outputs": [
    {
     "data": {
      "text/plain": [
       "(8960, 2253)"
      ]
     },
     "execution_count": 66,
     "metadata": {},
     "output_type": "execute_result"
    }
   ],
   "source": [
    "# (Almost) equivalent to:\n",
    "from sklearn.feature_extraction.text import CountVectorizer\n",
    "count_vect = CountVectorizer(min_df=min_wordcount,max_df=max_freq)\n",
    "X = count_vect.fit_transform([\" \".join(s) for s in dracula_sentences]).todense()\n",
    "X = X[np.asarray(np.sum(X, axis=1)>0).ravel(),:] # filter out empty sentences\n",
    "\n",
    "# Also tf-idf\n",
    "from sklearn.feature_extraction.text import TfidfTransformer\n",
    "tf_transformer = TfidfTransformer(use_idf=True).fit(X)\n",
    "X_tf = tf_transformer.transform(X)\n",
    "X_tf.shape"
   ]
  },
  {
   "cell_type": "markdown",
   "metadata": {},
   "source": [
    "#### Homemade LSA"
   ]
  },
  {
   "cell_type": "code",
   "execution_count": 67,
   "metadata": {},
   "outputs": [
    {
     "name": "stdout",
     "output_type": "stream",
     "text": [
      "0.0146167704089\n"
     ]
    }
   ],
   "source": [
    "# Run a SVD directly\n",
    "n_topics = 5\n",
    "U,S,_ = np.linalg.svd(matrix.T)\n",
    "sentence_vectors = U[:,:n_topics]\n",
    "print(sum(S[:n_topics])/sum(S)) # explained variance of the model"
   ]
  },
  {
   "cell_type": "code",
   "execution_count": 37,
   "metadata": {},
   "outputs": [
    {
     "data": {
      "text/plain": [
       "array([ 0.01077735, -0.00154847,  0.02358575,  0.00248787, -0.01675043], dtype=float32)"
      ]
     },
     "execution_count": 37,
     "metadata": {},
     "output_type": "execute_result"
    }
   ],
   "source": [
    "sentence_vectors[6,:]"
   ]
  },
  {
   "cell_type": "code",
   "execution_count": 70,
   "metadata": {},
   "outputs": [
    {
     "data": {
      "image/png": "[encoded data removed]",
      "text/plain": [
       "<matplotlib.figure.Figure at 0x12aafb128>"
      ]
     },
     "metadata": {},
     "output_type": "display_data"
    }
   ],
   "source": [
    "# PCA and plot\n",
    "from sklearn.decomposition import PCA\n",
    "pca = PCA(n_components=2)\n",
    "X_pca = pca.fit_transform(X=U)\n",
    "\n",
    "which_sentences = [6,7,8,9,10,11]\n",
    "\n",
    "plt.figure()\n",
    "for w in which_sentences:\n",
    "    plt.text(X_pca[w,0], X_pca[w,1], w,\n",
    "        bbox=dict(facecolor='green', alpha=0.1))\n",
    "\n",
    "plt.xlim((-0.02,0.03))\n",
    "plt.ylim((-0.03,0.02))\n",
    "plt.show()"
   ]
  },
  {
   "cell_type": "code",
   "execution_count": 71,
   "metadata": {},
   "outputs": [
    {
     "name": "stdout",
     "output_type": "stream",
     "text": [
      "6 bistritz left munich p ., 1st may arriving vienna early next morning arrived train hour late\n",
      "7 buda pesth seems wonderful place glimpse got train little could walk streets\n",
      "8 feared go far station arrived late would start near correct time possible\n",
      "9 impression leaving west entering east western splendid bridges danube noble width depth took us among traditions turkish rule\n",
      "10 left pretty good time came nightfall klausenburgh\n",
      "11 stopped night hotel royale\n"
     ]
    }
   ],
   "source": [
    "for n,sent in enumerate(dracula_sentences[6:12]):\n",
    "    print(n+6,\" \".join(sent))"
   ]
  },
  {
   "cell_type": "markdown",
   "metadata": {},
   "source": [
    "#### Proper LSA"
   ]
  },
  {
   "cell_type": "code",
   "execution_count": 80,
   "metadata": {},
   "outputs": [
    {
     "data": {
      "text/plain": [
       "[(0,\n",
       "  '-0.513*\"said\" + -0.336*\":--\" + -0.245*\".\"\" + -0.200*\"helsing\" + -0.200*\"van\" + -0.192*\"?\"\" + -0.171*\",\"\" + -0.138*\"shall\" + -0.121*\"know\" + -0.115*\"must\"'),\n",
       " (1,\n",
       "  '0.807*\"?\"\" + -0.368*\"said\" + -0.266*\":--\" + 0.140*\".\"\" + 0.105*\"know\" + 0.095*\"shall\" + -0.094*\"van\" + -0.094*\"helsing\" + 0.094*\"may\" + -0.075*\",\"\"'),\n",
       " (2,\n",
       "  '0.533*\"?\"\" + -0.478*\".\"\" + 0.363*\"said\" + 0.267*\":--\" + -0.192*\"shall\" + -0.129*\"must\" + -0.116*\"know\" + -0.105*\"may\" + -0.097*\"come\" + -0.092*\"see\"'),\n",
       " (3,\n",
       "  '-0.562*\"van\" + -0.562*\"helsing\" + 0.315*\"said\" + 0.261*\".\"\" + -0.258*\"dr\" + -0.182*\"seward\" + 0.143*\",\"\" + 0.126*\":--\" + -0.124*\"diary\" + 0.072*\"shall\"'),\n",
       " (4,\n",
       "  '-0.713*\".\"\" + -0.215*\"van\" + -0.215*\"helsing\" + 0.152*\"could\" + 0.117*\"see\" + -0.113*\"said\" + 0.109*\"would\" + 0.107*\"one\" + -0.105*\"?\"\" + 0.105*\"us\"')]"
      ]
     },
     "execution_count": 80,
     "metadata": {},
     "output_type": "execute_result"
    }
   ],
   "source": [
    "# Let's use Gensim with tfidf\n",
    "tfidf = gensim.models.TfidfModel(corpus)\n",
    "corpus_tfidf = tfidf[corpus]\n",
    "model = gensim.models.LsiModel(corpus_tfidf, id2word=dictionary, num_topics=n_topics)\n",
    "model.print_topics()\n",
    "#model[corpus_tfidf[0]]"
   ]
  },
  {
   "cell_type": "code",
   "execution_count": 41,
   "metadata": {},
   "outputs": [],
   "source": [
    "# In sklearn use sklearn.decomposition import TruncatedSVD"
   ]
  },
  {
   "cell_type": "markdown",
   "metadata": {},
   "source": [
    "### Exercise: recomposing books\n",
    "A vandal has cut off all sentences from our books, and we would like to put them back again together!"
   ]
  },
  {
   "cell_type": "markdown",
   "metadata": {},
   "source": [
    "# BEGIN FROM HERE - Topic Detection Framework"
   ]
  },
  {
   "cell_type": "markdown",
   "metadata": {},
   "source": [
    "#### Interlude on Topic Modelling"
   ]
  },
  {
   "cell_type": "markdown",
   "metadata": {},
   "source": [
    "Main idea: assume documents are generated via topics (latent factors). \n",
    "\n",
    "For each document we select a few topics at varying proportions. \n",
    "\n",
    "Every topic is in turn a distrubition probability over words in the vocabulary.\n",
    "    \n",
    "Latent Dirichlet Allocation is one of the main techniques to estimate topics (Blei et al. 2003)\n",
    "\n",
    "From Blei, 2012, Probabilistic Topic Models:\n",
    "\n",
    "<img src=\"Blei.png\">"
   ]
  },
  {
   "cell_type": "markdown",
   "metadata": {},
   "source": [
    "#### Create the dataset\n",
    "We will chunk sentences from every book to represent pages, more or less, which the vandal has torn off"
   ]
  },
  {
   "cell_type": "code",
   "execution_count": 38,
   "metadata": {},
   "outputs": [
    {
     "name": "stdout",
     "output_type": "stream",
     "text": [
      "The autoreload extension is already loaded. To reload it, use:\n",
      "  %reload_ext autoreload\n"
     ]
    }
   ],
   "source": [
    "# to support both python 2 and python 3\n",
    "from __future__ import division, print_function, unicode_literals\n",
    "\n",
    "# magics and warnings\n",
    "%load_ext autoreload\n",
    "%autoreload 2\n",
    "import warnings; warnings.simplefilter('ignore')\n",
    "\n",
    "# machinery\n",
    "import os, codecs, string, random\n",
    "from numpy.random import seed as random_seed\n",
    "from numpy.random import shuffle as random_shuffle\n",
    "import numpy as np\n",
    "seed = 42 # reproducibility!\n",
    "random.seed(seed)\n",
    "random_seed(seed)\n",
    "np.random.seed(seed)\n",
    "import nltk, gensim, sklearn, spacy # the armory!\n",
    "import matplotlib.pyplot as plt\n",
    "import pyLDAvis.gensim\n",
    "\n",
    "# where our books are\n",
    "corpus_root = 'books/'"
   ]
  },
  {
   "cell_type": "code",
   "execution_count": 39,
   "metadata": {},
   "outputs": [],
   "source": [
    "def get_chunks(l, n):\n",
    "    \"\"\"Yield successive n-sized chunks from l.\"\"\"\n",
    "    for i in range(0, len(l), n):\n",
    "        yield l[i:i + n]"
   ]
  },
  {
   "cell_type": "code",
   "execution_count": 40,
   "metadata": {},
   "outputs": [
    {
     "name": "stdout",
     "output_type": "stream",
     "text": [
      "['DRACULA.txt', 'Frankenstein.txt', 'Moby_Dick.txt', 'PRIDE_AND_PREJUDICE.txt']\n"
     ]
    }
   ],
   "source": [
    "# Let's load our corpus via NLTK\n",
    "from nltk.corpus import PlaintextCorpusReader\n",
    "our_books = PlaintextCorpusReader(corpus_root, '.*.txt')\n",
    "print(our_books.fileids())"
   ]
  },
  {
   "cell_type": "code",
   "execution_count": 41,
   "metadata": {},
   "outputs": [
    {
     "name": "stdout",
     "output_type": "stream",
     "text": [
      "DRACULA.txt : 9303\n",
      "chunks: 187\n",
      "Frankenstein.txt : 3378\n",
      "chunks: 68\n",
      "Moby_Dick.txt : 9609\n",
      "chunks: 193\n",
      "PRIDE_AND_PREJUDICE.txt : 6055\n",
      "chunks: 122\n"
     ]
    }
   ],
   "source": [
    "# Get the data\n",
    "book_id = {f:n for n,f in enumerate(our_books.fileids())} # dictionary of books\n",
    "chunks = list()\n",
    "chunk_class = list() # this list contains the original book of the chunk, for evaluation\n",
    "limit = 60 # how many chunks total\n",
    "size = 50 # how many sentences per chunk/page\n",
    "for f in our_books.fileids():\n",
    "    sentences = our_books.sents(f)\n",
    "    print(f,\":\",len(sentences))\n",
    "    # create chunks\n",
    "    chunks_of_sents = [x for x in get_chunks(sentences,size)] # this is a list of lists of sentences, which are a list of tokens\n",
    "    chs = list()\n",
    "    # regroup so to have a list of chunks which are strings\n",
    "    for c in chunks_of_sents:\n",
    "        grouped_chunk = list()\n",
    "        for s in c:\n",
    "            grouped_chunk.extend(s)\n",
    "        chs.append(\" \".join(grouped_chunk))\n",
    "    print(\"chunks:\",len(chs))\n",
    "    # filter to the limit, to have the same number of chunks per book\n",
    "    chunks.extend(chs[:limit])\n",
    "    chunk_class.extend([book_id[f] for _ in range(len(chs[:limit]))])"
   ]
  },
  {
   "cell_type": "code",
   "execution_count": 42,
   "metadata": {},
   "outputs": [
    {
     "data": {
      "text/plain": [
       "\"DRACULA Bram Stoker CHAPTER I JONATHAN HARKER ' S JOURNAL ( _Kept in shorthand . _ ) _3 May . Bistri\""
      ]
     },
     "execution_count": 42,
     "metadata": {},
     "output_type": "execute_result"
    }
   ],
   "source": [
    "chunks[0][:100]"
   ]
  },
  {
   "cell_type": "markdown",
   "metadata": {},
   "source": [
    "#### More robust pipeline with Spacy\n",
    "<img src=\"spacy.png\">"
   ]
  },
  {
   "cell_type": "code",
   "execution_count": 43,
   "metadata": {
    "scrolled": false
   },
   "outputs": [],
   "source": [
    "import spacy\n",
    "# from spacy.lang.en import STOP_WORDS\n",
    "\n",
    "nlp = spacy.load('en')\n",
    "STOPWORDS = spacy.lang.en.STOP_WORDS\n",
    "# print(STOPWORDS)\n",
    "\n",
    "processed_docs = list()\n",
    "for doc in nlp.pipe(chunks, n_threads=5, batch_size=10):\n",
    "\n",
    "    # Process document using Spacy NLP pipeline.\n",
    "    ents = doc.ents  # Named entities\n",
    "\n",
    "    # Keep only words (no numbers, no punctuation).\n",
    "    # Lemmatize tokens, remove punctuation and remove stopwords.\n",
    "    doc = [token.lemma_ for token in doc if token.is_alpha and not token.is_stop]\n",
    "\n",
    "    # Remove common words from a stopword list and keep only words of length 3 or more.\n",
    "    doc = [token for token in doc if token not in STOPWORDS and len(token) > 2]\n",
    "\n",
    "    # Add named entities, but only if they are a compound of more than word.\n",
    "    doc.extend([str(entity) for entity in ents if len(entity) > 1])\n",
    "\n",
    "    processed_docs.append(doc)\n",
    "docs = processed_docs\n",
    "del processed_docs"
   ]
  },
  {
   "cell_type": "code",
   "execution_count": 44,
   "metadata": {},
   "outputs": [],
   "source": [
    "# Add bigrams.\n",
    "from gensim.models.phrases import Phrases\n",
    "# Add bigrams to docs (only ones that appear 15 times or more).\n",
    "bigram = Phrases(docs, min_count=15)\n",
    "for idx in range(len(docs)):\n",
    "    for token in bigram[docs[idx]]:\n",
    "        if '_' in token:\n",
    "            # Token is a bigram, add to document.\n",
    "            docs[idx].append(token)"
   ]
  },
  {
   "cell_type": "code",
   "execution_count": 45,
   "metadata": {},
   "outputs": [
    {
     "name": "stdout",
     "output_type": "stream",
     "text": [
      "Number of unique tokens: 3082\n",
      "Number of chunks: 240\n"
     ]
    }
   ],
   "source": [
    "# Create a dictionary representation of the documents, and filter out frequent and rare words.\n",
    "from gensim.corpora import Dictionary\n",
    "dictionary = Dictionary(docs)\n",
    "# Remove rare and common tokens.\n",
    "# Filter out words that occur too frequently or too rarely.\n",
    "max_freq = 0.5\n",
    "min_wordcount = 5\n",
    "dictionary.filter_extremes(no_below=min_wordcount, no_above=max_freq)\n",
    "\n",
    "# Bag-of-words representation of the documents.\n",
    "corpus = [dictionary.doc2bow(doc) for doc in docs]\n",
    "#MmCorpus.serialize(\"models/corpus.mm\", corpus)\n",
    "\n",
    "print('Number of unique tokens: %d' % len(dictionary))\n",
    "print('Number of chunks: %d' % len(corpus))"
   ]
  },
  {
   "cell_type": "code",
   "execution_count": 46,
   "metadata": {},
   "outputs": [],
   "source": [
    "# models\n",
    "from gensim.models import LdaMulticore\n",
    "params = {'passes': 10, 'random_state': seed}\n",
    "base_models = dict()\n",
    "model = LdaMulticore(corpus=corpus, num_topics=4, id2word=dictionary, workers=6,\n",
    "                passes=params['passes'], random_state=params['random_state'])"
   ]
  },
  {
   "cell_type": "code",
   "execution_count": 36,
   "metadata": {},
   "outputs": [
    {
     "data": {
      "text/plain": [
       "[(0,\n",
       "  '0.024*\"whale\" + 0.006*\"old\" + 0.005*\"sea\" + 0.005*\"life\" + 0.004*\"nature\"'),\n",
       " (1,\n",
       "  '0.007*\"old\" + 0.007*\"ship\" + 0.007*\"sea\" + 0.007*\"queequeg\" + 0.006*\"captain\"'),\n",
       " (2,\n",
       "  '0.012*\"elizabeth\" + 0.009*\"darcy\" + 0.008*\"miss\" + 0.008*\"bingley\" + 0.008*\"lady\"'),\n",
       " (3,\n",
       "  '0.009*\"father\" + 0.008*\"elizabeth\" + 0.005*\"feeling\" + 0.005*\"dear\" + 0.005*\"life\"')]"
      ]
     },
     "execution_count": 36,
     "metadata": {},
     "output_type": "execute_result"
    }
   ],
   "source": [
    "model.show_topics(num_words=5)"
   ]
  },
  {
   "cell_type": "code",
   "execution_count": 22,
   "metadata": {},
   "outputs": [
    {
     "data": {
      "text/plain": [
       "[('old', 0.007453694),\n",
       " ('ship', 0.0067027379),\n",
       " ('sea', 0.0066964291),\n",
       " ('queequeg', 0.0065189837),\n",
       " ('captain', 0.0060430462),\n",
       " ('head', 0.0049241581),\n",
       " ('light', 0.0041181999),\n",
       " ('ahab', 0.0039542997),\n",
       " ('sleep', 0.0039371853),\n",
       " ('bed', 0.0038987088),\n",
       " ('lie', 0.0038238952),\n",
       " ('stand', 0.0038020217),\n",
       " ('round', 0.0037902701),\n",
       " ('god', 0.0036066314),\n",
       " ('room', 0.0035644388),\n",
       " ('run', 0.0035382523),\n",
       " ('sort', 0.0034669896),\n",
       " ('thou', 0.0031570112),\n",
       " ('sit', 0.0030537597),\n",
       " ('door', 0.0030352238)]"
      ]
     },
     "execution_count": 22,
     "metadata": {},
     "output_type": "execute_result"
    }
   ],
   "source": [
    "model.show_topic(1,20)"
   ]
  },
  {
   "cell_type": "code",
   "execution_count": 23,
   "metadata": {},
   "outputs": [
    {
     "data": {
      "text/plain": [
       "[(1, 0.66742164), (2, 0.33073485)]"
      ]
     },
     "execution_count": 23,
     "metadata": {},
     "output_type": "execute_result"
    }
   ],
   "source": [
    "sorted(model[corpus[0]],key=lambda x:x[1],reverse=True)"
   ]
  },
  {
   "cell_type": "code",
   "execution_count": 24,
   "metadata": {},
   "outputs": [
    {
     "name": "stderr",
     "output_type": "stream",
     "text": [
      "/Users/sanadhisutandi/anaconda/lib/python3.6/site-packages/pyLDAvis/_prepare.py:387: DeprecationWarning: \n",
      ".ix is deprecated. Please use\n",
      ".loc for label based indexing or\n",
      ".iloc for positional indexing\n",
      "\n",
      "See the documentation here:\n",
      "http://pandas.pydata.org/pandas-docs/stable/indexing.html#deprecate_ix\n",
      "  topic_term_dists = topic_term_dists.ix[topic_order]\n"
     ]
    },
    {
     "data": {
      "text/html": [
       "\n",
       "<link rel=\"stylesheet\" type=\"text/css\" href=\"https://cdn.rawgit.com/bmabey/pyLDAvis/files/ldavis.v1.0.0.css\">\n",
       "\n",
       "\n",
       "<div id=\"ldavis_el259848910900406394267984\"></div>\n",
       "<script type=\"text/javascript\">\n",
       "\n",
       "var ldavis_el259848910900406394267984_data = {\"mdsDat\": {\"Freq\": [33.189612102919334, 32.54574135063499, 17.883961844570536, 16.380684701875136], \"cluster\": [1, 1, 1, 1], \"topics\": [1, 2, 3, 4], \"x\": [-0.11717166315832925, 0.13214391741808024, 0.06515832862891367, -0.08013058288866472], \"y\": [-0.06981791695020834, -0.06649975017053347, 0.07935960185485272, 0.056958065265889396]}, \"tinfo\": {\"Category\": [\"Default\", \"Default\", \"Default\", \"Default\", \"Default\", \"Default\", \"Default\", \"Default\", \"Default\", \"Default\", \"Default\", \"Default\", \"Default\", \"Default\", \"Default\", \"Default\", \"Default\", \"Default\", \"Default\", \"Default\", \"Default\", \"Default\", \"Default\", \"Default\", \"Default\", \"Default\", \"Default\", \"Default\", \"Default\", \"Default\", \"Topic1\", \"Topic1\", \"Topic1\", \"Topic1\", \"Topic1\", \"Topic1\", \"Topic1\", \"Topic1\", \"Topic1\", \"Topic1\", \"Topic1\", \"Topic1\", \"Topic1\", \"Topic1\", \"Topic1\", \"Topic1\", \"Topic1\", \"Topic1\", \"Topic1\", \"Topic1\", \"Topic1\", \"Topic1\", \"Topic1\", \"Topic1\", \"Topic1\", \"Topic1\", \"Topic1\", \"Topic1\", \"Topic1\", \"Topic1\", \"Topic1\", \"Topic1\", \"Topic1\", \"Topic1\", \"Topic1\", \"Topic1\", \"Topic1\", \"Topic1\", \"Topic1\", \"Topic1\", \"Topic1\", \"Topic1\", \"Topic1\", \"Topic1\", \"Topic1\", \"Topic1\", \"Topic1\", \"Topic1\", \"Topic1\", \"Topic1\", \"Topic1\", \"Topic1\", \"Topic1\", \"Topic1\", \"Topic1\", \"Topic1\", \"Topic1\", \"Topic1\", \"Topic1\", \"Topic1\", \"Topic1\", \"Topic1\", \"Topic1\", \"Topic1\", \"Topic1\", \"Topic1\", \"Topic1\", \"Topic1\", \"Topic1\", \"Topic1\", \"Topic1\", \"Topic2\", \"Topic2\", \"Topic2\", \"Topic2\", \"Topic2\", \"Topic2\", \"Topic2\", \"Topic2\", \"Topic2\", \"Topic2\", \"Topic2\", \"Topic2\", \"Topic2\", \"Topic2\", \"Topic2\", \"Topic2\", \"Topic2\", \"Topic2\", \"Topic2\", \"Topic2\", \"Topic2\", \"Topic2\", \"Topic2\", \"Topic2\", \"Topic2\", \"Topic2\", \"Topic2\", \"Topic2\", \"Topic2\", \"Topic2\", \"Topic2\", \"Topic2\", \"Topic2\", \"Topic2\", \"Topic2\", \"Topic2\", \"Topic2\", \"Topic2\", \"Topic2\", \"Topic2\", \"Topic2\", \"Topic2\", \"Topic2\", \"Topic2\", \"Topic2\", \"Topic2\", \"Topic2\", \"Topic2\", \"Topic2\", \"Topic2\", \"Topic2\", \"Topic2\", \"Topic2\", \"Topic2\", \"Topic2\", \"Topic2\", \"Topic2\", \"Topic2\", \"Topic2\", \"Topic2\", \"Topic2\", \"Topic2\", \"Topic2\", \"Topic2\", \"Topic2\", \"Topic3\", \"Topic3\", \"Topic3\", \"Topic3\", \"Topic3\", \"Topic3\", \"Topic3\", \"Topic3\", \"Topic3\", \"Topic3\", \"Topic3\", \"Topic3\", \"Topic3\", \"Topic3\", \"Topic3\", \"Topic3\", \"Topic3\", \"Topic3\", \"Topic3\", \"Topic3\", \"Topic3\", \"Topic3\", \"Topic3\", \"Topic3\", \"Topic3\", \"Topic3\", \"Topic3\", \"Topic3\", \"Topic3\", \"Topic3\", \"Topic3\", \"Topic3\", \"Topic3\", \"Topic3\", \"Topic3\", \"Topic3\", \"Topic3\", \"Topic3\", \"Topic3\", \"Topic3\", \"Topic3\", \"Topic3\", \"Topic3\", \"Topic3\", \"Topic3\", \"Topic3\", \"Topic3\", \"Topic3\", \"Topic3\", \"Topic3\", \"Topic3\", \"Topic3\", \"Topic3\", \"Topic3\", \"Topic3\", \"Topic3\", \"Topic3\", \"Topic3\", \"Topic3\", \"Topic3\", \"Topic3\", \"Topic3\", \"Topic3\", \"Topic3\", \"Topic3\", \"Topic3\", \"Topic3\", \"Topic3\", \"Topic3\", \"Topic3\", \"Topic3\", \"Topic4\", \"Topic4\", \"Topic4\", \"Topic4\", \"Topic4\", \"Topic4\", \"Topic4\", \"Topic4\", \"Topic4\", \"Topic4\", \"Topic4\", \"Topic4\", \"Topic4\", \"Topic4\", \"Topic4\", \"Topic4\", \"Topic4\", \"Topic4\", \"Topic4\", \"Topic4\", \"Topic4\", \"Topic4\", \"Topic4\", \"Topic4\", \"Topic4\", \"Topic4\", \"Topic4\", \"Topic4\", \"Topic4\", \"Topic4\", \"Topic4\", \"Topic4\", \"Topic4\", \"Topic4\", \"Topic4\", \"Topic4\", \"Topic4\", \"Topic4\", \"Topic4\", \"Topic4\", \"Topic4\", \"Topic4\", \"Topic4\", \"Topic4\", \"Topic4\", \"Topic4\", \"Topic4\", \"Topic4\", \"Topic4\", \"Topic4\", \"Topic4\", \"Topic4\", \"Topic4\", \"Topic4\", \"Topic4\", \"Topic4\", \"Topic4\", \"Topic4\", \"Topic4\", \"Topic4\", \"Topic4\", \"Topic4\", \"Topic4\", \"Topic4\", \"Topic4\", \"Topic4\", \"Topic4\", \"Topic4\"], \"Freq\": [347.0, 391.0, 209.0, 232.0, 215.0, 180.0, 164.0, 194.0, 226.0, 144.0, 212.0, 223.0, 215.0, 149.0, 239.0, 169.0, 288.0, 186.0, 54.0, 189.0, 107.0, 86.0, 73.0, 107.0, 68.0, 76.0, 53.0, 218.0, 71.0, 81.0, 159.9308641325051, 33.26404620497708, 69.33651657310546, 30.330670797344897, 36.00275471377916, 73.74837222600426, 18.768112465365583, 29.99798346786834, 27.180839849873607, 19.594087315853525, 15.829510525678547, 15.823037337207326, 15.807980355243826, 24.15423796173069, 15.77198725676222, 59.1879108077144, 14.823637299451041, 14.820477103976343, 20.359408690249115, 14.786156210149446, 77.45126451381815, 12.91052093332523, 38.642570381635075, 14.725322804265042, 13.812346187262845, 15.636154543904837, 17.481575895806465, 16.541921117096933, 11.881729506838598, 12.786109478220512, 36.98987811326342, 97.01122086173639, 28.84674124980467, 148.25464300847486, 24.143579263572917, 95.64740444649074, 37.32931709398461, 164.43892224755461, 39.738100052816726, 36.40068801308808, 56.62697293346015, 68.95605931185318, 33.294639981682884, 58.18480507305037, 63.00210252404074, 164.28414835404814, 93.81199490230404, 66.95293806530292, 36.0949530240496, 92.98706535822706, 86.80428928343589, 182.8622021224801, 72.80904160652328, 101.03220046161456, 120.80485095990949, 88.48184042339524, 50.74950058741223, 93.27537000566402, 58.66505768023751, 96.5913504079393, 68.83890502502791, 85.05599431888703, 63.96142534263867, 62.91834663385454, 72.80408354114228, 74.91818434101913, 73.82341151737548, 87.44672432191655, 74.46344177990521, 69.81468427952754, 65.13273972861575, 67.63029206366107, 141.57131565579738, 72.08909538644205, 36.30438381579368, 57.63851239065192, 37.12246795311558, 30.566920038700932, 34.16748950490327, 30.46528265996584, 200.82918698690094, 23.00182485344546, 21.14263463449559, 172.60328460507444, 47.624624606327714, 29.296493413533614, 21.91903291130711, 40.1779159206231, 18.244244157296254, 61.98026090971816, 38.20988512274783, 15.48576996248722, 22.778073347067245, 23.56695539714794, 203.77223758534242, 23.522461912924182, 26.23163255495314, 26.2114624741714, 13.542824337280935, 20.781651242065497, 18.06520178304796, 81.23765813888363, 139.81846225956366, 72.93723019951904, 57.71346824208798, 180.5354867431084, 74.41143849476713, 213.03564264999395, 67.98212862412322, 189.23915946326696, 35.704006041922, 27.943930141717196, 155.48636368253943, 92.2760191098396, 32.06086151767411, 283.6922478088531, 39.90928864509657, 95.68758018784449, 157.62926532795868, 106.52048751729136, 68.20897341767491, 136.57240674860648, 95.84491914067955, 119.87265530023488, 145.91328822463623, 70.21192797386014, 82.19768900966037, 75.46133572934897, 77.92969207450226, 81.23463346695301, 74.18252684206284, 83.67326960976585, 79.7205891221299, 75.63600493209759, 74.68427510539709, 73.75496705969336, 52.437983430412785, 15.833017646545285, 11.098508762844213, 11.996617561830702, 16.539844380744018, 10.08443557758042, 18.047815385825853, 12.412846959305421, 10.529126288603539, 34.108063395157004, 5.935287300915324, 13.319639275199926, 21.60031486821168, 5.7616050359041395, 14.836105275998598, 10.667504690300747, 30.195191420557403, 24.404734562923135, 5.705225657627639, 5.664219605386162, 16.980622315207345, 8.01775932294693, 11.273470278795548, 7.960468117684519, 23.636363739283826, 7.075812037005771, 14.039737901257714, 7.714423340018912, 12.200541319066998, 9.949751421756083, 45.17233055388897, 36.04635056280306, 25.289545307926076, 18.96332353654686, 24.463291553326325, 22.9198447074357, 14.407043356461408, 27.451501711530327, 21.049979190074158, 36.77306358951139, 19.7165788080248, 124.81670121253437, 31.580155811028554, 22.296047322678042, 38.26542503996354, 40.4654781136711, 43.07605185539476, 36.4003702756112, 70.00710580759493, 35.251342079587175, 51.25229132533841, 103.09230092681392, 40.83293284687924, 41.18534589745398, 61.96835907448707, 51.43619874891691, 55.0645129901785, 39.42256657247655, 66.8874294348789, 50.37577705169588, 67.171740936457, 51.30136839298513, 52.13037224855336, 53.60587297924579, 51.20004710167987, 36.84431690503485, 39.43575843901363, 43.91781667192023, 40.669622710017066, 41.20881793996723, 38.43969864593563, 28.795818966559814, 26.121262588934304, 16.094978134317863, 10.94875734467365, 14.211484332614491, 12.45403313135874, 22.92941394851083, 7.367406227066741, 8.1507928878405, 7.308128794372834, 6.478246851041146, 21.02644808880366, 6.448462947060315, 13.634025186666529, 25.571258001676075, 11.968945741096805, 6.376794525088691, 39.05203693599001, 7.134709213648929, 5.506377040131467, 5.505001633978491, 6.258981808140068, 14.038577137375194, 18.684324876332436, 10.054514991873646, 6.18537238255825, 10.813479119204972, 6.94739884129346, 11.565815360570333, 5.382803334254111, 289.35650727295285, 9.984411918129416, 42.78385248269264, 18.552610091042823, 19.88136026835109, 21.402523529030734, 15.7882163981751, 23.764156858400074, 12.505666364649535, 17.189415204788503, 18.65931313482242, 49.22501305560436, 33.15921481651862, 29.81745501055571, 31.379555545634243, 27.92600971911733, 30.790378489002517, 39.92966940059777, 31.45722952017031, 27.640252263871815, 68.54020075455566, 58.044206112570244, 58.76755627714676, 29.29011097089188, 41.70311520458763, 39.44668229746669, 46.11246928381789, 46.803996574390226, 37.39168807002509, 36.746299436075034, 29.640492428688578, 32.183694875726154, 34.75102102340633, 29.886383896930813, 31.497910249429722, 27.862479557380606, 28.712988716638062, 28.42778100097713], \"Term\": [\"whale\", \"elizabeth\", \"bingley\", \"darcy\", \"miss\", \"bennet\", \"queequeg\", \"mrs\", \"sea\", \"jane\", \"ship\", \"father\", \"lady\", \"collins\", \"dear\", \"captain\", \"old\", \"sister\", \"justine\", \"wish\", \"ahab\", \"mrs_bennet\", \"charlotte\", \"lucy\", \"miss_bingley\", \"bildad\", \"cottage\", \"life\", \"peleg\", \"thou\", \"queequeg\", \"landlord\", \"peleg\", \"shipmate\", \"harpoon\", \"bildad\", \"tomahawk\", \"captain_peleg\", \"harbour\", \"cannibal\", \"bedford\", \"New Bedford\", \"new_bedford\", \"pier\", \"chest\", \"jonah\", \"wharf\", \"aboard\", \"didn\", \"sand\", \"thou\", \"Captain Ahab\", \"captain_ahab\", \"ain\", \"bulwark\", \"pagan\", \"boot\", \"Captain Peleg\", \"wooden\", \"pot\", \"dog\", \"ahab\", \"driver\", \"captain\", \"queer\", \"bed\", \"storm\", \"ship\", \"board\", \"flask\", \"mate\", \"sail\", \"leg\", \"deck\", \"harpooneer\", \"sea\", \"lie\", \"don\", \"thee\", \"round\", \"run\", \"old\", \"white\", \"light\", \"head\", \"god\", \"arm\", \"stand\", \"land\", \"sleep\", \"strange\", \"sort\", \"foot\", \"hold\", \"face\", \"sit\", \"fear\", \"room\", \"door\", \"open\", \"pass\", \"miss_bingley\", \"jane\", \"charlotte\", \"lydia\", \"lucas\", \"Miss Bingley\", \"hurst\", \"miss_bennet\", \"colonel\", \"bingley\", \"miss_lucas\", \"westenra\", \"bennet\", \"netherfield\", \"meryton\", \"seward\", \"longbourn\", \"mrs_hurst\", \"dance\", \"sir_william\", \"gardiner\", \"colonel_fitzwilliam\", \"diary\", \"miss\", \"hertfordshire\", \"helsing\", \"rosings\", \"holmwood\", \"Van Helsing\", \"mrs_collins\", \"mrs_bennet\", \"collins\", \"wickham\", \"Lady Catherine\", \"mrs\", \"catherine\", \"darcy\", \"lady_catherine\", \"lady\", \"lizzy\", \"fitzwilliam\", \"sister\", \"lucy\", \"husband\", \"elizabeth\", \"arthur\", \"write\", \"dear\", \"letter\", \"daughter\", \"young\", \"ask\", \"wish\", \"room\", \"count\", \"want\", \"talk\", \"walk\", \"manner\", \"mother\", \"love\", \"mean\", \"hope\", \"house\", \"door\", \"justine\", \"union\", \"remorse\", \"guilt\", \"victim\", \"threat\", \"innocence\", \"ernest\", \"fulfil\", \"misfortune\", \"caprice\", \"accuse\", \"crime\", \"disclose\", \"tranquillity\", \"wretchedness\", \"geneva\", \"victor\", \"hellish\", \"sickness\", \"innocent\", \"sicken\", \"console\", \"inflict\", \"murderer\", \"many months\", \"suffering\", \"abhor\", \"frankenstein\", \"bitterly\", \"misery\", \"murder\", \"fiend\", \"revenge\", \"forever\", \"weep\", \"torture\", \"peace\", \"henry\", \"clerval\", \"enemy\", \"father\", \"despair\", \"grief\", \"horror\", \"endeavour\", \"affection\", \"tear\", \"feeling\", \"miserable\", \"death\", \"elizabeth\", \"happiness\", \"creature\", \"love\", \"appear\", \"hope\", \"child\", \"life\", \"believe\", \"dear\", \"return\", \"heart\", \"wish\", \"mind\", \"desire\", \"remain\", \"pass\", \"moment\", \"fear\", \"happy\", \"sperm\", \"sperm_whale\", \"fin\", \"octavo\", \"spout\", \"hovel\", \"leviathan\", \"whales\", \"enterprise\", \"scientific\", \"naturalist\", \"cottager\", \"thomas\", \"folio\", \"oil\", \"protector\", \"ardent\", \"felix\", \"nation\", \"inward\", \"paradise\", \"dedicate\", \"utterly\", \"whale_ship\", \"iii\", \"practical\", \"ardour\", \"majestic\", \"arabian\", \"reverence\", \"whale\", \"swim\", \"cottage\", \"greenland\", \"pursuit\", \"mast_head\", \"fishery\", \"science\", \"philosophy\", \"safie\", \"agatha\", \"nature\", \"fish\", \"old_man\", \"study\", \"wood\", \"whaling\", \"form\", \"delight\", \"mast\", \"old\", \"life\", \"sea\", \"discover\", \"year\", \"book\", \"world\", \"ship\", \"chapter\", \"present\", \"voyage\", \"appear\", \"head\", \"work\", \"word\", \"enter\", \"father\", \"pass\"], \"Total\": [347.0, 391.0, 209.0, 232.0, 215.0, 180.0, 164.0, 194.0, 226.0, 144.0, 212.0, 223.0, 215.0, 149.0, 239.0, 169.0, 288.0, 186.0, 54.0, 189.0, 107.0, 86.0, 73.0, 107.0, 68.0, 76.0, 53.0, 218.0, 71.0, 81.0, 164.12021030142577, 34.22342878739894, 71.40634526933796, 31.28175666015403, 37.13909312266743, 76.2857692814283, 19.54758992607355, 31.288142901412705, 28.350289460360905, 20.51600297095622, 16.612279556792174, 16.613265298800716, 16.612555985920746, 25.41346102947854, 16.608094955417922, 62.406841467396966, 15.63226809777976, 15.633325684897168, 21.485784448573476, 15.63494234993293, 81.9382786263156, 13.676210038516219, 40.94225142266117, 15.622231230076064, 14.653966231101062, 16.596951975701653, 18.55686216442291, 17.588294327463682, 12.698311579155188, 13.674713214963372, 40.005178732075606, 107.69673781010866, 31.307452905693072, 169.6760123347829, 26.277179295029296, 112.33055578623761, 41.922980552299535, 212.89627656332453, 45.54352174981714, 41.6426427515895, 67.6932864662613, 84.87142800659535, 37.79794513342607, 70.37331321612109, 77.04709449648752, 226.48701223856176, 121.06118698380456, 83.77300204412964, 41.66449062831553, 125.98977545525153, 117.65921150623892, 288.633352727885, 95.47366400420451, 142.2401651109116, 190.14603666849126, 127.75894759587293, 62.978776047851255, 141.91164727023167, 78.20541360767035, 164.84749745262167, 102.0610126081793, 149.30661718075356, 95.71522353363486, 93.30297376071427, 126.74018236204056, 154.2707112746549, 151.22048366308908, 258.2440517300003, 166.91456519042015, 140.79788083500858, 189.71827529929809, 68.97155887181239, 144.706666428603, 73.771820291983, 37.36317904952445, 59.4178870786995, 38.32094684982715, 31.61392101348038, 35.45430056808974, 31.619681535131665, 209.05044013078353, 23.951400705853683, 22.031853084526727, 180.30595008275844, 49.85774580068183, 30.67040157080023, 22.997301490896735, 42.18715568827469, 19.160451209303357, 65.13853751776253, 40.173092646807135, 16.283164574785463, 23.95922195828477, 24.92113477652255, 215.77628602193616, 24.925227680199313, 27.805443624327317, 27.801712389787465, 14.367604383092306, 22.04744827698446, 19.165648987926946, 86.3575076840257, 149.742531813282, 77.72775919708, 61.39777281921618, 194.76753639247525, 79.65192932750465, 232.45942473734848, 72.9324429273325, 215.7698303395134, 38.38204441023896, 29.72651167113235, 186.00700640062524, 107.57388347489312, 34.53702989299678, 391.5658588001931, 44.16271754379496, 128.45671880728636, 239.9000309817874, 157.30595730676598, 88.65799151924269, 223.1397453539606, 139.76163963436818, 189.57551870260394, 258.2440517300003, 98.26029434770571, 127.60905889917296, 111.81198473103375, 130.89580948392734, 154.3648396118348, 117.937443655306, 182.27978625120002, 172.28201427607573, 150.8551370678193, 167.50253924081497, 166.91456519042015, 54.54468956169173, 16.853011696444717, 11.89392525754577, 12.886485294181643, 17.837786302614823, 10.899620232628504, 19.83426678594014, 13.834020232044649, 11.879714519164724, 39.51015282567295, 6.908647622777385, 15.806031245454246, 25.666557841423312, 6.894437004172431, 17.754737093698907, 12.817929378887412, 36.361883208053314, 29.53639550707377, 6.914582411486398, 6.90546189822144, 20.74589871485035, 9.810879707392788, 13.8270216646952, 9.825989413335366, 29.487708337977253, 8.851719655834712, 17.78750385562231, 9.833354562424429, 15.628104333099055, 12.767206190899074, 58.06937323393681, 46.436340658558215, 32.635495723959615, 24.694007136377344, 32.302412165409876, 30.421267397181424, 18.562333610231185, 37.41807083942835, 28.191733870457576, 52.2356275166146, 26.488995214135574, 223.35867246682417, 46.014304637769484, 30.59413056728842, 60.760643099134334, 67.84385369653023, 77.90590483367593, 63.13742638255176, 167.07602071777825, 63.99597964534429, 113.40272993163326, 391.5658588001931, 86.49923577863578, 89.26474376217492, 182.27978625120002, 132.21700494149144, 150.8551370678193, 83.76180241186795, 218.59914908404346, 135.55847030018936, 239.9000309817874, 155.6376473061404, 162.35783794413453, 189.57551870260394, 171.76517314187726, 85.968533622855, 115.10711161839593, 189.71827529929809, 139.2393179020294, 151.22048366308908, 118.50660121559727, 29.608281017378278, 26.921842895466085, 17.09219802922544, 11.700027147387075, 15.3100415368883, 13.517130013145408, 25.26231466630066, 8.119480520400751, 9.025472234002525, 8.12393072295364, 7.2237435776304935, 23.461966063559647, 7.226487066143196, 15.34356822299926, 28.93061698507083, 13.564115919875718, 7.232618076802671, 44.34055533270521, 8.144652854402963, 6.335848639022142, 6.3359675860617495, 7.245627228889555, 16.285505852996778, 21.743619339238265, 11.76403276495915, 7.25542108455411, 12.690359718016996, 8.158527909755637, 13.607022537608781, 6.349451817914969, 347.8350977894817, 11.80594499478947, 53.83730114273537, 22.734564809365377, 24.527998734740123, 27.361557274592638, 20.057049085940243, 31.971055534901605, 15.447301529320836, 22.897228490801304, 25.60823298603068, 87.09501711592921, 57.49138098490965, 54.956156960041184, 60.39794835543148, 51.220816068459975, 62.696380206224305, 98.77234167970482, 69.39751785629181, 56.13905303447118, 288.633352727885, 218.59914908404346, 226.48701223856176, 62.94992739321473, 126.0850735906694, 113.56090664080833, 156.87044709286494, 212.89627656332453, 125.12022197523106, 125.14714710859408, 79.49312311497998, 132.21700494149144, 190.14603666849126, 112.21710588753292, 169.77687738700746, 121.60047514515118, 223.35867246682417, 189.71827529929809], \"loglift\": [30.0, 29.0, 28.0, 27.0, 26.0, 25.0, 24.0, 23.0, 22.0, 21.0, 20.0, 19.0, 18.0, 17.0, 16.0, 15.0, 14.0, 13.0, 12.0, 11.0, 10.0, 9.0, 8.0, 7.0, 6.0, 5.0, 4.0, 3.0, 2.0, 1.0, 1.0771, 1.0745, 1.0735, 1.0721, 1.0719, 1.0691, 1.0622, 1.0608, 1.0608, 1.057, 1.0547, 1.0542, 1.0533, 1.0521, 1.0513, 1.05, 1.0498, 1.0495, 1.0491, 1.0471, 1.0466, 1.0453, 1.0451, 1.0438, 1.0438, 1.0433, 1.0432, 1.0416, 1.0365, 1.0357, 1.0246, 0.9984, 1.0211, 0.968, 1.0183, 0.9422, 0.9869, 0.8447, 0.9666, 0.9684, 0.9244, 0.8953, 0.9761, 0.9127, 0.9017, 0.7818, 0.8479, 0.8788, 0.9594, 0.7992, 0.7988, 0.6465, 0.8319, 0.7609, 0.6493, 0.7356, 0.887, 0.6833, 0.8154, 0.5684, 0.7091, 0.5402, 0.6998, 0.7089, 0.5486, 0.3806, 0.3859, 0.0201, 0.2958, 0.4015, 0.0338, 1.1029, 1.1006, 1.0994, 1.0938, 1.0921, 1.0907, 1.0888, 1.0856, 1.0853, 1.0824, 1.0821, 1.0813, 1.0789, 1.0767, 1.0767, 1.0745, 1.0737, 1.0735, 1.0728, 1.0724, 1.0723, 1.072, 1.0667, 1.0653, 1.0646, 1.0643, 1.0636, 1.0634, 1.0634, 1.0634, 1.0614, 1.054, 1.0589, 1.0606, 1.0466, 1.0545, 1.0353, 1.0522, 0.9913, 1.0502, 1.0607, 0.9433, 0.9691, 1.0481, 0.8003, 1.0213, 0.828, 0.7025, 0.7327, 0.8603, 0.6316, 0.7453, 0.6642, 0.5516, 0.7864, 0.6827, 0.7293, 0.6039, 0.4805, 0.6589, 0.3439, 0.3519, 0.4321, 0.3148, 0.3058, 1.6819, 1.6588, 1.652, 1.6497, 1.6457, 1.6435, 1.6269, 1.6129, 1.6006, 1.5742, 1.5694, 1.5501, 1.5488, 1.5418, 1.5417, 1.5376, 1.5354, 1.5304, 1.529, 1.5231, 1.521, 1.5194, 1.5171, 1.5107, 1.5001, 1.4973, 1.4847, 1.4786, 1.4737, 1.4719, 1.4701, 1.468, 1.4663, 1.4572, 1.4433, 1.4381, 1.4678, 1.4115, 1.4291, 1.3703, 1.426, 1.1393, 1.3448, 1.4049, 1.2589, 1.2045, 1.1287, 1.1705, 0.8514, 1.1249, 0.9271, 0.3867, 0.9706, 0.9477, 0.6423, 0.7772, 0.7135, 0.9676, 0.537, 0.7314, 0.4483, 0.6115, 0.5852, 0.4581, 0.5109, 0.874, 0.6501, 0.258, 0.4906, 0.4212, 0.5954, 1.7812, 1.7789, 1.749, 1.7427, 1.7346, 1.7272, 1.7122, 1.7119, 1.7071, 1.7032, 1.7001, 1.6995, 1.6952, 1.6909, 1.6856, 1.684, 1.6831, 1.6821, 1.6767, 1.6688, 1.6685, 1.6627, 1.6606, 1.6574, 1.652, 1.6495, 1.649, 1.6484, 1.6465, 1.6439, 1.625, 1.6415, 1.5793, 1.6058, 1.599, 1.5634, 1.5698, 1.5124, 1.5978, 1.5223, 1.4925, 1.2385, 1.2588, 1.1976, 1.1543, 1.2025, 1.098, 0.9034, 1.0178, 1.1005, 0.3713, 0.483, 0.46, 1.044, 0.7027, 0.7517, 0.5847, 0.2942, 0.6012, 0.5836, 0.8225, 0.3961, 0.1095, 0.486, 0.1245, 0.3356, -0.2424, -0.0891], \"logprob\": [30.0, 29.0, 28.0, 27.0, 26.0, 25.0, 24.0, 23.0, 22.0, 21.0, 20.0, 19.0, 18.0, 17.0, 16.0, 15.0, 14.0, 13.0, 12.0, 11.0, 10.0, 9.0, 8.0, 7.0, 6.0, 5.0, 4.0, 3.0, 2.0, 1.0, -5.0329999923706055, -6.603300094604492, -5.868800163269043, -6.6956000328063965, -6.524199962615967, -5.80709981918335, -7.175600051879883, -6.706600189208984, -6.805300235748291, -7.132599830627441, -7.345900058746338, -7.34630012512207, -7.347300052642822, -6.923299789428711, -7.3495001792907715, -6.027100086212158, -7.411600112915039, -7.411799907684326, -7.094200134277344, -7.414100170135498, -5.7581000328063965, -7.549699783325195, -6.453400135040283, -7.4182000160217285, -7.4822001457214355, -7.3582000732421875, -7.246600151062012, -7.3018999099731445, -7.632800102233887, -7.5594000816345215, -6.497099876403809, -5.5329999923706055, -6.745800018310547, -5.108799934387207, -6.923799991607666, -5.547100067138672, -6.48799991607666, -5.005199909210205, -6.42549991607666, -6.513199806213379, -6.071300029754639, -5.874300003051758, -6.602399826049805, -6.0441999435424805, -5.964600086212158, -5.006199836730957, -5.566500186920166, -5.903800010681152, -6.521599769592285, -5.575300216674805, -5.644100189208984, -4.89900016784668, -5.819900035858154, -5.492300033569336, -5.313600063323975, -5.625, -6.1809000968933105, -5.572199821472168, -6.035900115966797, -5.537300109863281, -5.875999927520752, -5.6645002365112305, -5.94950008392334, -5.96589994430542, -5.820000171661377, -5.791399955749512, -5.806099891662598, -5.63670015335083, -5.797500133514404, -5.8618998527526855, -5.931399822235107, -5.874100208282471, -5.13539981842041, -5.810299873352051, -6.496200084686279, -6.033999919891357, -6.473999977111816, -6.668300151824951, -6.5569000244140625, -6.671599864959717, -4.785699844360352, -6.952600002288818, -7.036900043487549, -4.93720006942749, -6.224800109863281, -6.710700035095215, -7.000800132751465, -6.394899845123291, -7.184299945831299, -5.961400032043457, -6.445099830627441, -7.348299980163574, -6.962399959564209, -6.928299903869629, -4.771200180053711, -6.930200099945068, -6.821199893951416, -6.822000026702881, -7.4822998046875, -7.054100036621094, -7.194200038909912, -5.690800189971924, -5.147799968719482, -5.798600196838379, -6.032700061798096, -4.892300128936768, -5.778600215911865, -4.7266998291015625, -5.868899822235107, -4.845200061798096, -6.512899875640869, -6.757999897003174, -5.041600227355957, -5.563399791717529, -6.62060022354126, -4.440299987792969, -6.401599884033203, -5.527100086212158, -5.027900218963623, -5.419899940490723, -5.865600109100342, -5.171299934387207, -5.5254998207092285, -5.301799774169922, -5.105199813842773, -5.836699962615967, -5.679100036621094, -5.764599800109863, -5.732399940490723, -5.690800189971924, -5.781700134277344, -5.661300182342529, -5.709700107574463, -5.76230001449585, -5.774899959564209, -5.787399768829346, -5.529799938201904, -6.72730016708374, -7.082600116729736, -7.004799842834473, -6.683700084686279, -7.178500175476074, -6.596399784088135, -6.970699787139893, -7.135300159454346, -5.95989990234375, -7.708499908447266, -6.900199890136719, -6.4166998863220215, -7.7382001876831055, -6.792399883270264, -7.122200012207031, -6.0817999839782715, -6.2947001457214355, -7.7480998039245605, -7.755300045013428, -6.657400131225586, -7.407800197601318, -7.066999912261963, -7.414999961853027, -6.326700210571289, -7.532800197601318, -6.847599983215332, -7.446400165557861, -6.98799991607666, -7.19189977645874, -5.678999900817871, -5.904600143432617, -6.259099960327148, -6.546899795532227, -6.292300224304199, -6.357399940490723, -6.821700096130371, -6.177000045776367, -6.442500114440918, -5.884699821472168, -6.507999897003174, -4.662600040435791, -6.036900043487549, -6.385000228881836, -5.844900131225586, -5.789000034332275, -5.726500034332275, -5.894899845123291, -5.240799903869629, -5.9268999099731445, -5.552700042724609, -4.853799819946289, -5.78000020980835, -5.771399974822998, -5.362800121307373, -5.549099922180176, -5.480899810791016, -5.815100193023682, -5.286399841308594, -5.569900035858154, -5.282199859619141, -5.551700115203857, -5.535699844360352, -5.507800102233887, -5.553699970245361, -5.882699966430664, -5.814799785614014, -5.707099914550781, -5.783999919891357, -5.7708001136779785, -5.840400218963623, -6.041399955749512, -6.138899803161621, -6.6230998039245605, -7.008399963378906, -6.747600078582764, -6.8796000480651855, -6.269199848175049, -7.404600143432617, -7.303500175476074, -7.412700176239014, -7.533199787139893, -6.355899810791016, -7.537799835205078, -6.789100170135498, -6.160200119018555, -6.919300079345703, -7.548999786376953, -5.736700057983398, -7.436699867248535, -7.695700168609619, -7.696000099182129, -7.567599773406982, -6.759799957275391, -6.473999977111816, -7.093599796295166, -7.579500198364258, -7.020899772644043, -7.4633002281188965, -6.95359992980957, -7.718400001525879, -3.7339999675750732, -7.100599765777588, -5.645500183105469, -6.480999946594238, -6.411900043487549, -6.338099956512451, -6.642399787902832, -6.233500003814697, -6.875500202178955, -6.557400226593018, -6.475299835205078, -5.505199909210205, -5.900300025939941, -6.0065999031066895, -5.95550012588501, -6.0721001625061035, -5.974400043487549, -5.7144999504089355, -5.953000068664551, -6.082399845123291, -5.174200057983398, -5.340400218963623, -5.328100204467773, -6.024400234222412, -5.67110013961792, -5.7266998291015625, -5.5706000328063965, -5.555699825286865, -5.780200004577637, -5.797599792480469, -6.012499809265137, -5.930200099945068, -5.853400230407715, -6.004199981689453, -5.951700210571289, -6.074399948120117, -6.044300079345703, -6.054299831390381]}, \"token.table\": {\"Topic\": [1, 1, 2, 3, 2, 3, 1, 2, 3, 1, 3, 4, 1, 2, 3, 1, 2, 3, 4, 1, 2, 4, 1, 4, 1, 1, 2, 3, 4, 1, 3, 4, 4, 1, 4, 1, 2, 3, 4, 1, 2, 3, 1, 2, 3, 4, 1, 2, 3, 4, 1, 1, 2, 3, 4, 2, 3, 1, 3, 4, 2, 3, 4, 1, 3, 4, 1, 3, 4, 1, 2, 3, 4, 1, 1, 1, 3, 1, 2, 3, 4, 1, 4, 1, 3, 2, 3, 1, 2, 3, 4, 2, 3, 1, 1, 2, 3, 4, 1, 2, 3, 4, 2, 3, 2, 3, 2, 3, 1, 2, 3, 1, 3, 4, 1, 2, 4, 1, 2, 3, 4, 1, 2, 3, 4, 1, 3, 4, 2, 3, 4, 2, 3, 1, 2, 3, 4, 1, 2, 3, 4, 1, 2, 3, 4, 1, 4, 4, 1, 2, 3, 4, 1, 2, 3, 4, 1, 2, 3, 4, 2, 3, 1, 3, 1, 2, 3, 4, 1, 2, 3, 4, 1, 2, 4, 1, 2, 3, 4, 1, 3, 1, 2, 3, 4, 1, 2, 3, 4, 1, 3, 4, 1, 2, 3, 4, 4, 3, 4, 1, 2, 3, 4, 1, 2, 3, 4, 1, 2, 3, 4, 1, 2, 3, 4, 1, 3, 4, 1, 3, 4, 4, 1, 2, 3, 4, 1, 4, 2, 3, 1, 4, 2, 4, 1, 2, 3, 4, 1, 2, 3, 4, 1, 2, 3, 4, 1, 3, 4, 1, 3, 2, 1, 3, 4, 1, 2, 3, 4, 1, 4, 1, 2, 3, 4, 3, 1, 2, 3, 4, 1, 2, 3, 4, 1, 2, 1, 4, 1, 4, 1, 2, 3, 4, 1, 2, 3, 4, 1, 3, 2, 3, 1, 3, 4, 2, 3, 1, 2, 3, 4, 2, 1, 2, 3, 4, 1, 2, 3, 4, 1, 2, 3, 4, 4, 2, 2, 3, 2, 4, 2, 3, 4, 1, 3, 1, 2, 3, 4, 4, 2, 3, 1, 4, 3, 4, 1, 2, 3, 4, 2, 3, 1, 2, 3, 4, 1, 1, 4, 1, 2, 3, 4, 1, 4, 1, 2, 3, 4, 1, 2, 3, 4, 1, 2, 3, 4, 2, 3, 2, 3, 1, 2, 3, 4, 2, 3, 1, 2, 3, 2, 3, 1, 4, 1, 2, 3, 4, 1, 3, 4, 1, 4, 1, 4, 1, 3, 4, 1, 2, 3, 4, 2, 3, 1, 2, 3, 4, 1, 2, 3, 4, 1, 2, 3, 4, 1, 2, 3, 4, 1, 2, 3, 4, 2, 3, 2, 3, 2, 1, 2, 3, 4, 1, 2, 3, 4, 1, 2, 3, 4, 2, 3, 2, 3, 2, 1, 3, 4, 1, 3, 4, 4, 4, 1, 2, 3, 4, 2, 3, 1, 4, 1, 4, 1, 2, 3, 4, 1, 4, 1, 2, 3, 4, 1, 4, 1, 2, 3, 4, 1, 2, 3, 4, 1, 3, 1, 2, 4, 1, 2, 1, 3, 4, 1, 2, 3, 4, 1, 4, 1, 2, 3, 4, 1, 3, 4, 1, 4, 1, 2, 3, 4, 3, 1, 2, 3, 4, 1, 2, 3, 4, 4, 1, 2, 3, 4, 2, 3, 1, 2, 3, 4, 1, 2, 3, 4, 1, 3, 4, 1, 3, 4, 1, 2, 3, 4, 4, 1, 2, 3, 4, 2, 3, 1, 2, 3, 4, 1, 3, 4, 1, 3, 2, 3, 4, 1, 2, 3, 4, 1, 2, 3, 4, 1, 2, 3, 4, 1, 2, 3, 4, 4, 4, 1, 4, 1, 2, 3, 4, 1, 3, 4, 1, 2, 3, 4, 1, 2, 3, 4, 1, 3, 4, 3, 4, 1, 2, 3, 4, 1, 2, 3, 4, 1, 3, 4, 4, 1, 3, 4, 3, 1, 1, 3, 4, 1, 2, 3, 4, 3, 1, 2, 4, 1, 3, 1, 3, 4, 1, 3, 4, 1, 2, 3, 4, 1, 2, 3, 4, 1, 2, 3, 4, 2, 1, 3, 4, 1, 4, 4, 1, 4, 1, 1, 2, 3, 4, 2, 3, 1, 2, 3, 4, 1, 4, 1, 1, 2, 3, 4, 1, 2, 3, 4, 1, 2, 3, 4, 2, 3, 4, 1, 2, 3, 4, 1, 2, 3, 4, 1, 2, 3, 4], \"Freq\": [0.9505557433958813, 0.9665519398009461, 0.9446596730923642, 0.04886170722891539, 0.9655293786188608, 0.02609538861132056, 0.9630858059646477, 0.9524911788509375, 0.04535672280242559, 0.10169469570651264, 0.8135575656521011, 0.10169469570651264, 0.9594887423404093, 0.12653397737494618, 0.8224708529371502, 0.05134399001641456, 0.320899937602591, 0.5519478926764565, 0.07701598502462184, 0.15619976599642799, 0.11714982449732098, 0.7419488884830329, 0.900677234727674, 0.09285332316780144, 0.9601701433737494, 0.13613982564470695, 0.23446303305477306, 0.38572950599333633, 0.24202635670170122, 0.07349146348777447, 0.07349146348777447, 0.8818975618532936, 0.8295751187587144, 0.07879997275256596, 0.8667997002782256, 0.8097966203924035, 0.031756730211466806, 0.047635095317200206, 0.11114855574013383, 0.022643534085245713, 0.9057413634098285, 0.06793060225573713, 0.18603101729500926, 0.686883756166188, 0.10732558690096689, 0.021465117380193376, 0.8546205378230811, 0.09792526995889471, 0.04451148634495214, 0.008902297268990427, 0.9631429536988598, 0.06639201504760141, 0.5016285581374329, 0.36884452804223006, 0.06639201504760141, 0.9594802607489931, 0.038822900723947694, 0.9700367538669527, 0.013108604781985847, 0.013108604781985847, 0.9614904416094646, 0.0334847417475933, 0.004783534535370471, 0.078325671650297, 0.78325671650297, 0.078325671650297, 0.878280784251398, 0.02195701960628495, 0.10978509803142475, 0.13208770908676173, 0.49312744725724383, 0.026417541817352348, 0.34342804362558055, 0.9161031563079821, 0.9553727488662348, 0.9748487572512684, 0.8684767739808251, 0.8722505789915985, 0.023574339972745904, 0.005893584993186476, 0.09429735989098362, 0.9525611964371321, 0.04884929212498113, 0.9588296785312067, 0.031960989284373555, 0.9290421540918912, 0.06277311851972238, 0.31969252746305427, 0.27973096153017246, 0.09590775823891627, 0.2957155879033252, 0.9759824241157358, 0.013555311446051885, 0.9633856286918959, 0.11938616066102144, 0.20295647312373646, 0.4656060265779836, 0.2148950891898386, 0.038288043909568414, 0.019144021954784207, 0.7083288123270157, 0.24887228541219472, 0.9349381121361683, 0.060103164351610824, 0.948776159135819, 0.031625871971193965, 0.9599643945051779, 0.04173758236979034, 0.07232215470908816, 0.07232215470908816, 0.7955437017999698, 0.09287241176417484, 0.11144689411700981, 0.7987027411719037, 0.04262217400242374, 0.04262217400242374, 0.8950656540508986, 0.27478036962170393, 0.7123935508710842, 0.010177050726729775, 0.010177050726729775, 0.15683683624634306, 0.12322894276498383, 0.4593078775785761, 0.2576605166904207, 0.07792240830876807, 0.8571464913964487, 0.03896120415438403, 0.9518175010160969, 0.030703790355357963, 0.015351895177678982, 0.9162889404921511, 0.07743286821060433, 0.022558598110875454, 0.7669923357697654, 0.19174808394244136, 0.022558598110875454, 0.04168402963132245, 0.6586076681748947, 0.27928299852986044, 0.020842014815661225, 0.3086345454038041, 0.07054503894944093, 0.449724623302686, 0.16754446750492222, 0.8241760597782027, 0.15630925271655569, 0.828085659178956, 0.0576389491088599, 0.2449655337126546, 0.2449655337126546, 0.4467018555936642, 0.16285028265595605, 0.2559075870307881, 0.43039003273359816, 0.15121811960910206, 0.173858978484561, 0.04346474462114025, 0.695435913938244, 0.10866186155285062, 0.963038008309705, 0.04012658367957104, 0.9308480240910113, 0.8702668537501861, 0.12708513466629204, 0.12708513466629204, 0.2700559111658706, 0.46068361316530865, 0.9248802573236325, 0.02499676371144953, 0.02499676371144953, 0.02499676371144953, 0.7997803393115359, 0.19099231983559067, 0.011937019989724417, 0.443340579149453, 0.443340579149453, 0.05391980016682537, 0.059910889074250406, 0.9262970094487157, 0.0638825523757735, 0.005107697607059642, 0.7252930602024692, 0.2630464267635716, 0.0076615464105894635, 0.04421918621278777, 0.2063562023263429, 0.5895891495038369, 0.16213701611355513, 0.15100610527746414, 0.7550305263873206, 0.1132545789580981, 0.2549332143891391, 0.23848591023500104, 0.27960417062034604, 0.23026225815793205, 0.8863802128669606, 0.8674268071549883, 0.07228556726291568, 0.5759814972608398, 0.22881456740499115, 0.11046220495413366, 0.08679173246396216, 0.08954207946848643, 0.21937809469779174, 0.5596379966780402, 0.1298360152293053, 0.4893516950049434, 0.20499868304261143, 0.2711272904757119, 0.03306430371655023, 0.12569128657590437, 0.31123556675938224, 0.41897095525301453, 0.1436471846581764, 0.06765815126783552, 0.045105434178557016, 0.8795559664818619, 0.18384890031239975, 0.766037084634999, 0.030641483385399963, 0.9360996153123242, 0.2956964976100011, 0.10436346974470628, 0.03478782324823543, 0.5739990835958846, 0.19943113181110741, 0.7977245272444297, 0.9419201388231173, 0.033640004957968477, 0.8644984472947717, 0.12006922879094051, 0.06517388820294413, 0.912434434841218, 0.6686501649083026, 0.0731336117868456, 0.03134297648007669, 0.22984849418722905, 0.09287232125693898, 0.03095744041897966, 0.7429785700555118, 0.12382976167591864, 0.253107292738579, 0.22273441760994955, 0.1316157922240611, 0.40497166838172644, 0.06398728717737578, 0.7678474461285094, 0.12797457435475157, 0.08417710698239163, 0.9259481768063078, 0.9211968552616334, 0.055002651775666184, 0.8250397766349927, 0.11000530355133237, 0.6887971578973989, 0.09392688516782713, 0.10175412559847939, 0.1174086064597839, 0.17594354822891628, 0.8357318540873523, 0.19611604869122398, 0.032686008115203995, 0.7190921785344879, 0.032686008115203995, 0.9312081398500568, 0.023121591560858332, 0.45087103543673746, 0.47399262699759576, 0.046243183121716665, 0.04219174247435867, 0.5316159551769192, 0.32065724280512586, 0.1012601819384608, 0.9523712284402293, 0.03527300846074923, 0.969329000067258, 0.026925805557423833, 0.8176817102800948, 0.16872797196255926, 0.636352995413502, 0.1314778916143599, 0.052591156645743965, 0.18406904826010387, 0.2956432569428293, 0.2525286153053333, 0.3202801950213984, 0.1293439249124878, 0.144621893339331, 0.867731360035986, 0.9350686991827848, 0.03596418073779941, 0.03547139046484512, 0.7448991997617475, 0.2128283427890707, 0.9628798704641596, 0.04011999460267331, 0.6752196362097785, 0.16076658004994726, 0.10717772003329819, 0.053588860016649094, 0.9744143579339573, 0.059659884144044155, 0.5037945772163729, 0.36458818088026984, 0.07291763617605397, 0.26332835177361635, 0.016458021985851022, 0.6254048354623388, 0.0822901099292551, 0.2805927612382584, 0.4477544062312634, 0.16716164499300498, 0.10149099874575303, 0.8877624161586077, 0.9805806747850544, 0.9265417466163984, 0.0579088591635249, 0.08500486355143813, 0.8500486355143813, 0.10177092178044152, 0.8141673742435321, 0.10177092178044152, 0.05041779516189966, 0.9075203129141939, 0.09640459675860452, 0.04820229837930226, 0.8194390724481385, 0.04820229837930226, 0.9469923197101539, 0.9812954959477389, 0.01382106332320759, 0.9454091668911526, 0.03204776836919161, 0.9533467037370593, 0.018333590456481908, 0.01390370468048988, 0.8759333948708625, 0.07878765985610933, 0.02780740936097976, 0.9323697009265544, 0.054845276525091434, 0.7544234763079535, 0.012786838581490738, 0.07672103148894442, 0.15344206297788884, 0.9642517178801966, 0.8730633340915913, 0.10582585867776864, 0.03814222997479531, 0.680203101217183, 0.19071114987397653, 0.09535557493698826, 0.07916930916342173, 0.9104470553793499, 0.7764668622700289, 0.07434257191947086, 0.12390428653245143, 0.024780857306490288, 0.17840874570379006, 0.24702749405140162, 0.30649707595266495, 0.265325826944098, 0.7100666673245589, 0.0913947195566264, 0.021091089128452246, 0.1757590760704354, 0.9379385739649784, 0.05210769855360991, 0.9481558864874462, 0.023703897162186155, 0.09326322106046513, 0.4608300334752395, 0.3401364532793434, 0.10972143654172369, 0.9761370329977992, 0.016829948844789642, 0.1301431123221231, 0.8552261666882377, 0.009295936594437365, 0.9635154426308968, 0.026764317850858248, 0.12257113183424187, 0.8579979228396931, 0.12308502407528374, 0.5247308921104201, 0.21377925234128228, 0.13604134239899782, 0.11297239845828586, 0.790806789208001, 0.11297239845828586, 0.49876153028101666, 0.49876153028101666, 0.18273813693502358, 0.767500175127099, 0.8420332794509705, 0.02954502734915686, 0.13295262307120587, 0.2553952029460927, 0.46435491444744126, 0.1799375293483835, 0.10447985575067428, 0.9455370166267879, 0.03260472471126855, 0.33184841232581097, 0.21541037291324575, 0.2969170005020414, 0.15136945123633483, 0.18751177912272182, 0.09375588956136091, 0.5469093557746053, 0.17188579752916167, 0.10332469020852958, 0.05166234510426479, 0.7749351765639718, 0.06888312680568638, 0.05061990037913592, 0.05061990037913592, 0.8605383064453106, 0.02530995018956796, 0.037075436543507416, 0.9454236318594391, 0.018537718271753708, 0.004634429567938427, 0.9589809827076755, 0.028205323020813987, 0.9859136303759918, 0.014498729858470468, 0.9602778677732546, 0.38782149190069365, 0.2800932997060565, 0.29445705866534144, 0.035909397398212375, 0.04239535676738446, 0.6274512801572899, 0.2882884260182143, 0.033916285413907565, 0.03080595519732521, 0.9293129817859772, 0.035940281063546076, 0.005134325866220869, 0.9379612980074837, 0.04631907644481401, 0.939180301764828, 0.052176683431379337, 0.9394350792355088, 0.19381372158878976, 0.775254886355159, 0.021534857954309972, 0.10173730578229766, 0.8138984462583813, 0.10173730578229766, 0.8594595896393339, 0.8305942667427986, 0.13778055734264577, 0.21815254912585583, 0.08037199178321004, 0.5626039424824703, 0.9627390735211212, 0.04011412806338005, 0.963126927220598, 0.9401687587072471, 0.10369637127158748, 0.8987018843537583, 0.6340223618319225, 0.10393809210359385, 0.024252221490838565, 0.23905761183826585, 0.4367117594749299, 0.5458896993436624, 0.4971665737073715, 0.2982999442244229, 0.0994333147414743, 0.10653569436586531, 0.9640324333904439, 0.9469745415363501, 0.34261327696267796, 0.27409062157014236, 0.2319228336362743, 0.1475872577685382, 0.16035032981116842, 0.08017516490558421, 0.7215764841502579, 0.053450109937056144, 0.9663006801389785, 0.014004357683173601, 0.06473622581276606, 0.06473622581276606, 0.8415709355659586, 0.9443814037041635, 0.039349225154340146, 0.950659790493809, 0.13782797557110446, 0.8269678534266267, 0.12784949852765162, 0.3755579019249766, 0.20775543510743388, 0.2956519653451944, 0.0737239349698187, 0.8846872196378244, 0.08153946930726594, 0.08153946930726594, 0.04076973465363297, 0.8153946930726593, 0.9748951680365354, 0.006093094800228346, 0.018279284400685037, 0.9133400404410965, 0.07611167003675805, 0.2258765738662214, 0.19981389226627277, 0.3388148607993321, 0.2345641343995376, 0.9248418635404956, 0.0706769871582736, 0.44976264555265016, 0.3276842131883594, 0.1542043356180515, 0.1619826210427996, 0.0404956552606999, 0.7694174499532981, 0.0404956552606999, 0.7874695553862631, 0.3368906250392956, 0.5653566811004271, 0.08519073276855751, 0.011616918104803298, 0.93519419363358, 0.035969007447445384, 0.7381551373034339, 0.11905728021023128, 0.055560064098107924, 0.0873086721541696, 0.7394236191646312, 0.16998244118727154, 0.05949385441554504, 0.042495610296817886, 0.13102022374477396, 0.08734681582984931, 0.7424479345537192, 0.8129944507901766, 0.0235650565446428, 0.1649553958124996, 0.9593895304682302, 0.15639145834711923, 0.09383487500827153, 0.7506790000661723, 0.8616518577911988, 0.7241033310433564, 0.004415264213679003, 0.013245792641037007, 0.26050058860706116, 0.9566339776303099, 0.04348336261955954, 0.7703281741107357, 0.0046971230128703394, 0.0046971230128703394, 0.22076478160490595, 0.9590254257751867, 0.8154212709357515, 0.10192765886696893, 0.14481290531159957, 0.8688774318695974, 0.9459067623717079, 0.024892283220308103, 0.024892283220308103, 0.026880707865546256, 0.833301943831934, 0.09139440674285727, 0.04300913258487401, 0.4861583859976779, 0.3694803733582352, 0.05833900631972135, 0.08426745357293083, 0.5884226421324866, 0.285112001858009, 0.07886076647136418, 0.048529702443916425, 0.5692982776315755, 0.2946955790092861, 0.026790507182662376, 0.1071620287306495, 0.9794557131830364, 0.9657585515580981, 0.06531660920648591, 0.9144325288908027, 0.6553373298733338, 0.17616594889068113, 0.04932646568939072, 0.11274620729003593, 0.8825708361513551, 0.04770653168385704, 0.04770653168385704, 0.67606619057266, 0.10777866806230811, 0.14697091099405651, 0.0783844858634968, 0.04967056136320258, 0.3145802219669497, 0.11589797651413937, 0.51326246741976, 0.16865772872632456, 0.7870694007228479, 0.05621924290877485, 0.08470308818492275, 0.8470308818492276, 0.2146460422622185, 0.6707688820694329, 0.08049226584833194, 0.01788717018851821, 0.22173852819361906, 0.031676932599088437, 0.5701847867835919, 0.1742231292949864, 0.8640451246878825, 0.02400125346355229, 0.12000626731776146, 0.8302789370661979, 0.9397317260124916, 0.012204308130032359, 0.03661292439009708, 0.9174631580341258, 0.9719868317196921, 0.053872536772468095, 0.7542155148145533, 0.1616176103174043, 0.056322996771092516, 0.11264599354218503, 0.8448449515663877, 0.056322996771092516, 0.9493852071185195, 0.061404294654807116, 0.061404294654807116, 0.8596601251672996, 0.05606076802553751, 0.9530330564341376, 0.10156960416112792, 0.8125568332890234, 0.06771306944075195, 0.5786664078283218, 0.05031881807202798, 0.37739113554020987, 0.16807260741759172, 0.595893789935098, 0.16807260741759172, 0.06875697576174207, 0.25860233031006136, 0.6425876086492434, 0.03134573700728016, 0.07052790826638036, 0.13148696100579313, 0.03287174025144828, 0.7560500257833105, 0.09861522075434485, 0.9531653973649901, 0.16387075474050578, 0.0028749255217632593, 0.8308534757895819, 0.1379715103173388, 0.8738195653431459, 0.8621241201838, 0.4944464081982585, 0.4944464081982585, 0.9595536556931518, 0.7646087616034637, 0.08379274099763986, 0.010474092624704983, 0.13616320412116478, 0.9391754085552281, 0.05146166622220428, 0.058024369788254246, 0.6329931249627736, 0.2848469062332481, 0.026374713540115568, 0.4490361881243554, 0.5466527507600849, 0.9450075252286693, 0.3357347648117484, 0.2827240124730513, 0.19437275857522276, 0.18259259138884565, 0.3386292998688154, 0.2762502183140336, 0.11584686574459475, 0.2673389209490648, 0.3314837240772112, 0.21036467104899942, 0.1657418620386056, 0.29323560206830224, 0.07801572082672836, 0.858172929094012, 0.07801572082672836, 0.10898612489863696, 0.7473334278763678, 0.08563195527750048, 0.06227778565636398, 0.2300034347772794, 0.2300034347772794, 0.21414112893057047, 0.33310842278088737, 0.19270435184816695, 0.6139650279813691, 0.08962993109217068, 0.1075559173106048], \"Term\": [\"Captain Ahab\", \"Captain Peleg\", \"Lady Catherine\", \"Lady Catherine\", \"Miss Bingley\", \"Miss Bingley\", \"New Bedford\", \"Van Helsing\", \"Van Helsing\", \"abhor\", \"abhor\", \"abhor\", \"aboard\", \"accuse\", \"accuse\", \"affection\", \"affection\", \"affection\", \"affection\", \"agatha\", \"agatha\", \"agatha\", \"ahab\", \"ahab\", \"ain\", \"appear\", \"appear\", \"appear\", \"appear\", \"arabian\", \"arabian\", \"arabian\", \"ardent\", \"ardour\", \"ardour\", \"arm\", \"arm\", \"arm\", \"arm\", \"arthur\", \"arthur\", \"arthur\", \"ask\", \"ask\", \"ask\", \"ask\", \"bed\", \"bed\", \"bed\", \"bed\", \"bedford\", \"believe\", \"believe\", \"believe\", \"believe\", \"bennet\", \"bennet\", \"bildad\", \"bildad\", \"bildad\", \"bingley\", \"bingley\", \"bingley\", \"bitterly\", \"bitterly\", \"bitterly\", \"board\", \"board\", \"board\", \"book\", \"book\", \"book\", \"book\", \"boot\", \"bulwark\", \"cannibal\", \"caprice\", \"captain\", \"captain\", \"captain\", \"captain\", \"captain_ahab\", \"captain_ahab\", \"captain_peleg\", \"captain_peleg\", \"catherine\", \"catherine\", \"chapter\", \"chapter\", \"chapter\", \"chapter\", \"charlotte\", \"charlotte\", \"chest\", \"child\", \"child\", \"child\", \"child\", \"clerval\", \"clerval\", \"clerval\", \"clerval\", \"collins\", \"collins\", \"colonel\", \"colonel\", \"colonel_fitzwilliam\", \"colonel_fitzwilliam\", \"console\", \"console\", \"console\", \"cottage\", \"cottage\", \"cottage\", \"cottager\", \"cottager\", \"cottager\", \"count\", \"count\", \"count\", \"count\", \"creature\", \"creature\", \"creature\", \"creature\", \"crime\", \"crime\", \"crime\", \"dance\", \"dance\", \"dance\", \"darcy\", \"darcy\", \"daughter\", \"daughter\", \"daughter\", \"daughter\", \"dear\", \"dear\", \"dear\", \"dear\", \"death\", \"death\", \"death\", \"death\", \"deck\", \"deck\", \"dedicate\", \"delight\", \"delight\", \"delight\", \"delight\", \"desire\", \"desire\", \"desire\", \"desire\", \"despair\", \"despair\", \"despair\", \"despair\", \"diary\", \"diary\", \"didn\", \"disclose\", \"discover\", \"discover\", \"discover\", \"discover\", \"dog\", \"dog\", \"dog\", \"dog\", \"don\", \"don\", \"don\", \"door\", \"door\", \"door\", \"door\", \"driver\", \"driver\", \"elizabeth\", \"elizabeth\", \"elizabeth\", \"elizabeth\", \"endeavour\", \"endeavour\", \"endeavour\", \"endeavour\", \"enemy\", \"enemy\", \"enemy\", \"enter\", \"enter\", \"enter\", \"enter\", \"enterprise\", \"ernest\", \"ernest\", \"face\", \"face\", \"face\", \"face\", \"father\", \"father\", \"father\", \"father\", \"fear\", \"fear\", \"fear\", \"fear\", \"feeling\", \"feeling\", \"feeling\", \"feeling\", \"felix\", \"felix\", \"felix\", \"fiend\", \"fiend\", \"fiend\", \"fin\", \"fish\", \"fish\", \"fish\", \"fish\", \"fishery\", \"fishery\", \"fitzwilliam\", \"fitzwilliam\", \"flask\", \"flask\", \"folio\", \"folio\", \"foot\", \"foot\", \"foot\", \"foot\", \"forever\", \"forever\", \"forever\", \"forever\", \"form\", \"form\", \"form\", \"form\", \"frankenstein\", \"frankenstein\", \"frankenstein\", \"fulfil\", \"fulfil\", \"gardiner\", \"geneva\", \"geneva\", \"geneva\", \"god\", \"god\", \"god\", \"god\", \"greenland\", \"greenland\", \"grief\", \"grief\", \"grief\", \"grief\", \"guilt\", \"happiness\", \"happiness\", \"happiness\", \"happiness\", \"happy\", \"happy\", \"happy\", \"happy\", \"harbour\", \"harbour\", \"harpoon\", \"harpoon\", \"harpooneer\", \"harpooneer\", \"head\", \"head\", \"head\", \"head\", \"heart\", \"heart\", \"heart\", \"heart\", \"hellish\", \"hellish\", \"helsing\", \"helsing\", \"henry\", \"henry\", \"henry\", \"hertfordshire\", \"hertfordshire\", \"hold\", \"hold\", \"hold\", \"hold\", \"holmwood\", \"hope\", \"hope\", \"hope\", \"hope\", \"horror\", \"horror\", \"horror\", \"horror\", \"house\", \"house\", \"house\", \"house\", \"hovel\", \"hurst\", \"husband\", \"husband\", \"iii\", \"iii\", \"inflict\", \"inflict\", \"inflict\", \"innocence\", \"innocence\", \"innocent\", \"innocent\", \"innocent\", \"innocent\", \"inward\", \"jane\", \"jane\", \"jonah\", \"jonah\", \"justine\", \"justine\", \"lady\", \"lady\", \"lady\", \"lady\", \"lady_catherine\", \"lady_catherine\", \"land\", \"land\", \"land\", \"land\", \"landlord\", \"leg\", \"leg\", \"letter\", \"letter\", \"letter\", \"letter\", \"leviathan\", \"leviathan\", \"lie\", \"lie\", \"lie\", \"lie\", \"life\", \"life\", \"life\", \"life\", \"light\", \"light\", \"light\", \"light\", \"lizzy\", \"lizzy\", \"longbourn\", \"longbourn\", \"love\", \"love\", \"love\", \"love\", \"lucas\", \"lucas\", \"lucy\", \"lucy\", \"lucy\", \"lydia\", \"lydia\", \"majestic\", \"majestic\", \"manner\", \"manner\", \"manner\", \"manner\", \"many months\", \"many months\", \"many months\", \"mast\", \"mast\", \"mast_head\", \"mast_head\", \"mate\", \"mate\", \"mate\", \"mean\", \"mean\", \"mean\", \"mean\", \"meryton\", \"meryton\", \"mind\", \"mind\", \"mind\", \"mind\", \"miserable\", \"miserable\", \"miserable\", \"miserable\", \"misery\", \"misery\", \"misery\", \"misery\", \"misfortune\", \"misfortune\", \"misfortune\", \"misfortune\", \"miss\", \"miss\", \"miss\", \"miss\", \"miss_bennet\", \"miss_bennet\", \"miss_bingley\", \"miss_bingley\", \"miss_lucas\", \"moment\", \"moment\", \"moment\", \"moment\", \"mother\", \"mother\", \"mother\", \"mother\", \"mrs\", \"mrs\", \"mrs\", \"mrs\", \"mrs_bennet\", \"mrs_bennet\", \"mrs_collins\", \"mrs_collins\", \"mrs_hurst\", \"murder\", \"murder\", \"murder\", \"murderer\", \"murderer\", \"murderer\", \"nation\", \"naturalist\", \"nature\", \"nature\", \"nature\", \"nature\", \"netherfield\", \"netherfield\", \"new_bedford\", \"octavo\", \"oil\", \"oil\", \"old\", \"old\", \"old\", \"old\", \"old_man\", \"old_man\", \"open\", \"open\", \"open\", \"open\", \"pagan\", \"paradise\", \"pass\", \"pass\", \"pass\", \"pass\", \"peace\", \"peace\", \"peace\", \"peace\", \"peleg\", \"peleg\", \"philosophy\", \"philosophy\", \"philosophy\", \"pier\", \"pier\", \"pot\", \"practical\", \"practical\", \"present\", \"present\", \"present\", \"present\", \"protector\", \"protector\", \"pursuit\", \"pursuit\", \"pursuit\", \"pursuit\", \"queequeg\", \"queequeg\", \"queequeg\", \"queer\", \"queer\", \"remain\", \"remain\", \"remain\", \"remain\", \"remorse\", \"return\", \"return\", \"return\", \"return\", \"revenge\", \"revenge\", \"revenge\", \"revenge\", \"reverence\", \"room\", \"room\", \"room\", \"room\", \"rosings\", \"rosings\", \"round\", \"round\", \"round\", \"round\", \"run\", \"run\", \"run\", \"run\", \"safie\", \"safie\", \"safie\", \"sail\", \"sail\", \"sail\", \"sand\", \"science\", \"science\", \"science\", \"scientific\", \"sea\", \"sea\", \"sea\", \"sea\", \"seward\", \"seward\", \"ship\", \"ship\", \"ship\", \"ship\", \"shipmate\", \"sicken\", \"sicken\", \"sickness\", \"sickness\", \"sir_william\", \"sir_william\", \"sir_william\", \"sister\", \"sister\", \"sister\", \"sister\", \"sit\", \"sit\", \"sit\", \"sit\", \"sleep\", \"sleep\", \"sleep\", \"sleep\", \"sort\", \"sort\", \"sort\", \"sort\", \"sperm\", \"sperm_whale\", \"spout\", \"spout\", \"stand\", \"stand\", \"stand\", \"stand\", \"storm\", \"storm\", \"storm\", \"strange\", \"strange\", \"strange\", \"strange\", \"study\", \"study\", \"study\", \"study\", \"suffering\", \"suffering\", \"suffering\", \"swim\", \"swim\", \"talk\", \"talk\", \"talk\", \"talk\", \"tear\", \"tear\", \"tear\", \"tear\", \"thee\", \"thee\", \"thee\", \"thomas\", \"thou\", \"thou\", \"thou\", \"threat\", \"tomahawk\", \"torture\", \"torture\", \"torture\", \"tranquillity\", \"tranquillity\", \"tranquillity\", \"tranquillity\", \"union\", \"utterly\", \"utterly\", \"utterly\", \"victim\", \"victim\", \"victor\", \"victor\", \"victor\", \"voyage\", \"voyage\", \"voyage\", \"walk\", \"walk\", \"walk\", \"walk\", \"want\", \"want\", \"want\", \"want\", \"weep\", \"weep\", \"weep\", \"weep\", \"westenra\", \"whale\", \"whale\", \"whale\", \"whale_ship\", \"whale_ship\", \"whales\", \"whaling\", \"whaling\", \"wharf\", \"white\", \"white\", \"white\", \"white\", \"wickham\", \"wickham\", \"wish\", \"wish\", \"wish\", \"wish\", \"wood\", \"wood\", \"wooden\", \"word\", \"word\", \"word\", \"word\", \"work\", \"work\", \"work\", \"work\", \"world\", \"world\", \"world\", \"world\", \"wretchedness\", \"wretchedness\", \"wretchedness\", \"write\", \"write\", \"write\", \"write\", \"year\", \"year\", \"year\", \"year\", \"young\", \"young\", \"young\", \"young\"]}, \"R\": 30, \"lambda.step\": 0.01, \"plot.opts\": {\"xlab\": \"PC1\", \"ylab\": \"PC2\"}, \"topic.order\": [2, 3, 4, 1]};\n",
       "\n",
       "function LDAvis_load_lib(url, callback){\n",
       "  var s = document.createElement('script');\n",
       "  s.src = url;\n",
       "  s.async = true;\n",
       "  s.onreadystatechange = s.onload = callback;\n",
       "  s.onerror = function(){console.warn(\"failed to load library \" + url);};\n",
       "  document.getElementsByTagName(\"head\")[0].appendChild(s);\n",
       "}\n",
       "\n",
       "if(typeof(LDAvis) !== \"undefined\"){\n",
       "   // already loaded: just create the visualization\n",
       "   !function(LDAvis){\n",
       "       new LDAvis(\"#\" + \"ldavis_el259848910900406394267984\", ldavis_el259848910900406394267984_data);\n",
       "   }(LDAvis);\n",
       "}else if(typeof define === \"function\" && define.amd){\n",
       "   // require.js is available: use it to load d3/LDAvis\n",
       "   require.config({paths: {d3: \"https://cdnjs.cloudflare.com/ajax/libs/d3/3.5.5/d3.min\"}});\n",
       "   require([\"d3\"], function(d3){\n",
       "      window.d3 = d3;\n",
       "      LDAvis_load_lib(\"https://cdn.rawgit.com/bmabey/pyLDAvis/files/ldavis.v1.0.0.js\", function(){\n",
       "        new LDAvis(\"#\" + \"ldavis_el259848910900406394267984\", ldavis_el259848910900406394267984_data);\n",
       "      });\n",
       "    });\n",
       "}else{\n",
       "    // require.js not available: dynamically load d3 & LDAvis\n",
       "    LDAvis_load_lib(\"https://cdnjs.cloudflare.com/ajax/libs/d3/3.5.5/d3.min.js\", function(){\n",
       "         LDAvis_load_lib(\"https://cdn.rawgit.com/bmabey/pyLDAvis/files/ldavis.v1.0.0.js\", function(){\n",
       "                 new LDAvis(\"#\" + \"ldavis_el259848910900406394267984\", ldavis_el259848910900406394267984_data);\n",
       "            })\n",
       "         });\n",
       "}\n",
       "</script>"
      ],
      "text/plain": [
       "<IPython.core.display.HTML object>"
      ]
     },
     "execution_count": 24,
     "metadata": {},
     "output_type": "execute_result"
    }
   ],
   "source": [
    "# plot topics\n",
    "data =  pyLDAvis.gensim.prepare(model, corpus, dictionary)\n",
    "pyLDAvis.display(data)"
   ]
  },
  {
   "cell_type": "code",
   "execution_count": 25,
   "metadata": {},
   "outputs": [],
   "source": [
    "# assignment\n",
    "sent_to_cluster = list()\n",
    "for n,doc in enumerate(corpus):\n",
    "    if doc:\n",
    "        cluster = max(model[doc],key=lambda x:x[1])\n",
    "        sent_to_cluster.append(cluster[0])"
   ]
  },
  {
   "cell_type": "code",
   "execution_count": 26,
   "metadata": {},
   "outputs": [
    {
     "name": "stdout",
     "output_type": "stream",
     "text": [
      "DRACULA.txt : 1 - 36\n",
      "Accuracy: 0.6\n",
      "------\n",
      "Frankenstein.txt : 3 - 40\n",
      "Accuracy: 0.6666666666666666\n",
      "------\n",
      "Moby_Dick.txt : 1 - 46\n",
      "Accuracy: 0.7666666666666667\n",
      "------\n",
      "PRIDE_AND_PREJUDICE.txt : 2 - 59\n",
      "Accuracy: 0.9833333333333333\n",
      "------\n"
     ]
    }
   ],
   "source": [
    "# accuracy\n",
    "from collections import Counter\n",
    "for book, cluster in book_id.items():\n",
    "    assignments = list()\n",
    "    for real,given in zip(chunk_class,sent_to_cluster):\n",
    "        if real == cluster:\n",
    "            assignments.append(given)\n",
    "    most_common,num_most_common = Counter(assignments).most_common(1)[0] # 4, 6 times\n",
    "    print(book,\":\",most_common,\"-\",num_most_common)\n",
    "    print(\"Accuracy:\",num_most_common/limit)\n",
    "    print(\"------\")"
   ]
  },
  {
   "cell_type": "markdown",
   "metadata": {},
   "source": [
    "### List of resources\n",
    "    * Jellyfish: string similarity library\n",
    "    * TextBlob: simplified text processing\n",
    "    * PyEnchant: language detection\n",
    "    * WordNet: ontology of concepts (inc. in NLTK)\n",
    "    * Stanford NLP (Java)\n",
    "    * Tweet NLP: https://www.cs.cmu.edu/~ark/TweetNLP/"
   ]
  },
  {
   "cell_type": "markdown",
   "metadata": {},
   "source": [
    "#### A word on WordNet\n",
    "WordNet is an ontology of concepts, it follows the denotational approach to meaning (i.e. we give an explicit definition to the machine). What we did before follows the distributional hypothesis: words have meaning by the company they keep."
   ]
  },
  {
   "cell_type": "code",
   "execution_count": 62,
   "metadata": {},
   "outputs": [
    {
     "name": "stdout",
     "output_type": "stream",
     "text": [
      "[Synset('house.n.01'), Synset('firm.n.01'), Synset('house.n.03'), Synset('house.n.04'), Synset('house.n.05'), Synset('house.n.06'), Synset('house.n.07'), Synset('sign_of_the_zodiac.n.01'), Synset('house.n.09'), Synset('family.n.01'), Synset('theater.n.01'), Synset('house.n.12'), Synset('house.v.01'), Synset('house.v.02')]\n",
      "------\n",
      "a dwelling that serves as living quarters for one or more families\n",
      "the members of a business organization that owns or operates one or more establishments\n",
      "housing that someone is living in\n",
      "------\n",
      "[Synset('structure.n.01')]\n",
      "[Synset('dwelling.n.01')]\n",
      "------\n",
      "0.16666666666666666\n",
      "0.5\n"
     ]
    }
   ],
   "source": [
    "from nltk.corpus import wordnet as wn\n",
    "print(wn.synsets('house'))\n",
    "print(\"------\")\n",
    "print(wn.synset('house.n.01').definition())\n",
    "print(wn.synset('house.n.02').definition())\n",
    "print(wn.synset('home.n.02').definition())\n",
    "print(\"------\")\n",
    "print(wn.synset('house.n.01').lowest_common_hypernyms(wn.synset('factory.n.01')))\n",
    "print(wn.synset('house.n.01').lowest_common_hypernyms(wn.synset('home.n.02')))\n",
    "print(\"------\")\n",
    "print(wn.synset('house.n.01').path_similarity(wn.synset('factory.n.01')))\n",
    "print(wn.synset('house.n.01').path_similarity(wn.synset('home.n.02')))"
   ]
  },
  {
   "cell_type": "markdown",
   "metadata": {},
   "source": [
    "### Exercise for the brave"
   ]
  },
  {
   "cell_type": "markdown",
   "metadata": {},
   "source": [
    "Consider word embeddings, a way to represent word features in dense vectors (cornerstone of deep learning methods for NLP).\n",
    "There exist also document embeddings, which produce vectors to represent entire chunks of text such as sentences or paragraphs.\n",
    "    * Consider the doc2vec method from the Gensim API: https://radimrehurek.com/gensim/models/doc2vec.html\n",
    "    * Use it to produce embeddings for a sample of our dataset of chunks\n",
    "    * Try to learn a supervised method (e.g. logistic regression or random forests) to predict the book a chunk is part of\n",
    "    * How does it work?"
   ]
  }
 ],
 "metadata": {
  "kernelspec": {
   "display_name": "Python [conda root]",
   "language": "python",
   "name": "conda-root-py"
  },
  "language_info": {
   "codemirror_mode": {
    "name": "ipython",
    "version": 3
   },
   "file_extension": ".py",
   "mimetype": "text/x-python",
   "name": "python",
   "nbconvert_exporter": "python",
   "pygments_lexer": "ipython3",
   "version": "3.6.1"
  },
  "toc": {
   "colors": {
    "hover_highlight": "#DAA520",
    "navigate_num": "#000000",
    "navigate_text": "#333333",
    "running_highlight": "#FF0000",
    "selected_highlight": "#FFD700",
    "sidebar_border": "#EEEEEE",
    "wrapper_background": "#FFFFFF"
   },
   "moveMenuLeft": true,
   "nav_menu": {
    "height": "228px",
    "width": "252px"
   },
   "navigate_menu": true,
   "number_sections": true,
   "sideBar": true,
   "threshold": 4,
   "toc_cell": false,
   "toc_section_display": "block",
   "toc_window_display": false,
   "widenNotebook": false
  }
 },
 "nbformat": 4,
 "nbformat_minor": 2
}
