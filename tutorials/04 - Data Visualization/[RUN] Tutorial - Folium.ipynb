{
 "cells": [
  {
   "cell_type": "markdown",
   "metadata": {},
   "source": [
    "# Intro \n",
    "\n",
    "> This tutorial is a quick introduction to [Folium](https://folium.readthedocs.io/), which you will be using in _HW3_ to build maps. \n",
    "\n",
    "> **NOTE** This notebook is not a thorough reference or guide to `folium`. For this please check out [`Folium`'s documentation](https://folium.readthedocs.io/en/latest/quickstart.html).\n",
    "\n",
    "---"
   ]
  },
  {
   "cell_type": "markdown",
   "metadata": {},
   "source": [
    "# Installation\n",
    "\n",
    "We recommend using the latest version : `0.5.0`.\n",
    "\n",
    "`Folium` is a regular python package, which can be installed through several means :\n",
    "\n",
    "### 1. Conda\n",
    "```\n",
    "conda install folium\n",
    "```\n",
    "\n",
    "### 2. pip\n",
    "\n",
    "```\n",
    "pip install -U folium\n",
    "``` \n",
    "\n",
    "By default, the `pip` command is linked to the local `python` distribution on. To use with your notebook, make sure you use the pip bundled with `anaconda`. On mac for example, this is usually : \n",
    "```\n",
    "~/anaconda/bin/pip install -U folium\n",
    "```\n",
    "\n",
    "### 3. Direct download\n",
    "\n",
    "The package is available [directly from pypi](https://pypi.python.org/pypi/folium)\n",
    "\n",
    "---"
   ]
  },
  {
   "cell_type": "markdown",
   "metadata": {},
   "source": [
    "# Getting Started"
   ]
  },
  {
   "cell_type": "markdown",
   "metadata": {},
   "source": [
    "Start by importing some standard libraries for processing."
   ]
  },
  {
   "cell_type": "code",
   "execution_count": null,
   "metadata": {
    "collapsed": true
   },
   "outputs": [],
   "source": [
    "import os\n",
    "import pandas as pd\n",
    "import json"
   ]
  },
  {
   "cell_type": "markdown",
   "metadata": {},
   "source": [
    "And of course, `folium`."
   ]
  },
  {
   "cell_type": "code",
   "execution_count": null,
   "metadata": {
    "collapsed": true
   },
   "outputs": [],
   "source": [
    "import folium"
   ]
  },
  {
   "cell_type": "markdown",
   "metadata": {},
   "source": [
    "Make sure you are you using the latest version of folium `0.5.0`."
   ]
  },
  {
   "cell_type": "code",
   "execution_count": null,
   "metadata": {
    "collapsed": false
   },
   "outputs": [],
   "source": [
    "folium.__version__ == '0.5.0'"
   ]
  },
  {
   "cell_type": "markdown",
   "metadata": {},
   "source": [
    "# The basics"
   ]
  },
  {
   "cell_type": "markdown",
   "metadata": {},
   "source": [
    "## Loading a map\n",
    "\n",
    "Let's start by the first step of this visualisation exercise : the map. This is vers simple thanks to `folium`. Just start by defining some base coordinates ([`lat`, `lng`] format)."
   ]
  },
  {
   "cell_type": "markdown",
   "metadata": {},
   "source": [
    "Let's start from home :"
   ]
  },
  {
   "cell_type": "code",
   "execution_count": null,
   "metadata": {
    "collapsed": true
   },
   "outputs": [],
   "source": [
    "lausanne_coord = [46.519962, 6.633597]"
   ]
  },
  {
   "cell_type": "markdown",
   "metadata": {},
   "source": [
    "Now we just pass these coordinates to the basic `Map` object to construct it :"
   ]
  },
  {
   "cell_type": "code",
   "execution_count": null,
   "metadata": {
    "collapsed": false
   },
   "outputs": [],
   "source": [
    "m = folium.Map(location=lausanne_coord)\n",
    "m"
   ]
  },
  {
   "cell_type": "markdown",
   "metadata": {},
   "source": [
    "> **NOTE** Though the map loads nicely in your notebook environment, note that it will not render on github ! We will discuss how to save your notebook to HTML later on. You can also decide to use an online viewer such as [this one](https://nbviewer.jupyter.org/)."
   ]
  },
  {
   "cell_type": "markdown",
   "metadata": {},
   "source": [
    "Folium maps use standard mapping technology, composing tiles to build the maps you see. Several tile sources are provided for different uses or styles. Folium supports passing any `leaflet.js` compatible custom tileset."
   ]
  },
  {
   "cell_type": "code",
   "execution_count": null,
   "metadata": {
    "collapsed": false
   },
   "outputs": [],
   "source": [
    "folium.Map(location=lausanne_coord,\n",
    "           tiles='Stamen Toner',\n",
    "           zoom_start=13)"
   ]
  },
  {
   "cell_type": "markdown",
   "metadata": {
    "collapsed": true
   },
   "source": [
    "## Markers\n",
    "\n",
    "Another important feature of `folium` is how easy it is to add interactivity. Let's add a simple marker to our Lausanne map to point at **EPFL**."
   ]
  },
  {
   "cell_type": "markdown",
   "metadata": {},
   "source": [
    "We start by defining the location of the marker, with the same format as before :"
   ]
  },
  {
   "cell_type": "code",
   "execution_count": null,
   "metadata": {
    "collapsed": true
   },
   "outputs": [],
   "source": [
    "epfl_location = [46.519962, 6.633597]"
   ]
  },
  {
   "cell_type": "markdown",
   "metadata": {},
   "source": [
    "We create a marker, giving it a popup string (e.g. \"EPFL\"). We can then place the marker on our map by using the `add_to` function :"
   ]
  },
  {
   "cell_type": "code",
   "execution_count": null,
   "metadata": {
    "collapsed": false
   },
   "outputs": [],
   "source": [
    "folium.Marker(epfl_location, popup=\"EPFL\").add_to(m)"
   ]
  },
  {
   "cell_type": "markdown",
   "metadata": {},
   "source": [
    "Show the map again, with the marker on it ! You can click on it to reveal the popup."
   ]
  },
  {
   "cell_type": "code",
   "execution_count": null,
   "metadata": {
    "collapsed": false
   },
   "outputs": [],
   "source": [
    "m"
   ]
  },
  {
   "cell_type": "markdown",
   "metadata": {},
   "source": [
    "# Overlays\n",
    "\n",
    "The other important part you will need for the homework are overlays. These allow you to draw shapes on a map, such as boundaries, borders, roads, ...\n",
    "\n",
    "They come in the form of `json` files (formally `.topojson` or `.geojson`), and can be loaded onto `folium` maps very easily."
   ]
  },
  {
   "cell_type": "markdown",
   "metadata": {},
   "source": [
    "Let's load a `.geojson` file that shows the borders of states in the US."
   ]
  },
  {
   "cell_type": "code",
   "execution_count": null,
   "metadata": {
    "collapsed": false
   },
   "outputs": [],
   "source": [
    "state_geo_path = r'us-states.json'\n",
    "geo_json_data = json.load(open(state_geo_path))"
   ]
  },
  {
   "cell_type": "markdown",
   "metadata": {},
   "source": [
    "Now let's build a blank map (using the same method as in the introduction) of the US :"
   ]
  },
  {
   "cell_type": "code",
   "execution_count": null,
   "metadata": {
    "collapsed": false,
    "scrolled": false
   },
   "outputs": [],
   "source": [
    "m_usa = folium.Map([43,-100], tiles='cartodbpositron', zoom_start=4)\n",
    "m_usa"
   ]
  },
  {
   "cell_type": "markdown",
   "metadata": {},
   "source": [
    "Now we can overlay the state boundaries on this map :"
   ]
  },
  {
   "cell_type": "code",
   "execution_count": null,
   "metadata": {
    "collapsed": false
   },
   "outputs": [],
   "source": [
    "folium.GeoJson(geo_json_data).add_to(m_usa)\n",
    "m_usa"
   ]
  },
  {
   "cell_type": "markdown",
   "metadata": {},
   "source": [
    "This is cool but we want to be able to display some data on this map. Using the example from the slides, let's build a simple map that will show who won the 2016 general election in each state.\n",
    "\n",
    "This is data is made available in `US_Election_2016_binary.csv`."
   ]
  },
  {
   "cell_type": "code",
   "execution_count": null,
   "metadata": {
    "collapsed": true
   },
   "outputs": [],
   "source": [
    "state_data_file = r'US_Election_2016_binary.csv'\n",
    "state_data = pd.read_csv(state_data_file)"
   ]
  },
  {
   "cell_type": "markdown",
   "metadata": {},
   "source": [
    "The data is formatted (arbitrarily) as :\n",
    "* `1` if Trump won\n",
    "* `2` if Clinton won"
   ]
  },
  {
   "cell_type": "code",
   "execution_count": null,
   "metadata": {
    "collapsed": false
   },
   "outputs": [],
   "source": [
    "state_data.head()"
   ]
  },
  {
   "cell_type": "markdown",
   "metadata": {},
   "source": [
    "`folium` allows us to specify a custom coloring function, that will style each polygon in a particular way, dependant on the data. Let's make a function that will color a state **blue** if Clinton won, **red** if Trump won."
   ]
  },
  {
   "cell_type": "code",
   "execution_count": null,
   "metadata": {
    "collapsed": true
   },
   "outputs": [],
   "source": [
    "def us_election_colors(state):\n",
    "    \"\"\"Maps Clinton wins to blue and Trump wins to red.\"\"\"\n",
    "    clinton_win = state_data.loc[state_data['State'] == state, 'Winner'].values[0] > 1\n",
    "    if clinton_win:\n",
    "        return '#0000ff'\n",
    "    else:\n",
    "        return '#ff0000'"
   ]
  },
  {
   "cell_type": "markdown",
   "metadata": {},
   "source": [
    "Okay, now we're ready to see who won :"
   ]
  },
  {
   "cell_type": "code",
   "execution_count": null,
   "metadata": {
    "collapsed": false
   },
   "outputs": [],
   "source": [
    "results_map = folium.Map([43,-100], tiles='cartodbpositron', zoom_start=4)\n",
    "folium.GeoJson(\n",
    "    geo_json_data,\n",
    "    style_function=lambda feature: {\n",
    "        'fillColor': us_election_colors(feature['id']),\n",
    "        'color' : 'black',\n",
    "        'weight' : 2,\n",
    "        'dashArray' : '5, 5'\n",
    "        }\n",
    "    ).add_to(results_map)\n",
    "\n",
    "results_map"
   ]
  },
  {
   "cell_type": "markdown",
   "metadata": {},
   "source": [
    "This is an example of a [Choropleth map](https://en.wikipedia.org/wiki/Choropleth_map).\n",
    "\n",
    ">  thematic map in which areas are shaded or patterned in proportion to the measurement of the statistical variable being displayed on the map, such as population density or per-capita income. Choropleth maps can also be used to display nominal data such as country names on a world map or most popular car model per region.\n",
    "\n",
    "A very common type of map visualization, which you will be using in the homework. Luckily, it is so common that `folium` has a pre-defined class that you can use to build them. To see how it works, let's load some more detailed data about the elections : instead of just who won, let's load the percentage of votes Trump (the winner, *and bigly, everybody says so*) got in each state. "
   ]
  },
  {
   "cell_type": "code",
   "execution_count": null,
   "metadata": {
    "collapsed": true
   },
   "outputs": [],
   "source": [
    "state_winner_path = r'US_Election_2016.csv'\n",
    "state_winner_data = pd.read_csv(state_winner_path)"
   ]
  },
  {
   "cell_type": "code",
   "execution_count": null,
   "metadata": {
    "collapsed": false
   },
   "outputs": [],
   "source": [
    "state_winner_data.head()"
   ]
  },
  {
   "cell_type": "markdown",
   "metadata": {},
   "source": [
    "Folium will take care of most of the scaling for you ! You can just say what data you want to be plotted where (make sure the keys for the data and the keys in the geojson match), and Folium will do the rest. Think about the colors you want to use, add a legend and you're good to go."
   ]
  },
  {
   "cell_type": "code",
   "execution_count": null,
   "metadata": {
    "collapsed": false
   },
   "outputs": [],
   "source": [
    "us_map = folium.Map(location=[48, -102], zoom_start=3)\n",
    "us_map.choropleth(geo_data=geo_json_data, data=state_winner_data,\n",
    "             columns=['State', 'Percentage'],\n",
    "             key_on='feature.id',\n",
    "             fill_color='BuPu', fill_opacity=0.7, line_opacity=0.2,\n",
    "             legend_name='Percentage for winner of general election (%)')\n",
    "us_map"
   ]
  },
  {
   "cell_type": "markdown",
   "metadata": {},
   "source": [
    "This offers a more detailed view of what actually happened ! The colors could use some refinement though. Try to think of what colors would be most expressive in this case. You can find a detailed list [here](https://github.com/python-visualization/folium/blob/v0.2.0/folium/utilities.py#L104), or use the resources at your disposal to select an appropriate colorscheme. Behind the scenes, this part uses the [colormaps](https://nbviewer.jupyter.org/github/python-visualization/folium/blob/v0.2.0/examples/Colormaps.ipynb) we saw earlier, so it is an option to define your own."
   ]
  },
  {
   "cell_type": "markdown",
   "metadata": {},
   "source": [
    "# Saving your plots\n",
    "\n",
    "You now have the basic tools at your disposal to build great visualizations, but what do you do with them afterwards ? As you may have noticed, `folium`'s documentation is a jupyter notebook ! This is one option to present mixed media. Nevertheless, the library provides rendering capabilities that are very useful and make your work exportable anywhere there is a browser :"
   ]
  },
  {
   "cell_type": "code",
   "execution_count": null,
   "metadata": {
    "collapsed": true
   },
   "outputs": [],
   "source": [
    "us_map.save('US_Election_2016.html')\n",
    "results_map.save('US_Election_2016_binary.html')"
   ]
  },
  {
   "cell_type": "markdown",
   "metadata": {},
   "source": [
    "You can now access your maps directly [in your browser](US_Election_2016.html). They can also be included on any other webpage (for example you can host a website on [Github Pages](https://pages.github.com/) for free !)"
   ]
  }
 ],
 "metadata": {
  "anaconda-cloud": {},
  "kernelspec": {
   "display_name": "Python [default]",
   "language": "python",
   "name": "python3"
  },
  "language_info": {
   "codemirror_mode": {
    "name": "ipython",
    "version": 3
   },
   "file_extension": ".py",
   "mimetype": "text/x-python",
   "name": "python",
   "nbconvert_exporter": "python",
   "pygments_lexer": "ipython3",
   "version": "3.5.2"
  }
 },
 "nbformat": 4,
 "nbformat_minor": 1
}
