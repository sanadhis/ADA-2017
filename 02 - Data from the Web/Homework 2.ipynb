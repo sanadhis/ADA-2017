{
 "cells": [
  {
   "cell_type": "markdown",
   "metadata": {},
   "source": [
    "# Homework 2\n",
    "## Extracting TopUniversities and TimesHigherEducation Data"
   ]
  },
  {
   "cell_type": "markdown",
   "metadata": {},
   "source": [
    "## Library"
   ]
  },
  {
   "cell_type": "code",
   "execution_count": 3,
   "metadata": {},
   "outputs": [],
   "source": [
    "from bs4 import BeautifulSoup\n",
    "import requests\n",
    "import pandas as pd"
   ]
  },
  {
   "cell_type": "markdown",
   "metadata": {},
   "source": [
    "## Vars"
   ]
  },
  {
   "cell_type": "code",
   "execution_count": 4,
   "metadata": {},
   "outputs": [],
   "source": [
    "web_urls = [{'page':'https://www.topuniversities.com',\n",
    "             'data':'https://www.topuniversities.com/sites/default/files/qs-rankings-data/357051_indicators.txt'},\n",
    "            {'page':'https://www.timeshighereducation.com/world-university-rankings/2018/world-ranking#!/page/0/length/25/sort_by/rank/sort_order/asc/cols/stats',\n",
    "             'data':'https://www.timeshighereducation.com/sites/default/files/the_data_rankings/world_university_rankings_2018_limit0_369a9045a203e176392b9fb8f8c1cb2a.json'}]\n",
    "\n"
   ]
  },
  {
   "cell_type": "markdown",
   "metadata": {},
   "source": [
    "## Functions"
   ]
  },
  {
   "cell_type": "code",
   "execution_count": 29,
   "metadata": {},
   "outputs": [],
   "source": [
    "def get_number_elements(htmlPage, className):\n",
    "    try:\n",
    "        number = int(((htmlPage.find('div', class_=className)).find('div', class_=\"number\").text).replace(',',''))    \n",
    "    except AttributeError:\n",
    "        number = 0\n",
    "    return number\n",
    "\n",
    "def crawl_topuniversities(url,n_top):\n",
    "    http_response = requests.get(url['data'])\n",
    "    universities = http_response.json()['data'][:n_top]\n",
    "    list_universities = []\n",
    "    for idx,university in enumerate(universities):\n",
    "        \n",
    "        university_region = university['region']\n",
    "        university_country = university['location']\n",
    "        university_rank = university['overall_rank']\n",
    "        \n",
    "        university_info_html = BeautifulSoup(university['uni'], 'html.parser')\n",
    "        link_element = university_info_html.find('a')\n",
    "        \n",
    "        university_name = link_element.text\n",
    "        university_link = link_element.get('href')\n",
    "\n",
    "        university_detail = requests.get(url['page']+university_link)\n",
    "        university_detail_html = BeautifulSoup(university_detail.text, 'html.parser')\n",
    "        \n",
    "        n_f_members = get_number_elements(university_detail_html,\"total faculty\")    \n",
    "        n_inter_f_members = get_number_elements(university_detail_html,\"inter faculty\") \n",
    "        \n",
    "        n_students = get_number_elements(university_detail_html,\"total student\") \n",
    "        n_inter_students = get_number_elements(university_detail_html,\"total inter\") \n",
    "        \n",
    "        university_data = ({\n",
    "                                'Rank': university_rank,\n",
    "                                'University Name': university_name,\n",
    "                                'Country': university_country,\n",
    "                                'Region': university_region,\n",
    "                                'Total Faculty Members': n_f_members,\n",
    "                                'Total International Faculty Members': n_inter_f_members,\n",
    "                                'Total Students': n_students,\n",
    "                                'Total International Students': n_inter_students\n",
    "                          })\n",
    "        list_universities.append(university_data)\n",
    "    \n",
    "    universities = pd.DataFrame.from_dict(list_universities)\n",
    "    return universities\n",
    "\n",
    "def crawl_timeshighereducation(url,n_top):\n",
    "    http_response = requests.get(url['data'])\n",
    "    universities = http_response.json()['data'][:n_top]\n",
    "    list_universities = []\n",
    "    for university in universities:\n",
    "        \n",
    "        university_rank = university['rank']\n",
    "        university_name = university['name']\n",
    "        university_country = university['location']\n",
    "        n_students = university['stats_number_students']\n",
    "        student_staff_ratio = university['stats_student_staff_ratio']\n",
    "        inter_student_percentage = university['stats_pc_intl_students'] \n",
    "        \n",
    "        university_data = ({\n",
    "                                'Rank': university_rank,\n",
    "                                'University Name': university_name,\n",
    "                                'Country': university_country,\n",
    "                                'Ratio Student/Faculty Members': student_staff_ratio,\n",
    "                                'Percentage International Students': inter_student_percentage,\n",
    "                                'Total Students': n_students\n",
    "                          })\n",
    "        list_universities.append(university_data)\n",
    "        \n",
    "    universities = pd.DataFrame.from_dict(list_universities)\n",
    "    return universities   "
   ]
  },
  {
   "cell_type": "markdown",
   "metadata": {},
   "source": [
    "## Main Homework"
   ]
  },
  {
   "cell_type": "markdown",
   "metadata": {},
   "source": [
    "1. Analysis of Top Universities Data"
   ]
  },
  {
   "cell_type": "code",
   "execution_count": 30,
   "metadata": {},
   "outputs": [],
   "source": [
    "tu_top200 = crawl_topuniversities(web_urls[0],200)"
   ]
  },
  {
   "cell_type": "code",
   "execution_count": 31,
   "metadata": {},
   "outputs": [
    {
     "data": {
      "text/html": [
       "<div>\n",
       "<style>\n",
       "    .dataframe thead tr:only-child th {\n",
       "        text-align: right;\n",
       "    }\n",
       "\n",
       "    .dataframe thead th {\n",
       "        text-align: left;\n",
       "    }\n",
       "\n",
       "    .dataframe tbody tr th {\n",
       "        vertical-align: top;\n",
       "    }\n",
       "</style>\n",
       "<table border=\"1\" class=\"dataframe\">\n",
       "  <thead>\n",
       "    <tr style=\"text-align: right;\">\n",
       "      <th></th>\n",
       "      <th>Country</th>\n",
       "      <th>Rank</th>\n",
       "      <th>Region</th>\n",
       "      <th>Total Faculty Members</th>\n",
       "      <th>Total International Faculty Members</th>\n",
       "      <th>Total International Students</th>\n",
       "      <th>Total Students</th>\n",
       "      <th>University Name</th>\n",
       "    </tr>\n",
       "  </thead>\n",
       "  <tbody>\n",
       "    <tr>\n",
       "      <th>0</th>\n",
       "      <td>United States</td>\n",
       "      <td>1</td>\n",
       "      <td>North America</td>\n",
       "      <td>2982</td>\n",
       "      <td>1679</td>\n",
       "      <td>3717</td>\n",
       "      <td>11067</td>\n",
       "      <td>Massachusetts Institute of Technology (MIT)</td>\n",
       "    </tr>\n",
       "    <tr>\n",
       "      <th>1</th>\n",
       "      <td>United States</td>\n",
       "      <td>2</td>\n",
       "      <td>North America</td>\n",
       "      <td>4285</td>\n",
       "      <td>2042</td>\n",
       "      <td>3611</td>\n",
       "      <td>15878</td>\n",
       "      <td>Stanford University</td>\n",
       "    </tr>\n",
       "    <tr>\n",
       "      <th>2</th>\n",
       "      <td>United States</td>\n",
       "      <td>3</td>\n",
       "      <td>North America</td>\n",
       "      <td>4350</td>\n",
       "      <td>1311</td>\n",
       "      <td>5266</td>\n",
       "      <td>22429</td>\n",
       "      <td>Harvard University</td>\n",
       "    </tr>\n",
       "    <tr>\n",
       "      <th>3</th>\n",
       "      <td>United States</td>\n",
       "      <td>4</td>\n",
       "      <td>North America</td>\n",
       "      <td>953</td>\n",
       "      <td>350</td>\n",
       "      <td>647</td>\n",
       "      <td>2255</td>\n",
       "      <td>California Institute of Technology (Caltech)</td>\n",
       "    </tr>\n",
       "    <tr>\n",
       "      <th>4</th>\n",
       "      <td>United Kingdom</td>\n",
       "      <td>5</td>\n",
       "      <td>Europe</td>\n",
       "      <td>5490</td>\n",
       "      <td>2278</td>\n",
       "      <td>6699</td>\n",
       "      <td>18770</td>\n",
       "      <td>University of Cambridge</td>\n",
       "    </tr>\n",
       "  </tbody>\n",
       "</table>\n",
       "</div>"
      ],
      "text/plain": [
       "          Country Rank         Region  Total Faculty Members  \\\n",
       "0   United States    1  North America                   2982   \n",
       "1   United States    2  North America                   4285   \n",
       "2   United States    3  North America                   4350   \n",
       "3   United States    4  North America                    953   \n",
       "4  United Kingdom    5         Europe                   5490   \n",
       "\n",
       "   Total International Faculty Members  Total International Students  \\\n",
       "0                                 1679                          3717   \n",
       "1                                 2042                          3611   \n",
       "2                                 1311                          5266   \n",
       "3                                  350                           647   \n",
       "4                                 2278                          6699   \n",
       "\n",
       "   Total Students                               University Name  \n",
       "0           11067  Massachusetts Institute of Technology (MIT)   \n",
       "1           15878                           Stanford University  \n",
       "2           22429                            Harvard University  \n",
       "3            2255  California Institute of Technology (Caltech)  \n",
       "4           18770                       University of Cambridge  "
      ]
     },
     "execution_count": 31,
     "metadata": {},
     "output_type": "execute_result"
    }
   ],
   "source": [
    "tu_top200.head()"
   ]
  },
  {
   "cell_type": "markdown",
   "metadata": {},
   "source": [
    "* Writing Data into a file"
   ]
  },
  {
   "cell_type": "code",
   "execution_count": 32,
   "metadata": {},
   "outputs": [],
   "source": [
    "tu_top200.to_pickle(\"tu_top200_pickle\")"
   ]
  },
  {
   "cell_type": "code",
   "execution_count": null,
   "metadata": {},
   "outputs": [],
   "source": [
    "te_top200 = crawl_timeshighereducation(web_urls[1],10)"
   ]
  },
  {
   "cell_type": "code",
   "execution_count": null,
   "metadata": {},
   "outputs": [],
   "source": [
    "te_top200.head()"
   ]
  },
  {
   "cell_type": "code",
   "execution_count": null,
   "metadata": {},
   "outputs": [],
   "source": []
  }
 ],
 "metadata": {
  "kernelspec": {
   "display_name": "Python [conda root]",
   "language": "python",
   "name": "conda-root-py"
  },
  "language_info": {
   "codemirror_mode": {
    "name": "ipython",
    "version": 3
   },
   "file_extension": ".py",
   "mimetype": "text/x-python",
   "name": "python",
   "nbconvert_exporter": "python",
   "pygments_lexer": "ipython3",
   "version": "3.6.1"
  }
 },
 "nbformat": 4,
 "nbformat_minor": 2
}
