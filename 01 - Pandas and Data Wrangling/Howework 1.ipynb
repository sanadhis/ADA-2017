{
 "cells": [
  {
   "cell_type": "markdown",
   "metadata": {},
   "source": [
    "# Table of Contents\n",
    " <p><div class=\"lev1\"><a href=\"#Task-1.-Compiling-Ebola-Data\"><span class=\"toc-item-num\">Task 1.&nbsp;&nbsp;</span>Compiling Ebola Data</a></div>\n",
    " <div class=\"lev1\"><a href=\"#Task-2.-RNA-Sequences\"><span class=\"toc-item-num\">Task 2.&nbsp;&nbsp;</span>RNA Sequences</a></div>\n",
    " <div class=\"lev1\"><a href=\"#Task-3.-Class-War-in-Titanic\"><span class=\"toc-item-num\">Task 3.&nbsp;&nbsp;</span>Class War in Titanic</a></div></p>"
   ]
  },
  {
   "cell_type": "code",
   "execution_count": 2,
   "metadata": {},
   "outputs": [],
   "source": [
    "import pandas as pd\n",
    "import numpy as np\n",
    "DATA_FOLDER = './data' # Use the data folder provided in Tutorial 02 - Intro to Pandas."
   ]
  },
  {
   "cell_type": "markdown",
   "metadata": {},
   "source": [
    "## Task 1. Compiling Ebola Data\n",
    "\n",
    "The `DATA_FOLDER/ebola` folder contains summarized reports of Ebola cases from three countries (Guinea, Liberia and Sierra Leone) during the recent outbreak of the disease in West Africa. For each country, there are daily reports that contain various information about the outbreak in several cities in each country.\n",
    "\n",
    "Use pandas to import these data files into a single `Dataframe`.\n",
    "Using this `DataFrame`, calculate for *each country*, the *daily average per month* of *new cases* and *deaths*.\n",
    "Make sure you handle all the different expressions for *new cases* and *deaths* that are used in the reports."
   ]
  },
  {
   "cell_type": "code",
   "execution_count": 54,
   "metadata": {},
   "outputs": [
    {
     "data": {
      "text/plain": [
       "Index(['34 Military Hospital', 'Beyla', 'Bo', 'Bo EMC', 'Boffa', 'Bombali',\n",
       "       'Bomi County', 'Bong County', 'Bonthe', 'Conakry', 'Coyah', 'Dabola',\n",
       "       'Dalaba', 'Date', 'Dinguiraye', 'Dubreka', 'Forecariah',\n",
       "       'Gbarpolu County', 'Grand Bassa', 'Grand Cape Mount', 'Grand Gedeh',\n",
       "       'Grand Kru', 'Gueckedou', 'Hastings-F/Town', 'Kailahun', 'Kambia',\n",
       "       'Kenema', 'Kenema (IFRC)', 'Kenema (KGH)', 'Kerouane', 'Kindia',\n",
       "       'Kissidougou', 'Koinadugu', 'Kono', 'Kouroussa', 'Lofa County', 'Lola',\n",
       "       'Macenta', 'Margibi County', 'Maryland County', 'Montserrado County',\n",
       "       'Moyamba', 'Mzerekore', 'National', 'Nimba County', 'Nzerekore', 'Pita',\n",
       "       'Police training School', 'Police traning School', 'Port Loko',\n",
       "       'Pujehun', 'River Gee County', 'RiverCess County', 'Siguiri',\n",
       "       'Sinoe County', 'Telimele', 'Tonkolili', 'Totals', 'Unnamed: 18',\n",
       "       'Western area', 'Western area combined', 'Western area rural',\n",
       "       'Western area urban', 'Yomou', 'date'],\n",
       "      dtype='object')"
      ]
     },
     "execution_count": 54,
     "metadata": {},
     "output_type": "execute_result"
    }
   ],
   "source": [
    "# To list file and folder dynamically\n",
    "from os import listdir\n",
    "\n",
    "# Assign Static Values\n",
    "EBOLA_DATA_DIR = DATA_FOLDER + \"/ebola\"\n",
    "\n",
    "# Assign Name of Countries based on Available data in ebola directory\n",
    "countries = [c[:-5] for c in listdir(EBOLA_DATA_DIR) if c != \"LICENSE\"]\n",
    "ebola_data = []\n",
    "\n",
    "for country in countries:\n",
    "    country_data_files = listdir(EBOLA_DATA_DIR + \"/\" + country + \"_data\")\n",
    "    country_data_date_label = list(map(lambda s: s[:-4], countries_data))\n",
    "    country_data = []\n",
    "    for country_data_file in country_data_files:\n",
    "        data_per_country_date = pd.read_csv(EBOLA_DATA_DIR + \"/\" + country + \"_data/\" + country_data_file, index_col=[1])\n",
    "        country_data.append(data_per_country_date.fillna(0))\n",
    "    country_data = pd.concat(country_data,keys=country_data_date_label)\n",
    "    ebola_data.append(country_data)\n",
    "\n",
    "ebola_data = pd.concat(ebola_data,keys=countries)\n",
    "ebola_data.columns\n",
    "#guinea = pd.read_csv(EBOLA_DATA_DIR+\"/guinea_data/2014-09-04.csv\",index_col=[0,1])\n",
    "#guinea_new = pd.read_csv(EBOLA_DATA_DIR+\"/guinea_data/2014-09-07.csv\",index_col=[0,1])\n",
    "#pd.concat([guinea,guinea_new],keys=['09-04','09-07'])\n",
    "\n",
    "\n"
   ]
  },
  {
   "cell_type": "markdown",
   "metadata": {},
   "source": [
    "## Task 2. RNA Sequences\n",
    "\n",
    "In the `DATA_FOLDER/microbiome` subdirectory, there are 9 spreadsheets of microbiome data that was acquired from high-throughput RNA sequencing procedures, along with a 10<sup>th</sup> file that describes the content of each. \n",
    "\n",
    "Use pandas to import the first 9 spreadsheets into a single `DataFrame`.\n",
    "Then, add the metadata information from the 10<sup>th</sup> spreadsheet as columns in the combined `DataFrame`.\n",
    "Make sure that the final `DataFrame` has a unique index and all the `NaN` values have been replaced by the tag `unknown`."
   ]
  },
  {
   "cell_type": "code",
   "execution_count": null,
   "metadata": {
    "collapsed": true
   },
   "outputs": [],
   "source": [
    "# Write your answer here"
   ]
  },
  {
   "cell_type": "markdown",
   "metadata": {},
   "source": [
    "## Task 3. Class War in Titanic\n",
    "\n",
    "Use pandas to import the data file `Data/titanic.xls`. It contains data on all the passengers that travelled on the Titanic."
   ]
  },
  {
   "cell_type": "code",
   "execution_count": null,
   "metadata": {},
   "outputs": [],
   "source": [
    "from IPython.core.display import HTML\n",
    "HTML(filename=DATA_FOLDER+'/titanic.html')"
   ]
  },
  {
   "cell_type": "markdown",
   "metadata": {},
   "source": [
    "For each of the following questions state clearly your assumptions and discuss your findings:\n",
    "1. Describe the *type* and the *value range* of each attribute. Indicate and transform the attributes that can be `Categorical`. \n",
    "2. Plot histograms for the *travel class*, *embarkation port*, *sex* and *age* attributes. For the latter one, use *discrete decade intervals*. \n",
    "3. Calculate the proportion of passengers by *cabin floor*. Present your results in a *pie chart*.\n",
    "4. For each *travel class*, calculate the proportion of the passengers that survived. Present your results in *pie charts*.\n",
    "5. Calculate the proportion of the passengers that survived by *travel class* and *sex*. Present your results in *a single histogram*.\n",
    "6. Create 2 equally populated *age categories* and calculate survival proportions by *age category*, *travel class* and *sex*. Present your results in a `DataFrame` with unique index."
   ]
  },
  {
   "cell_type": "code",
   "execution_count": null,
   "metadata": {
    "collapsed": true
   },
   "outputs": [],
   "source": [
    "# Write your answer here"
   ]
  }
 ],
 "metadata": {
  "kernelspec": {
   "display_name": "Python [conda root]",
   "language": "python",
   "name": "conda-root-py"
  },
  "language_info": {
   "codemirror_mode": {
    "name": "ipython",
    "version": 3
   },
   "file_extension": ".py",
   "mimetype": "text/x-python",
   "name": "python",
   "nbconvert_exporter": "python",
   "pygments_lexer": "ipython3",
   "version": "3.6.1"
  }
 },
 "nbformat": 4,
 "nbformat_minor": 2
}
