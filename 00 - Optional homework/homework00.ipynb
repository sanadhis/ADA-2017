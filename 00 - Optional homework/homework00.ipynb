{
 "cells": [
  {
   "cell_type": "markdown",
   "metadata": {},
   "source": [
    "# Optional Homework"
   ]
  },
  {
   "cell_type": "code",
   "execution_count": 1,
   "metadata": {
    "scrolled": false
   },
   "outputs": [
    {
     "name": "stdout",
     "output_type": "stream",
     "text": [
      "Populating the interactive namespace from numpy and matplotlib\n"
     ]
    }
   ],
   "source": [
    "%pylab inline\n",
    "import csv"
   ]
  },
  {
   "cell_type": "markdown",
   "metadata": {},
   "source": [
    "# Read the file"
   ]
  },
  {
   "cell_type": "code",
   "execution_count": 2,
   "metadata": {},
   "outputs": [],
   "source": [
    "with open('./guns-data/interactive_data.csv') as csvfile:\n",
    "    \n",
    "    INTENT, GENDER, AGE, RACE, DEATHS, POPULATION, RATE = 0,1,2,3,4,5,6\n",
    "    \n",
    "    next(csvfile) # skip the first line\n",
    "    readCSV = csv.reader(csvfile, delimiter = ',')    \n",
    "\n",
    "    info = []\n",
    "    \n",
    "    for line in readCSV:\n",
    "        info.append(list(line[i] for i in range(1,8)))\n",
    "        \n",
    "#     print(info[0])？"
   ]
  },
  {
   "cell_type": "markdown",
   "metadata": {},
   "source": [
    "# How many people are fatally shot in US each year"
   ]
  },
  {
   "cell_type": "code",
   "execution_count": 3,
   "metadata": {},
   "outputs": [
    {
     "name": "stdout",
     "output_type": "stream",
     "text": [
      "33599 people are fatally shot in U.S. each year\n"
     ]
    }
   ],
   "source": [
    "total_death = int(info[0][DEATHS])\n",
    "print(total_death, 'people are fatally shot in U.S. each year')"
   ]
  },
  {
   "cell_type": "markdown",
   "metadata": {},
   "source": [
    "# percentage of people dying from gunshots for suicides"
   ]
  },
  {
   "cell_type": "code",
   "execution_count": 4,
   "metadata": {
    "scrolled": true
   },
   "outputs": [
    {
     "name": "stdout",
     "output_type": "stream",
     "text": [
      "62.67 % of gun deaths are suicides\n"
     ]
    }
   ],
   "source": [
    "index = [i for i,x in enumerate(info) if x[INTENT] == 'Suicide']\n",
    "num_suicides = int(info[index[0]][DEATHS])\n",
    "print(round(num_suicides/total_death*100,2), '% of gun deaths are suicides')"
   ]
  },
  {
   "cell_type": "markdown",
   "metadata": {},
   "source": [
    "# percentage of males dying from suicides"
   ]
  },
  {
   "cell_type": "code",
   "execution_count": 5,
   "metadata": {
    "scrolled": true
   },
   "outputs": [
    {
     "name": "stdout",
     "output_type": "stream",
     "text": [
      "86.25 % of suicide victims are males\n"
     ]
    }
   ],
   "source": [
    "index = [i for i,x in enumerate(info) if x[INTENT] == 'Suicide' and x[GENDER] == 'Male']\n",
    "num_male_suicides = int(info[index[0]][DEATHS])\n",
    "print(round(num_male_suicides/num_suicides*100,2), '% of suicide victims are males')"
   ]
  },
  {
   "cell_type": "markdown",
   "metadata": {},
   "source": [
    "# percentage of suicides for man age 35 or older"
   ]
  },
  {
   "cell_type": "code",
   "execution_count": 6,
   "metadata": {},
   "outputs": [
    {
     "name": "stdout",
     "output_type": "stream",
     "text": [
      "64.81 % of suicide victims are males\n"
     ]
    }
   ],
   "source": [
    "index = [i for i,x in enumerate(info) if x[INTENT] == 'Suicide' and x[GENDER] == 'Male' and x[AGE] == '35 - 64']\n",
    "num1 = int(info[index[0]][DEATHS])\n",
    "index = [i for i,x in enumerate(info) if x[INTENT] == 'Suicide' and x[GENDER] == 'Male' and x[AGE] == '65+']\n",
    "num2 = int(info[index[0]][DEATHS])\n",
    "num3 = num1 + num2\n",
    "print(round(num3/num_suicides*100,2), '% of suicide victims are males')"
   ]
  },
  {
   "cell_type": "markdown",
   "metadata": {},
   "source": [
    "# death of homicides"
   ]
  },
  {
   "cell_type": "code",
   "execution_count": 7,
   "metadata": {
    "scrolled": true
   },
   "outputs": [
    {
     "name": "stdout",
     "output_type": "stream",
     "text": [
      "11726 of gun deaths are homicides\n"
     ]
    }
   ],
   "source": [
    "index = [i for i,x in enumerate(info) if x[INTENT] == 'Homicide']\n",
    "num_homicides = int(info[index[0]][DEATHS])\n",
    "print(num_homicides, 'of gun deaths are homicides')"
   ]
  },
  {
   "cell_type": "markdown",
   "metadata": {},
   "source": [
    "# percentage of young men dying from homicides"
   ]
  },
  {
   "cell_type": "code",
   "execution_count": 8,
   "metadata": {},
   "outputs": [
    {
     "name": "stdout",
     "output_type": "stream",
     "text": [
      "56.76 % of homicide victims are young men(less than 34 years old)\n"
     ]
    }
   ],
   "source": [
    "index = [i for i,x in enumerate(info) if x[INTENT] == 'Homicide' and x[GENDER] == 'Male' and x[AGE] == 'Under 15']\n",
    "num1 = int(info[index[0]][DEATHS])\n",
    "index = [i for i,x in enumerate(info) if x[INTENT] == 'Homicide' and x[GENDER] == 'Male' and x[AGE] == '15 - 34']\n",
    "num2 = int(info[index[0]][DEATHS])\n",
    "num3 = num1 + num2\n",
    "print(round(num3/num_homicides*100,2), '% of homicide victims are young men(less than 34 years old)')"
   ]
  },
  {
   "cell_type": "markdown",
   "metadata": {},
   "source": [
    "# percentage of blacks dying from homicides"
   ]
  },
  {
   "cell_type": "code",
   "execution_count": 9,
   "metadata": {},
   "outputs": [
    {
     "name": "stdout",
     "output_type": "stream",
     "text": [
      "55.46 % of homicide victims are blacks\n"
     ]
    }
   ],
   "source": [
    "index = [i for i,x in enumerate(info) if x[INTENT] == 'Homicide' and x[RACE] == 'Black'] \n",
    "num_homicides_black = int(info[index[0]][DEATHS])\n",
    "print(round(num_homicides_black/num_homicides*100,2), '% of homicide victims are blacks')"
   ]
  },
  {
   "cell_type": "markdown",
   "metadata": {},
   "source": [
    "# percentage of women dying from homicides"
   ]
  },
  {
   "cell_type": "code",
   "execution_count": 10,
   "metadata": {},
   "outputs": [
    {
     "name": "stdout",
     "output_type": "stream",
     "text": [
      "1791 of homicide victims are women\n"
     ]
    }
   ],
   "source": [
    "index = [i for i,x in enumerate(info) if x[INTENT] == 'Homicide' and x[GENDER] == 'Female'] \n",
    "num_homicides_women = int(info[index[0]][DEATHS])\n",
    "print(num_homicides_women, 'of homicide victims are women')"
   ]
  }
 ],
 "metadata": {
  "kernelspec": {
   "display_name": "Python 3",
   "language": "python",
   "name": "python3"
  },
  "language_info": {
   "codemirror_mode": {
    "name": "ipython",
    "version": 3
   },
   "file_extension": ".py",
   "mimetype": "text/x-python",
   "name": "python",
   "nbconvert_exporter": "python",
   "pygments_lexer": "ipython3",
   "version": "3.6.1"
  }
 },
 "nbformat": 4,
 "nbformat_minor": 2
}
