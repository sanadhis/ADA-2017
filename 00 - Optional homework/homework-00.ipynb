{
 "cells": [
  {
   "cell_type": "markdown",
   "metadata": {},
   "source": [
    "## Solution 1-8"
   ]
  },
  {
   "cell_type": "markdown",
   "metadata": {},
   "source": [
    "## Required Libraries"
   ]
  },
  {
   "cell_type": "code",
   "execution_count": 103,
   "metadata": {},
   "outputs": [],
   "source": [
    "import pandas as pd\n",
    "import csv"
   ]
  },
  {
   "cell_type": "markdown",
   "metadata": {},
   "source": [
    "## Functions\n",
    "* read csv\n",
    "* search data"
   ]
  },
  {
   "cell_type": "code",
   "execution_count": 104,
   "metadata": {},
   "outputs": [],
   "source": [
    "def read_csv(csv_file_path):\n",
    "    csv_file = open(csv_file_path,\"r\")\n",
    "    csv_data = pd.read_csv(csv_file)\n",
    "    return csv_data\n",
    "\n",
    "def search_data(df, intent, gender, age, race):\n",
    "    return(df.loc[(df['Intent'] == intent) & (df['Gender'] == gender) & (df['Age'] == age) & (df['Race'] == race)]).iloc[0][5]\n"
   ]
  },
  {
   "cell_type": "markdown",
   "metadata": {},
   "source": [
    "## Vars\n",
    "* csv path\n",
    "* guns data in pandas dataframe type"
   ]
  },
  {
   "cell_type": "code",
   "execution_count": 105,
   "metadata": {},
   "outputs": [],
   "source": [
    "guns_death_data_path = \"./guns-data/interactive_data.csv\"\n",
    "guns_data = read_csv(guns_death_data_path)"
   ]
  },
  {
   "cell_type": "markdown",
   "metadata": {},
   "source": [
    "## Result 1\n",
    "* The Number of Death each Year"
   ]
  },
  {
   "cell_type": "code",
   "execution_count": 106,
   "metadata": {},
   "outputs": [
    {
     "name": "stdout",
     "output_type": "stream",
     "text": [
      "More than 33599 people are fatally shot in the U.S. each year\n"
     ]
    }
   ],
   "source": [
    "total_per_year = search_data(guns_data, \"None selected\", \"None selected\", \"None selected\", \"None selected\")\n",
    "print(\"More than \"+ str(total_per_year) +\" people are fatally shot in the U.S. each year\")"
   ]
  },
  {
   "cell_type": "markdown",
   "metadata": {},
   "source": [
    "## Result 2\n",
    "* the total suicide/total case"
   ]
  },
  {
   "cell_type": "code",
   "execution_count": 107,
   "metadata": {},
   "outputs": [
    {
     "name": "stdout",
     "output_type": "stream",
     "text": [
      "But nearly 62.6744843597% of guns deaths are suicides\n"
     ]
    }
   ],
   "source": [
    "total_suicide = search_data(guns_data,\"Suicide\", \"None selected\", \"None selected\", \"None selected\")\n",
    "suicide_ratio = total_suicide/total_per_year*100\n",
    "print(\"But nearly \" + str(suicide_ratio) + \"% of guns deaths are suicides\")"
   ]
  },
  {
   "cell_type": "markdown",
   "metadata": {},
   "source": [
    "## Result 3\n",
    "* the percentage of male in overall suicides"
   ]
  },
  {
   "cell_type": "code",
   "execution_count": 108,
   "metadata": {},
   "outputs": [
    {
     "name": "stdout",
     "output_type": "stream",
     "text": [
      "More than 86.2475068857 percent of suicide victioms are males\n"
     ]
    }
   ],
   "source": [
    "total_men_suicide = search_data(guns_data,\"Suicide\", \"Male\", \"None selected\", \"None selected\")\n",
    "men_ratio = total_men_suicide/total_suicide*100\n",
    "print(\"More than \" + str(men_ratio) + \" percent of suicide victioms are males\")"
   ]
  },
  {
   "cell_type": "markdown",
   "metadata": {},
   "source": [
    "## Result 4\n",
    "* the percentage of suicide of men age 35 or older"
   ]
  },
  {
   "cell_type": "code",
   "execution_count": 109,
   "metadata": {},
   "outputs": [
    {
     "name": "stdout",
     "output_type": "stream",
     "text": [
      "... and more than 64.8067242853% of all suicides are men age 45 or older\n"
     ]
    }
   ],
   "source": [
    "total_men_suicide_65 = search_data(guns_data, \"Suicide\", \"Male\", \"65+\", \"None selected\")\n",
    "total_men_suicide_35 = search_data(guns_data, \"Suicide\", \"Male\", \"35 - 64\", \"None selected\")\n",
    "men_65_ratio = total_men_suicide_65/total_suicide*100\n",
    "men_35_ratio = total_men_suicide_35/total_suicide*100\n",
    "print(\"... and more than \" + str(men_65_ratio+men_35_ratio) + \"% of all suicides are men age 45 or older\")"
   ]
  },
  {
   "cell_type": "markdown",
   "metadata": {},
   "source": [
    "## Result 5\n",
    "* Homicides overview"
   ]
  },
  {
   "cell_type": "code",
   "execution_count": 110,
   "metadata": {},
   "outputs": [
    {
     "name": "stdout",
     "output_type": "stream",
     "text": [
      "Another 34.8998482098% of all gun deaths -- about 11726 in total each year -- are homicides\n"
     ]
    }
   ],
   "source": [
    "total_homicides = search_data(guns_data, \"Homicide\", \"None selected\", \"None selected\", \"None selected\")\n",
    "homicides_ratio = total_homicides/total_per_year*100\n",
    "print(\"Another \" + str(homicides_ratio) + \"% of all gun deaths -- about \" + str(total_homicides) + \" in total each year -- are homicides\")"
   ]
  },
  {
   "cell_type": "markdown",
   "metadata": {},
   "source": [
    "## Result 6\n",
    "* Young Men as Homicide victims"
   ]
  },
  {
   "cell_type": "code",
   "execution_count": 121,
   "metadata": {},
   "outputs": [
    {
     "name": "stdout",
     "output_type": "stream",
     "text": [
      "More than 55.6029336517% of homicide victims are young men\n"
     ]
    }
   ],
   "source": [
    "total_young_men_homicides = search_data(guns_data, \"Homicide\", \"Male\", \"15 - 34\", \"None selected\")\n",
    "young_men_homicides_ratio = total_young_men_homicides/total_homicides*100\n",
    "print(\"More than \" + str(young_men_homicides_ratio) + \"% of homicide victims are young men\")"
   ]
  },
  {
   "cell_type": "markdown",
   "metadata": {},
   "source": [
    "## Result 7\n",
    "* blacks in young men homicide"
   ]
  },
  {
   "cell_type": "code",
   "execution_count": 122,
   "metadata": {
    "scrolled": true
   },
   "outputs": [
    {
     "name": "stdout",
     "output_type": "stream",
     "text": [
      "More than 66.1349693252% of homicide victims are young men\n"
     ]
    }
   ],
   "source": [
    "total_young_men_black_homicides = search_data(guns_data, \"Homicide\", \"Male\", \"15 - 34\", \"Black\")\n",
    "young_men_black_homicides_ratio = total_young_men_black_homicides/total_young_men_homicides*100\n",
    "print(\"More than \" + str(young_men_black_homicides_ratio) + \"% of homicide victims are young men\")"
   ]
  },
  {
   "cell_type": "markdown",
   "metadata": {},
   "source": [
    "## Result 8\n",
    "* Women as Homicide victims"
   ]
  },
  {
   "cell_type": "code",
   "execution_count": 124,
   "metadata": {},
   "outputs": [
    {
     "name": "stdout",
     "output_type": "stream",
     "text": [
      "Women are far less likely to be gun homicide victims -- about 1791 of them are killed each year, many in domestic violence incidents\n"
     ]
    }
   ],
   "source": [
    "total_women_homicide = search_data(guns_data, \"Homicide\", \"Female\", \"None selected\", \"None selected\")\n",
    "print(\"Women are far less likely to be gun homicide victims -- about \" + str(total_women_homicide) + \" of them are killed each year, many in domestic violence incidents\")"
   ]
  }
 ],
 "metadata": {
  "kernelspec": {
   "display_name": "Python [conda root]",
   "language": "python",
   "name": "conda-root-py"
  },
  "language_info": {
   "codemirror_mode": {
    "name": "ipython",
    "version": 3
   },
   "file_extension": ".py",
   "mimetype": "text/x-python",
   "name": "python",
   "nbconvert_exporter": "python",
   "pygments_lexer": "ipython3",
   "version": "3.6.1"
  }
 },
 "nbformat": 4,
 "nbformat_minor": 2
}
