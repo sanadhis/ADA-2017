{
 "cells": [
  {
   "cell_type": "markdown",
   "metadata": {},
   "source": [
    "## Work flow of final project"
   ]
  },
  {
   "cell_type": "markdown",
   "metadata": {},
   "source": [
    "## Libraries"
   ]
  },
  {
   "cell_type": "code",
   "execution_count": null,
   "metadata": {
    "collapsed": true
   },
   "outputs": [],
   "source": []
  },
  {
   "cell_type": "markdown",
   "metadata": {},
   "source": [
    "### Dataset\n",
    "We extract 2 datasets from million-songs-dataset for our project:\n",
    "* top 1000 popular songs in each year\n",
    "* top 1000 unpopular songs in each year\n",
    "\n",
    "The measure of popularity depends on hotttnesss feature in each song\n",
    "\n",
    "\n",
    "### Dataset description\n",
    "TBD"
   ]
  },
  {
   "cell_type": "code",
   "execution_count": 1,
   "metadata": {
    "collapsed": true
   },
   "outputs": [],
   "source": [
    "### Insert the code for loading dataset here ####\n"
   ]
  },
  {
   "cell_type": "markdown",
   "metadata": {},
   "source": [
    "## Solution to our research questions"
   ]
  },
  {
   "cell_type": "markdown",
   "metadata": {},
   "source": [
    "### Q1.1 What is the characteristic/metrics of popular songs?\n",
    "In this part, we want to find the features which lead to the popularity of the song. In order to find the important feature, we propose to use random forest to predict whether this song is popular/unpopular. Once we get high accurcay by random forest, we observe the attribute **feature_importances_** to see which feature matters the most. Lastly, we combine our common sense to see whether the result got from random forest is reasonable."
   ]
  },
  {
   "cell_type": "code",
   "execution_count": null,
   "metadata": {
    "collapsed": true
   },
   "outputs": [],
   "source": []
  },
  {
   "cell_type": "markdown",
   "metadata": {},
   "source": [
    "### Q1.2 What are the challenges that music industry faces? \n",
    "#### Perhaps we need to find the similarities of recent popular songs"
   ]
  },
  {
   "cell_type": "code",
   "execution_count": null,
   "metadata": {
    "collapsed": true
   },
   "outputs": [],
   "source": []
  },
  {
   "cell_type": "markdown",
   "metadata": {},
   "source": [
    "### Q1.3 Can we analyze and predict the trend in music industry from years to years?\n",
    "#### I think we can only conclude which genre is popular in specific year, and we try to find the story behind it. Besides, we can find the duration of popular genre and perhaps it could help us know how long this popular genre would proceed"
   ]
  },
  {
   "cell_type": "code",
   "execution_count": null,
   "metadata": {
    "collapsed": true
   },
   "outputs": [],
   "source": []
  },
  {
   "cell_type": "markdown",
   "metadata": {},
   "source": [
    "### Q2.1 Does the herding bias for hearing songs really happen in our society?\n",
    "#### For this, we try to see whether the songs sung by famous singers are usually popular. We constrain our data to songs during recent 10 years, and find the top 30 famous singers, find their songs and analyze the popularity of these songs"
   ]
  },
  {
   "cell_type": "code",
   "execution_count": null,
   "metadata": {
    "collapsed": true
   },
   "outputs": [],
   "source": []
  },
  {
   "cell_type": "markdown",
   "metadata": {},
   "source": [
    "### Q2.2 Do people tend to listen to famous singers rather than the songs themselves? \n",
    "#### In this problem, we need train_triplet.txt to help us. train_triplet.txt records thre features:\n",
    "> user-ID    : ID of users <br>\n",
    "> song-ID    : ID of songs <br>\n",
    "> click-time : how many times this user listen to this song\n",
    "\n",
    "So we try to top 30 songs which get most total click times, and find the singers to see whether most of them are famous singers"
   ]
  },
  {
   "cell_type": "code",
   "execution_count": null,
   "metadata": {
    "collapsed": true
   },
   "outputs": [],
   "source": []
  },
  {
   "cell_type": "markdown",
   "metadata": {},
   "source": [
    "### Q2.3 Can we say that the career path for singers began by covering songs which come originally from famous artists?"
   ]
  },
  {
   "cell_type": "code",
   "execution_count": null,
   "metadata": {
    "collapsed": true
   },
   "outputs": [],
   "source": []
  },
  {
   "cell_type": "markdown",
   "metadata": {},
   "source": [
    "### Q3.1 Do people care more about lyrics?\n",
    "#### Here we assume that people don't care much about lyrics if there are lots of repeats of words in the lyrics. Hence, the strategy here is to compress the lyrics with word compression and check the compression ratio. If the compression ratio is really high, usually it means there're many repeats in the lyrics. \n",
    "#### In the choice of word compression, we use Lempel-Ziv algorithm"
   ]
  },
  {
   "cell_type": "code",
   "execution_count": null,
   "metadata": {
    "collapsed": true
   },
   "outputs": [],
   "source": []
  },
  {
   "cell_type": "markdown",
   "metadata": {},
   "source": [
    "### Q3.2 Can we measure the quality and popularity of a song from its lyrics? Do the popular songs have the good quality of lyrics from literacy view points?\n"
   ]
  },
  {
   "cell_type": "code",
   "execution_count": null,
   "metadata": {
    "collapsed": true
   },
   "outputs": [],
   "source": []
  },
  {
   "cell_type": "markdown",
   "metadata": {},
   "source": [
    "### Q4.1 Can we find plagiarisms in music industry?\n",
    "#### According to wiki, music plagiarism now occurs in two contexts - with a musical idea (that is, a melody or motif) or sampling (taking a portion of one sound recording and reusing it in a different song). With Hence, we would try to use these two features to cluster the songs to see whether there're some similar songs, which are not considered as the cover song of the songs in that cluster."
   ]
  },
  {
   "cell_type": "code",
   "execution_count": null,
   "metadata": {
    "collapsed": true
   },
   "outputs": [],
   "source": []
  },
  {
   "cell_type": "markdown",
   "metadata": {},
   "source": [
    "### Q4.2 How often people mimick popular songs? "
   ]
  },
  {
   "cell_type": "code",
   "execution_count": null,
   "metadata": {
    "collapsed": true
   },
   "outputs": [],
   "source": []
  },
  {
   "cell_type": "markdown",
   "metadata": {},
   "source": [
    "### Q4.3 Can we find more similliarities from popular songs compared to unpopular ones? What kind of similiarities?"
   ]
  },
  {
   "cell_type": "code",
   "execution_count": null,
   "metadata": {
    "collapsed": true
   },
   "outputs": [],
   "source": []
  }
 ],
 "metadata": {
  "kernelspec": {
   "display_name": "Python 3",
   "language": "python",
   "name": "python3"
  },
  "language_info": {
   "codemirror_mode": {
    "name": "ipython",
    "version": 3
   },
   "file_extension": ".py",
   "mimetype": "text/x-python",
   "name": "python",
   "nbconvert_exporter": "python",
   "pygments_lexer": "ipython3",
   "version": "3.6.1"
  }
 },
 "nbformat": 4,
 "nbformat_minor": 2
}
