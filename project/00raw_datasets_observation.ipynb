{
 "cells": [
  {
   "cell_type": "markdown",
   "metadata": {},
   "source": [
    "## About this notebook\n",
    "This notebook contains brief and general description of the dataset. We use this one to know what features we can use to answer our research questions.\n",
    "<br>**Note that at this point, we peek to raw dataset in pickle format, no other processing has been made**"
   ]
  },
  {
   "cell_type": "markdown",
   "metadata": {},
   "source": [
    "## Libraries"
   ]
  },
  {
   "cell_type": "code",
   "execution_count": 1,
   "metadata": {},
   "outputs": [],
   "source": [
    "import pandas as pd\n",
    "from IPython.display import display"
   ]
  },
  {
   "cell_type": "markdown",
   "metadata": {},
   "source": [
    "## Vars"
   ]
  },
  {
   "cell_type": "code",
   "execution_count": 2,
   "metadata": {},
   "outputs": [],
   "source": [
    "pickle_dataset_dir = \"./datasets/pickle_files\""
   ]
  },
  {
   "cell_type": "markdown",
   "metadata": {},
   "source": [
    "## Functions"
   ]
  },
  {
   "cell_type": "markdown",
   "metadata": {},
   "source": [
    "Function to observe dataset structure in general"
   ]
  },
  {
   "cell_type": "code",
   "execution_count": 10,
   "metadata": {},
   "outputs": [],
   "source": [
    "def debug_dataframe(df):\n",
    "    print(\"Dataset size: \", df.shape)\n",
    "    print(\"Dataset columns: \", df.columns)\n",
    "    print(\"\\nPreview:\")\n",
    "    display(df.head(3))"
   ]
  },
  {
   "cell_type": "markdown",
   "metadata": {},
   "source": [
    "Function to read one single dataset pickle file"
   ]
  },
  {
   "cell_type": "code",
   "execution_count": 6,
   "metadata": {},
   "outputs": [],
   "source": [
    "def read_dataset(dataset_file):\n",
    "    df = pd.read_pickle(pickle_dataset_dir + \"/df_pickle_\" + dataset_file)\n",
    "    return df"
   ]
  },
  {
   "cell_type": "markdown",
   "metadata": {},
   "source": [
    "## Main"
   ]
  },
  {
   "cell_type": "markdown",
   "metadata": {},
   "source": [
    "# 1. Million Song Dataset (MSD)\n",
    "Million song dataset consists of the following:\n",
    "1. msd_songs : one million songs data with main feature columns\n",
    "2. msd_summary : one million songs data with aside feature columns\n",
    "3. msd_artist_location : contains location per artist_id, with latitude and longitude entries\n",
    "4. msd_artist_mbtag : contains mbtag of artist_id, note that artist_id is not unique\n",
    "5. msd_artist_similarity : contains artist similarity of certain artis_id, note that artist_id is not unique\n",
    "6. msd_artist_term : contains terms of artist_id, note that artist_id is not unique\n",
    "7. msd_tracks_per_year : contains summary of msd_songs; with only 'year', 'track_id', 'artist_name', 'song_title' columns\n",
    "8. msd_unique_artist : list of all unique artists in msd dataset\n",
    "9. msd_unique_tracks : list of all unique tracks in msd dataset"
   ]
  },
  {
   "cell_type": "markdown",
   "metadata": {},
   "source": [
    "### 1.1 msd_songs"
   ]
  },
  {
   "cell_type": "code",
   "execution_count": 13,
   "metadata": {},
   "outputs": [
    {
     "name": "stdout",
     "output_type": "stream",
     "text": [
      "Dataset size:  (1000000, 11)\n",
      "Dataset columns:  Index(['track_id', 'title', 'song_id', 'release', 'artist_id', 'artist_mbid',\n",
      "       'artist_name', 'duration', 'artist_familiarity', 'artist_hotttnesss',\n",
      "       'year'],\n",
      "      dtype='object')\n",
      "\n",
      "Preview:\n"
     ]
    },
    {
     "data": {
      "text/html": [
       "<div>\n",
       "<style>\n",
       "    .dataframe thead tr:only-child th {\n",
       "        text-align: right;\n",
       "    }\n",
       "\n",
       "    .dataframe thead th {\n",
       "        text-align: left;\n",
       "    }\n",
       "\n",
       "    .dataframe tbody tr th {\n",
       "        vertical-align: top;\n",
       "    }\n",
       "</style>\n",
       "<table border=\"1\" class=\"dataframe\">\n",
       "  <thead>\n",
       "    <tr style=\"text-align: right;\">\n",
       "      <th></th>\n",
       "      <th>track_id</th>\n",
       "      <th>title</th>\n",
       "      <th>song_id</th>\n",
       "      <th>release</th>\n",
       "      <th>artist_id</th>\n",
       "      <th>artist_mbid</th>\n",
       "      <th>artist_name</th>\n",
       "      <th>duration</th>\n",
       "      <th>artist_familiarity</th>\n",
       "      <th>artist_hotttnesss</th>\n",
       "      <th>year</th>\n",
       "    </tr>\n",
       "  </thead>\n",
       "  <tbody>\n",
       "    <tr>\n",
       "      <th>0</th>\n",
       "      <td>TRMMMYQ128F932D901</td>\n",
       "      <td>Silent Night</td>\n",
       "      <td>SOQMMHC12AB0180CB8</td>\n",
       "      <td>Monster Ballads X-Mas</td>\n",
       "      <td>ARYZTJS1187B98C555</td>\n",
       "      <td>357ff05d-848a-44cf-b608-cb34b5701ae5</td>\n",
       "      <td>Faster Pussy cat</td>\n",
       "      <td>252.05506</td>\n",
       "      <td>0.649822</td>\n",
       "      <td>0.394032</td>\n",
       "      <td>2003</td>\n",
       "    </tr>\n",
       "    <tr>\n",
       "      <th>1</th>\n",
       "      <td>TRMMMKD128F425225D</td>\n",
       "      <td>Tanssi vaan</td>\n",
       "      <td>SOVFVAK12A8C1350D9</td>\n",
       "      <td>Karkuteillä</td>\n",
       "      <td>ARMVN3U1187FB3A1EB</td>\n",
       "      <td>8d7ef530-a6fd-4f8f-b2e2-74aec765e0f9</td>\n",
       "      <td>Karkkiautomaatti</td>\n",
       "      <td>156.55138</td>\n",
       "      <td>0.439604</td>\n",
       "      <td>0.356992</td>\n",
       "      <td>1995</td>\n",
       "    </tr>\n",
       "    <tr>\n",
       "      <th>2</th>\n",
       "      <td>TRMMMRX128F93187D9</td>\n",
       "      <td>No One Could Ever</td>\n",
       "      <td>SOGTUKN12AB017F4F1</td>\n",
       "      <td>Butter</td>\n",
       "      <td>ARGEKB01187FB50750</td>\n",
       "      <td>3d403d44-36ce-465c-ad43-ae877e65adc4</td>\n",
       "      <td>Hudson Mohawke</td>\n",
       "      <td>138.97098</td>\n",
       "      <td>0.643681</td>\n",
       "      <td>0.437504</td>\n",
       "      <td>2006</td>\n",
       "    </tr>\n",
       "  </tbody>\n",
       "</table>\n",
       "</div>"
      ],
      "text/plain": [
       "             track_id              title             song_id  \\\n",
       "0  TRMMMYQ128F932D901       Silent Night  SOQMMHC12AB0180CB8   \n",
       "1  TRMMMKD128F425225D        Tanssi vaan  SOVFVAK12A8C1350D9   \n",
       "2  TRMMMRX128F93187D9  No One Could Ever  SOGTUKN12AB017F4F1   \n",
       "\n",
       "                 release           artist_id  \\\n",
       "0  Monster Ballads X-Mas  ARYZTJS1187B98C555   \n",
       "1            Karkuteillä  ARMVN3U1187FB3A1EB   \n",
       "2                 Butter  ARGEKB01187FB50750   \n",
       "\n",
       "                            artist_mbid       artist_name   duration  \\\n",
       "0  357ff05d-848a-44cf-b608-cb34b5701ae5  Faster Pussy cat  252.05506   \n",
       "1  8d7ef530-a6fd-4f8f-b2e2-74aec765e0f9  Karkkiautomaatti  156.55138   \n",
       "2  3d403d44-36ce-465c-ad43-ae877e65adc4    Hudson Mohawke  138.97098   \n",
       "\n",
       "   artist_familiarity  artist_hotttnesss  year  \n",
       "0            0.649822           0.394032  2003  \n",
       "1            0.439604           0.356992  1995  \n",
       "2            0.643681           0.437504  2006  "
      ]
     },
     "metadata": {},
     "output_type": "display_data"
    }
   ],
   "source": [
    "df_msd_songs = read_dataset(\"msd_songs\")\n",
    "debug_dataframe(df_msd_songs)"
   ]
  },
  {
   "cell_type": "markdown",
   "metadata": {},
   "source": [
    "### 1.2 msd_summary"
   ]
  },
  {
   "cell_type": "code",
   "execution_count": 12,
   "metadata": {},
   "outputs": [
    {
     "name": "stdout",
     "output_type": "stream",
     "text": [
      "Dataset size:  (1000000, 53)\n",
      "Dataset columns:  Index(['analysis_sample_rate', 'audio_md5', 'danceability', 'duration',\n",
      "       'end_of_fade_in', 'energy', 'idx_bars_confidence', 'idx_bars_start',\n",
      "       'idx_beats_confidence', 'idx_beats_start', 'idx_sections_confidence',\n",
      "       'idx_sections_start', 'idx_segments_confidence',\n",
      "       'idx_segments_loudness_max', 'idx_segments_loudness_max_time',\n",
      "       'idx_segments_loudness_start', 'idx_segments_pitches',\n",
      "       'idx_segments_start', 'idx_segments_timbre', 'idx_tatums_confidence',\n",
      "       'idx_tatums_start', 'key', 'key_confidence', 'loudness', 'mode',\n",
      "       'mode_confidence', 'start_of_fade_out', 'tempo', 'time_signature',\n",
      "       'time_signature_confidence', 'track_id', 'analyzer_version',\n",
      "       'artist_7digitalid', 'artist_familiarity', 'artist_hotttnesss',\n",
      "       'artist_id', 'artist_latitude', 'artist_location', 'artist_longitude',\n",
      "       'artist_mbid', 'artist_name', 'artist_playmeid', 'genre',\n",
      "       'idx_artist_terms', 'idx_similar_artists', 'release',\n",
      "       'release_7digitalid', 'song_hotttnesss', 'song_id', 'title',\n",
      "       'track_7digitalid', 'idx_artist_mbtags', 'year'],\n",
      "      dtype='object')\n",
      "\n",
      "Preview:\n"
     ]
    },
    {
     "data": {
      "text/html": [
       "<div>\n",
       "<style>\n",
       "    .dataframe thead tr:only-child th {\n",
       "        text-align: right;\n",
       "    }\n",
       "\n",
       "    .dataframe thead th {\n",
       "        text-align: left;\n",
       "    }\n",
       "\n",
       "    .dataframe tbody tr th {\n",
       "        vertical-align: top;\n",
       "    }\n",
       "</style>\n",
       "<table border=\"1\" class=\"dataframe\">\n",
       "  <thead>\n",
       "    <tr style=\"text-align: right;\">\n",
       "      <th></th>\n",
       "      <th>analysis_sample_rate</th>\n",
       "      <th>audio_md5</th>\n",
       "      <th>danceability</th>\n",
       "      <th>duration</th>\n",
       "      <th>end_of_fade_in</th>\n",
       "      <th>energy</th>\n",
       "      <th>idx_bars_confidence</th>\n",
       "      <th>idx_bars_start</th>\n",
       "      <th>idx_beats_confidence</th>\n",
       "      <th>idx_beats_start</th>\n",
       "      <th>...</th>\n",
       "      <th>idx_artist_terms</th>\n",
       "      <th>idx_similar_artists</th>\n",
       "      <th>release</th>\n",
       "      <th>release_7digitalid</th>\n",
       "      <th>song_hotttnesss</th>\n",
       "      <th>song_id</th>\n",
       "      <th>title</th>\n",
       "      <th>track_7digitalid</th>\n",
       "      <th>idx_artist_mbtags</th>\n",
       "      <th>year</th>\n",
       "    </tr>\n",
       "  </thead>\n",
       "  <tbody>\n",
       "    <tr>\n",
       "      <th>0</th>\n",
       "      <td>22050</td>\n",
       "      <td>aee9820911781c734e7694c5432990ca</td>\n",
       "      <td>0.0</td>\n",
       "      <td>252.05506</td>\n",
       "      <td>2.049</td>\n",
       "      <td>0.0</td>\n",
       "      <td>0</td>\n",
       "      <td>0</td>\n",
       "      <td>0</td>\n",
       "      <td>0</td>\n",
       "      <td>...</td>\n",
       "      <td>0</td>\n",
       "      <td>0</td>\n",
       "      <td>Monster Ballads X-Mas</td>\n",
       "      <td>633681</td>\n",
       "      <td>0.542899</td>\n",
       "      <td>SOQMMHC12AB0180CB8</td>\n",
       "      <td>Silent Night</td>\n",
       "      <td>7032331</td>\n",
       "      <td>0</td>\n",
       "      <td>2003</td>\n",
       "    </tr>\n",
       "    <tr>\n",
       "      <th>1</th>\n",
       "      <td>22050</td>\n",
       "      <td>ed222d07c83bac7689d52753610a513a</td>\n",
       "      <td>0.0</td>\n",
       "      <td>156.55138</td>\n",
       "      <td>0.258</td>\n",
       "      <td>0.0</td>\n",
       "      <td>0</td>\n",
       "      <td>0</td>\n",
       "      <td>0</td>\n",
       "      <td>0</td>\n",
       "      <td>...</td>\n",
       "      <td>0</td>\n",
       "      <td>0</td>\n",
       "      <td>Karkuteillä</td>\n",
       "      <td>145266</td>\n",
       "      <td>0.299877</td>\n",
       "      <td>SOVFVAK12A8C1350D9</td>\n",
       "      <td>Tanssi vaan</td>\n",
       "      <td>1514808</td>\n",
       "      <td>0</td>\n",
       "      <td>1995</td>\n",
       "    </tr>\n",
       "    <tr>\n",
       "      <th>2</th>\n",
       "      <td>22050</td>\n",
       "      <td>96c7104889a128fef84fa469d60e380c</td>\n",
       "      <td>0.0</td>\n",
       "      <td>138.97098</td>\n",
       "      <td>0.000</td>\n",
       "      <td>0.0</td>\n",
       "      <td>0</td>\n",
       "      <td>0</td>\n",
       "      <td>0</td>\n",
       "      <td>0</td>\n",
       "      <td>...</td>\n",
       "      <td>0</td>\n",
       "      <td>0</td>\n",
       "      <td>Butter</td>\n",
       "      <td>625706</td>\n",
       "      <td>0.617871</td>\n",
       "      <td>SOGTUKN12AB017F4F1</td>\n",
       "      <td>No One Could Ever</td>\n",
       "      <td>6945353</td>\n",
       "      <td>0</td>\n",
       "      <td>2006</td>\n",
       "    </tr>\n",
       "  </tbody>\n",
       "</table>\n",
       "<p>3 rows × 53 columns</p>\n",
       "</div>"
      ],
      "text/plain": [
       "   analysis_sample_rate                         audio_md5  danceability  \\\n",
       "0                 22050  aee9820911781c734e7694c5432990ca           0.0   \n",
       "1                 22050  ed222d07c83bac7689d52753610a513a           0.0   \n",
       "2                 22050  96c7104889a128fef84fa469d60e380c           0.0   \n",
       "\n",
       "    duration  end_of_fade_in  energy  idx_bars_confidence  idx_bars_start  \\\n",
       "0  252.05506           2.049     0.0                    0               0   \n",
       "1  156.55138           0.258     0.0                    0               0   \n",
       "2  138.97098           0.000     0.0                    0               0   \n",
       "\n",
       "   idx_beats_confidence  idx_beats_start  ...   idx_artist_terms  \\\n",
       "0                     0                0  ...                  0   \n",
       "1                     0                0  ...                  0   \n",
       "2                     0                0  ...                  0   \n",
       "\n",
       "   idx_similar_artists                release  release_7digitalid  \\\n",
       "0                    0  Monster Ballads X-Mas              633681   \n",
       "1                    0            Karkuteillä              145266   \n",
       "2                    0                 Butter              625706   \n",
       "\n",
       "   song_hotttnesss             song_id              title  track_7digitalid  \\\n",
       "0         0.542899  SOQMMHC12AB0180CB8       Silent Night           7032331   \n",
       "1         0.299877  SOVFVAK12A8C1350D9        Tanssi vaan           1514808   \n",
       "2         0.617871  SOGTUKN12AB017F4F1  No One Could Ever           6945353   \n",
       "\n",
       "   idx_artist_mbtags  year  \n",
       "0                  0  2003  \n",
       "1                  0  1995  \n",
       "2                  0  2006  \n",
       "\n",
       "[3 rows x 53 columns]"
      ]
     },
     "metadata": {},
     "output_type": "display_data"
    }
   ],
   "source": [
    "df_msd_summary = read_dataset(\"msd_summary\")\n",
    "debug_dataframe(df_msd_summary)"
   ]
  },
  {
   "cell_type": "markdown",
   "metadata": {},
   "source": [
    "### 1.3 msd_artist_location"
   ]
  },
  {
   "cell_type": "code",
   "execution_count": 14,
   "metadata": {},
   "outputs": [
    {
     "name": "stdout",
     "output_type": "stream",
     "text": [
      "Dataset size:  (13850, 5)\n",
      "Dataset columns:  Index(['artist_id', 'lat', 'long', 'Name', 'Location'], dtype='object')\n",
      "\n",
      "Preview:\n"
     ]
    },
    {
     "data": {
      "text/html": [
       "<div>\n",
       "<style>\n",
       "    .dataframe thead tr:only-child th {\n",
       "        text-align: right;\n",
       "    }\n",
       "\n",
       "    .dataframe thead th {\n",
       "        text-align: left;\n",
       "    }\n",
       "\n",
       "    .dataframe tbody tr th {\n",
       "        vertical-align: top;\n",
       "    }\n",
       "</style>\n",
       "<table border=\"1\" class=\"dataframe\">\n",
       "  <thead>\n",
       "    <tr style=\"text-align: right;\">\n",
       "      <th></th>\n",
       "      <th>artist_id</th>\n",
       "      <th>lat</th>\n",
       "      <th>long</th>\n",
       "      <th>Name</th>\n",
       "      <th>Location</th>\n",
       "    </tr>\n",
       "  </thead>\n",
       "  <tbody>\n",
       "    <tr>\n",
       "      <th>0</th>\n",
       "      <td>ARZGXZG1187B9B56B6</td>\n",
       "      <td>-16.96595</td>\n",
       "      <td>-61.14804</td>\n",
       "      <td>Endless Blue</td>\n",
       "      <td>Santa Cruz</td>\n",
       "    </tr>\n",
       "    <tr>\n",
       "      <th>1</th>\n",
       "      <td>AR8K6F31187B99C2BC</td>\n",
       "      <td>46.44231</td>\n",
       "      <td>-93.36586</td>\n",
       "      <td>Go Fish</td>\n",
       "      <td>Twin Cities, MN</td>\n",
       "    </tr>\n",
       "    <tr>\n",
       "      <th>2</th>\n",
       "      <td>ARHJJ771187FB5B581</td>\n",
       "      <td>51.59678</td>\n",
       "      <td>-0.33556</td>\n",
       "      <td>Screaming Lord Sutch</td>\n",
       "      <td>Harrow, Middlesex, England</td>\n",
       "    </tr>\n",
       "  </tbody>\n",
       "</table>\n",
       "</div>"
      ],
      "text/plain": [
       "            artist_id       lat      long                  Name  \\\n",
       "0  ARZGXZG1187B9B56B6 -16.96595 -61.14804          Endless Blue   \n",
       "1  AR8K6F31187B99C2BC  46.44231 -93.36586               Go Fish   \n",
       "2  ARHJJ771187FB5B581  51.59678  -0.33556  Screaming Lord Sutch   \n",
       "\n",
       "                     Location  \n",
       "0                  Santa Cruz  \n",
       "1             Twin Cities, MN  \n",
       "2  Harrow, Middlesex, England  "
      ]
     },
     "metadata": {},
     "output_type": "display_data"
    }
   ],
   "source": [
    "df_msd_artist_location= read_dataset(\"msd_artist_location\")\n",
    "debug_dataframe(df_msd_artist_location)"
   ]
  },
  {
   "cell_type": "markdown",
   "metadata": {},
   "source": [
    "### 1.4 msd_artist_mbtag"
   ]
  },
  {
   "cell_type": "code",
   "execution_count": 15,
   "metadata": {},
   "outputs": [
    {
     "name": "stdout",
     "output_type": "stream",
     "text": [
      "Dataset size:  (24777, 2)\n",
      "Dataset columns:  Index(['artist_id', 'mbtag'], dtype='object')\n",
      "\n",
      "Preview:\n"
     ]
    },
    {
     "data": {
      "text/html": [
       "<div>\n",
       "<style>\n",
       "    .dataframe thead tr:only-child th {\n",
       "        text-align: right;\n",
       "    }\n",
       "\n",
       "    .dataframe thead th {\n",
       "        text-align: left;\n",
       "    }\n",
       "\n",
       "    .dataframe tbody tr th {\n",
       "        vertical-align: top;\n",
       "    }\n",
       "</style>\n",
       "<table border=\"1\" class=\"dataframe\">\n",
       "  <thead>\n",
       "    <tr style=\"text-align: right;\">\n",
       "      <th></th>\n",
       "      <th>artist_id</th>\n",
       "      <th>mbtag</th>\n",
       "    </tr>\n",
       "  </thead>\n",
       "  <tbody>\n",
       "    <tr>\n",
       "      <th>0</th>\n",
       "      <td>AR002UA1187B9A637D</td>\n",
       "      <td>uk</td>\n",
       "    </tr>\n",
       "    <tr>\n",
       "      <th>1</th>\n",
       "      <td>AR002UA1187B9A637D</td>\n",
       "      <td>rock</td>\n",
       "    </tr>\n",
       "    <tr>\n",
       "      <th>2</th>\n",
       "      <td>AR002UA1187B9A637D</td>\n",
       "      <td>garage rock</td>\n",
       "    </tr>\n",
       "  </tbody>\n",
       "</table>\n",
       "</div>"
      ],
      "text/plain": [
       "            artist_id        mbtag\n",
       "0  AR002UA1187B9A637D           uk\n",
       "1  AR002UA1187B9A637D         rock\n",
       "2  AR002UA1187B9A637D  garage rock"
      ]
     },
     "metadata": {},
     "output_type": "display_data"
    }
   ],
   "source": [
    "df_msd_artist_mbtag = read_dataset(\"msd_artist_mbtag\")\n",
    "debug_dataframe(df_msd_artist_mbtag)"
   ]
  },
  {
   "cell_type": "markdown",
   "metadata": {},
   "source": [
    "### 1.5 msd_artist_similarity"
   ]
  },
  {
   "cell_type": "code",
   "execution_count": 17,
   "metadata": {},
   "outputs": [
    {
     "name": "stdout",
     "output_type": "stream",
     "text": [
      "Dataset size:  (2201916, 2)\n",
      "Dataset columns:  Index(['artist_id', 'similliar_artist_id'], dtype='object')\n",
      "\n",
      "Preview:\n"
     ]
    },
    {
     "data": {
      "text/html": [
       "<div>\n",
       "<style>\n",
       "    .dataframe thead tr:only-child th {\n",
       "        text-align: right;\n",
       "    }\n",
       "\n",
       "    .dataframe thead th {\n",
       "        text-align: left;\n",
       "    }\n",
       "\n",
       "    .dataframe tbody tr th {\n",
       "        vertical-align: top;\n",
       "    }\n",
       "</style>\n",
       "<table border=\"1\" class=\"dataframe\">\n",
       "  <thead>\n",
       "    <tr style=\"text-align: right;\">\n",
       "      <th></th>\n",
       "      <th>artist_id</th>\n",
       "      <th>similliar_artist_id</th>\n",
       "    </tr>\n",
       "  </thead>\n",
       "  <tbody>\n",
       "    <tr>\n",
       "      <th>0</th>\n",
       "      <td>AR002UA1187B9A637D</td>\n",
       "      <td>ARQDOR81187FB3B06C</td>\n",
       "    </tr>\n",
       "    <tr>\n",
       "      <th>1</th>\n",
       "      <td>AR002UA1187B9A637D</td>\n",
       "      <td>AROHMXJ1187B989023</td>\n",
       "    </tr>\n",
       "    <tr>\n",
       "      <th>2</th>\n",
       "      <td>AR002UA1187B9A637D</td>\n",
       "      <td>ARAGWVR1187B9B749B</td>\n",
       "    </tr>\n",
       "  </tbody>\n",
       "</table>\n",
       "</div>"
      ],
      "text/plain": [
       "            artist_id similliar_artist_id\n",
       "0  AR002UA1187B9A637D  ARQDOR81187FB3B06C\n",
       "1  AR002UA1187B9A637D  AROHMXJ1187B989023\n",
       "2  AR002UA1187B9A637D  ARAGWVR1187B9B749B"
      ]
     },
     "metadata": {},
     "output_type": "display_data"
    }
   ],
   "source": [
    "df_msd_artist_similarity = read_dataset(\"msd_artist_similarity\")\n",
    "debug_dataframe(df_msd_artist_similarity)"
   ]
  },
  {
   "cell_type": "markdown",
   "metadata": {},
   "source": [
    "### 1.6 msd_artist_term"
   ]
  },
  {
   "cell_type": "code",
   "execution_count": 18,
   "metadata": {
    "scrolled": true
   },
   "outputs": [
    {
     "name": "stdout",
     "output_type": "stream",
     "text": [
      "Dataset size:  (1109381, 2)\n",
      "Dataset columns:  Index(['artist_id', 'term'], dtype='object')\n",
      "\n",
      "Preview:\n"
     ]
    },
    {
     "data": {
      "text/html": [
       "<div>\n",
       "<style>\n",
       "    .dataframe thead tr:only-child th {\n",
       "        text-align: right;\n",
       "    }\n",
       "\n",
       "    .dataframe thead th {\n",
       "        text-align: left;\n",
       "    }\n",
       "\n",
       "    .dataframe tbody tr th {\n",
       "        vertical-align: top;\n",
       "    }\n",
       "</style>\n",
       "<table border=\"1\" class=\"dataframe\">\n",
       "  <thead>\n",
       "    <tr style=\"text-align: right;\">\n",
       "      <th></th>\n",
       "      <th>artist_id</th>\n",
       "      <th>term</th>\n",
       "    </tr>\n",
       "  </thead>\n",
       "  <tbody>\n",
       "    <tr>\n",
       "      <th>0</th>\n",
       "      <td>AR002UA1187B9A637D</td>\n",
       "      <td>garage rock</td>\n",
       "    </tr>\n",
       "    <tr>\n",
       "      <th>1</th>\n",
       "      <td>AR002UA1187B9A637D</td>\n",
       "      <td>country rock</td>\n",
       "    </tr>\n",
       "    <tr>\n",
       "      <th>2</th>\n",
       "      <td>AR002UA1187B9A637D</td>\n",
       "      <td>free jazz</td>\n",
       "    </tr>\n",
       "  </tbody>\n",
       "</table>\n",
       "</div>"
      ],
      "text/plain": [
       "            artist_id          term\n",
       "0  AR002UA1187B9A637D   garage rock\n",
       "1  AR002UA1187B9A637D  country rock\n",
       "2  AR002UA1187B9A637D     free jazz"
      ]
     },
     "metadata": {},
     "output_type": "display_data"
    }
   ],
   "source": [
    "df_msd_artist_term = read_dataset(\"msd_artist_term\")\n",
    "debug_dataframe(df_msd_artist_term)"
   ]
  },
  {
   "cell_type": "markdown",
   "metadata": {},
   "source": [
    "### 1.7 msd_tracks_per_year"
   ]
  },
  {
   "cell_type": "code",
   "execution_count": 19,
   "metadata": {},
   "outputs": [
    {
     "name": "stdout",
     "output_type": "stream",
     "text": [
      "Dataset size:  (515576, 4)\n",
      "Dataset columns:  Index(['year', 'track_id', 'artist_name', 'song_title'], dtype='object')\n",
      "\n",
      "Preview:\n"
     ]
    },
    {
     "data": {
      "text/html": [
       "<div>\n",
       "<style>\n",
       "    .dataframe thead tr:only-child th {\n",
       "        text-align: right;\n",
       "    }\n",
       "\n",
       "    .dataframe thead th {\n",
       "        text-align: left;\n",
       "    }\n",
       "\n",
       "    .dataframe tbody tr th {\n",
       "        vertical-align: top;\n",
       "    }\n",
       "</style>\n",
       "<table border=\"1\" class=\"dataframe\">\n",
       "  <thead>\n",
       "    <tr style=\"text-align: right;\">\n",
       "      <th></th>\n",
       "      <th>year</th>\n",
       "      <th>track_id</th>\n",
       "      <th>artist_name</th>\n",
       "      <th>song_title</th>\n",
       "    </tr>\n",
       "  </thead>\n",
       "  <tbody>\n",
       "    <tr>\n",
       "      <th>0</th>\n",
       "      <td>1922</td>\n",
       "      <td>TRSGHLU128F421DF83</td>\n",
       "      <td>Alberta Hunter</td>\n",
       "      <td>Don't Pan Me</td>\n",
       "    </tr>\n",
       "    <tr>\n",
       "      <th>1</th>\n",
       "      <td>1922</td>\n",
       "      <td>TRMYDFV128F42511FC</td>\n",
       "      <td>Barrington Levy</td>\n",
       "      <td>Warm And Sunny Day</td>\n",
       "    </tr>\n",
       "    <tr>\n",
       "      <th>2</th>\n",
       "      <td>1922</td>\n",
       "      <td>TRRAHXQ128F42511FF</td>\n",
       "      <td>Barrington Levy</td>\n",
       "      <td>Looking My Love</td>\n",
       "    </tr>\n",
       "  </tbody>\n",
       "</table>\n",
       "</div>"
      ],
      "text/plain": [
       "   year            track_id      artist_name          song_title\n",
       "0  1922  TRSGHLU128F421DF83   Alberta Hunter        Don't Pan Me\n",
       "1  1922  TRMYDFV128F42511FC  Barrington Levy  Warm And Sunny Day\n",
       "2  1922  TRRAHXQ128F42511FF  Barrington Levy     Looking My Love"
      ]
     },
     "metadata": {},
     "output_type": "display_data"
    }
   ],
   "source": [
    "df_msd_tracks_per_year = read_dataset(\"msd_tracks_per_year\")\n",
    "debug_dataframe(df_msd_tracks_per_year)"
   ]
  },
  {
   "cell_type": "markdown",
   "metadata": {},
   "source": [
    "### 1.8 msd_unique_artists"
   ]
  },
  {
   "cell_type": "code",
   "execution_count": 21,
   "metadata": {},
   "outputs": [
    {
     "name": "stdout",
     "output_type": "stream",
     "text": [
      "Dataset size:  (44745, 4)\n",
      "Dataset columns:  Index(['artist_id', 'artist_mbid', 'track_id', 'artist_name'], dtype='object')\n",
      "\n",
      "Preview:\n"
     ]
    },
    {
     "data": {
      "text/html": [
       "<div>\n",
       "<style>\n",
       "    .dataframe thead tr:only-child th {\n",
       "        text-align: right;\n",
       "    }\n",
       "\n",
       "    .dataframe thead th {\n",
       "        text-align: left;\n",
       "    }\n",
       "\n",
       "    .dataframe tbody tr th {\n",
       "        vertical-align: top;\n",
       "    }\n",
       "</style>\n",
       "<table border=\"1\" class=\"dataframe\">\n",
       "  <thead>\n",
       "    <tr style=\"text-align: right;\">\n",
       "      <th></th>\n",
       "      <th>artist_id</th>\n",
       "      <th>artist_mbid</th>\n",
       "      <th>track_id</th>\n",
       "      <th>artist_name</th>\n",
       "    </tr>\n",
       "  </thead>\n",
       "  <tbody>\n",
       "    <tr>\n",
       "      <th>0</th>\n",
       "      <td>AR002UA1187B9A637D</td>\n",
       "      <td>7752a11c-9d8b-4220-ac44-e4a04cc8471d</td>\n",
       "      <td>TRMUOZE12903CDF721</td>\n",
       "      <td>The Bristols</td>\n",
       "    </tr>\n",
       "    <tr>\n",
       "      <th>1</th>\n",
       "      <td>AR003FB1187B994355</td>\n",
       "      <td>1dbd2d7b-64c8-46aa-9f47-ff589096d672</td>\n",
       "      <td>TRWDPFR128F93594A6</td>\n",
       "      <td>The Feds</td>\n",
       "    </tr>\n",
       "    <tr>\n",
       "      <th>2</th>\n",
       "      <td>AR006821187FB5192B</td>\n",
       "      <td>94fc1228-7032-4fe6-a485-e122e5fbee65</td>\n",
       "      <td>TRMZLJF128F4269EAC</td>\n",
       "      <td>Stephen Varcoe/Choir of King's College_ Cambri...</td>\n",
       "    </tr>\n",
       "  </tbody>\n",
       "</table>\n",
       "</div>"
      ],
      "text/plain": [
       "            artist_id                           artist_mbid  \\\n",
       "0  AR002UA1187B9A637D  7752a11c-9d8b-4220-ac44-e4a04cc8471d   \n",
       "1  AR003FB1187B994355  1dbd2d7b-64c8-46aa-9f47-ff589096d672   \n",
       "2  AR006821187FB5192B  94fc1228-7032-4fe6-a485-e122e5fbee65   \n",
       "\n",
       "             track_id                                        artist_name  \n",
       "0  TRMUOZE12903CDF721                                       The Bristols  \n",
       "1  TRWDPFR128F93594A6                                           The Feds  \n",
       "2  TRMZLJF128F4269EAC  Stephen Varcoe/Choir of King's College_ Cambri...  "
      ]
     },
     "metadata": {},
     "output_type": "display_data"
    }
   ],
   "source": [
    "df_msd_unique_artists = read_dataset(\"msd_unique_artists\")\n",
    "debug_dataframe(df_msd_unique_artists)"
   ]
  },
  {
   "cell_type": "markdown",
   "metadata": {},
   "source": [
    "### 1.9 msd_unique_tracks"
   ]
  },
  {
   "cell_type": "code",
   "execution_count": 22,
   "metadata": {},
   "outputs": [
    {
     "name": "stdout",
     "output_type": "stream",
     "text": [
      "Dataset size:  (1000000, 4)\n",
      "Dataset columns:  Index(['track_id', 'song_id', 'artist_name', 'song_title'], dtype='object')\n",
      "\n",
      "Preview:\n"
     ]
    },
    {
     "data": {
      "text/html": [
       "<div>\n",
       "<style>\n",
       "    .dataframe thead tr:only-child th {\n",
       "        text-align: right;\n",
       "    }\n",
       "\n",
       "    .dataframe thead th {\n",
       "        text-align: left;\n",
       "    }\n",
       "\n",
       "    .dataframe tbody tr th {\n",
       "        vertical-align: top;\n",
       "    }\n",
       "</style>\n",
       "<table border=\"1\" class=\"dataframe\">\n",
       "  <thead>\n",
       "    <tr style=\"text-align: right;\">\n",
       "      <th></th>\n",
       "      <th>track_id</th>\n",
       "      <th>song_id</th>\n",
       "      <th>artist_name</th>\n",
       "      <th>song_title</th>\n",
       "    </tr>\n",
       "  </thead>\n",
       "  <tbody>\n",
       "    <tr>\n",
       "      <th>0</th>\n",
       "      <td>TRMMMYQ128F932D901</td>\n",
       "      <td>SOQMMHC12AB0180CB8</td>\n",
       "      <td>Faster Pussy cat</td>\n",
       "      <td>Silent Night</td>\n",
       "    </tr>\n",
       "    <tr>\n",
       "      <th>1</th>\n",
       "      <td>TRMMMKD128F425225D</td>\n",
       "      <td>SOVFVAK12A8C1350D9</td>\n",
       "      <td>Karkkiautomaatti</td>\n",
       "      <td>Tanssi vaan</td>\n",
       "    </tr>\n",
       "    <tr>\n",
       "      <th>2</th>\n",
       "      <td>TRMMMRX128F93187D9</td>\n",
       "      <td>SOGTUKN12AB017F4F1</td>\n",
       "      <td>Hudson Mohawke</td>\n",
       "      <td>No One Could Ever</td>\n",
       "    </tr>\n",
       "  </tbody>\n",
       "</table>\n",
       "</div>"
      ],
      "text/plain": [
       "             track_id             song_id       artist_name         song_title\n",
       "0  TRMMMYQ128F932D901  SOQMMHC12AB0180CB8  Faster Pussy cat       Silent Night\n",
       "1  TRMMMKD128F425225D  SOVFVAK12A8C1350D9  Karkkiautomaatti        Tanssi vaan\n",
       "2  TRMMMRX128F93187D9  SOGTUKN12AB017F4F1    Hudson Mohawke  No One Could Ever"
      ]
     },
     "metadata": {},
     "output_type": "display_data"
    }
   ],
   "source": [
    "df_msd_unique_tracks = read_dataset(\"msd_unique_tracks\")\n",
    "debug_dataframe(df_msd_unique_tracks)"
   ]
  },
  {
   "cell_type": "markdown",
   "metadata": {},
   "source": [
    "# 2. Secondhand Song Dataset (SHS)\n",
    "TBD"
   ]
  },
  {
   "cell_type": "markdown",
   "metadata": {},
   "source": [
    "### 2.1 SHS"
   ]
  },
  {
   "cell_type": "code",
   "execution_count": 23,
   "metadata": {},
   "outputs": [],
   "source": [
    "# TBD"
   ]
  },
  {
   "cell_type": "markdown",
   "metadata": {},
   "source": [
    "# 3. MusicX Match (MXM)\n",
    "MusicX match dataset consists of the following:\n",
    "1. mxm_lyrics : contains detailed lyrics of a song, per word count per song. (track_id) is not unique"
   ]
  },
  {
   "cell_type": "markdown",
   "metadata": {},
   "source": [
    "### 3.1 mxm_lyrics"
   ]
  },
  {
   "cell_type": "code",
   "execution_count": 24,
   "metadata": {},
   "outputs": [
    {
     "name": "stdout",
     "output_type": "stream",
     "text": [
      "Dataset size:  (19045332, 5)\n",
      "Dataset columns:  Index(['track_id', 'mxm_tid', 'word', 'count', 'is_test'], dtype='object')\n",
      "\n",
      "Preview:\n"
     ]
    },
    {
     "data": {
      "text/html": [
       "<div>\n",
       "<style>\n",
       "    .dataframe thead tr:only-child th {\n",
       "        text-align: right;\n",
       "    }\n",
       "\n",
       "    .dataframe thead th {\n",
       "        text-align: left;\n",
       "    }\n",
       "\n",
       "    .dataframe tbody tr th {\n",
       "        vertical-align: top;\n",
       "    }\n",
       "</style>\n",
       "<table border=\"1\" class=\"dataframe\">\n",
       "  <thead>\n",
       "    <tr style=\"text-align: right;\">\n",
       "      <th></th>\n",
       "      <th>track_id</th>\n",
       "      <th>mxm_tid</th>\n",
       "      <th>word</th>\n",
       "      <th>count</th>\n",
       "      <th>is_test</th>\n",
       "    </tr>\n",
       "  </thead>\n",
       "  <tbody>\n",
       "    <tr>\n",
       "      <th>0</th>\n",
       "      <td>TRAAAAV128F421A322</td>\n",
       "      <td>4623710</td>\n",
       "      <td>i</td>\n",
       "      <td>6</td>\n",
       "      <td>0</td>\n",
       "    </tr>\n",
       "    <tr>\n",
       "      <th>1</th>\n",
       "      <td>TRAAAAV128F421A322</td>\n",
       "      <td>4623710</td>\n",
       "      <td>the</td>\n",
       "      <td>4</td>\n",
       "      <td>0</td>\n",
       "    </tr>\n",
       "    <tr>\n",
       "      <th>2</th>\n",
       "      <td>TRAAAAV128F421A322</td>\n",
       "      <td>4623710</td>\n",
       "      <td>you</td>\n",
       "      <td>2</td>\n",
       "      <td>0</td>\n",
       "    </tr>\n",
       "  </tbody>\n",
       "</table>\n",
       "</div>"
      ],
      "text/plain": [
       "             track_id  mxm_tid word  count  is_test\n",
       "0  TRAAAAV128F421A322  4623710    i      6        0\n",
       "1  TRAAAAV128F421A322  4623710  the      4        0\n",
       "2  TRAAAAV128F421A322  4623710  you      2        0"
      ]
     },
     "metadata": {},
     "output_type": "display_data"
    }
   ],
   "source": [
    "df_mxm_lyrics = read_dataset(\"mxm_lyrics\")\n",
    "debug_dataframe(df_mxm_lyrics)"
   ]
  },
  {
   "cell_type": "markdown",
   "metadata": {},
   "source": [
    "# 4. Lastfm Dataset (LASTFM)\n",
    "Lastfm dataset consists of the following:\n",
    "1. lastfm_similars : contains similars tracks (with score) relative to \"track_id\""
   ]
  },
  {
   "cell_type": "markdown",
   "metadata": {},
   "source": [
    "### 4.1 lastfm_similars"
   ]
  },
  {
   "cell_type": "code",
   "execution_count": 25,
   "metadata": {},
   "outputs": [
    {
     "name": "stdout",
     "output_type": "stream",
     "text": [
      "Dataset size:  (584897, 2)\n",
      "Dataset columns:  Index(['track_id', 'similars_entry'], dtype='object')\n",
      "\n",
      "Preview:\n"
     ]
    },
    {
     "data": {
      "text/html": [
       "<div>\n",
       "<style>\n",
       "    .dataframe thead tr:only-child th {\n",
       "        text-align: right;\n",
       "    }\n",
       "\n",
       "    .dataframe thead th {\n",
       "        text-align: left;\n",
       "    }\n",
       "\n",
       "    .dataframe tbody tr th {\n",
       "        vertical-align: top;\n",
       "    }\n",
       "</style>\n",
       "<table border=\"1\" class=\"dataframe\">\n",
       "  <thead>\n",
       "    <tr style=\"text-align: right;\">\n",
       "      <th></th>\n",
       "      <th>track_id</th>\n",
       "      <th>similars_entry</th>\n",
       "    </tr>\n",
       "  </thead>\n",
       "  <tbody>\n",
       "    <tr>\n",
       "      <th>0</th>\n",
       "      <td>TRCCCYE12903CFF0E9</td>\n",
       "      <td>TRHZRQH128F92F9AC2,0.498053,TRZQUEN12903CBFFBB...</td>\n",
       "    </tr>\n",
       "    <tr>\n",
       "      <th>1</th>\n",
       "      <td>TRCCCPM12903CBEEE5</td>\n",
       "      <td>TRNRRXT12903CFAD5A,1,TRWVNWV12903CBEEE7,0.5238...</td>\n",
       "    </tr>\n",
       "    <tr>\n",
       "      <th>2</th>\n",
       "      <td>TRCCCFH12903CEBC70</td>\n",
       "      <td>TRRGGCN128F92E3579,0.646036,TRTVJGV128F424A147...</td>\n",
       "    </tr>\n",
       "  </tbody>\n",
       "</table>\n",
       "</div>"
      ],
      "text/plain": [
       "             track_id                                     similars_entry\n",
       "0  TRCCCYE12903CFF0E9  TRHZRQH128F92F9AC2,0.498053,TRZQUEN12903CBFFBB...\n",
       "1  TRCCCPM12903CBEEE5  TRNRRXT12903CFAD5A,1,TRWVNWV12903CBEEE7,0.5238...\n",
       "2  TRCCCFH12903CEBC70  TRRGGCN128F92E3579,0.646036,TRTVJGV128F424A147..."
      ]
     },
     "metadata": {},
     "output_type": "display_data"
    }
   ],
   "source": [
    "df_lastfm_similars = read_dataset(\"lastfm_similars\")\n",
    "debug_dataframe(df_lastfm_similars)"
   ]
  },
  {
   "cell_type": "markdown",
   "metadata": {},
   "source": [
    "# 5. Taste Profile\n",
    "Taste profile dataset consists of the following:\n",
    "1. train_triplets : contains per song clicks per user. Note that (user_id) is not unique"
   ]
  },
  {
   "cell_type": "markdown",
   "metadata": {},
   "source": [
    "### 5.1 train_triplets"
   ]
  },
  {
   "cell_type": "code",
   "execution_count": 26,
   "metadata": {},
   "outputs": [
    {
     "name": "stdout",
     "output_type": "stream",
     "text": [
      "Dataset size:  (48373586, 3)\n",
      "Dataset columns:  Index(['user_id', 'song_id', 'play_count'], dtype='object')\n",
      "\n",
      "Preview:\n"
     ]
    },
    {
     "data": {
      "text/html": [
       "<div>\n",
       "<style>\n",
       "    .dataframe thead tr:only-child th {\n",
       "        text-align: right;\n",
       "    }\n",
       "\n",
       "    .dataframe thead th {\n",
       "        text-align: left;\n",
       "    }\n",
       "\n",
       "    .dataframe tbody tr th {\n",
       "        vertical-align: top;\n",
       "    }\n",
       "</style>\n",
       "<table border=\"1\" class=\"dataframe\">\n",
       "  <thead>\n",
       "    <tr style=\"text-align: right;\">\n",
       "      <th></th>\n",
       "      <th>user_id</th>\n",
       "      <th>song_id</th>\n",
       "      <th>play_count</th>\n",
       "    </tr>\n",
       "  </thead>\n",
       "  <tbody>\n",
       "    <tr>\n",
       "      <th>0</th>\n",
       "      <td>b80344d063b5ccb3212f76538f3d9e43d87dca9e</td>\n",
       "      <td>SOAKIMP12A8C130995</td>\n",
       "      <td>1</td>\n",
       "    </tr>\n",
       "    <tr>\n",
       "      <th>1</th>\n",
       "      <td>b80344d063b5ccb3212f76538f3d9e43d87dca9e</td>\n",
       "      <td>SOAPDEY12A81C210A9</td>\n",
       "      <td>1</td>\n",
       "    </tr>\n",
       "    <tr>\n",
       "      <th>2</th>\n",
       "      <td>b80344d063b5ccb3212f76538f3d9e43d87dca9e</td>\n",
       "      <td>SOBBMDR12A8C13253B</td>\n",
       "      <td>2</td>\n",
       "    </tr>\n",
       "  </tbody>\n",
       "</table>\n",
       "</div>"
      ],
      "text/plain": [
       "                                    user_id             song_id  play_count\n",
       "0  b80344d063b5ccb3212f76538f3d9e43d87dca9e  SOAKIMP12A8C130995           1\n",
       "1  b80344d063b5ccb3212f76538f3d9e43d87dca9e  SOAPDEY12A81C210A9           1\n",
       "2  b80344d063b5ccb3212f76538f3d9e43d87dca9e  SOBBMDR12A8C13253B           2"
      ]
     },
     "metadata": {},
     "output_type": "display_data"
    }
   ],
   "source": [
    "df_train_triplets = read_dataset(\"train_triplets\")\n",
    "debug_dataframe(df_train_triplets)"
   ]
  }
 ],
 "metadata": {
  "kernelspec": {
   "display_name": "Python [conda root]",
   "language": "python",
   "name": "conda-root-py"
  },
  "language_info": {
   "codemirror_mode": {
    "name": "ipython",
    "version": 3
   },
   "file_extension": ".py",
   "mimetype": "text/x-python",
   "name": "python",
   "nbconvert_exporter": "python",
   "pygments_lexer": "ipython3",
   "version": "3.6.1"
  }
 },
 "nbformat": 4,
 "nbformat_minor": 2
}
