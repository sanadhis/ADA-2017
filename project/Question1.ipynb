{
 "cells": [
  {
   "cell_type": "markdown",
   "metadata": {},
   "source": [
    "# Final Project - Part 1"
   ]
  },
  {
   "cell_type": "markdown",
   "metadata": {},
   "source": [
    "### Libraries\n",
    "Here we include all python-native and conda-bundled libraries"
   ]
  },
  {
   "cell_type": "code",
   "execution_count": 1,
   "metadata": {},
   "outputs": [],
   "source": [
    "import pandas as pd\n",
    "import matplotlib.pyplot as plt\n",
    "import seaborn as sns\n",
    "from IPython.display import display\n",
    "\n",
    "import numpy as np\n",
    "import itertools\n",
    "\n",
    "from sklearn.ensemble import RandomForestClassifier\n",
    "from sklearn.metrics import confusion_matrix\n",
    "from sklearn.model_selection import train_test_split\n",
    "from sklearn.metrics import f1_score\n",
    "\n",
    "import folium"
   ]
  },
  {
   "cell_type": "markdown",
   "metadata": {},
   "source": [
    "Helper functions for our project can be found in `scripts/helpers.py`. We refactor the common functions, e.g. function to read dataset file, in order to provide reusability and to reduce redudancy in our main notebook."
   ]
  },
  {
   "cell_type": "code",
   "execution_count": 2,
   "metadata": {},
   "outputs": [],
   "source": [
    "from scripts.helpers import read_raw_dataset, read_saved_dataframe, save_dataframe, debug_dataframe, copy_dataframe\n",
    "from scripts.helpers import save_map"
   ]
  },
  {
   "cell_type": "markdown",
   "metadata": {},
   "source": [
    "### Datasets\n",
    "We mainly use million songs datasets (msd), the msd provide two big datasets:\n",
    "* msd_songs \n",
    "* msd_summary\n",
    "\n",
    "<br>We read dataset using our predefined read_raw_dataset() function:"
   ]
  },
  {
   "cell_type": "code",
   "execution_count": 3,
   "metadata": {},
   "outputs": [],
   "source": [
    "# load dataset\n",
    "df_msd_songs   = read_raw_dataset(\"msd_songs\")\n",
    "df_msd_summary = read_raw_dataset(\"msd_summary\")"
   ]
  },
  {
   "cell_type": "markdown",
   "metadata": {},
   "source": [
    "Peek into the dataset using predefined debug_dataframe() function:"
   ]
  },
  {
   "cell_type": "code",
   "execution_count": 4,
   "metadata": {},
   "outputs": [
    {
     "name": "stdout",
     "output_type": "stream",
     "text": [
      "Dataset size:  (1000000, 11)\n",
      "Dataset feature columns:  Index(['track_id', 'title', 'song_id', 'release', 'artist_id', 'artist_mbid',\n",
      "       'artist_name', 'duration', 'artist_familiarity', 'artist_hotttnesss',\n",
      "       'year'],\n",
      "      dtype='object')\n",
      "\n",
      "Dataset Preview:\n"
     ]
    },
    {
     "data": {
      "text/html": [
       "<div>\n",
       "<style>\n",
       "    .dataframe thead tr:only-child th {\n",
       "        text-align: right;\n",
       "    }\n",
       "\n",
       "    .dataframe thead th {\n",
       "        text-align: left;\n",
       "    }\n",
       "\n",
       "    .dataframe tbody tr th {\n",
       "        vertical-align: top;\n",
       "    }\n",
       "</style>\n",
       "<table border=\"1\" class=\"dataframe\">\n",
       "  <thead>\n",
       "    <tr style=\"text-align: right;\">\n",
       "      <th></th>\n",
       "      <th>track_id</th>\n",
       "      <th>title</th>\n",
       "      <th>song_id</th>\n",
       "      <th>release</th>\n",
       "      <th>artist_id</th>\n",
       "      <th>artist_mbid</th>\n",
       "      <th>artist_name</th>\n",
       "      <th>duration</th>\n",
       "      <th>artist_familiarity</th>\n",
       "      <th>artist_hotttnesss</th>\n",
       "      <th>year</th>\n",
       "    </tr>\n",
       "  </thead>\n",
       "  <tbody>\n",
       "    <tr>\n",
       "      <th>0</th>\n",
       "      <td>TRMMMYQ128F932D901</td>\n",
       "      <td>Silent Night</td>\n",
       "      <td>SOQMMHC12AB0180CB8</td>\n",
       "      <td>Monster Ballads X-Mas</td>\n",
       "      <td>ARYZTJS1187B98C555</td>\n",
       "      <td>357ff05d-848a-44cf-b608-cb34b5701ae5</td>\n",
       "      <td>Faster Pussy cat</td>\n",
       "      <td>252.05506</td>\n",
       "      <td>0.649822</td>\n",
       "      <td>0.394032</td>\n",
       "      <td>2003</td>\n",
       "    </tr>\n",
       "    <tr>\n",
       "      <th>1</th>\n",
       "      <td>TRMMMKD128F425225D</td>\n",
       "      <td>Tanssi vaan</td>\n",
       "      <td>SOVFVAK12A8C1350D9</td>\n",
       "      <td>Karkuteillä</td>\n",
       "      <td>ARMVN3U1187FB3A1EB</td>\n",
       "      <td>8d7ef530-a6fd-4f8f-b2e2-74aec765e0f9</td>\n",
       "      <td>Karkkiautomaatti</td>\n",
       "      <td>156.55138</td>\n",
       "      <td>0.439604</td>\n",
       "      <td>0.356992</td>\n",
       "      <td>1995</td>\n",
       "    </tr>\n",
       "    <tr>\n",
       "      <th>2</th>\n",
       "      <td>TRMMMRX128F93187D9</td>\n",
       "      <td>No One Could Ever</td>\n",
       "      <td>SOGTUKN12AB017F4F1</td>\n",
       "      <td>Butter</td>\n",
       "      <td>ARGEKB01187FB50750</td>\n",
       "      <td>3d403d44-36ce-465c-ad43-ae877e65adc4</td>\n",
       "      <td>Hudson Mohawke</td>\n",
       "      <td>138.97098</td>\n",
       "      <td>0.643681</td>\n",
       "      <td>0.437504</td>\n",
       "      <td>2006</td>\n",
       "    </tr>\n",
       "  </tbody>\n",
       "</table>\n",
       "</div>"
      ],
      "text/plain": [
       "             track_id              title             song_id  \\\n",
       "0  TRMMMYQ128F932D901       Silent Night  SOQMMHC12AB0180CB8   \n",
       "1  TRMMMKD128F425225D        Tanssi vaan  SOVFVAK12A8C1350D9   \n",
       "2  TRMMMRX128F93187D9  No One Could Ever  SOGTUKN12AB017F4F1   \n",
       "\n",
       "                 release           artist_id  \\\n",
       "0  Monster Ballads X-Mas  ARYZTJS1187B98C555   \n",
       "1            Karkuteillä  ARMVN3U1187FB3A1EB   \n",
       "2                 Butter  ARGEKB01187FB50750   \n",
       "\n",
       "                            artist_mbid       artist_name   duration  \\\n",
       "0  357ff05d-848a-44cf-b608-cb34b5701ae5  Faster Pussy cat  252.05506   \n",
       "1  8d7ef530-a6fd-4f8f-b2e2-74aec765e0f9  Karkkiautomaatti  156.55138   \n",
       "2  3d403d44-36ce-465c-ad43-ae877e65adc4    Hudson Mohawke  138.97098   \n",
       "\n",
       "   artist_familiarity  artist_hotttnesss  year  \n",
       "0            0.649822           0.394032  2003  \n",
       "1            0.439604           0.356992  1995  \n",
       "2            0.643681           0.437504  2006  "
      ]
     },
     "metadata": {},
     "output_type": "display_data"
    }
   ],
   "source": [
    "# debug dataframe msd_songs\n",
    "debug_dataframe(df_msd_songs)"
   ]
  },
  {
   "cell_type": "code",
   "execution_count": 5,
   "metadata": {},
   "outputs": [
    {
     "name": "stdout",
     "output_type": "stream",
     "text": [
      "Dataset size:  (1000000, 53)\n",
      "Dataset feature columns:  Index(['analysis_sample_rate', 'audio_md5', 'danceability', 'duration',\n",
      "       'end_of_fade_in', 'energy', 'idx_bars_confidence', 'idx_bars_start',\n",
      "       'idx_beats_confidence', 'idx_beats_start', 'idx_sections_confidence',\n",
      "       'idx_sections_start', 'idx_segments_confidence',\n",
      "       'idx_segments_loudness_max', 'idx_segments_loudness_max_time',\n",
      "       'idx_segments_loudness_start', 'idx_segments_pitches',\n",
      "       'idx_segments_start', 'idx_segments_timbre', 'idx_tatums_confidence',\n",
      "       'idx_tatums_start', 'key', 'key_confidence', 'loudness', 'mode',\n",
      "       'mode_confidence', 'start_of_fade_out', 'tempo', 'time_signature',\n",
      "       'time_signature_confidence', 'track_id', 'analyzer_version',\n",
      "       'artist_7digitalid', 'artist_familiarity', 'artist_hotttnesss',\n",
      "       'artist_id', 'artist_latitude', 'artist_location', 'artist_longitude',\n",
      "       'artist_mbid', 'artist_name', 'artist_playmeid', 'genre',\n",
      "       'idx_artist_terms', 'idx_similar_artists', 'release',\n",
      "       'release_7digitalid', 'song_hotttnesss', 'song_id', 'title',\n",
      "       'track_7digitalid', 'idx_artist_mbtags', 'year'],\n",
      "      dtype='object')\n",
      "\n",
      "Dataset Preview:\n"
     ]
    },
    {
     "data": {
      "text/html": [
       "<div>\n",
       "<style>\n",
       "    .dataframe thead tr:only-child th {\n",
       "        text-align: right;\n",
       "    }\n",
       "\n",
       "    .dataframe thead th {\n",
       "        text-align: left;\n",
       "    }\n",
       "\n",
       "    .dataframe tbody tr th {\n",
       "        vertical-align: top;\n",
       "    }\n",
       "</style>\n",
       "<table border=\"1\" class=\"dataframe\">\n",
       "  <thead>\n",
       "    <tr style=\"text-align: right;\">\n",
       "      <th></th>\n",
       "      <th>analysis_sample_rate</th>\n",
       "      <th>audio_md5</th>\n",
       "      <th>danceability</th>\n",
       "      <th>duration</th>\n",
       "      <th>end_of_fade_in</th>\n",
       "      <th>energy</th>\n",
       "      <th>idx_bars_confidence</th>\n",
       "      <th>idx_bars_start</th>\n",
       "      <th>idx_beats_confidence</th>\n",
       "      <th>idx_beats_start</th>\n",
       "      <th>...</th>\n",
       "      <th>idx_artist_terms</th>\n",
       "      <th>idx_similar_artists</th>\n",
       "      <th>release</th>\n",
       "      <th>release_7digitalid</th>\n",
       "      <th>song_hotttnesss</th>\n",
       "      <th>song_id</th>\n",
       "      <th>title</th>\n",
       "      <th>track_7digitalid</th>\n",
       "      <th>idx_artist_mbtags</th>\n",
       "      <th>year</th>\n",
       "    </tr>\n",
       "  </thead>\n",
       "  <tbody>\n",
       "    <tr>\n",
       "      <th>0</th>\n",
       "      <td>22050</td>\n",
       "      <td>aee9820911781c734e7694c5432990ca</td>\n",
       "      <td>0.0</td>\n",
       "      <td>252.05506</td>\n",
       "      <td>2.049</td>\n",
       "      <td>0.0</td>\n",
       "      <td>0</td>\n",
       "      <td>0</td>\n",
       "      <td>0</td>\n",
       "      <td>0</td>\n",
       "      <td>...</td>\n",
       "      <td>0</td>\n",
       "      <td>0</td>\n",
       "      <td>Monster Ballads X-Mas</td>\n",
       "      <td>633681</td>\n",
       "      <td>0.542899</td>\n",
       "      <td>SOQMMHC12AB0180CB8</td>\n",
       "      <td>Silent Night</td>\n",
       "      <td>7032331</td>\n",
       "      <td>0</td>\n",
       "      <td>2003</td>\n",
       "    </tr>\n",
       "    <tr>\n",
       "      <th>1</th>\n",
       "      <td>22050</td>\n",
       "      <td>ed222d07c83bac7689d52753610a513a</td>\n",
       "      <td>0.0</td>\n",
       "      <td>156.55138</td>\n",
       "      <td>0.258</td>\n",
       "      <td>0.0</td>\n",
       "      <td>0</td>\n",
       "      <td>0</td>\n",
       "      <td>0</td>\n",
       "      <td>0</td>\n",
       "      <td>...</td>\n",
       "      <td>0</td>\n",
       "      <td>0</td>\n",
       "      <td>Karkuteillä</td>\n",
       "      <td>145266</td>\n",
       "      <td>0.299877</td>\n",
       "      <td>SOVFVAK12A8C1350D9</td>\n",
       "      <td>Tanssi vaan</td>\n",
       "      <td>1514808</td>\n",
       "      <td>0</td>\n",
       "      <td>1995</td>\n",
       "    </tr>\n",
       "    <tr>\n",
       "      <th>2</th>\n",
       "      <td>22050</td>\n",
       "      <td>96c7104889a128fef84fa469d60e380c</td>\n",
       "      <td>0.0</td>\n",
       "      <td>138.97098</td>\n",
       "      <td>0.000</td>\n",
       "      <td>0.0</td>\n",
       "      <td>0</td>\n",
       "      <td>0</td>\n",
       "      <td>0</td>\n",
       "      <td>0</td>\n",
       "      <td>...</td>\n",
       "      <td>0</td>\n",
       "      <td>0</td>\n",
       "      <td>Butter</td>\n",
       "      <td>625706</td>\n",
       "      <td>0.617871</td>\n",
       "      <td>SOGTUKN12AB017F4F1</td>\n",
       "      <td>No One Could Ever</td>\n",
       "      <td>6945353</td>\n",
       "      <td>0</td>\n",
       "      <td>2006</td>\n",
       "    </tr>\n",
       "  </tbody>\n",
       "</table>\n",
       "<p>3 rows × 53 columns</p>\n",
       "</div>"
      ],
      "text/plain": [
       "   analysis_sample_rate                         audio_md5  danceability  \\\n",
       "0                 22050  aee9820911781c734e7694c5432990ca           0.0   \n",
       "1                 22050  ed222d07c83bac7689d52753610a513a           0.0   \n",
       "2                 22050  96c7104889a128fef84fa469d60e380c           0.0   \n",
       "\n",
       "    duration  end_of_fade_in  energy  idx_bars_confidence  idx_bars_start  \\\n",
       "0  252.05506           2.049     0.0                    0               0   \n",
       "1  156.55138           0.258     0.0                    0               0   \n",
       "2  138.97098           0.000     0.0                    0               0   \n",
       "\n",
       "   idx_beats_confidence  idx_beats_start  ...   idx_artist_terms  \\\n",
       "0                     0                0  ...                  0   \n",
       "1                     0                0  ...                  0   \n",
       "2                     0                0  ...                  0   \n",
       "\n",
       "   idx_similar_artists                release  release_7digitalid  \\\n",
       "0                    0  Monster Ballads X-Mas              633681   \n",
       "1                    0            Karkuteillä              145266   \n",
       "2                    0                 Butter              625706   \n",
       "\n",
       "   song_hotttnesss             song_id              title  track_7digitalid  \\\n",
       "0         0.542899  SOQMMHC12AB0180CB8       Silent Night           7032331   \n",
       "1         0.299877  SOVFVAK12A8C1350D9        Tanssi vaan           1514808   \n",
       "2         0.617871  SOGTUKN12AB017F4F1  No One Could Ever           6945353   \n",
       "\n",
       "   idx_artist_mbtags  year  \n",
       "0                  0  2003  \n",
       "1                  0  1995  \n",
       "2                  0  2006  \n",
       "\n",
       "[3 rows x 53 columns]"
      ]
     },
     "metadata": {},
     "output_type": "display_data"
    }
   ],
   "source": [
    "# debug dataframe msd_summary\n",
    "debug_dataframe(df_msd_summary)"
   ]
  },
  {
   "cell_type": "markdown",
   "metadata": {},
   "source": [
    "#### Datasets observation\n",
    "* Dataset consist of exactly one million datapoints.\n",
    "* Column \"track_id\" is used as key (Primary Key) which is always unique and will be useful for join operation.\n",
    "* Each datapoint (song) has 9 main attributes in msd_songs and 42 additional attributes in msd_summary. This makes all songs have 51 features (52 including track_id).\n",
    "* Our projects aim to observe trend of \"popular songs\", therefore we will mainly work with msd_songs since msd_summary mostly contains features that we may not really need.\n",
    "* Main observations of the rest of the project will most likely deal with \"song_hotttnesss\", as this field relates to the popularity of a song. "
   ]
  },
  {
   "cell_type": "markdown",
   "metadata": {},
   "source": [
    "## Data Preprocessing & Initial Features Analysis"
   ]
  },
  {
   "cell_type": "markdown",
   "metadata": {},
   "source": [
    "From msd dataset, we get the information of exactly one million songs data with 52 features each (track_id, song_hotttnesss, artist_hotttnesss, year, artist_id, and so on). Now for the first part, we want to investigate the attributes that lead to song popularity. We define our dataset as pairs of:\n",
    "\n",
    "$$ (x_n, y_n) $$\n",
    "where:\n",
    "$$ y_n := \\text{n'th song hotttnesss} $$\n",
    "$$ x_n := \\text{n'th vector of D features} $$\n",
    "$$ D = 51 $$"
   ]
  },
  {
   "cell_type": "markdown",
   "metadata": {},
   "source": [
    "First set \"track_id\" as index for both dataframe"
   ]
  },
  {
   "cell_type": "code",
   "execution_count": 6,
   "metadata": {},
   "outputs": [],
   "source": [
    "# Set index for both dataframe\n",
    "df_msd_songs   = df_msd_songs.set_index([\"track_id\"])\n",
    "df_msd_summary = df_msd_summary.set_index([\"track_id\"])"
   ]
  },
  {
   "cell_type": "markdown",
   "metadata": {},
   "source": [
    "Next figure out unique columns in msd_summary to avoid redundant columns when merging dataframe"
   ]
  },
  {
   "cell_type": "code",
   "execution_count": 7,
   "metadata": {},
   "outputs": [
    {
     "data": {
      "text/plain": [
       "42"
      ]
     },
     "execution_count": 7,
     "metadata": {},
     "output_type": "execute_result"
    }
   ],
   "source": [
    "# Use columns which are present in msd_summary but not in msd_songs\n",
    "msd_summary_cols = df_msd_summary.columns.difference(df_msd_songs.columns)\n",
    "len(msd_summary_cols)"
   ]
  },
  {
   "cell_type": "markdown",
   "metadata": {},
   "source": [
    "Then we need to merge both dataframe as single df_msd based on track_id"
   ]
  },
  {
   "cell_type": "code",
   "execution_count": 8,
   "metadata": {},
   "outputs": [],
   "source": [
    "# perform inner join based on index (track_id)\n",
    "df_msd = pd.concat([df_msd_songs, df_msd_summary[msd_summary_cols]], axis=1, join='inner')"
   ]
  },
  {
   "cell_type": "markdown",
   "metadata": {},
   "source": [
    "Debug the result"
   ]
  },
  {
   "cell_type": "code",
   "execution_count": 9,
   "metadata": {},
   "outputs": [
    {
     "name": "stdout",
     "output_type": "stream",
     "text": [
      "Dataset size:  (1000000, 52)\n",
      "Dataset feature columns:  Index(['title', 'song_id', 'release', 'artist_id', 'artist_mbid',\n",
      "       'artist_name', 'duration', 'artist_familiarity', 'artist_hotttnesss',\n",
      "       'year', 'analysis_sample_rate', 'analyzer_version', 'artist_7digitalid',\n",
      "       'artist_latitude', 'artist_location', 'artist_longitude',\n",
      "       'artist_playmeid', 'audio_md5', 'danceability', 'end_of_fade_in',\n",
      "       'energy', 'genre', 'idx_artist_mbtags', 'idx_artist_terms',\n",
      "       'idx_bars_confidence', 'idx_bars_start', 'idx_beats_confidence',\n",
      "       'idx_beats_start', 'idx_sections_confidence', 'idx_sections_start',\n",
      "       'idx_segments_confidence', 'idx_segments_loudness_max',\n",
      "       'idx_segments_loudness_max_time', 'idx_segments_loudness_start',\n",
      "       'idx_segments_pitches', 'idx_segments_start', 'idx_segments_timbre',\n",
      "       'idx_similar_artists', 'idx_tatums_confidence', 'idx_tatums_start',\n",
      "       'key', 'key_confidence', 'loudness', 'mode', 'mode_confidence',\n",
      "       'release_7digitalid', 'song_hotttnesss', 'start_of_fade_out', 'tempo',\n",
      "       'time_signature', 'time_signature_confidence', 'track_7digitalid'],\n",
      "      dtype='object')\n",
      "\n",
      "Dataset Preview:\n"
     ]
    },
    {
     "data": {
      "text/html": [
       "<div>\n",
       "<style>\n",
       "    .dataframe thead tr:only-child th {\n",
       "        text-align: right;\n",
       "    }\n",
       "\n",
       "    .dataframe thead th {\n",
       "        text-align: left;\n",
       "    }\n",
       "\n",
       "    .dataframe tbody tr th {\n",
       "        vertical-align: top;\n",
       "    }\n",
       "</style>\n",
       "<table border=\"1\" class=\"dataframe\">\n",
       "  <thead>\n",
       "    <tr style=\"text-align: right;\">\n",
       "      <th></th>\n",
       "      <th>title</th>\n",
       "      <th>song_id</th>\n",
       "      <th>release</th>\n",
       "      <th>artist_id</th>\n",
       "      <th>artist_mbid</th>\n",
       "      <th>artist_name</th>\n",
       "      <th>duration</th>\n",
       "      <th>artist_familiarity</th>\n",
       "      <th>artist_hotttnesss</th>\n",
       "      <th>year</th>\n",
       "      <th>...</th>\n",
       "      <th>loudness</th>\n",
       "      <th>mode</th>\n",
       "      <th>mode_confidence</th>\n",
       "      <th>release_7digitalid</th>\n",
       "      <th>song_hotttnesss</th>\n",
       "      <th>start_of_fade_out</th>\n",
       "      <th>tempo</th>\n",
       "      <th>time_signature</th>\n",
       "      <th>time_signature_confidence</th>\n",
       "      <th>track_7digitalid</th>\n",
       "    </tr>\n",
       "    <tr>\n",
       "      <th>track_id</th>\n",
       "      <th></th>\n",
       "      <th></th>\n",
       "      <th></th>\n",
       "      <th></th>\n",
       "      <th></th>\n",
       "      <th></th>\n",
       "      <th></th>\n",
       "      <th></th>\n",
       "      <th></th>\n",
       "      <th></th>\n",
       "      <th></th>\n",
       "      <th></th>\n",
       "      <th></th>\n",
       "      <th></th>\n",
       "      <th></th>\n",
       "      <th></th>\n",
       "      <th></th>\n",
       "      <th></th>\n",
       "      <th></th>\n",
       "      <th></th>\n",
       "      <th></th>\n",
       "    </tr>\n",
       "  </thead>\n",
       "  <tbody>\n",
       "    <tr>\n",
       "      <th>TRMMMYQ128F932D901</th>\n",
       "      <td>Silent Night</td>\n",
       "      <td>SOQMMHC12AB0180CB8</td>\n",
       "      <td>Monster Ballads X-Mas</td>\n",
       "      <td>ARYZTJS1187B98C555</td>\n",
       "      <td>357ff05d-848a-44cf-b608-cb34b5701ae5</td>\n",
       "      <td>Faster Pussy cat</td>\n",
       "      <td>252.05506</td>\n",
       "      <td>0.649822</td>\n",
       "      <td>0.394032</td>\n",
       "      <td>2003</td>\n",
       "      <td>...</td>\n",
       "      <td>-4.829</td>\n",
       "      <td>0</td>\n",
       "      <td>0.688</td>\n",
       "      <td>633681</td>\n",
       "      <td>0.542899</td>\n",
       "      <td>236.635</td>\n",
       "      <td>87.002</td>\n",
       "      <td>4</td>\n",
       "      <td>0.940</td>\n",
       "      <td>7032331</td>\n",
       "    </tr>\n",
       "    <tr>\n",
       "      <th>TRMMMKD128F425225D</th>\n",
       "      <td>Tanssi vaan</td>\n",
       "      <td>SOVFVAK12A8C1350D9</td>\n",
       "      <td>Karkuteillä</td>\n",
       "      <td>ARMVN3U1187FB3A1EB</td>\n",
       "      <td>8d7ef530-a6fd-4f8f-b2e2-74aec765e0f9</td>\n",
       "      <td>Karkkiautomaatti</td>\n",
       "      <td>156.55138</td>\n",
       "      <td>0.439604</td>\n",
       "      <td>0.356992</td>\n",
       "      <td>1995</td>\n",
       "      <td>...</td>\n",
       "      <td>-10.555</td>\n",
       "      <td>1</td>\n",
       "      <td>0.355</td>\n",
       "      <td>145266</td>\n",
       "      <td>0.299877</td>\n",
       "      <td>148.660</td>\n",
       "      <td>150.778</td>\n",
       "      <td>1</td>\n",
       "      <td>0.000</td>\n",
       "      <td>1514808</td>\n",
       "    </tr>\n",
       "    <tr>\n",
       "      <th>TRMMMRX128F93187D9</th>\n",
       "      <td>No One Could Ever</td>\n",
       "      <td>SOGTUKN12AB017F4F1</td>\n",
       "      <td>Butter</td>\n",
       "      <td>ARGEKB01187FB50750</td>\n",
       "      <td>3d403d44-36ce-465c-ad43-ae877e65adc4</td>\n",
       "      <td>Hudson Mohawke</td>\n",
       "      <td>138.97098</td>\n",
       "      <td>0.643681</td>\n",
       "      <td>0.437504</td>\n",
       "      <td>2006</td>\n",
       "      <td>...</td>\n",
       "      <td>-2.060</td>\n",
       "      <td>1</td>\n",
       "      <td>0.566</td>\n",
       "      <td>625706</td>\n",
       "      <td>0.617871</td>\n",
       "      <td>138.971</td>\n",
       "      <td>177.768</td>\n",
       "      <td>4</td>\n",
       "      <td>0.446</td>\n",
       "      <td>6945353</td>\n",
       "    </tr>\n",
       "  </tbody>\n",
       "</table>\n",
       "<p>3 rows × 52 columns</p>\n",
       "</div>"
      ],
      "text/plain": [
       "                                title             song_id  \\\n",
       "track_id                                                    \n",
       "TRMMMYQ128F932D901       Silent Night  SOQMMHC12AB0180CB8   \n",
       "TRMMMKD128F425225D        Tanssi vaan  SOVFVAK12A8C1350D9   \n",
       "TRMMMRX128F93187D9  No One Could Ever  SOGTUKN12AB017F4F1   \n",
       "\n",
       "                                  release           artist_id  \\\n",
       "track_id                                                        \n",
       "TRMMMYQ128F932D901  Monster Ballads X-Mas  ARYZTJS1187B98C555   \n",
       "TRMMMKD128F425225D            Karkuteillä  ARMVN3U1187FB3A1EB   \n",
       "TRMMMRX128F93187D9                 Butter  ARGEKB01187FB50750   \n",
       "\n",
       "                                             artist_mbid       artist_name  \\\n",
       "track_id                                                                     \n",
       "TRMMMYQ128F932D901  357ff05d-848a-44cf-b608-cb34b5701ae5  Faster Pussy cat   \n",
       "TRMMMKD128F425225D  8d7ef530-a6fd-4f8f-b2e2-74aec765e0f9  Karkkiautomaatti   \n",
       "TRMMMRX128F93187D9  3d403d44-36ce-465c-ad43-ae877e65adc4    Hudson Mohawke   \n",
       "\n",
       "                     duration  artist_familiarity  artist_hotttnesss  year  \\\n",
       "track_id                                                                     \n",
       "TRMMMYQ128F932D901  252.05506            0.649822           0.394032  2003   \n",
       "TRMMMKD128F425225D  156.55138            0.439604           0.356992  1995   \n",
       "TRMMMRX128F93187D9  138.97098            0.643681           0.437504  2006   \n",
       "\n",
       "                          ...         loudness mode  mode_confidence  \\\n",
       "track_id                  ...                                          \n",
       "TRMMMYQ128F932D901        ...           -4.829    0            0.688   \n",
       "TRMMMKD128F425225D        ...          -10.555    1            0.355   \n",
       "TRMMMRX128F93187D9        ...           -2.060    1            0.566   \n",
       "\n",
       "                    release_7digitalid song_hotttnesss  start_of_fade_out  \\\n",
       "track_id                                                                    \n",
       "TRMMMYQ128F932D901              633681        0.542899            236.635   \n",
       "TRMMMKD128F425225D              145266        0.299877            148.660   \n",
       "TRMMMRX128F93187D9              625706        0.617871            138.971   \n",
       "\n",
       "                      tempo time_signature  time_signature_confidence  \\\n",
       "track_id                                                                \n",
       "TRMMMYQ128F932D901   87.002              4                      0.940   \n",
       "TRMMMKD128F425225D  150.778              1                      0.000   \n",
       "TRMMMRX128F93187D9  177.768              4                      0.446   \n",
       "\n",
       "                    track_7digitalid  \n",
       "track_id                              \n",
       "TRMMMYQ128F932D901           7032331  \n",
       "TRMMMKD128F425225D           1514808  \n",
       "TRMMMRX128F93187D9           6945353  \n",
       "\n",
       "[3 rows x 52 columns]"
      ]
     },
     "metadata": {},
     "output_type": "display_data"
    }
   ],
   "source": [
    "debug_dataframe(df_msd)"
   ]
  },
  {
   "cell_type": "markdown",
   "metadata": {},
   "source": [
    "Find and plot the correlation between features using heatmap"
   ]
  },
  {
   "cell_type": "code",
   "execution_count": 10,
   "metadata": {},
   "outputs": [
    {
     "data": {
      "image/png": "[encoded data removed]",
      "text/plain": [
       "<matplotlib.figure.Figure at 0x7f9b63c0d2b0>"
      ]
     },
     "metadata": {},
     "output_type": "display_data"
    }
   ],
   "source": [
    "msd_corr = df_msd.corr()\n",
    "fig, ax  = plt.subplots(figsize=(8,8))\n",
    "sns.heatmap(msd_corr, \n",
    "            xticklabels=msd_corr.columns.values,\n",
    "            yticklabels=msd_corr.columns.values, ax = ax)\n",
    "plt.show()"
   ]
  },
  {
   "cell_type": "markdown",
   "metadata": {},
   "source": [
    "#### Analyzing useless features\n",
    "From above correlation chart, we can infer that some features do not give impact or relation to other attributes. Those features are: \n",
    "> ['analysis_sample_rate', 'danceability', 'energy', 'idx_bars_confidence', 'idx_bars_start',\n",
    "       'idx_beats_confidence', 'idx_beats_start', 'idx_sections_confidence',\n",
    "       'idx_sections_start', 'idx_segments_confidence',\n",
    "       'idx_segments_loudness_max', 'idx_segments_loudness_max_time',\n",
    "       'idx_segments_loudness_start', 'idx_segments_pitches',\n",
    "       'idx_segments_start', 'idx_segments_timbre', 'idx_tatums_confidence',\n",
    "       'idx_tatums_start', 'idx_artist_terms',\n",
    "       'idx_similar_artists', 'idx_artist_mbtags']\n",
    "\n",
    "So we then analyze if either the value of these features are unique or not. If a feature is unique for the entire datapoints, we can ignore it and drop it to narrow our analysis."
   ]
  },
  {
   "cell_type": "code",
   "execution_count": 11,
   "metadata": {},
   "outputs": [
    {
     "name": "stdout",
     "output_type": "stream",
     "text": [
      "analysis_sample_rate is unique, only: 22050\n",
      "danceability is unique, only: 0.0\n",
      "energy is unique, only: 0.0\n",
      "idx_bars_confidence is unique, only: 0\n",
      "idx_bars_start is unique, only: 0\n",
      "idx_beats_confidence is unique, only: 0\n",
      "idx_beats_start is unique, only: 0\n",
      "idx_sections_confidence is unique, only: 0\n",
      "idx_sections_start is unique, only: 0\n",
      "idx_segments_confidence is unique, only: 0\n",
      "idx_segments_loudness_max is unique, only: 0\n",
      "idx_segments_loudness_max_time is unique, only: 0\n",
      "idx_segments_loudness_start is unique, only: 0\n",
      "idx_segments_pitches is unique, only: 0\n",
      "idx_segments_start is unique, only: 0\n",
      "idx_segments_timbre is unique, only: 0\n",
      "idx_tatums_confidence is unique, only: 0\n",
      "idx_tatums_start is unique, only: 0\n",
      "idx_artist_terms is unique, only: 0\n",
      "idx_similar_artists is unique, only: 0\n",
      "idx_artist_mbtags is unique, only: 0\n"
     ]
    }
   ],
   "source": [
    "# List of unrelated features\n",
    "unrelated_features = ['analysis_sample_rate', 'danceability','energy', 'idx_bars_confidence', \n",
    "                      'idx_bars_start', 'idx_beats_confidence', 'idx_beats_start', 'idx_sections_confidence', \n",
    "                      'idx_sections_start', 'idx_segments_confidence', 'idx_segments_loudness_max', \n",
    "                      'idx_segments_loudness_max_time', 'idx_segments_loudness_start', 'idx_segments_pitches', \n",
    "                      'idx_segments_start', 'idx_segments_timbre', 'idx_tatums_confidence', 'idx_tatums_start', \n",
    "                      'idx_artist_terms', 'idx_similar_artists', 'idx_artist_mbtags']\n",
    "\n",
    "# define function to check unrelated features uniqueness \n",
    "def is_feature_unique(df, features):\n",
    "    for feature in features:\n",
    "        unique_value = df[feature].unique()\n",
    "        if len(unique_value) == 1:\n",
    "            print(feature + \" is unique, only: \" + str(unique_value[0]))\n",
    "\n",
    "# check and print the unique features\n",
    "is_feature_unique(df_msd, unrelated_features)"
   ]
  },
  {
   "cell_type": "markdown",
   "metadata": {},
   "source": [
    "#### Dropping features\n",
    "From above results, we drop these features:\n",
    "* 'analysis_sample_rate' \n",
    "* 'danceability'\n",
    "* 'energy'\n",
    "* 'idx_bars_confidence' \n",
    "* 'idx_bars_start'\n",
    "* 'idx_beats_confidence'\n",
    "* 'idx_beats_start'\n",
    "* 'idx_sections_confidence'\n",
    "* 'idx_sections_start'\n",
    "* 'idx_segments_confidence'\n",
    "* 'idx_segments_loudness_max'\n",
    "* 'idx_segments_loudness_max_time'\n",
    "* 'idx_segments_loudness_start'\n",
    "* 'idx_segments_pitches'\n",
    "* 'idx_segments_start'\n",
    "* 'idx_segments_timbre'\n",
    "* 'idx_tatums_confidence'\n",
    "* 'idx_tatums_start'\n",
    "* 'idx_artist_terms'\n",
    "* 'idx_similar_artists'\n",
    "* 'idx_artist_mbtags'"
   ]
  },
  {
   "cell_type": "markdown",
   "metadata": {},
   "source": [
    "*Dropping features md5, analyzer_version, & genre*\n",
    "<br>From the [dataset description](https://labrosa.ee.columbia.edu/millionsong/pages/example-track-description), we decide to drop features:\n",
    "* 'audio_md5' | string | audio hash code : DROP (useless)\n",
    "* 'analyzer_version' | always empty: DROP (useless)\n",
    "* 'genre' | string | genre of a song, always empty : DROP (not available in msd_summary)\n",
    "\n",
    "Note that:\n",
    "* 'idx_artist_terms' can be found in msd_artist_term dataset"
   ]
  },
  {
   "cell_type": "markdown",
   "metadata": {},
   "source": [
    "Thus, we drop all unrelated_features"
   ]
  },
  {
   "cell_type": "code",
   "execution_count": 12,
   "metadata": {},
   "outputs": [],
   "source": [
    "df_msd = df_msd.drop(unrelated_features, axis=1)\n",
    "df_msd = df_msd.drop([\"audio_md5\",\"analyzer_version\",\"genre\"], axis=1)"
   ]
  },
  {
   "cell_type": "markdown",
   "metadata": {},
   "source": [
    "Replot the correlation heatmap"
   ]
  },
  {
   "cell_type": "code",
   "execution_count": 13,
   "metadata": {},
   "outputs": [
    {
     "data": {
      "image/png": "[encoded data removed]",
      "text/plain": [
       "<matplotlib.figure.Figure at 0x7f9b7340ff98>"
      ]
     },
     "metadata": {},
     "output_type": "display_data"
    }
   ],
   "source": [
    "msd_corr = df_msd.corr()\n",
    "fig, ax  = plt.subplots(figsize=(6,6))\n",
    "sns.heatmap(msd_corr, \n",
    "            xticklabels=msd_corr.columns.values,\n",
    "            yticklabels=msd_corr.columns.values, ax = ax)\n",
    "plt.show()"
   ]
  },
  {
   "cell_type": "markdown",
   "metadata": {},
   "source": [
    "See what's left on msd dataframe are:"
   ]
  },
  {
   "cell_type": "code",
   "execution_count": 14,
   "metadata": {},
   "outputs": [
    {
     "name": "stdout",
     "output_type": "stream",
     "text": [
      "Dataset size:  (1000000, 28)\n",
      "Dataset feature columns:  Index(['title', 'song_id', 'release', 'artist_id', 'artist_mbid',\n",
      "       'artist_name', 'duration', 'artist_familiarity', 'artist_hotttnesss',\n",
      "       'year', 'artist_7digitalid', 'artist_latitude', 'artist_location',\n",
      "       'artist_longitude', 'artist_playmeid', 'end_of_fade_in', 'key',\n",
      "       'key_confidence', 'loudness', 'mode', 'mode_confidence',\n",
      "       'release_7digitalid', 'song_hotttnesss', 'start_of_fade_out', 'tempo',\n",
      "       'time_signature', 'time_signature_confidence', 'track_7digitalid'],\n",
      "      dtype='object')\n",
      "\n",
      "Dataset Preview:\n"
     ]
    },
    {
     "data": {
      "text/html": [
       "<div>\n",
       "<style>\n",
       "    .dataframe thead tr:only-child th {\n",
       "        text-align: right;\n",
       "    }\n",
       "\n",
       "    .dataframe thead th {\n",
       "        text-align: left;\n",
       "    }\n",
       "\n",
       "    .dataframe tbody tr th {\n",
       "        vertical-align: top;\n",
       "    }\n",
       "</style>\n",
       "<table border=\"1\" class=\"dataframe\">\n",
       "  <thead>\n",
       "    <tr style=\"text-align: right;\">\n",
       "      <th></th>\n",
       "      <th>title</th>\n",
       "      <th>song_id</th>\n",
       "      <th>release</th>\n",
       "      <th>artist_id</th>\n",
       "      <th>artist_mbid</th>\n",
       "      <th>artist_name</th>\n",
       "      <th>duration</th>\n",
       "      <th>artist_familiarity</th>\n",
       "      <th>artist_hotttnesss</th>\n",
       "      <th>year</th>\n",
       "      <th>...</th>\n",
       "      <th>loudness</th>\n",
       "      <th>mode</th>\n",
       "      <th>mode_confidence</th>\n",
       "      <th>release_7digitalid</th>\n",
       "      <th>song_hotttnesss</th>\n",
       "      <th>start_of_fade_out</th>\n",
       "      <th>tempo</th>\n",
       "      <th>time_signature</th>\n",
       "      <th>time_signature_confidence</th>\n",
       "      <th>track_7digitalid</th>\n",
       "    </tr>\n",
       "    <tr>\n",
       "      <th>track_id</th>\n",
       "      <th></th>\n",
       "      <th></th>\n",
       "      <th></th>\n",
       "      <th></th>\n",
       "      <th></th>\n",
       "      <th></th>\n",
       "      <th></th>\n",
       "      <th></th>\n",
       "      <th></th>\n",
       "      <th></th>\n",
       "      <th></th>\n",
       "      <th></th>\n",
       "      <th></th>\n",
       "      <th></th>\n",
       "      <th></th>\n",
       "      <th></th>\n",
       "      <th></th>\n",
       "      <th></th>\n",
       "      <th></th>\n",
       "      <th></th>\n",
       "      <th></th>\n",
       "    </tr>\n",
       "  </thead>\n",
       "  <tbody>\n",
       "    <tr>\n",
       "      <th>TRMMMYQ128F932D901</th>\n",
       "      <td>Silent Night</td>\n",
       "      <td>SOQMMHC12AB0180CB8</td>\n",
       "      <td>Monster Ballads X-Mas</td>\n",
       "      <td>ARYZTJS1187B98C555</td>\n",
       "      <td>357ff05d-848a-44cf-b608-cb34b5701ae5</td>\n",
       "      <td>Faster Pussy cat</td>\n",
       "      <td>252.05506</td>\n",
       "      <td>0.649822</td>\n",
       "      <td>0.394032</td>\n",
       "      <td>2003</td>\n",
       "      <td>...</td>\n",
       "      <td>-4.829</td>\n",
       "      <td>0</td>\n",
       "      <td>0.688</td>\n",
       "      <td>633681</td>\n",
       "      <td>0.542899</td>\n",
       "      <td>236.635</td>\n",
       "      <td>87.002</td>\n",
       "      <td>4</td>\n",
       "      <td>0.940</td>\n",
       "      <td>7032331</td>\n",
       "    </tr>\n",
       "    <tr>\n",
       "      <th>TRMMMKD128F425225D</th>\n",
       "      <td>Tanssi vaan</td>\n",
       "      <td>SOVFVAK12A8C1350D9</td>\n",
       "      <td>Karkuteillä</td>\n",
       "      <td>ARMVN3U1187FB3A1EB</td>\n",
       "      <td>8d7ef530-a6fd-4f8f-b2e2-74aec765e0f9</td>\n",
       "      <td>Karkkiautomaatti</td>\n",
       "      <td>156.55138</td>\n",
       "      <td>0.439604</td>\n",
       "      <td>0.356992</td>\n",
       "      <td>1995</td>\n",
       "      <td>...</td>\n",
       "      <td>-10.555</td>\n",
       "      <td>1</td>\n",
       "      <td>0.355</td>\n",
       "      <td>145266</td>\n",
       "      <td>0.299877</td>\n",
       "      <td>148.660</td>\n",
       "      <td>150.778</td>\n",
       "      <td>1</td>\n",
       "      <td>0.000</td>\n",
       "      <td>1514808</td>\n",
       "    </tr>\n",
       "    <tr>\n",
       "      <th>TRMMMRX128F93187D9</th>\n",
       "      <td>No One Could Ever</td>\n",
       "      <td>SOGTUKN12AB017F4F1</td>\n",
       "      <td>Butter</td>\n",
       "      <td>ARGEKB01187FB50750</td>\n",
       "      <td>3d403d44-36ce-465c-ad43-ae877e65adc4</td>\n",
       "      <td>Hudson Mohawke</td>\n",
       "      <td>138.97098</td>\n",
       "      <td>0.643681</td>\n",
       "      <td>0.437504</td>\n",
       "      <td>2006</td>\n",
       "      <td>...</td>\n",
       "      <td>-2.060</td>\n",
       "      <td>1</td>\n",
       "      <td>0.566</td>\n",
       "      <td>625706</td>\n",
       "      <td>0.617871</td>\n",
       "      <td>138.971</td>\n",
       "      <td>177.768</td>\n",
       "      <td>4</td>\n",
       "      <td>0.446</td>\n",
       "      <td>6945353</td>\n",
       "    </tr>\n",
       "  </tbody>\n",
       "</table>\n",
       "<p>3 rows × 28 columns</p>\n",
       "</div>"
      ],
      "text/plain": [
       "                                title             song_id  \\\n",
       "track_id                                                    \n",
       "TRMMMYQ128F932D901       Silent Night  SOQMMHC12AB0180CB8   \n",
       "TRMMMKD128F425225D        Tanssi vaan  SOVFVAK12A8C1350D9   \n",
       "TRMMMRX128F93187D9  No One Could Ever  SOGTUKN12AB017F4F1   \n",
       "\n",
       "                                  release           artist_id  \\\n",
       "track_id                                                        \n",
       "TRMMMYQ128F932D901  Monster Ballads X-Mas  ARYZTJS1187B98C555   \n",
       "TRMMMKD128F425225D            Karkuteillä  ARMVN3U1187FB3A1EB   \n",
       "TRMMMRX128F93187D9                 Butter  ARGEKB01187FB50750   \n",
       "\n",
       "                                             artist_mbid       artist_name  \\\n",
       "track_id                                                                     \n",
       "TRMMMYQ128F932D901  357ff05d-848a-44cf-b608-cb34b5701ae5  Faster Pussy cat   \n",
       "TRMMMKD128F425225D  8d7ef530-a6fd-4f8f-b2e2-74aec765e0f9  Karkkiautomaatti   \n",
       "TRMMMRX128F93187D9  3d403d44-36ce-465c-ad43-ae877e65adc4    Hudson Mohawke   \n",
       "\n",
       "                     duration  artist_familiarity  artist_hotttnesss  year  \\\n",
       "track_id                                                                     \n",
       "TRMMMYQ128F932D901  252.05506            0.649822           0.394032  2003   \n",
       "TRMMMKD128F425225D  156.55138            0.439604           0.356992  1995   \n",
       "TRMMMRX128F93187D9  138.97098            0.643681           0.437504  2006   \n",
       "\n",
       "                          ...         loudness  mode mode_confidence  \\\n",
       "track_id                  ...                                          \n",
       "TRMMMYQ128F932D901        ...           -4.829     0           0.688   \n",
       "TRMMMKD128F425225D        ...          -10.555     1           0.355   \n",
       "TRMMMRX128F93187D9        ...           -2.060     1           0.566   \n",
       "\n",
       "                    release_7digitalid  song_hotttnesss  start_of_fade_out  \\\n",
       "track_id                                                                     \n",
       "TRMMMYQ128F932D901              633681         0.542899            236.635   \n",
       "TRMMMKD128F425225D              145266         0.299877            148.660   \n",
       "TRMMMRX128F93187D9              625706         0.617871            138.971   \n",
       "\n",
       "                      tempo  time_signature  time_signature_confidence  \\\n",
       "track_id                                                                 \n",
       "TRMMMYQ128F932D901   87.002               4                      0.940   \n",
       "TRMMMKD128F425225D  150.778               1                      0.000   \n",
       "TRMMMRX128F93187D9  177.768               4                      0.446   \n",
       "\n",
       "                    track_7digitalid  \n",
       "track_id                              \n",
       "TRMMMYQ128F932D901           7032331  \n",
       "TRMMMKD128F425225D           1514808  \n",
       "TRMMMRX128F93187D9           6945353  \n",
       "\n",
       "[3 rows x 28 columns]"
      ]
     },
     "metadata": {},
     "output_type": "display_data"
    }
   ],
   "source": [
    "debug_dataframe(df_msd)"
   ]
  },
  {
   "cell_type": "markdown",
   "metadata": {},
   "source": [
    "At this point, we have reduced the dimension of msd datasets size from 1000000 x 52 into **1000000 x 28**"
   ]
  },
  {
   "cell_type": "markdown",
   "metadata": {},
   "source": [
    "#### Handling NAN values in song_hotttnesss\n",
    "*Recall that songs popularity is measured in \"song_hotttnesss\" column.* As we want to explore more about the correlations between other features and this value, there is no point in keeping entries which do not have this value.\n",
    "<br>We inspect how many NaN values we have and then remove the all datapoints with NaN value in \"song_hotttnesss\"."
   ]
  },
  {
   "cell_type": "code",
   "execution_count": 15,
   "metadata": {},
   "outputs": [
    {
     "name": "stdout",
     "output_type": "stream",
     "text": [
      "datapoints with song_hotttnesss equals to NaN:  418035\n"
     ]
    }
   ],
   "source": [
    "NAN_entries = (df_msd.song_hotttnesss.isnull()).sum()\n",
    "print(\"datapoints with song_hotttnesss equals to NaN: \", NAN_entries)"
   ]
  },
  {
   "cell_type": "markdown",
   "metadata": {},
   "source": [
    "It's dissapointed to know that almost 50% of the datapoints have no song_hotttnesss value. Despite of that, now we remove the NAN."
   ]
  },
  {
   "cell_type": "code",
   "execution_count": 16,
   "metadata": {},
   "outputs": [
    {
     "name": "stdout",
     "output_type": "stream",
     "text": [
      "datapoints left:  581965\n"
     ]
    }
   ],
   "source": [
    "df_msd_without_nan = df_msd[~df_msd.song_hotttnesss.isnull()]\n",
    "# check how much datapoints we have\n",
    "print(\"datapoints left: \", df_msd_without_nan.shape[0])"
   ]
  },
  {
   "cell_type": "markdown",
   "metadata": {},
   "source": [
    "#### Save the reduced dataframe into pickle file"
   ]
  },
  {
   "cell_type": "code",
   "execution_count": 17,
   "metadata": {},
   "outputs": [],
   "source": [
    "save_dataframe(df_msd_without_nan,\"df_msd_reduced\")"
   ]
  },
  {
   "cell_type": "markdown",
   "metadata": {},
   "source": [
    "#### Load the reduced dataframe pickle file"
   ]
  },
  {
   "cell_type": "code",
   "execution_count": 18,
   "metadata": {},
   "outputs": [
    {
     "data": {
      "text/plain": [
       "(581965, 28)"
      ]
     },
     "execution_count": 18,
     "metadata": {},
     "output_type": "execute_result"
    }
   ],
   "source": [
    "# Read pickle file and form the dataframe object\n",
    "df_msd_reduced = read_saved_dataframe(\"df_msd_reduced\")\n",
    "df_msd_reduced.shape"
   ]
  },
  {
   "cell_type": "markdown",
   "metadata": {},
   "source": [
    "# Solution to our first research questions"
   ]
  },
  {
   "cell_type": "markdown",
   "metadata": {},
   "source": [
    "**Recall that songs popularity is measured in \"song_hotttnesss\" column.** By using reduced msd dataset (with 28 columns), we can start to answer the research questions. \n",
    "<br>In addition, as we have interest with popular songs, we take only top songs based on song_hotttnesss in the last ten years  from datasets collection year (2001-2010). We also pick less popular songs (**up to 10000 songs**) to compare the data and draw valid analysis."
   ]
  },
  {
   "cell_type": "markdown",
   "metadata": {},
   "source": [
    "We define and add label based on song_hotttness as follows:\n",
    "1. Popular : \n",
    "$$ song\\_hotttnesss \\geq 0.80 $$\n",
    "2. Unpopular: \n",
    "$$ song\\_hottnesss < 0.80 $$"
   ]
  },
  {
   "cell_type": "markdown",
   "metadata": {},
   "source": [
    "**Get last 10 years songs from 2001-2010.**"
   ]
  },
  {
   "cell_type": "code",
   "execution_count": 19,
   "metadata": {},
   "outputs": [],
   "source": [
    "# take top songs from 2001\n",
    "df_msd_latest_songs = df_msd_reduced.loc[(df_msd_reduced[\"year\"] > 2000)]"
   ]
  },
  {
   "cell_type": "markdown",
   "metadata": {},
   "source": [
    "**Get popular songs from 2001-2010.**"
   ]
  },
  {
   "cell_type": "code",
   "execution_count": 20,
   "metadata": {},
   "outputs": [],
   "source": [
    "# take top songs from 2001\n",
    "df_msd_top    = copy_dataframe(df_msd_latest_songs)\n",
    "df_msd_top    = df_msd_top.loc[(df_msd_top[\"song_hotttnesss\"] >= 0.8)]\n",
    "\n",
    "# add label\n",
    "df_msd_top[\"popularity\"] = \"popular\""
   ]
  },
  {
   "cell_type": "markdown",
   "metadata": {},
   "source": [
    "**Get less popular songs from 2001-2010.**"
   ]
  },
  {
   "cell_type": "code",
   "execution_count": 21,
   "metadata": {},
   "outputs": [],
   "source": [
    "# take unpopular songs from 2001\n",
    "df_msd_less = copy_dataframe(df_msd_latest_songs)\n",
    "df_msd_less = (df_msd_less.loc[(df_msd_less[\"song_hotttnesss\"] < 0.8)]).head(10000)\n",
    "\n",
    "# add label\n",
    "df_msd_less[\"popularity\"] = \"unpopular\""
   ]
  },
  {
   "cell_type": "markdown",
   "metadata": {},
   "source": [
    "**Merge dataframe and save the file.**"
   ]
  },
  {
   "cell_type": "code",
   "execution_count": 22,
   "metadata": {},
   "outputs": [],
   "source": [
    "df_msd_1 = pd.concat([df_msd_top, df_msd_less])\n",
    "save_dataframe(df_msd_1,\"df_msd_1\")"
   ]
  },
  {
   "cell_type": "markdown",
   "metadata": {},
   "source": [
    "#### Load popular and less populars songs from (2001-2010)"
   ]
  },
  {
   "cell_type": "code",
   "execution_count": 23,
   "metadata": {},
   "outputs": [
    {
     "name": "stdout",
     "output_type": "stream",
     "text": [
      "dataset size:  (15368, 29)\n"
     ]
    }
   ],
   "source": [
    "# Read pickle file and form the dataframe object\n",
    "df_msd_1 = read_saved_dataframe(\"df_msd_1\")\n",
    "print(\"dataset size: \", df_msd_1.shape)"
   ]
  },
  {
   "cell_type": "markdown",
   "metadata": {},
   "source": [
    "## Q1.1 What is the characteristic/metrics of popular songs?\n",
    "In this part, we want to find the features which lead to the popularity of the song. In order to find the important feature, we propose to use random forest to predict whether this song is popular/unpopular. Once we get high accuracy by random forest, we observe the attribute **feature\\_importances** to see which feature matters the most. Lastly, we combine our common sense to see whether the result got from random forest is reasonable."
   ]
  },
  {
   "cell_type": "markdown",
   "metadata": {},
   "source": [
    "First let's see from numbers, which features correspond significantly to song_hotttnesss."
   ]
  },
  {
   "cell_type": "code",
   "execution_count": 24,
   "metadata": {},
   "outputs": [
    {
     "data": {
      "text/html": [
       "<div>\n",
       "<style>\n",
       "    .dataframe thead tr:only-child th {\n",
       "        text-align: right;\n",
       "    }\n",
       "\n",
       "    .dataframe thead th {\n",
       "        text-align: left;\n",
       "    }\n",
       "\n",
       "    .dataframe tbody tr th {\n",
       "        vertical-align: top;\n",
       "    }\n",
       "</style>\n",
       "<table border=\"1\" class=\"dataframe\">\n",
       "  <thead>\n",
       "    <tr style=\"text-align: right;\">\n",
       "      <th></th>\n",
       "      <th>duration</th>\n",
       "      <th>artist_familiarity</th>\n",
       "      <th>artist_hotttnesss</th>\n",
       "      <th>year</th>\n",
       "      <th>artist_7digitalid</th>\n",
       "      <th>artist_latitude</th>\n",
       "      <th>artist_longitude</th>\n",
       "      <th>artist_playmeid</th>\n",
       "      <th>end_of_fade_in</th>\n",
       "      <th>key</th>\n",
       "    </tr>\n",
       "  </thead>\n",
       "  <tbody>\n",
       "    <tr>\n",
       "      <th>song_hotttnesss</th>\n",
       "      <td>-0.032032</td>\n",
       "      <td>0.658641</td>\n",
       "      <td>0.646129</td>\n",
       "      <td>0.189801</td>\n",
       "      <td>-0.143919</td>\n",
       "      <td>0.047171</td>\n",
       "      <td>-0.061258</td>\n",
       "      <td>-0.031276</td>\n",
       "      <td>0.004815</td>\n",
       "      <td>0.006697</td>\n",
       "    </tr>\n",
       "  </tbody>\n",
       "</table>\n",
       "</div>"
      ],
      "text/plain": [
       "                 duration  artist_familiarity  artist_hotttnesss      year  \\\n",
       "song_hotttnesss -0.032032            0.658641           0.646129  0.189801   \n",
       "\n",
       "                 artist_7digitalid  artist_latitude  artist_longitude  \\\n",
       "song_hotttnesss          -0.143919         0.047171         -0.061258   \n",
       "\n",
       "                 artist_playmeid  end_of_fade_in       key  \n",
       "song_hotttnesss        -0.031276        0.004815  0.006697  "
      ]
     },
     "metadata": {},
     "output_type": "display_data"
    },
    {
     "data": {
      "text/html": [
       "<div>\n",
       "<style>\n",
       "    .dataframe thead tr:only-child th {\n",
       "        text-align: right;\n",
       "    }\n",
       "\n",
       "    .dataframe thead th {\n",
       "        text-align: left;\n",
       "    }\n",
       "\n",
       "    .dataframe tbody tr th {\n",
       "        vertical-align: top;\n",
       "    }\n",
       "</style>\n",
       "<table border=\"1\" class=\"dataframe\">\n",
       "  <thead>\n",
       "    <tr style=\"text-align: right;\">\n",
       "      <th></th>\n",
       "      <th>key_confidence</th>\n",
       "      <th>loudness</th>\n",
       "      <th>mode</th>\n",
       "      <th>mode_confidence</th>\n",
       "      <th>release_7digitalid</th>\n",
       "      <th>song_hotttnesss</th>\n",
       "      <th>start_of_fade_out</th>\n",
       "      <th>tempo</th>\n",
       "      <th>time_signature</th>\n",
       "      <th>time_signature_confidence</th>\n",
       "      <th>track_7digitalid</th>\n",
       "    </tr>\n",
       "  </thead>\n",
       "  <tbody>\n",
       "    <tr>\n",
       "      <th>song_hotttnesss</th>\n",
       "      <td>0.027077</td>\n",
       "      <td>0.182259</td>\n",
       "      <td>-0.014546</td>\n",
       "      <td>0.048541</td>\n",
       "      <td>-0.035237</td>\n",
       "      <td>1.0</td>\n",
       "      <td>-0.033839</td>\n",
       "      <td>0.027006</td>\n",
       "      <td>0.044252</td>\n",
       "      <td>0.04724</td>\n",
       "      <td>-0.034993</td>\n",
       "    </tr>\n",
       "  </tbody>\n",
       "</table>\n",
       "</div>"
      ],
      "text/plain": [
       "                 key_confidence  loudness      mode  mode_confidence  \\\n",
       "song_hotttnesss        0.027077  0.182259 -0.014546         0.048541   \n",
       "\n",
       "                 release_7digitalid  song_hotttnesss  start_of_fade_out  \\\n",
       "song_hotttnesss           -0.035237              1.0          -0.033839   \n",
       "\n",
       "                    tempo  time_signature  time_signature_confidence  \\\n",
       "song_hotttnesss  0.027006        0.044252                    0.04724   \n",
       "\n",
       "                 track_7digitalid  \n",
       "song_hotttnesss         -0.034993  "
      ]
     },
     "metadata": {},
     "output_type": "display_data"
    }
   ],
   "source": [
    "# Use corr() built-in panda to see data correlation between song_hotttnesss and others columns.\n",
    "msd_corr_song_hotnes = df_msd_1.corr().loc[[\"song_hotttnesss\"]]\n",
    "display(msd_corr_song_hotnes.iloc[:,:10])\n",
    "display(msd_corr_song_hotnes.iloc[:,10:])"
   ]
  },
  {
   "cell_type": "markdown",
   "metadata": {},
   "source": [
    "Briefly, we can see that \"artist_familiarity\", \"artis_hotttnesss\", \"year\", and \"loudness\" have more correlations with \"song_hotttness\""
   ]
  },
  {
   "cell_type": "markdown",
   "metadata": {},
   "source": [
    "Next define (x,y) for RandomForestClassifier"
   ]
  },
  {
   "cell_type": "code",
   "execution_count": 25,
   "metadata": {},
   "outputs": [],
   "source": [
    "unused_features = ['title', 'song_id', 'release', 'artist_id', 'artist_mbid',\n",
    "                       'artist_name', 'artist_location']\n",
    "unused_features.append(\"song_hotttnesss\")\n",
    "unused_features.append(\"popularity\")\n",
    "\n",
    "x = df_msd_1.drop(unused_features, axis=1)\n",
    "y = df_msd_1.popularity"
   ]
  },
  {
   "cell_type": "markdown",
   "metadata": {},
   "source": [
    "To avoid error, we should pay attention into NAN entries in x"
   ]
  },
  {
   "cell_type": "code",
   "execution_count": 26,
   "metadata": {},
   "outputs": [
    {
     "data": {
      "text/plain": [
       "True"
      ]
     },
     "execution_count": 26,
     "metadata": {},
     "output_type": "execute_result"
    }
   ],
   "source": [
    "# check if we have nan or not in x dataframe\n",
    "x.isnull().values.any()"
   ]
  },
  {
   "cell_type": "markdown",
   "metadata": {},
   "source": [
    "We simply fill the NAN in each column by the mean of the rest of data in every column"
   ]
  },
  {
   "cell_type": "code",
   "execution_count": 27,
   "metadata": {},
   "outputs": [],
   "source": [
    "# fill the rest of missing values with mean\n",
    "x = x.fillna(x.mean())"
   ]
  },
  {
   "cell_type": "code",
   "execution_count": 28,
   "metadata": {},
   "outputs": [
    {
     "name": "stdout",
     "output_type": "stream",
     "text": [
      "(15368, 20)\n",
      "(15368,)\n"
     ]
    }
   ],
   "source": [
    "# check the data\n",
    "print(x.shape)\n",
    "print(y.shape)"
   ]
  },
  {
   "cell_type": "code",
   "execution_count": 29,
   "metadata": {},
   "outputs": [],
   "source": [
    "# split the original dataset into 20% validation set, 10% test set and 80% training set\n",
    "x_train, x_test, y_train, y_test = train_test_split(x, y, test_size=0.2, random_state=1)\n",
    "# split the test set into 50% validation set and 50% test set (both are 10% of the original dataset)\n",
    "x_test, x_val, y_test, y_val = train_test_split(x_test, y_test, test_size=0.5, random_state=1)"
   ]
  },
  {
   "cell_type": "code",
   "execution_count": 30,
   "metadata": {},
   "outputs": [
    {
     "name": "stdout",
     "output_type": "stream",
     "text": [
      "best n_estimators            : 1500\n",
      "best max_depth               : 30\n",
      "best training f1 score       : 0.999552380142\n",
      "best validation f1 score     : 0.867711490251\n",
      "test f1 score                : 0.84610034828\n"
     ]
    }
   ],
   "source": [
    "# variables to store the best parameters and model\n",
    "best_fscore_tr = fscore = best_fscore = best_n_estimators = best_max_depth = 0\n",
    "\n",
    "n1 = 15\n",
    "n2 = 3\n",
    "\n",
    "n_estimators_arr = [i*100 + 100 for i in range(n1)]\n",
    "max_depth_arr = [i*10 + 10 for i in range(n2)]\n",
    "fscore_test_array = np.zeros([n1,n2])\n",
    "fscore_train_array = np.zeros([n1,n2])\n",
    "\n",
    "# grid search the best parameters\n",
    "for i, n_estimators in enumerate(n_estimators_arr):\n",
    "    for j, max_depth in enumerate(max_depth_arr):\n",
    "\n",
    "        # build the model and train\n",
    "        clf = RandomForestClassifier(n_estimators=n_estimators, \n",
    "                                     max_depth=max_depth,\n",
    "                                     n_jobs=4)\n",
    "        clf.fit(x_train, y_train)\n",
    "\n",
    "        # test the performance with validation set\n",
    "        # 'macro' means calculating metrics for each label, and finding their unweighted mean\n",
    "        fscore = fscore_test_array[i,j] = f1_score(y_val, clf.predict(x_val), average = 'macro')\n",
    "        fscore_train_array[i,j] = f1_score(y_train, clf.predict(x_train), average = 'macro')\n",
    "        \n",
    "        # record the best one\n",
    "        if fscore > best_fscore:\n",
    "            best_fscore = fscore\n",
    "            best_fscore_tr = fscore_train_array[i,j]\n",
    "            best_n_estimators = n_estimators \n",
    "            best_max_depth = max_depth\n",
    "            best_model = clf\n",
    "            \n",
    "print('best n_estimators            :', n_estimators)\n",
    "print('best max_depth               :', max_depth)\n",
    "print('best training f1 score       :', best_fscore_tr)\n",
    "print('best validation f1 score     :', best_fscore)\n",
    "print('test f1 score                :', f1_score(y_test, best_model.predict(x_test), average = 'macro'))"
   ]
  },
  {
   "cell_type": "markdown",
   "metadata": {},
   "source": [
    "**Learning Curve**"
   ]
  },
  {
   "cell_type": "code",
   "execution_count": 31,
   "metadata": {},
   "outputs": [
    {
     "data": {
      "image/png": "[encoded data removed]",
      "text/plain": [
       "<matplotlib.figure.Figure at 0x7f9b2115c0b8>"
      ]
     },
     "metadata": {},
     "output_type": "display_data"
    }
   ],
   "source": [
    "f, (ax1, ax2) = plt.subplots(1,2, sharex=True, sharey=True)\n",
    "f.set_figwidth(12)\n",
    "ax1.plot(n_estimators_arr, fscore_test_array[:,0], label = 'test accuracy')\n",
    "ax1.plot(n_estimators_arr, fscore_train_array[:,0], label = 'train accuracy')\n",
    "ax1.set_xlabel('n_estimators')\n",
    "ax1.set_ylabel('f1 score')\n",
    "ax1.set_title('comparison of train accuracy and test accuracy')\n",
    "ax1.legend()\n",
    "\n",
    "ax2.plot(n_estimators_arr, fscore_test_array[:,0], label = 'max_depth = 10')\n",
    "ax2.plot(n_estimators_arr, fscore_test_array[:,1], label = 'max_depth = 20')\n",
    "ax2.plot(n_estimators_arr, fscore_test_array[:,2], label = 'max_depth = 30')\n",
    "ax2.set_xlabel('n_estimators')\n",
    "ax2.set_ylabel('f1 score')\n",
    "ax2.set_title('comparison of different max_depth')\n",
    "ax2.legend()\n",
    "\n",
    "plt.show()"
   ]
  },
  {
   "cell_type": "markdown",
   "metadata": {},
   "source": [
    "**Confusion Matrix**"
   ]
  },
  {
   "cell_type": "code",
   "execution_count": 32,
   "metadata": {},
   "outputs": [
    {
     "data": {
      "image/png": "[encoded data removed]",
      "text/plain": [
       "<matplotlib.figure.Figure at 0x7f9b2313e1d0>"
      ]
     },
     "metadata": {},
     "output_type": "display_data"
    }
   ],
   "source": [
    "# create confusion matrix\n",
    "sns.set(style=\"dark\")\n",
    "cnf_matrix = confusion_matrix(y_test, best_model.predict(x_test))\n",
    "\n",
    "def plot_confusion_matrix(cm, classes,\n",
    "                          title='Confusion matrix',\n",
    "                          cmap=plt.cm.Blues):\n",
    "    \"\"\"Function to plot confusion matrix\n",
    "    Args:\n",
    "        cm          : confusion matrix\n",
    "        classes     : array storing the name of categories\n",
    "        camp        : color bar of confusion matrix\n",
    "    \"\"\"\n",
    "    \n",
    "    plt.imshow(cm, interpolation='nearest', cmap=cmap)\n",
    "    plt.title(title)\n",
    "    plt.colorbar()\n",
    "    tick_marks = np.arange(len(classes))\n",
    "    plt.xticks(tick_marks, classes, rotation=90)\n",
    "    plt.yticks(tick_marks, classes)\n",
    "\n",
    "    fmt = 'd'\n",
    "    thresh = cm.max() / 2.\n",
    "    for i, j in itertools.product(range(cm.shape[0]), range(cm.shape[1])):\n",
    "        plt.text(i, j, format(cm[i, j], fmt),\n",
    "                 horizontalalignment=\"center\",\n",
    "                 color=\"white\" if cm[i, j] > thresh else \"black\")\n",
    "    \n",
    "    plt.tight_layout()\n",
    "    plt.ylabel('True label')\n",
    "    plt.xlabel('Predicted label')\n",
    "\n",
    "# plot the confusion matrix\n",
    "plt.figure(figsize=(12,12))\n",
    "plot_confusion_matrix(cnf_matrix, \n",
    "                      classes=y,\n",
    "                      title='Confusion matrix')\n",
    "plt.show()"
   ]
  },
  {
   "cell_type": "markdown",
   "metadata": {},
   "source": [
    "**Cross validation**"
   ]
  },
  {
   "cell_type": "code",
   "execution_count": 33,
   "metadata": {},
   "outputs": [
    {
     "name": "stdout",
     "output_type": "stream",
     "text": [
      "average f1 score =  0.860810135165\n"
     ]
    }
   ],
   "source": [
    "def build_k_indices(y, k_fold):\n",
    "    \"\"\"Function to build k indices for k-fold.\n",
    "\n",
    "    Args:\n",
    "        y      (numpy array): Matrix output of size N x 1.\n",
    "        k_fold (int)        : The value k, of k-fold cross validation.\n",
    "        seed   (int)        : Integer value to seed the random generator.\n",
    "\n",
    "    Returns:\n",
    "        k_indices (numpy array) : Matrix of K x floor(N/K), as indices for unbiased test error of K-cross Validation.\n",
    "    \"\"\"\n",
    "    seed = 1\n",
    "    num_row    = y.shape[0]\n",
    "    interval   = int(num_row / k_fold)\n",
    "    np.random.seed(seed)\n",
    "    indices    = np.random.permutation(num_row)\n",
    "    k_indices  = np.array([indices[k * interval: (k + 1) * interval]\n",
    "                 for k in range(k_fold)])\n",
    "    return k_indices\n",
    "\n",
    "def data_split(y, x, k_indices, k):\n",
    "    \"\"\"Function to split training data and test data using K-cross validation based on given k_indices.\n",
    "\n",
    "    Args:\n",
    "        y         (numpy array): Matrix output of size N x 1.\n",
    "        tx        (numpy array): Matrix input of size N x D.\n",
    "        k_indices (numpy array): Matrix of K x floor(N/K), as indices for unbiased test error of K-cross Validation.\n",
    "        k         (int)        : For choosing index in the k_indices\n",
    "\n",
    "    Returns:\n",
    "        x_train (numpy array) : Matrix input (features) for training set with size of (ratio*N) x D.\n",
    "        y_train (numpy array) : Matrix output for training set with size of (ratio*N) x 1.\n",
    "        x_test  (numpy array) : Matrix input (features) for testing set with size of ((1-ratio)*N) x D.\n",
    "        y_test  (numpy array) : Matrix output for testing set with size of ((1-ratio)*N) x 1.\n",
    "    \"\"\"\n",
    "    \n",
    "    train_set_indices               = np.ones(x.shape[0], dtype = bool)\n",
    "    train_set_indices[k_indices[k]] = False\n",
    "\n",
    "    x_train = x[train_set_indices]\n",
    "    y_train = y[train_set_indices]\n",
    "    \n",
    "    x_test  = x.iloc[k_indices[k]]\n",
    "    y_test  = y.iloc[k_indices[k]]\n",
    "    \n",
    "    return x_train, y_train, x_test, y_test\n",
    "\n",
    "\n",
    "\n",
    "# build validation set\n",
    "k_fold = 10\n",
    "k_indices = build_k_indices(y, k_fold)\n",
    "\n",
    "best_n_estimators = 1500\n",
    "best_max_depth = 30\n",
    "\n",
    "# best classifier from grid search\n",
    "clf = RandomForestClassifier(n_estimators=best_n_estimators, \n",
    "                             max_depth=best_max_depth,\n",
    "                             n_jobs=4)\n",
    "\n",
    "accuracy_arr = np.zeros(k_fold)\n",
    "para_ = []\n",
    "# perform 10-fold cross validation\n",
    "for k in range(k_fold):\n",
    "    x_train, y_train, x_test, y_test = data_split(y = y, x = x, k_indices=k_indices, k=k)\n",
    "    clf.fit(x_train, y_train)\n",
    "    accuracy_arr[k] = f1_score(y_test, clf.predict(x_test), average = 'macro')\n",
    "    para_.append(clf.feature_importances_)\n",
    "print('average f1 score = ', np.mean(accuracy_arr))"
   ]
  },
  {
   "cell_type": "markdown",
   "metadata": {},
   "source": [
    "**Important Features**"
   ]
  },
  {
   "cell_type": "code",
   "execution_count": 34,
   "metadata": {
    "scrolled": true
   },
   "outputs": [
    {
     "name": "stdout",
     "output_type": "stream",
     "text": [
      "total number of features: 20\n",
      "number of features with importance: 0\n"
     ]
    },
    {
     "data": {
      "image/png": "[encoded data removed]",
      "text/plain": [
       "<matplotlib.figure.Figure at 0x7f9b230e9c50>"
      ]
     },
     "metadata": {},
     "output_type": "display_data"
    }
   ],
   "source": [
    "sns.set(style=\"whitegrid\")\n",
    "feature_importance = np.mean(para_, axis=0)\n",
    "\n",
    "print('total number of features:', feature_importance.shape[0])\n",
    "# number of 0's in the feature importance\n",
    "print('number of features with importance:', np.sum(feature_importance == 0))\n",
    "\n",
    "# let's see features with non-zero value in log scale\n",
    "plt.hist(np.log(feature_importance[feature_importance != 0]), bins = 25)\n",
    "plt.show()"
   ]
  },
  {
   "cell_type": "markdown",
   "metadata": {},
   "source": [
    "### Observations of 1.1:\n",
    "> Unfortunately, using RandomForestClassifier does not bring us any exact conclusion of what attributes lead to songs' popularity"
   ]
  },
  {
   "cell_type": "markdown",
   "metadata": {},
   "source": [
    "## Q1.2 What are the challenges that music industry faces? \n",
    "#### To address this question, we will utilize more about features distribution between popular songs and less popular songs. We want to see the trend of music popularity by these."
   ]
  },
  {
   "cell_type": "code",
   "execution_count": 35,
   "metadata": {},
   "outputs": [
    {
     "data": {
      "text/plain": [
       "(15368, 29)"
      ]
     },
     "execution_count": 35,
     "metadata": {},
     "output_type": "execute_result"
    }
   ],
   "source": [
    "df_msd_2 = copy_dataframe(df_msd_1)\n",
    "df_msd_2.shape"
   ]
  },
  {
   "cell_type": "code",
   "execution_count": 66,
   "metadata": {},
   "outputs": [],
   "source": [
    "df_msd_2_top  = df_msd_2.loc[df_msd_2[\"popularity\"]==\"popular\"]\n",
    "df_msd_2_less = df_msd_2.loc[df_msd_2[\"popularity\"]==\"unpopular\"]"
   ]
  },
  {
   "cell_type": "code",
   "execution_count": 60,
   "metadata": {},
   "outputs": [],
   "source": [
    "discrete_features = ['title', 'song_id', 'release', 'artist_id', 'artist_mbid',\n",
    "                    'artist_name', 'artist_location']\n",
    "number_features   = df_msd_2.columns.difference(discrete_features)"
   ]
  },
  {
   "cell_type": "markdown",
   "metadata": {},
   "source": [
    "### Discrete Features : Release, Artist, Location"
   ]
  },
  {
   "cell_type": "markdown",
   "metadata": {},
   "source": [
    "**\"Release\" Album**\n",
    "<br>We observe how often song from same album become popular"
   ]
  },
  {
   "cell_type": "code",
   "execution_count": 211,
   "metadata": {},
   "outputs": [
    {
     "data": {
      "text/html": [
       "<div>\n",
       "<style>\n",
       "    .dataframe thead tr:only-child th {\n",
       "        text-align: right;\n",
       "    }\n",
       "\n",
       "    .dataframe thead th {\n",
       "        text-align: left;\n",
       "    }\n",
       "\n",
       "    .dataframe tbody tr th {\n",
       "        vertical-align: top;\n",
       "    }\n",
       "</style>\n",
       "<table border=\"1\" class=\"dataframe\">\n",
       "  <thead>\n",
       "    <tr style=\"text-align: right;\">\n",
       "      <th></th>\n",
       "      <th>release_occurence</th>\n",
       "      <th>song_hotttnesss</th>\n",
       "    </tr>\n",
       "  </thead>\n",
       "  <tbody>\n",
       "    <tr>\n",
       "      <th>count</th>\n",
       "      <td>1000.000000</td>\n",
       "      <td>1000.000000</td>\n",
       "    </tr>\n",
       "    <tr>\n",
       "      <th>mean</th>\n",
       "      <td>3.961000</td>\n",
       "      <td>0.850174</td>\n",
       "    </tr>\n",
       "    <tr>\n",
       "      <th>std</th>\n",
       "      <td>2.869096</td>\n",
       "      <td>0.046961</td>\n",
       "    </tr>\n",
       "    <tr>\n",
       "      <th>min</th>\n",
       "      <td>1.000000</td>\n",
       "      <td>0.800118</td>\n",
       "    </tr>\n",
       "    <tr>\n",
       "      <th>25%</th>\n",
       "      <td>2.000000</td>\n",
       "      <td>0.814991</td>\n",
       "    </tr>\n",
       "    <tr>\n",
       "      <th>50%</th>\n",
       "      <td>3.000000</td>\n",
       "      <td>0.836474</td>\n",
       "    </tr>\n",
       "    <tr>\n",
       "      <th>75%</th>\n",
       "      <td>5.000000</td>\n",
       "      <td>0.869730</td>\n",
       "    </tr>\n",
       "    <tr>\n",
       "      <th>max</th>\n",
       "      <td>19.000000</td>\n",
       "      <td>1.000000</td>\n",
       "    </tr>\n",
       "  </tbody>\n",
       "</table>\n",
       "</div>"
      ],
      "text/plain": [
       "       release_occurence  song_hotttnesss\n",
       "count        1000.000000      1000.000000\n",
       "mean            3.961000         0.850174\n",
       "std             2.869096         0.046961\n",
       "min             1.000000         0.800118\n",
       "25%             2.000000         0.814991\n",
       "50%             3.000000         0.836474\n",
       "75%             5.000000         0.869730\n",
       "max            19.000000         1.000000"
      ]
     },
     "execution_count": 211,
     "metadata": {},
     "output_type": "execute_result"
    }
   ],
   "source": [
    "# Release occurences for popular songs\n",
    "df_msd_top_release = copy_dataframe(df_msd_2_top)\n",
    "df_msd_top_release[\"release_occurence\"] = df_msd_top_release.groupby([\"release\"])[\"release\"].transform('count')\n",
    "df_msd_top_release = df_msd_top_release.reset_index()\n",
    "\n",
    "top_release = df_msd_top_release[[\"release_occurence\",\"release\", \"song_hotttnesss\"]].groupby(\"release\").first().sort_values([\"release_occurence\"],ascending=False).head(1000)\n",
    "top_release.describe()"
   ]
  },
  {
   "cell_type": "code",
   "execution_count": 212,
   "metadata": {},
   "outputs": [
    {
     "data": {
      "text/html": [
       "<div>\n",
       "<style>\n",
       "    .dataframe thead tr:only-child th {\n",
       "        text-align: right;\n",
       "    }\n",
       "\n",
       "    .dataframe thead th {\n",
       "        text-align: left;\n",
       "    }\n",
       "\n",
       "    .dataframe tbody tr th {\n",
       "        vertical-align: top;\n",
       "    }\n",
       "</style>\n",
       "<table border=\"1\" class=\"dataframe\">\n",
       "  <thead>\n",
       "    <tr style=\"text-align: right;\">\n",
       "      <th></th>\n",
       "      <th>release_occurence</th>\n",
       "      <th>song_hotttnesss</th>\n",
       "    </tr>\n",
       "  </thead>\n",
       "  <tbody>\n",
       "    <tr>\n",
       "      <th>count</th>\n",
       "      <td>1000.000000</td>\n",
       "      <td>1000.000000</td>\n",
       "    </tr>\n",
       "    <tr>\n",
       "      <th>mean</th>\n",
       "      <td>2.276000</td>\n",
       "      <td>0.434256</td>\n",
       "    </tr>\n",
       "    <tr>\n",
       "      <th>std</th>\n",
       "      <td>0.624671</td>\n",
       "      <td>0.203818</td>\n",
       "    </tr>\n",
       "    <tr>\n",
       "      <th>min</th>\n",
       "      <td>2.000000</td>\n",
       "      <td>0.000000</td>\n",
       "    </tr>\n",
       "    <tr>\n",
       "      <th>25%</th>\n",
       "      <td>2.000000</td>\n",
       "      <td>0.327737</td>\n",
       "    </tr>\n",
       "    <tr>\n",
       "      <th>50%</th>\n",
       "      <td>2.000000</td>\n",
       "      <td>0.466305</td>\n",
       "    </tr>\n",
       "    <tr>\n",
       "      <th>75%</th>\n",
       "      <td>2.000000</td>\n",
       "      <td>0.583771</td>\n",
       "    </tr>\n",
       "    <tr>\n",
       "      <th>max</th>\n",
       "      <td>11.000000</td>\n",
       "      <td>0.798255</td>\n",
       "    </tr>\n",
       "  </tbody>\n",
       "</table>\n",
       "</div>"
      ],
      "text/plain": [
       "       release_occurence  song_hotttnesss\n",
       "count        1000.000000      1000.000000\n",
       "mean            2.276000         0.434256\n",
       "std             0.624671         0.203818\n",
       "min             2.000000         0.000000\n",
       "25%             2.000000         0.327737\n",
       "50%             2.000000         0.466305\n",
       "75%             2.000000         0.583771\n",
       "max            11.000000         0.798255"
      ]
     },
     "execution_count": 212,
     "metadata": {},
     "output_type": "execute_result"
    }
   ],
   "source": [
    "# Release occurences for less songs\n",
    "df_msd_less_release = copy_dataframe(df_msd_2_less)\n",
    "df_msd_less_release[\"release_occurence\"] = df_msd_less_release.groupby([\"release\"])[\"release\"].transform('count')\n",
    "df_msd_less_release = df_msd_less_release.reset_index()\n",
    "\n",
    "less_release = df_msd_less_release[[\"release_occurence\",\"release\", \"song_hotttnesss\"]].groupby(\"release\").first().sort_values([\"release_occurence\"],ascending=False).head(1000)\n",
    "less_release.describe()"
   ]
  },
  {
   "cell_type": "code",
   "execution_count": 213,
   "metadata": {},
   "outputs": [
    {
     "name": "stdout",
     "output_type": "stream",
     "text": [
      "Average release_occurence of Top Songs in same Release Album:  3.961\n",
      "Median release_occurence of Top Songs in same Release Album:  3.0\n",
      "Average release_occurence of Less Top Songs in same Release Album:  2.276\n",
      "Median release_occurence of Less Top Songs in same Release Album:  2.0\n"
     ]
    },
    {
     "data": {
      "image/png": "[encoded data removed]",
      "text/plain": [
       "<matplotlib.figure.Figure at 0x7f9b76badd30>"
      ]
     },
     "metadata": {},
     "output_type": "display_data"
    }
   ],
   "source": [
    "# Plot 2 x 1\n",
    "fig, (ax1, ax2) = plt.subplots(ncols=2, sharey=True)\n",
    "fig.set_size_inches(12, 6)\n",
    "ax1 = sns.boxplot(y = 'release_occurence' , data=top_release, ax = ax1, palette=\"Set3\", showfliers=False)\n",
    "ax1.set_title(\"Occurences of Top Songs from Same Album\")\n",
    "\n",
    "ax2 = sns.boxplot(y = 'release_occurence' , data=less_release, ax = ax2, palette=\"Set3\", showfliers=False)\n",
    "ax2.set_title(\"Occurences of Less Popular Songs from Same Album\")\n",
    "\n",
    "print(\"Average release_occurence of Top Songs in same Release Album: \",top_release['release_occurence'].mean())\n",
    "print(\"Median release_occurence of Top Songs in same Release Album: \",top_release['release_occurence'].median())\n",
    "print(\"Average release_occurence of Less Top Songs in same Release Album: \",less_release['release_occurence'].mean())\n",
    "print(\"Median release_occurence of Less Top Songs in same Release Album: \",less_release['release_occurence'].median())\n",
    "\n",
    "plt.show()"
   ]
  },
  {
   "cell_type": "markdown",
   "metadata": {},
   "source": [
    "**\"Singer\" or Artist**\n",
    "<br>We observe how often song from same singer become popular"
   ]
  },
  {
   "cell_type": "code",
   "execution_count": 121,
   "metadata": {},
   "outputs": [
    {
     "data": {
      "text/html": [
       "<div>\n",
       "<style>\n",
       "    .dataframe thead tr:only-child th {\n",
       "        text-align: right;\n",
       "    }\n",
       "\n",
       "    .dataframe thead th {\n",
       "        text-align: left;\n",
       "    }\n",
       "\n",
       "    .dataframe tbody tr th {\n",
       "        vertical-align: top;\n",
       "    }\n",
       "</style>\n",
       "<table border=\"1\" class=\"dataframe\">\n",
       "  <thead>\n",
       "    <tr style=\"text-align: right;\">\n",
       "      <th></th>\n",
       "      <th>artist_occurence</th>\n",
       "      <th>song_hotttnesss</th>\n",
       "    </tr>\n",
       "    <tr>\n",
       "      <th>release</th>\n",
       "      <th></th>\n",
       "      <th></th>\n",
       "    </tr>\n",
       "  </thead>\n",
       "  <tbody>\n",
       "    <tr>\n",
       "      <th>The Alchemy Index: Vols 3 &amp; 4 Air &amp; Earth</th>\n",
       "      <td>43</td>\n",
       "      <td>0.809892</td>\n",
       "    </tr>\n",
       "    <tr>\n",
       "      <th>The Artist In The Ambulance</th>\n",
       "      <td>43</td>\n",
       "      <td>0.827930</td>\n",
       "    </tr>\n",
       "    <tr>\n",
       "      <th>Vheissu</th>\n",
       "      <td>43</td>\n",
       "      <td>0.824375</td>\n",
       "    </tr>\n",
       "    <tr>\n",
       "      <th>Beggars</th>\n",
       "      <td>43</td>\n",
       "      <td>0.827747</td>\n",
       "    </tr>\n",
       "    <tr>\n",
       "      <th>Live At The House Of Blues</th>\n",
       "      <td>43</td>\n",
       "      <td>0.816549</td>\n",
       "    </tr>\n",
       "  </tbody>\n",
       "</table>\n",
       "</div>"
      ],
      "text/plain": [
       "                                           artist_occurence  song_hotttnesss\n",
       "release                                                                     \n",
       "The Alchemy Index: Vols 3 & 4 Air & Earth                43         0.809892\n",
       "The Artist In The Ambulance                              43         0.827930\n",
       "Vheissu                                                  43         0.824375\n",
       "Beggars                                                  43         0.827747\n",
       "Live At The House Of Blues                               43         0.816549"
      ]
     },
     "execution_count": 121,
     "metadata": {},
     "output_type": "execute_result"
    }
   ],
   "source": [
    "# Artist occurences for popular songs\n",
    "df_msd_top_artist = copy_dataframe(df_msd_2_top)\n",
    "df_msd_top_artist[\"artist_occurence\"] = df_msd_top_artist.groupby([\"artist_id\"])[\"artist_name\"].transform('count')\n",
    "df_msd_top_artist = df_msd_top_artist.reset_index()\n",
    "\n",
    "top_artist = df_msd_top_artist[[\"artist_occurence\",\"release\", \"song_hotttnesss\"]].groupby(\"release\").first().sort_values([\"artist_occurence\"],ascending=False)\n",
    "top_artist.head(5)"
   ]
  },
  {
   "cell_type": "code",
   "execution_count": 122,
   "metadata": {},
   "outputs": [
    {
     "data": {
      "text/html": [
       "<div>\n",
       "<style>\n",
       "    .dataframe thead tr:only-child th {\n",
       "        text-align: right;\n",
       "    }\n",
       "\n",
       "    .dataframe thead th {\n",
       "        text-align: left;\n",
       "    }\n",
       "\n",
       "    .dataframe tbody tr th {\n",
       "        vertical-align: top;\n",
       "    }\n",
       "</style>\n",
       "<table border=\"1\" class=\"dataframe\">\n",
       "  <thead>\n",
       "    <tr style=\"text-align: right;\">\n",
       "      <th></th>\n",
       "      <th>artist_occurence</th>\n",
       "      <th>song_hotttnesss</th>\n",
       "    </tr>\n",
       "    <tr>\n",
       "      <th>release</th>\n",
       "      <th></th>\n",
       "      <th></th>\n",
       "    </tr>\n",
       "  </thead>\n",
       "  <tbody>\n",
       "    <tr>\n",
       "      <th>M83</th>\n",
       "      <td>8</td>\n",
       "      <td>0.742588</td>\n",
       "    </tr>\n",
       "    <tr>\n",
       "      <th>Digital Shades</th>\n",
       "      <td>8</td>\n",
       "      <td>0.738992</td>\n",
       "    </tr>\n",
       "    <tr>\n",
       "      <th>We Own The Sky</th>\n",
       "      <td>8</td>\n",
       "      <td>0.572535</td>\n",
       "    </tr>\n",
       "    <tr>\n",
       "      <th>Before The Dawn Heals Us</th>\n",
       "      <td>8</td>\n",
       "      <td>0.766846</td>\n",
       "    </tr>\n",
       "    <tr>\n",
       "      <th>Run Into Flowers</th>\n",
       "      <td>8</td>\n",
       "      <td>0.640024</td>\n",
       "    </tr>\n",
       "  </tbody>\n",
       "</table>\n",
       "</div>"
      ],
      "text/plain": [
       "                          artist_occurence  song_hotttnesss\n",
       "release                                                    \n",
       "M83                                      8         0.742588\n",
       "Digital Shades                           8         0.738992\n",
       "We Own The Sky                           8         0.572535\n",
       "Before The Dawn Heals Us                 8         0.766846\n",
       "Run Into Flowers                         8         0.640024"
      ]
     },
     "execution_count": 122,
     "metadata": {},
     "output_type": "execute_result"
    }
   ],
   "source": [
    "# Artist occurences for less popular songs\n",
    "df_msd_less_artist = copy_dataframe(df_msd_2_less)\n",
    "df_msd_less_artist[\"artist_occurence\"] = df_msd_less_artist.groupby([\"artist_id\"])[\"artist_name\"].transform('count')\n",
    "df_msd_less_artist = df_msd_less_artist.reset_index()\n",
    "\n",
    "less_artist = df_msd_less_artist[[\"artist_occurence\",\"release\", \"song_hotttnesss\"]].groupby(\"release\").first().sort_values([\"artist_occurence\"],ascending=False)\n",
    "less_artist.head(5)"
   ]
  },
  {
   "cell_type": "markdown",
   "metadata": {},
   "source": [
    "**\"Location\"**\n",
    "<br>We observe how songs popularity can be related with the origin region. We use folium to draw the map:"
   ]
  },
  {
   "cell_type": "code",
   "execution_count": 195,
   "metadata": {
    "scrolled": false
   },
   "outputs": [
    {
     "data": {
      "text/html": [
       "<div style=\"width:100%;\"><div style=\"position:relative;width:100%;height:0;padding-bottom:60%;\"><iframe src=\"data:text/html;charset=utf-8;base64,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\" style=\"position:absolute;width:100%;height:100%;left:0;top:0;border:none !important;\" allowfullscreen webkitallowfullscreen mozallowfullscreen></iframe></div></div>"
      ],
      "text/plain": [
       "<folium.folium.Map at 0x7f9b77081748>"
      ]
     },
     "execution_count": 195,
     "metadata": {},
     "output_type": "execute_result"
    }
   ],
   "source": [
    "# Filter rows, use datapoints where artist_latitude & artist_longitude is not null, take only 100 markers\n",
    "df_msd_without_nan = df_msd_2_top[~df_msd_2_top.artist_latitude.isnull() & ~df_msd_2_top.artist_longitude.isnull()]\n",
    "df_msd_without_nan = (df_msd_without_nan[[\"artist_latitude\",\"artist_longitude\",\"artist_name\"]]).head(100)\n",
    "\n",
    "# Get a basic world map.\n",
    "songs_map_1 = folium.Map(location=[30, 0], tiles='CartoDB positron', zoom_start=2)\n",
    "\n",
    "# Draw markers on the map.\n",
    "for name, row in df_msd_without_nan.iterrows():\n",
    "    folium.Marker([row[\"artist_latitude\"], row[\"artist_longitude\"]]).add_to(songs_map_1)\n",
    "\n",
    "# Create and show the map.\n",
    "save_map(songs_map_1,\"popular_songs\")\n",
    "songs_map_1"
   ]
  },
  {
   "cell_type": "code",
   "execution_count": 194,
   "metadata": {},
   "outputs": [
    {
     "data": {
      "text/html": [
       "<div style=\"width:100%;\"><div style=\"position:relative;width:100%;height:0;padding-bottom:60%;\"><iframe src=\"data:text/html;charset=utf-8;base64,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\" style=\"position:absolute;width:100%;height:100%;left:0;top:0;border:none !important;\" allowfullscreen webkitallowfullscreen mozallowfullscreen></iframe></div></div>"
      ],
      "text/plain": [
       "<folium.folium.Map at 0x7f9b770819e8>"
      ]
     },
     "execution_count": 194,
     "metadata": {},
     "output_type": "execute_result"
    }
   ],
   "source": [
    "# Filter rows, use datapoints where artist_latitude & artist_longitude is not null, take only 100 markers\n",
    "df_msd_without_nan = df_msd_2_less[~df_msd_2_less.artist_latitude.isnull() & ~df_msd_2_less.artist_longitude.isnull()]\n",
    "df_msd_without_nan = (df_msd_without_nan[[\"artist_latitude\",\"artist_longitude\",\"artist_name\"]]).head(100)\n",
    "\n",
    "# Get a basic world map.\n",
    "songs_map_2 = folium.Map(location=[30, 0], tiles='CartoDB positron', zoom_start=2)\n",
    "# Draw markers on the map.\n",
    "\n",
    "for name, row in df_msd_without_nan.iterrows():\n",
    "    folium.Marker([row[\"artist_latitude\"], row[\"artist_longitude\"]]).add_to(songs_map_2)\n",
    "\n",
    "# Create and show the map.\n",
    "save_map(songs_map_2,\"less_popular_songs\")\n",
    "\n",
    "songs_map_2"
   ]
  },
  {
   "cell_type": "markdown",
   "metadata": {},
   "source": [
    "## Q1.3 Can we analyze and predict the trend in music industry from years to years?\n",
    "#### I think we can only conclude which genre is popular in specific year, and we try to find the story behind it. Besides, we can find the duration of popular genre and perhaps it could help us know how long this popular genre would proceed"
   ]
  },
  {
   "cell_type": "code",
   "execution_count": null,
   "metadata": {
    "collapsed": true
   },
   "outputs": [],
   "source": [
    "import folium\n",
    "\n",
    "# Get a basic world map.\n",
    "airports_map = folium.Map(location=[30, 0], zoom_start=2)\n",
    "# Draw markers on the map.\n",
    "for name, row in airports.iterrows():\n",
    "    # For some reason, this one airport causes issues with the map.\n",
    "    if row[\"name\"] != \"South Pole Station\":\n",
    "        airports_map.circle_marker(location=[row[\"latitude\"], row[\"longitude\"]], popup=row[\"name\"])\n",
    "# Create and show the map.\n",
    "airports_map.create_map('airports.html')\n",
    "airports_map"
   ]
  }
 ],
 "metadata": {
  "kernelspec": {
   "display_name": "Python [default]",
   "language": "python",
   "name": "python3"
  },
  "language_info": {
   "codemirror_mode": {
    "name": "ipython",
    "version": 3
   },
   "file_extension": ".py",
   "mimetype": "text/x-python",
   "name": "python",
   "nbconvert_exporter": "python",
   "pygments_lexer": "ipython3",
   "version": "3.6.3"
  }
 },
 "nbformat": 4,
 "nbformat_minor": 2
}
