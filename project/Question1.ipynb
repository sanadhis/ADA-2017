{
 "cells": [
  {
   "cell_type": "markdown",
   "metadata": {},
   "source": [
    "# Final Project - Part 1"
   ]
  },
  {
   "cell_type": "markdown",
   "metadata": {},
   "source": [
    "### Libraries\n",
    "Here we include all python-native and conda-bundled libraries"
   ]
  },
  {
   "cell_type": "code",
   "execution_count": 44,
   "metadata": {},
   "outputs": [],
   "source": [
    "import pandas as pd\n",
    "import matplotlib.pyplot as plt\n",
    "import seaborn as sns\n",
    "from IPython.display import display\n",
    "\n",
    "import numpy as np\n",
    "import itertools\n",
    "\n",
    "from sklearn.ensemble import RandomForestClassifier\n",
    "from sklearn.metrics import confusion_matrix\n",
    "from sklearn.model_selection import train_test_split\n",
    "from sklearn.metrics import f1_score\n"
   ]
  },
  {
   "cell_type": "markdown",
   "metadata": {},
   "source": [
    "Helper functions for our project can be found in `scripts/helpers.py`. We refactor the common functions, e.g. function to read dataset file, in order to provide reusability and to reduce redudancy in our main notebook."
   ]
  },
  {
   "cell_type": "code",
   "execution_count": 2,
   "metadata": {},
   "outputs": [],
   "source": [
    "from scripts.helpers import read_raw_dataset, read_saved_dataframe, save_dataframe, debug_dataframe, copy_dataframe"
   ]
  },
  {
   "cell_type": "markdown",
   "metadata": {},
   "source": [
    "### Datasets\n",
    "We mainly use million songs datasets (msd), the msd provide two big datasets:\n",
    "* msd_songs \n",
    "* msd_summary\n",
    "\n",
    "<br>We read dataset using our predefined read_raw_dataset() function:"
   ]
  },
  {
   "cell_type": "code",
   "execution_count": 3,
   "metadata": {},
   "outputs": [],
   "source": [
    "# load dataset\n",
    "df_msd_songs   = read_raw_dataset(\"msd_songs\")\n",
    "df_msd_summary = read_raw_dataset(\"msd_summary\")"
   ]
  },
  {
   "cell_type": "markdown",
   "metadata": {},
   "source": [
    "Peek into the dataset using predefined debug_dataframe() function:"
   ]
  },
  {
   "cell_type": "code",
   "execution_count": 4,
   "metadata": {},
   "outputs": [
    {
     "name": "stdout",
     "output_type": "stream",
     "text": [
      "Dataset size:  (1000000, 11)\n",
      "Dataset feature columns:  Index(['track_id', 'title', 'song_id', 'release', 'artist_id', 'artist_mbid',\n",
      "       'artist_name', 'duration', 'artist_familiarity', 'artist_hotttnesss',\n",
      "       'year'],\n",
      "      dtype='object')\n",
      "\n",
      "Dataset Preview:\n"
     ]
    },
    {
     "data": {
      "text/html": [
       "<div>\n",
       "<style>\n",
       "    .dataframe thead tr:only-child th {\n",
       "        text-align: right;\n",
       "    }\n",
       "\n",
       "    .dataframe thead th {\n",
       "        text-align: left;\n",
       "    }\n",
       "\n",
       "    .dataframe tbody tr th {\n",
       "        vertical-align: top;\n",
       "    }\n",
       "</style>\n",
       "<table border=\"1\" class=\"dataframe\">\n",
       "  <thead>\n",
       "    <tr style=\"text-align: right;\">\n",
       "      <th></th>\n",
       "      <th>track_id</th>\n",
       "      <th>title</th>\n",
       "      <th>song_id</th>\n",
       "      <th>release</th>\n",
       "      <th>artist_id</th>\n",
       "      <th>artist_mbid</th>\n",
       "      <th>artist_name</th>\n",
       "      <th>duration</th>\n",
       "      <th>artist_familiarity</th>\n",
       "      <th>artist_hotttnesss</th>\n",
       "      <th>year</th>\n",
       "    </tr>\n",
       "  </thead>\n",
       "  <tbody>\n",
       "    <tr>\n",
       "      <th>0</th>\n",
       "      <td>TRMMMYQ128F932D901</td>\n",
       "      <td>Silent Night</td>\n",
       "      <td>SOQMMHC12AB0180CB8</td>\n",
       "      <td>Monster Ballads X-Mas</td>\n",
       "      <td>ARYZTJS1187B98C555</td>\n",
       "      <td>357ff05d-848a-44cf-b608-cb34b5701ae5</td>\n",
       "      <td>Faster Pussy cat</td>\n",
       "      <td>252.05506</td>\n",
       "      <td>0.649822</td>\n",
       "      <td>0.394032</td>\n",
       "      <td>2003</td>\n",
       "    </tr>\n",
       "    <tr>\n",
       "      <th>1</th>\n",
       "      <td>TRMMMKD128F425225D</td>\n",
       "      <td>Tanssi vaan</td>\n",
       "      <td>SOVFVAK12A8C1350D9</td>\n",
       "      <td>Karkuteillä</td>\n",
       "      <td>ARMVN3U1187FB3A1EB</td>\n",
       "      <td>8d7ef530-a6fd-4f8f-b2e2-74aec765e0f9</td>\n",
       "      <td>Karkkiautomaatti</td>\n",
       "      <td>156.55138</td>\n",
       "      <td>0.439604</td>\n",
       "      <td>0.356992</td>\n",
       "      <td>1995</td>\n",
       "    </tr>\n",
       "    <tr>\n",
       "      <th>2</th>\n",
       "      <td>TRMMMRX128F93187D9</td>\n",
       "      <td>No One Could Ever</td>\n",
       "      <td>SOGTUKN12AB017F4F1</td>\n",
       "      <td>Butter</td>\n",
       "      <td>ARGEKB01187FB50750</td>\n",
       "      <td>3d403d44-36ce-465c-ad43-ae877e65adc4</td>\n",
       "      <td>Hudson Mohawke</td>\n",
       "      <td>138.97098</td>\n",
       "      <td>0.643681</td>\n",
       "      <td>0.437504</td>\n",
       "      <td>2006</td>\n",
       "    </tr>\n",
       "  </tbody>\n",
       "</table>\n",
       "</div>"
      ],
      "text/plain": [
       "             track_id              title             song_id  \\\n",
       "0  TRMMMYQ128F932D901       Silent Night  SOQMMHC12AB0180CB8   \n",
       "1  TRMMMKD128F425225D        Tanssi vaan  SOVFVAK12A8C1350D9   \n",
       "2  TRMMMRX128F93187D9  No One Could Ever  SOGTUKN12AB017F4F1   \n",
       "\n",
       "                 release           artist_id  \\\n",
       "0  Monster Ballads X-Mas  ARYZTJS1187B98C555   \n",
       "1            Karkuteillä  ARMVN3U1187FB3A1EB   \n",
       "2                 Butter  ARGEKB01187FB50750   \n",
       "\n",
       "                            artist_mbid       artist_name   duration  \\\n",
       "0  357ff05d-848a-44cf-b608-cb34b5701ae5  Faster Pussy cat  252.05506   \n",
       "1  8d7ef530-a6fd-4f8f-b2e2-74aec765e0f9  Karkkiautomaatti  156.55138   \n",
       "2  3d403d44-36ce-465c-ad43-ae877e65adc4    Hudson Mohawke  138.97098   \n",
       "\n",
       "   artist_familiarity  artist_hotttnesss  year  \n",
       "0            0.649822           0.394032  2003  \n",
       "1            0.439604           0.356992  1995  \n",
       "2            0.643681           0.437504  2006  "
      ]
     },
     "metadata": {},
     "output_type": "display_data"
    }
   ],
   "source": [
    "# debug dataframe msd_songs\n",
    "debug_dataframe(df_msd_songs)"
   ]
  },
  {
   "cell_type": "code",
   "execution_count": 5,
   "metadata": {},
   "outputs": [
    {
     "name": "stdout",
     "output_type": "stream",
     "text": [
      "Dataset size:  (1000000, 53)\n",
      "Dataset feature columns:  Index(['analysis_sample_rate', 'audio_md5', 'danceability', 'duration',\n",
      "       'end_of_fade_in', 'energy', 'idx_bars_confidence', 'idx_bars_start',\n",
      "       'idx_beats_confidence', 'idx_beats_start', 'idx_sections_confidence',\n",
      "       'idx_sections_start', 'idx_segments_confidence',\n",
      "       'idx_segments_loudness_max', 'idx_segments_loudness_max_time',\n",
      "       'idx_segments_loudness_start', 'idx_segments_pitches',\n",
      "       'idx_segments_start', 'idx_segments_timbre', 'idx_tatums_confidence',\n",
      "       'idx_tatums_start', 'key', 'key_confidence', 'loudness', 'mode',\n",
      "       'mode_confidence', 'start_of_fade_out', 'tempo', 'time_signature',\n",
      "       'time_signature_confidence', 'track_id', 'analyzer_version',\n",
      "       'artist_7digitalid', 'artist_familiarity', 'artist_hotttnesss',\n",
      "       'artist_id', 'artist_latitude', 'artist_location', 'artist_longitude',\n",
      "       'artist_mbid', 'artist_name', 'artist_playmeid', 'genre',\n",
      "       'idx_artist_terms', 'idx_similar_artists', 'release',\n",
      "       'release_7digitalid', 'song_hotttnesss', 'song_id', 'title',\n",
      "       'track_7digitalid', 'idx_artist_mbtags', 'year'],\n",
      "      dtype='object')\n",
      "\n",
      "Dataset Preview:\n"
     ]
    },
    {
     "data": {
      "text/html": [
       "<div>\n",
       "<style>\n",
       "    .dataframe thead tr:only-child th {\n",
       "        text-align: right;\n",
       "    }\n",
       "\n",
       "    .dataframe thead th {\n",
       "        text-align: left;\n",
       "    }\n",
       "\n",
       "    .dataframe tbody tr th {\n",
       "        vertical-align: top;\n",
       "    }\n",
       "</style>\n",
       "<table border=\"1\" class=\"dataframe\">\n",
       "  <thead>\n",
       "    <tr style=\"text-align: right;\">\n",
       "      <th></th>\n",
       "      <th>analysis_sample_rate</th>\n",
       "      <th>audio_md5</th>\n",
       "      <th>danceability</th>\n",
       "      <th>duration</th>\n",
       "      <th>end_of_fade_in</th>\n",
       "      <th>energy</th>\n",
       "      <th>idx_bars_confidence</th>\n",
       "      <th>idx_bars_start</th>\n",
       "      <th>idx_beats_confidence</th>\n",
       "      <th>idx_beats_start</th>\n",
       "      <th>...</th>\n",
       "      <th>idx_artist_terms</th>\n",
       "      <th>idx_similar_artists</th>\n",
       "      <th>release</th>\n",
       "      <th>release_7digitalid</th>\n",
       "      <th>song_hotttnesss</th>\n",
       "      <th>song_id</th>\n",
       "      <th>title</th>\n",
       "      <th>track_7digitalid</th>\n",
       "      <th>idx_artist_mbtags</th>\n",
       "      <th>year</th>\n",
       "    </tr>\n",
       "  </thead>\n",
       "  <tbody>\n",
       "    <tr>\n",
       "      <th>0</th>\n",
       "      <td>22050</td>\n",
       "      <td>aee9820911781c734e7694c5432990ca</td>\n",
       "      <td>0.0</td>\n",
       "      <td>252.05506</td>\n",
       "      <td>2.049</td>\n",
       "      <td>0.0</td>\n",
       "      <td>0</td>\n",
       "      <td>0</td>\n",
       "      <td>0</td>\n",
       "      <td>0</td>\n",
       "      <td>...</td>\n",
       "      <td>0</td>\n",
       "      <td>0</td>\n",
       "      <td>Monster Ballads X-Mas</td>\n",
       "      <td>633681</td>\n",
       "      <td>0.542899</td>\n",
       "      <td>SOQMMHC12AB0180CB8</td>\n",
       "      <td>Silent Night</td>\n",
       "      <td>7032331</td>\n",
       "      <td>0</td>\n",
       "      <td>2003</td>\n",
       "    </tr>\n",
       "    <tr>\n",
       "      <th>1</th>\n",
       "      <td>22050</td>\n",
       "      <td>ed222d07c83bac7689d52753610a513a</td>\n",
       "      <td>0.0</td>\n",
       "      <td>156.55138</td>\n",
       "      <td>0.258</td>\n",
       "      <td>0.0</td>\n",
       "      <td>0</td>\n",
       "      <td>0</td>\n",
       "      <td>0</td>\n",
       "      <td>0</td>\n",
       "      <td>...</td>\n",
       "      <td>0</td>\n",
       "      <td>0</td>\n",
       "      <td>Karkuteillä</td>\n",
       "      <td>145266</td>\n",
       "      <td>0.299877</td>\n",
       "      <td>SOVFVAK12A8C1350D9</td>\n",
       "      <td>Tanssi vaan</td>\n",
       "      <td>1514808</td>\n",
       "      <td>0</td>\n",
       "      <td>1995</td>\n",
       "    </tr>\n",
       "    <tr>\n",
       "      <th>2</th>\n",
       "      <td>22050</td>\n",
       "      <td>96c7104889a128fef84fa469d60e380c</td>\n",
       "      <td>0.0</td>\n",
       "      <td>138.97098</td>\n",
       "      <td>0.000</td>\n",
       "      <td>0.0</td>\n",
       "      <td>0</td>\n",
       "      <td>0</td>\n",
       "      <td>0</td>\n",
       "      <td>0</td>\n",
       "      <td>...</td>\n",
       "      <td>0</td>\n",
       "      <td>0</td>\n",
       "      <td>Butter</td>\n",
       "      <td>625706</td>\n",
       "      <td>0.617871</td>\n",
       "      <td>SOGTUKN12AB017F4F1</td>\n",
       "      <td>No One Could Ever</td>\n",
       "      <td>6945353</td>\n",
       "      <td>0</td>\n",
       "      <td>2006</td>\n",
       "    </tr>\n",
       "  </tbody>\n",
       "</table>\n",
       "<p>3 rows × 53 columns</p>\n",
       "</div>"
      ],
      "text/plain": [
       "   analysis_sample_rate                         audio_md5  danceability  \\\n",
       "0                 22050  aee9820911781c734e7694c5432990ca           0.0   \n",
       "1                 22050  ed222d07c83bac7689d52753610a513a           0.0   \n",
       "2                 22050  96c7104889a128fef84fa469d60e380c           0.0   \n",
       "\n",
       "    duration  end_of_fade_in  energy  idx_bars_confidence  idx_bars_start  \\\n",
       "0  252.05506           2.049     0.0                    0               0   \n",
       "1  156.55138           0.258     0.0                    0               0   \n",
       "2  138.97098           0.000     0.0                    0               0   \n",
       "\n",
       "   idx_beats_confidence  idx_beats_start  ...   idx_artist_terms  \\\n",
       "0                     0                0  ...                  0   \n",
       "1                     0                0  ...                  0   \n",
       "2                     0                0  ...                  0   \n",
       "\n",
       "   idx_similar_artists                release  release_7digitalid  \\\n",
       "0                    0  Monster Ballads X-Mas              633681   \n",
       "1                    0            Karkuteillä              145266   \n",
       "2                    0                 Butter              625706   \n",
       "\n",
       "   song_hotttnesss             song_id              title  track_7digitalid  \\\n",
       "0         0.542899  SOQMMHC12AB0180CB8       Silent Night           7032331   \n",
       "1         0.299877  SOVFVAK12A8C1350D9        Tanssi vaan           1514808   \n",
       "2         0.617871  SOGTUKN12AB017F4F1  No One Could Ever           6945353   \n",
       "\n",
       "   idx_artist_mbtags  year  \n",
       "0                  0  2003  \n",
       "1                  0  1995  \n",
       "2                  0  2006  \n",
       "\n",
       "[3 rows x 53 columns]"
      ]
     },
     "metadata": {},
     "output_type": "display_data"
    }
   ],
   "source": [
    "# debug dataframe msd_summary\n",
    "debug_dataframe(df_msd_summary)"
   ]
  },
  {
   "cell_type": "markdown",
   "metadata": {},
   "source": [
    "#### Datasets observation\n",
    "* Dataset consist of exactly one million datapoints.\n",
    "* Column \"track_id\" is used as key (Primary Key) which is always unique and will be useful for join operation.\n",
    "* Each datapoint (song) has 9 main attributes in msd_songs and 42 additional attributes in msd_summary. This makes all songs have 51 features (52 including track_id).\n",
    "* Our projects aim to observe trend of \"popular songs\", therefore we will mainly work with msd_songs since msd_summary mostly contains features that we may not really need.\n",
    "* Main observations of the rest of the project will most likely deal with \"song_hotttnesss\", as this field relates to the popularity of a song. "
   ]
  },
  {
   "cell_type": "markdown",
   "metadata": {},
   "source": [
    "## Data Preprocessing & Initial Features Analysis"
   ]
  },
  {
   "cell_type": "markdown",
   "metadata": {},
   "source": [
    "From msd dataset, we get the information of exactly one million songs data with 52 features each (track_id, song_hotttnesss, artist_hotttnesss, year, artist_id, and so on). Now for the first part, we want to investigate the attributes that lead to song popularity. We define our dataset as pairs of:\n",
    "\n",
    "$$ (x_n, y_n) $$\n",
    "where:\n",
    "$$ y_n := \\text{n'th song hotttnesss} $$\n",
    "$$ x_n := \\text{n'th vector of D features} $$\n",
    "$$ D = 51 $$"
   ]
  },
  {
   "cell_type": "markdown",
   "metadata": {},
   "source": [
    "First set \"track_id\" as index for both dataframe"
   ]
  },
  {
   "cell_type": "code",
   "execution_count": 6,
   "metadata": {},
   "outputs": [],
   "source": [
    "# Set index for both dataframe\n",
    "df_msd_songs   = df_msd_songs.set_index([\"track_id\"])\n",
    "df_msd_summary = df_msd_summary.set_index([\"track_id\"])"
   ]
  },
  {
   "cell_type": "markdown",
   "metadata": {},
   "source": [
    "Next figure out unique columns in msd_summary to avoid redundant columns when merging dataframe"
   ]
  },
  {
   "cell_type": "code",
   "execution_count": 7,
   "metadata": {},
   "outputs": [
    {
     "data": {
      "text/plain": [
       "42"
      ]
     },
     "execution_count": 7,
     "metadata": {},
     "output_type": "execute_result"
    }
   ],
   "source": [
    "# Use columns which are present in msd_summary but not in msd_songs\n",
    "msd_summary_cols = df_msd_summary.columns.difference(df_msd_songs.columns)\n",
    "len(msd_summary_cols)"
   ]
  },
  {
   "cell_type": "markdown",
   "metadata": {},
   "source": [
    "Then we need to merge both dataframe as single df_msd based on track_id"
   ]
  },
  {
   "cell_type": "code",
   "execution_count": 8,
   "metadata": {},
   "outputs": [],
   "source": [
    "# perform inner join based on index (track_id)\n",
    "df_msd = pd.concat([df_msd_songs, df_msd_summary[msd_summary_cols]], axis=1, join='inner')"
   ]
  },
  {
   "cell_type": "markdown",
   "metadata": {},
   "source": [
    "Debug the result"
   ]
  },
  {
   "cell_type": "code",
   "execution_count": 9,
   "metadata": {},
   "outputs": [
    {
     "name": "stdout",
     "output_type": "stream",
     "text": [
      "Dataset size:  (1000000, 52)\n",
      "Dataset feature columns:  Index(['title', 'song_id', 'release', 'artist_id', 'artist_mbid',\n",
      "       'artist_name', 'duration', 'artist_familiarity', 'artist_hotttnesss',\n",
      "       'year', 'analysis_sample_rate', 'analyzer_version', 'artist_7digitalid',\n",
      "       'artist_latitude', 'artist_location', 'artist_longitude',\n",
      "       'artist_playmeid', 'audio_md5', 'danceability', 'end_of_fade_in',\n",
      "       'energy', 'genre', 'idx_artist_mbtags', 'idx_artist_terms',\n",
      "       'idx_bars_confidence', 'idx_bars_start', 'idx_beats_confidence',\n",
      "       'idx_beats_start', 'idx_sections_confidence', 'idx_sections_start',\n",
      "       'idx_segments_confidence', 'idx_segments_loudness_max',\n",
      "       'idx_segments_loudness_max_time', 'idx_segments_loudness_start',\n",
      "       'idx_segments_pitches', 'idx_segments_start', 'idx_segments_timbre',\n",
      "       'idx_similar_artists', 'idx_tatums_confidence', 'idx_tatums_start',\n",
      "       'key', 'key_confidence', 'loudness', 'mode', 'mode_confidence',\n",
      "       'release_7digitalid', 'song_hotttnesss', 'start_of_fade_out', 'tempo',\n",
      "       'time_signature', 'time_signature_confidence', 'track_7digitalid'],\n",
      "      dtype='object')\n",
      "\n",
      "Dataset Preview:\n"
     ]
    },
    {
     "data": {
      "text/html": [
       "<div>\n",
       "<style>\n",
       "    .dataframe thead tr:only-child th {\n",
       "        text-align: right;\n",
       "    }\n",
       "\n",
       "    .dataframe thead th {\n",
       "        text-align: left;\n",
       "    }\n",
       "\n",
       "    .dataframe tbody tr th {\n",
       "        vertical-align: top;\n",
       "    }\n",
       "</style>\n",
       "<table border=\"1\" class=\"dataframe\">\n",
       "  <thead>\n",
       "    <tr style=\"text-align: right;\">\n",
       "      <th></th>\n",
       "      <th>title</th>\n",
       "      <th>song_id</th>\n",
       "      <th>release</th>\n",
       "      <th>artist_id</th>\n",
       "      <th>artist_mbid</th>\n",
       "      <th>artist_name</th>\n",
       "      <th>duration</th>\n",
       "      <th>artist_familiarity</th>\n",
       "      <th>artist_hotttnesss</th>\n",
       "      <th>year</th>\n",
       "      <th>...</th>\n",
       "      <th>loudness</th>\n",
       "      <th>mode</th>\n",
       "      <th>mode_confidence</th>\n",
       "      <th>release_7digitalid</th>\n",
       "      <th>song_hotttnesss</th>\n",
       "      <th>start_of_fade_out</th>\n",
       "      <th>tempo</th>\n",
       "      <th>time_signature</th>\n",
       "      <th>time_signature_confidence</th>\n",
       "      <th>track_7digitalid</th>\n",
       "    </tr>\n",
       "    <tr>\n",
       "      <th>track_id</th>\n",
       "      <th></th>\n",
       "      <th></th>\n",
       "      <th></th>\n",
       "      <th></th>\n",
       "      <th></th>\n",
       "      <th></th>\n",
       "      <th></th>\n",
       "      <th></th>\n",
       "      <th></th>\n",
       "      <th></th>\n",
       "      <th></th>\n",
       "      <th></th>\n",
       "      <th></th>\n",
       "      <th></th>\n",
       "      <th></th>\n",
       "      <th></th>\n",
       "      <th></th>\n",
       "      <th></th>\n",
       "      <th></th>\n",
       "      <th></th>\n",
       "      <th></th>\n",
       "    </tr>\n",
       "  </thead>\n",
       "  <tbody>\n",
       "    <tr>\n",
       "      <th>TRMMMYQ128F932D901</th>\n",
       "      <td>Silent Night</td>\n",
       "      <td>SOQMMHC12AB0180CB8</td>\n",
       "      <td>Monster Ballads X-Mas</td>\n",
       "      <td>ARYZTJS1187B98C555</td>\n",
       "      <td>357ff05d-848a-44cf-b608-cb34b5701ae5</td>\n",
       "      <td>Faster Pussy cat</td>\n",
       "      <td>252.05506</td>\n",
       "      <td>0.649822</td>\n",
       "      <td>0.394032</td>\n",
       "      <td>2003</td>\n",
       "      <td>...</td>\n",
       "      <td>-4.829</td>\n",
       "      <td>0</td>\n",
       "      <td>0.688</td>\n",
       "      <td>633681</td>\n",
       "      <td>0.542899</td>\n",
       "      <td>236.635</td>\n",
       "      <td>87.002</td>\n",
       "      <td>4</td>\n",
       "      <td>0.940</td>\n",
       "      <td>7032331</td>\n",
       "    </tr>\n",
       "    <tr>\n",
       "      <th>TRMMMKD128F425225D</th>\n",
       "      <td>Tanssi vaan</td>\n",
       "      <td>SOVFVAK12A8C1350D9</td>\n",
       "      <td>Karkuteillä</td>\n",
       "      <td>ARMVN3U1187FB3A1EB</td>\n",
       "      <td>8d7ef530-a6fd-4f8f-b2e2-74aec765e0f9</td>\n",
       "      <td>Karkkiautomaatti</td>\n",
       "      <td>156.55138</td>\n",
       "      <td>0.439604</td>\n",
       "      <td>0.356992</td>\n",
       "      <td>1995</td>\n",
       "      <td>...</td>\n",
       "      <td>-10.555</td>\n",
       "      <td>1</td>\n",
       "      <td>0.355</td>\n",
       "      <td>145266</td>\n",
       "      <td>0.299877</td>\n",
       "      <td>148.660</td>\n",
       "      <td>150.778</td>\n",
       "      <td>1</td>\n",
       "      <td>0.000</td>\n",
       "      <td>1514808</td>\n",
       "    </tr>\n",
       "    <tr>\n",
       "      <th>TRMMMRX128F93187D9</th>\n",
       "      <td>No One Could Ever</td>\n",
       "      <td>SOGTUKN12AB017F4F1</td>\n",
       "      <td>Butter</td>\n",
       "      <td>ARGEKB01187FB50750</td>\n",
       "      <td>3d403d44-36ce-465c-ad43-ae877e65adc4</td>\n",
       "      <td>Hudson Mohawke</td>\n",
       "      <td>138.97098</td>\n",
       "      <td>0.643681</td>\n",
       "      <td>0.437504</td>\n",
       "      <td>2006</td>\n",
       "      <td>...</td>\n",
       "      <td>-2.060</td>\n",
       "      <td>1</td>\n",
       "      <td>0.566</td>\n",
       "      <td>625706</td>\n",
       "      <td>0.617871</td>\n",
       "      <td>138.971</td>\n",
       "      <td>177.768</td>\n",
       "      <td>4</td>\n",
       "      <td>0.446</td>\n",
       "      <td>6945353</td>\n",
       "    </tr>\n",
       "  </tbody>\n",
       "</table>\n",
       "<p>3 rows × 52 columns</p>\n",
       "</div>"
      ],
      "text/plain": [
       "                                title             song_id  \\\n",
       "track_id                                                    \n",
       "TRMMMYQ128F932D901       Silent Night  SOQMMHC12AB0180CB8   \n",
       "TRMMMKD128F425225D        Tanssi vaan  SOVFVAK12A8C1350D9   \n",
       "TRMMMRX128F93187D9  No One Could Ever  SOGTUKN12AB017F4F1   \n",
       "\n",
       "                                  release           artist_id  \\\n",
       "track_id                                                        \n",
       "TRMMMYQ128F932D901  Monster Ballads X-Mas  ARYZTJS1187B98C555   \n",
       "TRMMMKD128F425225D            Karkuteillä  ARMVN3U1187FB3A1EB   \n",
       "TRMMMRX128F93187D9                 Butter  ARGEKB01187FB50750   \n",
       "\n",
       "                                             artist_mbid       artist_name  \\\n",
       "track_id                                                                     \n",
       "TRMMMYQ128F932D901  357ff05d-848a-44cf-b608-cb34b5701ae5  Faster Pussy cat   \n",
       "TRMMMKD128F425225D  8d7ef530-a6fd-4f8f-b2e2-74aec765e0f9  Karkkiautomaatti   \n",
       "TRMMMRX128F93187D9  3d403d44-36ce-465c-ad43-ae877e65adc4    Hudson Mohawke   \n",
       "\n",
       "                     duration  artist_familiarity  artist_hotttnesss  year  \\\n",
       "track_id                                                                     \n",
       "TRMMMYQ128F932D901  252.05506            0.649822           0.394032  2003   \n",
       "TRMMMKD128F425225D  156.55138            0.439604           0.356992  1995   \n",
       "TRMMMRX128F93187D9  138.97098            0.643681           0.437504  2006   \n",
       "\n",
       "                          ...         loudness mode  mode_confidence  \\\n",
       "track_id                  ...                                          \n",
       "TRMMMYQ128F932D901        ...           -4.829    0            0.688   \n",
       "TRMMMKD128F425225D        ...          -10.555    1            0.355   \n",
       "TRMMMRX128F93187D9        ...           -2.060    1            0.566   \n",
       "\n",
       "                    release_7digitalid song_hotttnesss  start_of_fade_out  \\\n",
       "track_id                                                                    \n",
       "TRMMMYQ128F932D901              633681        0.542899            236.635   \n",
       "TRMMMKD128F425225D              145266        0.299877            148.660   \n",
       "TRMMMRX128F93187D9              625706        0.617871            138.971   \n",
       "\n",
       "                      tempo time_signature  time_signature_confidence  \\\n",
       "track_id                                                                \n",
       "TRMMMYQ128F932D901   87.002              4                      0.940   \n",
       "TRMMMKD128F425225D  150.778              1                      0.000   \n",
       "TRMMMRX128F93187D9  177.768              4                      0.446   \n",
       "\n",
       "                    track_7digitalid  \n",
       "track_id                              \n",
       "TRMMMYQ128F932D901           7032331  \n",
       "TRMMMKD128F425225D           1514808  \n",
       "TRMMMRX128F93187D9           6945353  \n",
       "\n",
       "[3 rows x 52 columns]"
      ]
     },
     "metadata": {},
     "output_type": "display_data"
    }
   ],
   "source": [
    "debug_dataframe(df_msd)"
   ]
  },
  {
   "cell_type": "markdown",
   "metadata": {},
   "source": [
    "Find and plot the correlation between features using heatmap"
   ]
  },
  {
   "cell_type": "code",
   "execution_count": 10,
   "metadata": {},
   "outputs": [
    {
     "data": {
      "image/png": "[encoded data removed]",
      "text/plain": [
       "<matplotlib.figure.Figure at 0x7fb7849e1e10>"
      ]
     },
     "metadata": {},
     "output_type": "display_data"
    }
   ],
   "source": [
    "msd_corr = df_msd.corr()\n",
    "fig, ax  = plt.subplots(figsize=(8,8))\n",
    "sns.heatmap(msd_corr, \n",
    "            xticklabels=msd_corr.columns.values,\n",
    "            yticklabels=msd_corr.columns.values, ax = ax)\n",
    "plt.show()"
   ]
  },
  {
   "cell_type": "markdown",
   "metadata": {},
   "source": [
    "#### Analyzing useless features\n",
    "From above correlation chart, we can infer that some features do not give impact or relation to other attributes. Those features are: \n",
    "> ['analysis_sample_rate', 'danceability', 'energy', 'idx_bars_confidence', 'idx_bars_start',\n",
    "       'idx_beats_confidence', 'idx_beats_start', 'idx_sections_confidence',\n",
    "       'idx_sections_start', 'idx_segments_confidence',\n",
    "       'idx_segments_loudness_max', 'idx_segments_loudness_max_time',\n",
    "       'idx_segments_loudness_start', 'idx_segments_pitches',\n",
    "       'idx_segments_start', 'idx_segments_timbre', 'idx_tatums_confidence',\n",
    "       'idx_tatums_start', 'idx_artist_terms',\n",
    "       'idx_similar_artists', 'idx_artist_mbtags']\n",
    "\n",
    "So we then analyze if either the value of these features are unique or not. If a feature is unique for the entire datapoints, we can ignore it and drop it to narrow our analysis."
   ]
  },
  {
   "cell_type": "code",
   "execution_count": 11,
   "metadata": {},
   "outputs": [
    {
     "name": "stdout",
     "output_type": "stream",
     "text": [
      "analysis_sample_rate is unique, only: 22050\n",
      "danceability is unique, only: 0.0\n",
      "energy is unique, only: 0.0\n",
      "idx_bars_confidence is unique, only: 0\n",
      "idx_bars_start is unique, only: 0\n",
      "idx_beats_confidence is unique, only: 0\n",
      "idx_beats_start is unique, only: 0\n",
      "idx_sections_confidence is unique, only: 0\n",
      "idx_sections_start is unique, only: 0\n",
      "idx_segments_confidence is unique, only: 0\n",
      "idx_segments_loudness_max is unique, only: 0\n",
      "idx_segments_loudness_max_time is unique, only: 0\n",
      "idx_segments_loudness_start is unique, only: 0\n",
      "idx_segments_pitches is unique, only: 0\n",
      "idx_segments_start is unique, only: 0\n",
      "idx_segments_timbre is unique, only: 0\n",
      "idx_tatums_confidence is unique, only: 0\n",
      "idx_tatums_start is unique, only: 0\n",
      "idx_artist_terms is unique, only: 0\n",
      "idx_similar_artists is unique, only: 0\n",
      "idx_artist_mbtags is unique, only: 0\n"
     ]
    }
   ],
   "source": [
    "# List of unrelated features\n",
    "unrelated_features = ['analysis_sample_rate', 'audio_md5', 'danceability','energy', 'idx_bars_confidence', \n",
    "                      'idx_bars_start', 'idx_beats_confidence', 'idx_beats_start', 'idx_sections_confidence', \n",
    "                      'idx_sections_start', 'idx_segments_confidence', 'idx_segments_loudness_max', \n",
    "                      'idx_segments_loudness_max_time', 'idx_segments_loudness_start', 'idx_segments_pitches', \n",
    "                      'idx_segments_start', 'idx_segments_timbre', 'idx_tatums_confidence', 'idx_tatums_start', \n",
    "                      'idx_artist_terms', 'idx_similar_artists', 'idx_artist_mbtags']\n",
    "\n",
    "# define function to check unrelated features uniqueness \n",
    "def is_feature_unique(df, features):\n",
    "    for feature in features:\n",
    "        unique_value = df[feature].unique()\n",
    "        if len(unique_value) == 1:\n",
    "            print(feature + \" is unique, only: \" + str(unique_value[0]))\n",
    "\n",
    "# check and print the unique features\n",
    "is_feature_unique(df_msd, unrelated_features)"
   ]
  },
  {
   "cell_type": "markdown",
   "metadata": {},
   "source": [
    "#### Dropping features\n",
    "From above results, we drop these features:\n",
    "* 'analysis_sample_rate' \n",
    "* 'danceability'\n",
    "* 'energy'\n",
    "* 'idx_bars_confidence' \n",
    "* 'idx_bars_start'\n",
    "* 'idx_beats_confidence'\n",
    "* 'idx_beats_start'\n",
    "* 'idx_sections_confidence'\n",
    "* 'idx_sections_start'\n",
    "* 'idx_segments_confidence'\n",
    "* 'idx_segments_loudness_max'\n",
    "* 'idx_segments_loudness_max_time'\n",
    "* 'idx_segments_loudness_start'\n",
    "* 'idx_segments_pitches'\n",
    "* 'idx_segments_start'\n",
    "* 'idx_segments_timbre'\n",
    "* 'idx_tatums_confidence'\n",
    "* 'idx_tatums_start'\n",
    "* 'idx_artist_terms'\n",
    "* 'idx_similar_artists'\n",
    "* 'idx_artist_mbtags'"
   ]
  },
  {
   "cell_type": "markdown",
   "metadata": {},
   "source": [
    "*Dropping features md5*\n",
    "<br>From the [dataset description](https://labrosa.ee.columbia.edu/millionsong/pages/example-track-description), we decide to drop feature md5:\n",
    "* 'audio_md5' | string | audio hash code : DROP (useless)"
   ]
  },
  {
   "cell_type": "markdown",
   "metadata": {},
   "source": [
    "Thus, we drop all unrelated_features"
   ]
  },
  {
   "cell_type": "code",
   "execution_count": 12,
   "metadata": {},
   "outputs": [],
   "source": [
    "df_msd = df_msd.drop(unrelated_features, axis=1)"
   ]
  },
  {
   "cell_type": "markdown",
   "metadata": {},
   "source": [
    "Replot the correlation heatmap"
   ]
  },
  {
   "cell_type": "code",
   "execution_count": 13,
   "metadata": {},
   "outputs": [
    {
     "data": {
      "image/png": "[encoded data removed]",
      "text/plain": [
       "<matplotlib.figure.Figure at 0x7fb7f48eca58>"
      ]
     },
     "metadata": {},
     "output_type": "display_data"
    }
   ],
   "source": [
    "msd_corr = df_msd.corr()\n",
    "fig, ax  = plt.subplots(figsize=(6,6))\n",
    "sns.heatmap(msd_corr, \n",
    "            xticklabels=msd_corr.columns.values,\n",
    "            yticklabels=msd_corr.columns.values, ax = ax)\n",
    "plt.show()"
   ]
  },
  {
   "cell_type": "markdown",
   "metadata": {},
   "source": [
    "See what's left on msd dataframe are:"
   ]
  },
  {
   "cell_type": "code",
   "execution_count": 14,
   "metadata": {},
   "outputs": [
    {
     "name": "stdout",
     "output_type": "stream",
     "text": [
      "Dataset size:  (1000000, 30)\n",
      "Dataset feature columns:  Index(['title', 'song_id', 'release', 'artist_id', 'artist_mbid',\n",
      "       'artist_name', 'duration', 'artist_familiarity', 'artist_hotttnesss',\n",
      "       'year', 'analyzer_version', 'artist_7digitalid', 'artist_latitude',\n",
      "       'artist_location', 'artist_longitude', 'artist_playmeid',\n",
      "       'end_of_fade_in', 'genre', 'key', 'key_confidence', 'loudness', 'mode',\n",
      "       'mode_confidence', 'release_7digitalid', 'song_hotttnesss',\n",
      "       'start_of_fade_out', 'tempo', 'time_signature',\n",
      "       'time_signature_confidence', 'track_7digitalid'],\n",
      "      dtype='object')\n",
      "\n",
      "Dataset Preview:\n"
     ]
    },
    {
     "data": {
      "text/html": [
       "<div>\n",
       "<style>\n",
       "    .dataframe thead tr:only-child th {\n",
       "        text-align: right;\n",
       "    }\n",
       "\n",
       "    .dataframe thead th {\n",
       "        text-align: left;\n",
       "    }\n",
       "\n",
       "    .dataframe tbody tr th {\n",
       "        vertical-align: top;\n",
       "    }\n",
       "</style>\n",
       "<table border=\"1\" class=\"dataframe\">\n",
       "  <thead>\n",
       "    <tr style=\"text-align: right;\">\n",
       "      <th></th>\n",
       "      <th>title</th>\n",
       "      <th>song_id</th>\n",
       "      <th>release</th>\n",
       "      <th>artist_id</th>\n",
       "      <th>artist_mbid</th>\n",
       "      <th>artist_name</th>\n",
       "      <th>duration</th>\n",
       "      <th>artist_familiarity</th>\n",
       "      <th>artist_hotttnesss</th>\n",
       "      <th>year</th>\n",
       "      <th>...</th>\n",
       "      <th>loudness</th>\n",
       "      <th>mode</th>\n",
       "      <th>mode_confidence</th>\n",
       "      <th>release_7digitalid</th>\n",
       "      <th>song_hotttnesss</th>\n",
       "      <th>start_of_fade_out</th>\n",
       "      <th>tempo</th>\n",
       "      <th>time_signature</th>\n",
       "      <th>time_signature_confidence</th>\n",
       "      <th>track_7digitalid</th>\n",
       "    </tr>\n",
       "    <tr>\n",
       "      <th>track_id</th>\n",
       "      <th></th>\n",
       "      <th></th>\n",
       "      <th></th>\n",
       "      <th></th>\n",
       "      <th></th>\n",
       "      <th></th>\n",
       "      <th></th>\n",
       "      <th></th>\n",
       "      <th></th>\n",
       "      <th></th>\n",
       "      <th></th>\n",
       "      <th></th>\n",
       "      <th></th>\n",
       "      <th></th>\n",
       "      <th></th>\n",
       "      <th></th>\n",
       "      <th></th>\n",
       "      <th></th>\n",
       "      <th></th>\n",
       "      <th></th>\n",
       "      <th></th>\n",
       "    </tr>\n",
       "  </thead>\n",
       "  <tbody>\n",
       "    <tr>\n",
       "      <th>TRMMMYQ128F932D901</th>\n",
       "      <td>Silent Night</td>\n",
       "      <td>SOQMMHC12AB0180CB8</td>\n",
       "      <td>Monster Ballads X-Mas</td>\n",
       "      <td>ARYZTJS1187B98C555</td>\n",
       "      <td>357ff05d-848a-44cf-b608-cb34b5701ae5</td>\n",
       "      <td>Faster Pussy cat</td>\n",
       "      <td>252.05506</td>\n",
       "      <td>0.649822</td>\n",
       "      <td>0.394032</td>\n",
       "      <td>2003</td>\n",
       "      <td>...</td>\n",
       "      <td>-4.829</td>\n",
       "      <td>0</td>\n",
       "      <td>0.688</td>\n",
       "      <td>633681</td>\n",
       "      <td>0.542899</td>\n",
       "      <td>236.635</td>\n",
       "      <td>87.002</td>\n",
       "      <td>4</td>\n",
       "      <td>0.940</td>\n",
       "      <td>7032331</td>\n",
       "    </tr>\n",
       "    <tr>\n",
       "      <th>TRMMMKD128F425225D</th>\n",
       "      <td>Tanssi vaan</td>\n",
       "      <td>SOVFVAK12A8C1350D9</td>\n",
       "      <td>Karkuteillä</td>\n",
       "      <td>ARMVN3U1187FB3A1EB</td>\n",
       "      <td>8d7ef530-a6fd-4f8f-b2e2-74aec765e0f9</td>\n",
       "      <td>Karkkiautomaatti</td>\n",
       "      <td>156.55138</td>\n",
       "      <td>0.439604</td>\n",
       "      <td>0.356992</td>\n",
       "      <td>1995</td>\n",
       "      <td>...</td>\n",
       "      <td>-10.555</td>\n",
       "      <td>1</td>\n",
       "      <td>0.355</td>\n",
       "      <td>145266</td>\n",
       "      <td>0.299877</td>\n",
       "      <td>148.660</td>\n",
       "      <td>150.778</td>\n",
       "      <td>1</td>\n",
       "      <td>0.000</td>\n",
       "      <td>1514808</td>\n",
       "    </tr>\n",
       "    <tr>\n",
       "      <th>TRMMMRX128F93187D9</th>\n",
       "      <td>No One Could Ever</td>\n",
       "      <td>SOGTUKN12AB017F4F1</td>\n",
       "      <td>Butter</td>\n",
       "      <td>ARGEKB01187FB50750</td>\n",
       "      <td>3d403d44-36ce-465c-ad43-ae877e65adc4</td>\n",
       "      <td>Hudson Mohawke</td>\n",
       "      <td>138.97098</td>\n",
       "      <td>0.643681</td>\n",
       "      <td>0.437504</td>\n",
       "      <td>2006</td>\n",
       "      <td>...</td>\n",
       "      <td>-2.060</td>\n",
       "      <td>1</td>\n",
       "      <td>0.566</td>\n",
       "      <td>625706</td>\n",
       "      <td>0.617871</td>\n",
       "      <td>138.971</td>\n",
       "      <td>177.768</td>\n",
       "      <td>4</td>\n",
       "      <td>0.446</td>\n",
       "      <td>6945353</td>\n",
       "    </tr>\n",
       "  </tbody>\n",
       "</table>\n",
       "<p>3 rows × 30 columns</p>\n",
       "</div>"
      ],
      "text/plain": [
       "                                title             song_id  \\\n",
       "track_id                                                    \n",
       "TRMMMYQ128F932D901       Silent Night  SOQMMHC12AB0180CB8   \n",
       "TRMMMKD128F425225D        Tanssi vaan  SOVFVAK12A8C1350D9   \n",
       "TRMMMRX128F93187D9  No One Could Ever  SOGTUKN12AB017F4F1   \n",
       "\n",
       "                                  release           artist_id  \\\n",
       "track_id                                                        \n",
       "TRMMMYQ128F932D901  Monster Ballads X-Mas  ARYZTJS1187B98C555   \n",
       "TRMMMKD128F425225D            Karkuteillä  ARMVN3U1187FB3A1EB   \n",
       "TRMMMRX128F93187D9                 Butter  ARGEKB01187FB50750   \n",
       "\n",
       "                                             artist_mbid       artist_name  \\\n",
       "track_id                                                                     \n",
       "TRMMMYQ128F932D901  357ff05d-848a-44cf-b608-cb34b5701ae5  Faster Pussy cat   \n",
       "TRMMMKD128F425225D  8d7ef530-a6fd-4f8f-b2e2-74aec765e0f9  Karkkiautomaatti   \n",
       "TRMMMRX128F93187D9  3d403d44-36ce-465c-ad43-ae877e65adc4    Hudson Mohawke   \n",
       "\n",
       "                     duration  artist_familiarity  artist_hotttnesss  year  \\\n",
       "track_id                                                                     \n",
       "TRMMMYQ128F932D901  252.05506            0.649822           0.394032  2003   \n",
       "TRMMMKD128F425225D  156.55138            0.439604           0.356992  1995   \n",
       "TRMMMRX128F93187D9  138.97098            0.643681           0.437504  2006   \n",
       "\n",
       "                          ...        loudness  mode  mode_confidence  \\\n",
       "track_id                  ...                                          \n",
       "TRMMMYQ128F932D901        ...          -4.829     0            0.688   \n",
       "TRMMMKD128F425225D        ...         -10.555     1            0.355   \n",
       "TRMMMRX128F93187D9        ...          -2.060     1            0.566   \n",
       "\n",
       "                   release_7digitalid  song_hotttnesss  start_of_fade_out  \\\n",
       "track_id                                                                    \n",
       "TRMMMYQ128F932D901             633681         0.542899            236.635   \n",
       "TRMMMKD128F425225D             145266         0.299877            148.660   \n",
       "TRMMMRX128F93187D9             625706         0.617871            138.971   \n",
       "\n",
       "                      tempo time_signature  time_signature_confidence  \\\n",
       "track_id                                                                \n",
       "TRMMMYQ128F932D901   87.002              4                      0.940   \n",
       "TRMMMKD128F425225D  150.778              1                      0.000   \n",
       "TRMMMRX128F93187D9  177.768              4                      0.446   \n",
       "\n",
       "                    track_7digitalid  \n",
       "track_id                              \n",
       "TRMMMYQ128F932D901           7032331  \n",
       "TRMMMKD128F425225D           1514808  \n",
       "TRMMMRX128F93187D9           6945353  \n",
       "\n",
       "[3 rows x 30 columns]"
      ]
     },
     "metadata": {},
     "output_type": "display_data"
    }
   ],
   "source": [
    "debug_dataframe(df_msd)"
   ]
  },
  {
   "cell_type": "markdown",
   "metadata": {},
   "source": [
    "At this point, we have reduced the dimension of msd datasets size from 1000000 x 52 into **1000000 x 30**"
   ]
  },
  {
   "cell_type": "markdown",
   "metadata": {},
   "source": [
    "#### Handling NAN values in song_hotttnesss\n",
    "*Recall that songs popularity is measured in \"song_hotttnesss\" column.* As we want to explore more about the correlations between other features and this value, there is no point in keeping entries which do not have this value.\n",
    "<br>We inspect how many NaN values we have and then remove the all datapoints with NaN value in \"song_hotttnesss\"."
   ]
  },
  {
   "cell_type": "code",
   "execution_count": 15,
   "metadata": {},
   "outputs": [
    {
     "name": "stdout",
     "output_type": "stream",
     "text": [
      "datapoints with song_hotttnesss equals to NaN:  418035\n"
     ]
    }
   ],
   "source": [
    "NAN_entries = (df_msd.song_hotttnesss.isnull()).sum()\n",
    "print(\"datapoints with song_hotttnesss equals to NaN: \", NAN_entries)"
   ]
  },
  {
   "cell_type": "markdown",
   "metadata": {},
   "source": [
    "It's dissapointed to know that almost 50% of the datapoints have no song_hotttnesss value. Despite of that, now we remove the NAN."
   ]
  },
  {
   "cell_type": "code",
   "execution_count": 16,
   "metadata": {},
   "outputs": [
    {
     "name": "stdout",
     "output_type": "stream",
     "text": [
      "datapoints left:  581965\n"
     ]
    }
   ],
   "source": [
    "df_msd_without_nan = df_msd[~df_msd.song_hotttnesss.isnull()]\n",
    "# check how much datapoints we have\n",
    "print(\"datapoints left: \", df_msd_without_nan.shape[0])"
   ]
  },
  {
   "cell_type": "markdown",
   "metadata": {},
   "source": [
    "#### Save the reduced dataframe into pickle file"
   ]
  },
  {
   "cell_type": "code",
   "execution_count": 17,
   "metadata": {},
   "outputs": [],
   "source": [
    "save_dataframe(df_msd_without_nan,\"df_msd_reduced\")"
   ]
  },
  {
   "cell_type": "markdown",
   "metadata": {},
   "source": [
    "#### Load the reduced dataframe pickle file"
   ]
  },
  {
   "cell_type": "code",
   "execution_count": 18,
   "metadata": {},
   "outputs": [
    {
     "data": {
      "text/plain": [
       "(581965, 30)"
      ]
     },
     "execution_count": 18,
     "metadata": {},
     "output_type": "execute_result"
    }
   ],
   "source": [
    "# Read pickle file and form the dataframe object\n",
    "df_msd_reduced = read_saved_dataframe(\"df_msd_reduced\")\n",
    "df_msd_reduced.shape"
   ]
  },
  {
   "cell_type": "markdown",
   "metadata": {},
   "source": [
    "# Solution to our first research questions"
   ]
  },
  {
   "cell_type": "markdown",
   "metadata": {},
   "source": [
    "**Recall that songs popularity is measured in \"song_hotttnesss\" column.** By using reduced msd dataset (with 40 columns), we can start to answer the research questions. \n",
    "<br>In addition, as we have interest with popular songs, we take only top songs based on song_hotttnesss in the last ten years  from datasets collection year (2001-2010). We also pick less popular songs (**up to 10000 songs**) to compare the data and draw valid analysis."
   ]
  },
  {
   "cell_type": "markdown",
   "metadata": {},
   "source": [
    "We define and add label based on song_hotttness as follows:\n",
    "1. Popular : \n",
    "$$ song\\_hotttnesss \\geq 0.80 $$\n",
    "2. Unpopular: \n",
    "$$ song\\_hottnesss < 0.80 $$"
   ]
  },
  {
   "cell_type": "markdown",
   "metadata": {},
   "source": [
    "**Get last 10 years songs from 2001-2010.**"
   ]
  },
  {
   "cell_type": "code",
   "execution_count": 19,
   "metadata": {},
   "outputs": [],
   "source": [
    "# take top songs from 2001\n",
    "df_msd_latest_songs = df_msd_reduced.loc[(df_msd_reduced[\"year\"] > 2000)]"
   ]
  },
  {
   "cell_type": "markdown",
   "metadata": {},
   "source": [
    "**Get popular songs from 2001-2010.**"
   ]
  },
  {
   "cell_type": "code",
   "execution_count": 22,
   "metadata": {},
   "outputs": [],
   "source": [
    "# take top songs from 2001\n",
    "df_msd_top    = copy_dataframe(df_msd_latest_songs)\n",
    "df_msd_top    = df_msd_top.loc[(df_msd_top[\"song_hotttnesss\"] >= 0.8)]\n",
    "\n",
    "# add label\n",
    "df_msd_top[\"popularity\"] = \"popular\""
   ]
  },
  {
   "cell_type": "markdown",
   "metadata": {},
   "source": [
    "**Get less popular songs from 2001-2010.**"
   ]
  },
  {
   "cell_type": "code",
   "execution_count": 29,
   "metadata": {},
   "outputs": [],
   "source": [
    "# take unpopular songs from 2001\n",
    "df_msd_less = copy_dataframe(df_msd_latest_songs)\n",
    "df_msd_less = (df_msd_less.loc[(df_msd_less[\"song_hotttnesss\"] < 0.8)]).head(10000)\n",
    "\n",
    "# add label\n",
    "df_msd_less[\"popularity\"] = \"unpopular\""
   ]
  },
  {
   "cell_type": "markdown",
   "metadata": {},
   "source": [
    "**Merge dataframe and save the file.**"
   ]
  },
  {
   "cell_type": "code",
   "execution_count": 30,
   "metadata": {},
   "outputs": [],
   "source": [
    "df_msd_1 = pd.concat([df_msd_top, df_msd_less])\n",
    "save_dataframe(df_msd_1,\"df_msd_1\")"
   ]
  },
  {
   "cell_type": "markdown",
   "metadata": {},
   "source": [
    "#### Load popular and less populars songs from (2001-2010)"
   ]
  },
  {
   "cell_type": "code",
   "execution_count": 31,
   "metadata": {},
   "outputs": [
    {
     "name": "stdout",
     "output_type": "stream",
     "text": [
      "dataset size:  (15368, 31)\n"
     ]
    }
   ],
   "source": [
    "# Read pickle file and form the dataframe object\n",
    "df_msd_1 = read_saved_dataframe(\"df_msd_1\")\n",
    "print(\"dataset size: \", df_msd_1.shape)"
   ]
  },
  {
   "cell_type": "markdown",
   "metadata": {},
   "source": [
    "## Q1.1 What is the characteristic/metrics of popular songs?\n",
    "In this part, we want to find the features which lead to the popularity of the song. In order to find the important feature, we propose to use random forest to predict whether this song is popular/unpopular. Once we get high accuracy by random forest, we observe the attribute **feature\\_importances** to see which feature matters the most. Lastly, we combine our common sense to see whether the result got from random forest is reasonable."
   ]
  },
  {
   "cell_type": "markdown",
   "metadata": {},
   "source": [
    "First let's see from numbers, which features correspond significantly to song_hotttnesss."
   ]
  },
  {
   "cell_type": "code",
   "execution_count": 34,
   "metadata": {},
   "outputs": [
    {
     "data": {
      "text/html": [
       "<div>\n",
       "<style>\n",
       "    .dataframe thead tr:only-child th {\n",
       "        text-align: right;\n",
       "    }\n",
       "\n",
       "    .dataframe thead th {\n",
       "        text-align: left;\n",
       "    }\n",
       "\n",
       "    .dataframe tbody tr th {\n",
       "        vertical-align: top;\n",
       "    }\n",
       "</style>\n",
       "<table border=\"1\" class=\"dataframe\">\n",
       "  <thead>\n",
       "    <tr style=\"text-align: right;\">\n",
       "      <th></th>\n",
       "      <th>duration</th>\n",
       "      <th>artist_familiarity</th>\n",
       "      <th>artist_hotttnesss</th>\n",
       "      <th>year</th>\n",
       "      <th>artist_7digitalid</th>\n",
       "      <th>artist_latitude</th>\n",
       "      <th>artist_longitude</th>\n",
       "      <th>artist_playmeid</th>\n",
       "      <th>end_of_fade_in</th>\n",
       "      <th>key</th>\n",
       "    </tr>\n",
       "  </thead>\n",
       "  <tbody>\n",
       "    <tr>\n",
       "      <th>song_hotttnesss</th>\n",
       "      <td>-0.032032</td>\n",
       "      <td>0.658641</td>\n",
       "      <td>0.646129</td>\n",
       "      <td>0.189801</td>\n",
       "      <td>-0.143919</td>\n",
       "      <td>0.047171</td>\n",
       "      <td>-0.061258</td>\n",
       "      <td>-0.031276</td>\n",
       "      <td>0.004815</td>\n",
       "      <td>0.006697</td>\n",
       "    </tr>\n",
       "  </tbody>\n",
       "</table>\n",
       "</div>"
      ],
      "text/plain": [
       "                 duration  artist_familiarity  artist_hotttnesss      year  \\\n",
       "song_hotttnesss -0.032032            0.658641           0.646129  0.189801   \n",
       "\n",
       "                 artist_7digitalid  artist_latitude  artist_longitude  \\\n",
       "song_hotttnesss          -0.143919         0.047171         -0.061258   \n",
       "\n",
       "                 artist_playmeid  end_of_fade_in       key  \n",
       "song_hotttnesss        -0.031276        0.004815  0.006697  "
      ]
     },
     "metadata": {},
     "output_type": "display_data"
    },
    {
     "data": {
      "text/html": [
       "<div>\n",
       "<style>\n",
       "    .dataframe thead tr:only-child th {\n",
       "        text-align: right;\n",
       "    }\n",
       "\n",
       "    .dataframe thead th {\n",
       "        text-align: left;\n",
       "    }\n",
       "\n",
       "    .dataframe tbody tr th {\n",
       "        vertical-align: top;\n",
       "    }\n",
       "</style>\n",
       "<table border=\"1\" class=\"dataframe\">\n",
       "  <thead>\n",
       "    <tr style=\"text-align: right;\">\n",
       "      <th></th>\n",
       "      <th>key_confidence</th>\n",
       "      <th>loudness</th>\n",
       "      <th>mode</th>\n",
       "      <th>mode_confidence</th>\n",
       "      <th>release_7digitalid</th>\n",
       "      <th>song_hotttnesss</th>\n",
       "      <th>start_of_fade_out</th>\n",
       "      <th>tempo</th>\n",
       "      <th>time_signature</th>\n",
       "      <th>time_signature_confidence</th>\n",
       "      <th>track_7digitalid</th>\n",
       "    </tr>\n",
       "  </thead>\n",
       "  <tbody>\n",
       "    <tr>\n",
       "      <th>song_hotttnesss</th>\n",
       "      <td>0.027077</td>\n",
       "      <td>0.182259</td>\n",
       "      <td>-0.014546</td>\n",
       "      <td>0.048541</td>\n",
       "      <td>-0.035237</td>\n",
       "      <td>1.0</td>\n",
       "      <td>-0.033839</td>\n",
       "      <td>0.027006</td>\n",
       "      <td>0.044252</td>\n",
       "      <td>0.04724</td>\n",
       "      <td>-0.034993</td>\n",
       "    </tr>\n",
       "  </tbody>\n",
       "</table>\n",
       "</div>"
      ],
      "text/plain": [
       "                 key_confidence  loudness      mode  mode_confidence  \\\n",
       "song_hotttnesss        0.027077  0.182259 -0.014546         0.048541   \n",
       "\n",
       "                 release_7digitalid  song_hotttnesss  start_of_fade_out  \\\n",
       "song_hotttnesss           -0.035237              1.0          -0.033839   \n",
       "\n",
       "                    tempo  time_signature  time_signature_confidence  \\\n",
       "song_hotttnesss  0.027006        0.044252                    0.04724   \n",
       "\n",
       "                 track_7digitalid  \n",
       "song_hotttnesss         -0.034993  "
      ]
     },
     "metadata": {},
     "output_type": "display_data"
    }
   ],
   "source": [
    "# Use corr() built-in panda to see data correlation between song_hotttnesss and others columns.\n",
    "msd_corr_song_hotnes = df_msd_1.corr().loc[[\"song_hotttnesss\"]]\n",
    "display(msd_corr_song_hotnes.iloc[:,:10])\n",
    "display(msd_corr_song_hotnes.iloc[:,10:])"
   ]
  },
  {
   "cell_type": "markdown",
   "metadata": {},
   "source": [
    "Briefly, we can see that \"artist_familiarity\", \"artis_hotttnesss\", \"year\", and \"loudness\" have more correlations with \"song_hotttness\""
   ]
  },
  {
   "cell_type": "markdown",
   "metadata": {},
   "source": [
    "Next define (x,y) for RandomForestClassifier"
   ]
  },
  {
   "cell_type": "code",
   "execution_count": 35,
   "metadata": {},
   "outputs": [],
   "source": [
    "unused_features = ['title', 'song_id', 'release', 'artist_id', 'artist_mbid',\n",
    "                       'artist_name', 'analyzer_version', 'artist_location', 'genre']\n",
    "unused_features.append(\"song_hotttnesss\")\n",
    "unused_features.append(\"popularity\")\n",
    "\n",
    "x = df_msd_1.drop(unused_features, axis=1)\n",
    "y = df_msd_1.popularity"
   ]
  },
  {
   "cell_type": "code",
   "execution_count": 36,
   "metadata": {},
   "outputs": [
    {
     "data": {
      "text/plain": [
       "True"
      ]
     },
     "execution_count": 36,
     "metadata": {},
     "output_type": "execute_result"
    }
   ],
   "source": [
    "# check if we have nan or not in x dataframe\n",
    "x.isnull().values.any()"
   ]
  },
  {
   "cell_type": "code",
   "execution_count": 37,
   "metadata": {},
   "outputs": [],
   "source": [
    "# fill the rest of missing values with mean\n",
    "x = x.fillna(x.mean())"
   ]
  },
  {
   "cell_type": "code",
   "execution_count": 38,
   "metadata": {},
   "outputs": [
    {
     "name": "stdout",
     "output_type": "stream",
     "text": [
      "(15368, 20)\n",
      "(15368,)\n"
     ]
    }
   ],
   "source": [
    "# check the data\n",
    "print(x.shape)\n",
    "print(y.shape)"
   ]
  },
  {
   "cell_type": "code",
   "execution_count": 39,
   "metadata": {},
   "outputs": [],
   "source": [
    "# split the original dataset into 20% validation set, 10% test set and 80% training set\n",
    "x_train, x_test, y_train, y_test = train_test_split(x, y, test_size=0.2, random_state=1)\n",
    "# split the test set into 50% validation set and 50% test set (both are 10% of the original dataset)\n",
    "x_test, x_val, y_test, y_val = train_test_split(x_test, y_test, test_size=0.5, random_state=1)"
   ]
  },
  {
   "cell_type": "code",
   "execution_count": 40,
   "metadata": {},
   "outputs": [
    {
     "name": "stdout",
     "output_type": "stream",
     "text": [
      "best n_estimators            : 1500\n",
      "best max_depth               : 30\n",
      "best training f1 score       : 0.999910456629\n",
      "best validation f1 score     : 0.86494887256\n",
      "test f1 score                : 0.846184218666\n"
     ]
    }
   ],
   "source": [
    "# variables to store the best parameters and model\n",
    "best_fscore_tr = fscore = best_fscore = best_n_estimators = best_max_depth = 0\n",
    "\n",
    "n1 = 15\n",
    "n2 = 3\n",
    "\n",
    "n_estimators_arr = [i*100 + 100 for i in range(n1)]\n",
    "max_depth_arr = [i*10 + 10 for i in range(n2)]\n",
    "fscore_test_array = np.zeros([n1,n2])\n",
    "fscore_train_array = np.zeros([n1,n2])\n",
    "\n",
    "# grid search the best parameters\n",
    "for i, n_estimators in enumerate(n_estimators_arr):\n",
    "    for j, max_depth in enumerate(max_depth_arr):\n",
    "\n",
    "        # build the model and train\n",
    "        clf = RandomForestClassifier(n_estimators=n_estimators, \n",
    "                                     max_depth=max_depth,\n",
    "                                     n_jobs=4)\n",
    "        clf.fit(x_train, y_train)\n",
    "\n",
    "        # test the performance with validation set\n",
    "        # 'macro' means calculating metrics for each label, and finding their unweighted mean\n",
    "        fscore = fscore_test_array[i,j] = f1_score(y_val, clf.predict(x_val), average = 'macro')\n",
    "        fscore_train_array[i,j] = f1_score(y_train, clf.predict(x_train), average = 'macro')\n",
    "        \n",
    "        # record the best one\n",
    "        if fscore > best_fscore:\n",
    "            best_fscore = fscore\n",
    "            best_fscore_tr = fscore_train_array[i,j]\n",
    "            best_n_estimators = n_estimators \n",
    "            best_max_depth = max_depth\n",
    "            best_model = clf\n",
    "            \n",
    "print('best n_estimators            :', n_estimators)\n",
    "print('best max_depth               :', max_depth)\n",
    "print('best training f1 score       :', best_fscore_tr)\n",
    "print('best validation f1 score     :', best_fscore)\n",
    "print('test f1 score                :', f1_score(y_test, best_model.predict(x_test), average = 'macro'))"
   ]
  },
  {
   "cell_type": "markdown",
   "metadata": {},
   "source": [
    "**Learning Curve**"
   ]
  },
  {
   "cell_type": "code",
   "execution_count": 41,
   "metadata": {},
   "outputs": [
    {
     "data": {
      "image/png": "[encoded data removed]",
      "text/plain": [
       "<matplotlib.figure.Figure at 0x7fb755c84518>"
      ]
     },
     "metadata": {},
     "output_type": "display_data"
    }
   ],
   "source": [
    "f, (ax1, ax2) = plt.subplots(1,2, sharex=True, sharey=True)\n",
    "f.set_figwidth(12)\n",
    "ax1.plot(n_estimators_arr, fscore_test_array[:,0], label = 'test accuracy')\n",
    "ax1.plot(n_estimators_arr, fscore_train_array[:,0], label = 'train accuracy')\n",
    "ax1.set_xlabel('n_estimators')\n",
    "ax1.set_ylabel('f1 score')\n",
    "ax1.set_title('comparison of train accuracy and test accuracy')\n",
    "ax1.legend()\n",
    "\n",
    "ax2.plot(n_estimators_arr, fscore_test_array[:,0], label = 'max_depth = 10')\n",
    "ax2.plot(n_estimators_arr, fscore_test_array[:,1], label = 'max_depth = 20')\n",
    "ax2.plot(n_estimators_arr, fscore_test_array[:,2], label = 'max_depth = 30')\n",
    "ax2.set_xlabel('n_estimators')\n",
    "ax2.set_ylabel('f1 score')\n",
    "ax2.set_title('comparison of different max_depth')\n",
    "ax2.legend()\n",
    "\n",
    "plt.show()"
   ]
  },
  {
   "cell_type": "markdown",
   "metadata": {},
   "source": [
    "**Confusion Matrix**"
   ]
  },
  {
   "cell_type": "code",
   "execution_count": 53,
   "metadata": {},
   "outputs": [
    {
     "data": {
      "image/png": "[encoded data removed]",
      "text/plain": [
       "<matplotlib.figure.Figure at 0x7fb6ebc28a90>"
      ]
     },
     "metadata": {},
     "output_type": "display_data"
    }
   ],
   "source": [
    "# create confusion matrix\n",
    "sns.set(style=\"dark\")\n",
    "cnf_matrix = confusion_matrix(y_test, best_model.predict(x_test))\n",
    "\n",
    "def plot_confusion_matrix(cm, classes,\n",
    "                          title='Confusion matrix',\n",
    "                          cmap=plt.cm.Blues):\n",
    "    \"\"\"Function to plot confusion matrix\n",
    "    Args:\n",
    "        cm          : confusion matrix\n",
    "        classes     : array storing the name of categories\n",
    "        camp        : color bar of confusion matrix\n",
    "    \"\"\"\n",
    "    \n",
    "    plt.imshow(cm, interpolation='nearest', cmap=cmap)\n",
    "    plt.title(title)\n",
    "    plt.colorbar()\n",
    "    tick_marks = np.arange(len(classes))\n",
    "    plt.xticks(tick_marks, classes, rotation=90)\n",
    "    plt.yticks(tick_marks, classes)\n",
    "\n",
    "    fmt = 'd'\n",
    "    thresh = cm.max() / 2.\n",
    "    for i, j in itertools.product(range(cm.shape[0]), range(cm.shape[1])):\n",
    "        plt.text(i, j, format(cm[i, j], fmt),\n",
    "                 horizontalalignment=\"center\",\n",
    "                 color=\"white\" if cm[i, j] > thresh else \"black\")\n",
    "    \n",
    "    plt.tight_layout()\n",
    "    plt.ylabel('True label')\n",
    "    plt.xlabel('Predicted label')\n",
    "\n",
    "# plot the confusion matrix\n",
    "plt.figure(figsize=(12,12))\n",
    "plot_confusion_matrix(cnf_matrix, \n",
    "                      classes=y,\n",
    "                      title='Confusion matrix')\n",
    "plt.show()"
   ]
  },
  {
   "cell_type": "markdown",
   "metadata": {},
   "source": [
    "**Cross validation**"
   ]
  },
  {
   "cell_type": "code",
   "execution_count": 52,
   "metadata": {},
   "outputs": [
    {
     "name": "stdout",
     "output_type": "stream",
     "text": [
      "average f1 score =  0.860810135165\n"
     ]
    }
   ],
   "source": [
    "def build_k_indices(y, k_fold):\n",
    "    \"\"\"Function to build k indices for k-fold.\n",
    "\n",
    "    Args:\n",
    "        y      (numpy array): Matrix output of size N x 1.\n",
    "        k_fold (int)        : The value k, of k-fold cross validation.\n",
    "        seed   (int)        : Integer value to seed the random generator.\n",
    "\n",
    "    Returns:\n",
    "        k_indices (numpy array) : Matrix of K x floor(N/K), as indices for unbiased test error of K-cross Validation.\n",
    "    \"\"\"\n",
    "    seed = 1\n",
    "    num_row    = y.shape[0]\n",
    "    interval   = int(num_row / k_fold)\n",
    "    np.random.seed(seed)\n",
    "    indices    = np.random.permutation(num_row)\n",
    "    k_indices  = np.array([indices[k * interval: (k + 1) * interval]\n",
    "                 for k in range(k_fold)])\n",
    "    return k_indices\n",
    "\n",
    "def data_split(y, x, k_indices, k):\n",
    "    \"\"\"Function to split training data and test data using K-cross validation based on given k_indices.\n",
    "\n",
    "    Args:\n",
    "        y         (numpy array): Matrix output of size N x 1.\n",
    "        tx        (numpy array): Matrix input of size N x D.\n",
    "        k_indices (numpy array): Matrix of K x floor(N/K), as indices for unbiased test error of K-cross Validation.\n",
    "        k         (int)        : For choosing index in the k_indices\n",
    "\n",
    "    Returns:\n",
    "        x_train (numpy array) : Matrix input (features) for training set with size of (ratio*N) x D.\n",
    "        y_train (numpy array) : Matrix output for training set with size of (ratio*N) x 1.\n",
    "        x_test  (numpy array) : Matrix input (features) for testing set with size of ((1-ratio)*N) x D.\n",
    "        y_test  (numpy array) : Matrix output for testing set with size of ((1-ratio)*N) x 1.\n",
    "    \"\"\"\n",
    "    \n",
    "    train_set_indices               = np.ones(x.shape[0], dtype = bool)\n",
    "    train_set_indices[k_indices[k]] = False\n",
    "\n",
    "    x_train = x[train_set_indices]\n",
    "    y_train = y[train_set_indices]\n",
    "    \n",
    "    x_test  = x.iloc[k_indices[k]]\n",
    "    y_test  = y.iloc[k_indices[k]]\n",
    "    \n",
    "    return x_train, y_train, x_test, y_test\n",
    "\n",
    "\n",
    "\n",
    "# build validation set\n",
    "k_fold = 10\n",
    "k_indices = build_k_indices(y, k_fold)\n",
    "\n",
    "best_n_estimators = 1500\n",
    "best_max_depth = 30\n",
    "\n",
    "# best classifier from grid search\n",
    "clf = RandomForestClassifier(n_estimators=best_n_estimators, \n",
    "                             max_depth=best_max_depth,\n",
    "                             n_jobs=4)\n",
    "\n",
    "accuracy_arr = np.zeros(k_fold)\n",
    "para_ = []\n",
    "# perform 10-fold cross validation\n",
    "for k in range(k_fold):\n",
    "    x_train, y_train, x_test, y_test = data_split(y = y, x = x, k_indices=k_indices, k=k)\n",
    "    clf.fit(x_train, y_train)\n",
    "    accuracy_arr[k] = f1_score(y_test, clf.predict(x_test), average = 'macro')\n",
    "    para_.append(clf.feature_importances_)\n",
    "print('average f1 score = ', np.mean(accuracy_arr))"
   ]
  },
  {
   "cell_type": "markdown",
   "metadata": {},
   "source": [
    "**Important Features**"
   ]
  },
  {
   "cell_type": "code",
   "execution_count": 54,
   "metadata": {
    "scrolled": true
   },
   "outputs": [
    {
     "name": "stdout",
     "output_type": "stream",
     "text": [
      "total number of features: 20\n",
      "number of features with importance: 0\n"
     ]
    },
    {
     "data": {
      "image/png": "[encoded data removed]",
      "text/plain": [
       "<matplotlib.figure.Figure at 0x7fb6f22c3940>"
      ]
     },
     "metadata": {},
     "output_type": "display_data"
    }
   ],
   "source": [
    "sns.set(style=\"whitegrid\")\n",
    "feature_importance = np.mean(para_, axis=0)\n",
    "\n",
    "print('total number of features:', feature_importance.shape[0])\n",
    "# number of 0's in the feature importance\n",
    "print('number of features with importance:', np.sum(feature_importance == 0))\n",
    "\n",
    "# let's see features with non-zero value in log scale\n",
    "plt.hist(np.log(feature_importance[feature_importance != 0]), bins = 25)\n",
    "plt.show()"
   ]
  },
  {
   "cell_type": "markdown",
   "metadata": {},
   "source": [
    "## Q1.2 What are the challenges that music industry faces? \n",
    "#### To address this question, we will utilize more about \"year\" of the songs. We want to see the trend of music popularity"
   ]
  },
  {
   "cell_type": "code",
   "execution_count": 149,
   "metadata": {},
   "outputs": [
    {
     "data": {
      "text/plain": [
       "(581965, 30)"
      ]
     },
     "execution_count": 149,
     "metadata": {},
     "output_type": "execute_result"
    }
   ],
   "source": [
    "df_msd_reduced.shape"
   ]
  },
  {
   "cell_type": "markdown",
   "metadata": {},
   "source": [
    "## Q1.3 Can we analyze and predict the trend in music industry from years to years?\n",
    "#### I think we can only conclude which genre is popular in specific year, and we try to find the story behind it. Besides, we can find the duration of popular genre and perhaps it could help us know how long this popular genre would proceed"
   ]
  },
  {
   "cell_type": "code",
   "execution_count": null,
   "metadata": {
    "collapsed": true
   },
   "outputs": [],
   "source": [
    "import folium\n",
    "\n",
    "# Get a basic world map.\n",
    "airports_map = folium.Map(location=[30, 0], zoom_start=2)\n",
    "# Draw markers on the map.\n",
    "for name, row in airports.iterrows():\n",
    "    # For some reason, this one airport causes issues with the map.\n",
    "    if row[\"name\"] != \"South Pole Station\":\n",
    "        airports_map.circle_marker(location=[row[\"latitude\"], row[\"longitude\"]], popup=row[\"name\"])\n",
    "# Create and show the map.\n",
    "airports_map.create_map('airports.html')\n",
    "airports_map"
   ]
  }
 ],
 "metadata": {
  "kernelspec": {
   "display_name": "Python [default]",
   "language": "python",
   "name": "python3"
  },
  "language_info": {
   "codemirror_mode": {
    "name": "ipython",
    "version": 3
   },
   "file_extension": ".py",
   "mimetype": "text/x-python",
   "name": "python",
   "nbconvert_exporter": "python",
   "pygments_lexer": "ipython3",
   "version": "3.6.3"
  }
 },
 "nbformat": 4,
 "nbformat_minor": 2
}
