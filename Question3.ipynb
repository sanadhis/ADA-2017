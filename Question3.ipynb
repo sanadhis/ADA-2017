{
 "cells": [
  {
   "cell_type": "code",
   "execution_count": 315,
   "metadata": {},
   "outputs": [],
   "source": [
    "import pickle\n",
    "import numpy as np\n",
    "import pandas as pd\n",
    "import seaborn as sns\n",
    "import matplotlib.pyplot as plt\n",
    "from scripts.helpers import read_raw_dataset, read_saved_dataframe, save_dataframe, debug_dataframe"
   ]
  },
  {
   "cell_type": "markdown",
   "metadata": {},
   "source": [
    "## Q3.1 Do people care more about lyrics?"
   ]
  },
  {
   "cell_type": "markdown",
   "metadata": {},
   "source": [
    "### Description :\n",
    "\n",
    "In this question we will try to find wether people tend to listen to songs that contains certain terms or themes and if popular songs themes differ from the ones discussed in unpopular tracks.\n",
    "To this end we will use the MusiXmatch dataset that is using the following format : \n",
    "\n",
    "Single .txt file: mxm_dataset_train.txt\n",
    "      - list of top words, comma-separated\n",
    "      - normal line, contains track_id, mxm track id,\n",
    "        then word count for each of the top words, comma-separated\n",
    "        word count is in sparse format -> ...,<word idx>:<cnt>,...\n",
    "        <word idx> starts at 1 (not zero!)\n",
    "            \n",
    "Remember all the results and dataset are using a stemmed version of the words!"
   ]
  },
  {
   "cell_type": "code",
   "execution_count": 316,
   "metadata": {},
   "outputs": [],
   "source": [
    "# load dataset\n",
    "df_msd_songs   = read_raw_dataset(\"msd_songs\")\n",
    "df_msd_summary = read_raw_dataset(\"msd_summary\")\n",
    "df_mxm_lyrics = read_raw_dataset(\"mxm_lyrics\")\n",
    "df_mxm_words = read_raw_dataset(\"mxm_words\")"
   ]
  },
  {
   "cell_type": "markdown",
   "metadata": {},
   "source": [
    "We first choose to take only a subset of the songs with the highest/lowest song_hotttnesss, which is our reference for the poplarity of a song. A hotttnesss of at least 0.8 is clearly popular and one of at most 0.2 is unpopular."
   ]
  },
  {
   "cell_type": "code",
   "execution_count": 317,
   "metadata": {},
   "outputs": [
    {
     "data": {
      "text/html": [
       "<div>\n",
       "<style>\n",
       "    .dataframe thead tr:only-child th {\n",
       "        text-align: right;\n",
       "    }\n",
       "\n",
       "    .dataframe thead th {\n",
       "        text-align: left;\n",
       "    }\n",
       "\n",
       "    .dataframe tbody tr th {\n",
       "        vertical-align: top;\n",
       "    }\n",
       "</style>\n",
       "<table border=\"1\" class=\"dataframe\">\n",
       "  <thead>\n",
       "    <tr style=\"text-align: right;\">\n",
       "      <th></th>\n",
       "      <th>song_hotttnesss</th>\n",
       "      <th>title</th>\n",
       "      <th>artist_name</th>\n",
       "      <th>duration</th>\n",
       "    </tr>\n",
       "    <tr>\n",
       "      <th>track_id</th>\n",
       "      <th></th>\n",
       "      <th></th>\n",
       "      <th></th>\n",
       "      <th></th>\n",
       "    </tr>\n",
       "  </thead>\n",
       "  <tbody>\n",
       "    <tr>\n",
       "      <th>TRYTLWJ128F1482624</th>\n",
       "      <td>1.0</td>\n",
       "      <td>The Killing Moon</td>\n",
       "      <td>Echo And The Bunnymen</td>\n",
       "      <td>347.34975</td>\n",
       "    </tr>\n",
       "    <tr>\n",
       "      <th>TRRVILL128F9307C9F</th>\n",
       "      <td>1.0</td>\n",
       "      <td>Panic Switch (UK edit)</td>\n",
       "      <td>Silversun Pickups</td>\n",
       "      <td>253.75302</td>\n",
       "    </tr>\n",
       "    <tr>\n",
       "      <th>TRNSQDY128F9366831</th>\n",
       "      <td>1.0</td>\n",
       "      <td>This Is War</td>\n",
       "      <td>30 Seconds To Mars</td>\n",
       "      <td>326.97424</td>\n",
       "    </tr>\n",
       "    <tr>\n",
       "      <th>TRBFNSL128F42776F9</th>\n",
       "      <td>1.0</td>\n",
       "      <td>Immigrant Song (Album Version)</td>\n",
       "      <td>Led Zeppelin</td>\n",
       "      <td>145.05751</td>\n",
       "    </tr>\n",
       "    <tr>\n",
       "      <th>TRQJUSS128E07861A6</th>\n",
       "      <td>1.0</td>\n",
       "      <td>Little Sister</td>\n",
       "      <td>Queens Of The Stone Age</td>\n",
       "      <td>211.56526</td>\n",
       "    </tr>\n",
       "  </tbody>\n",
       "</table>\n",
       "</div>"
      ],
      "text/plain": [
       "                    song_hotttnesss                           title  \\\n",
       "track_id                                                              \n",
       "TRYTLWJ128F1482624              1.0                The Killing Moon   \n",
       "TRRVILL128F9307C9F              1.0          Panic Switch (UK edit)   \n",
       "TRNSQDY128F9366831              1.0                     This Is War   \n",
       "TRBFNSL128F42776F9              1.0  Immigrant Song (Album Version)   \n",
       "TRQJUSS128E07861A6              1.0                   Little Sister   \n",
       "\n",
       "                                artist_name   duration  \n",
       "track_id                                                \n",
       "TRYTLWJ128F1482624    Echo And The Bunnymen  347.34975  \n",
       "TRRVILL128F9307C9F        Silversun Pickups  253.75302  \n",
       "TRNSQDY128F9366831       30 Seconds To Mars  326.97424  \n",
       "TRBFNSL128F42776F9             Led Zeppelin  145.05751  \n",
       "TRQJUSS128E07861A6  Queens Of The Stone Age  211.56526  "
      ]
     },
     "execution_count": 317,
     "metadata": {},
     "output_type": "execute_result"
    }
   ],
   "source": [
    "#worst = True to take the worst songs (less hotttness)\n",
    "worst = False\n",
    "if(worst):\n",
    "    #Here we take the worst 10000 songs sorted by hotttnesss\n",
    "    df_top_songs = df_msd_summary[['song_hotttnesss', 'track_id',\"title\",\"artist_name\",\"duration\"]].sort_values('song_hotttnesss',ascending=True).loc[df_msd_summary['song_hotttnesss'] <= .2].head(10000)\n",
    "else:\n",
    "    #Here we take the top 2000 songs sorted by hotttnesss\n",
    "    df_top_songs = df_msd_summary[['song_hotttnesss', 'track_id',\"title\",\"artist_name\",\"duration\"]].sort_values('song_hotttnesss',ascending=False).loc[df_msd_summary['song_hotttnesss'] <= 1].head(2000)\n",
    "df_top_songs = df_top_songs.set_index('track_id')\n",
    "df_top_songs.head()"
   ]
  },
  {
   "cell_type": "markdown",
   "metadata": {},
   "source": [
    "Here is an example of what the musiXmatch dataset is looking like :"
   ]
  },
  {
   "cell_type": "code",
   "execution_count": 318,
   "metadata": {},
   "outputs": [
    {
     "data": {
      "text/html": [
       "<div>\n",
       "<style>\n",
       "    .dataframe thead tr:only-child th {\n",
       "        text-align: right;\n",
       "    }\n",
       "\n",
       "    .dataframe thead th {\n",
       "        text-align: left;\n",
       "    }\n",
       "\n",
       "    .dataframe tbody tr th {\n",
       "        vertical-align: top;\n",
       "    }\n",
       "</style>\n",
       "<table border=\"1\" class=\"dataframe\">\n",
       "  <thead>\n",
       "    <tr style=\"text-align: right;\">\n",
       "      <th></th>\n",
       "      <th>track_id</th>\n",
       "      <th>mxm_tid</th>\n",
       "      <th>word</th>\n",
       "      <th>count</th>\n",
       "      <th>is_test</th>\n",
       "    </tr>\n",
       "  </thead>\n",
       "  <tbody>\n",
       "    <tr>\n",
       "      <th>2175736</th>\n",
       "      <td>TRDIEOU128F4261A22</td>\n",
       "      <td>775220</td>\n",
       "      <td>i</td>\n",
       "      <td>1110</td>\n",
       "      <td>0</td>\n",
       "    </tr>\n",
       "    <tr>\n",
       "      <th>2175737</th>\n",
       "      <td>TRDIEOU128F4261A22</td>\n",
       "      <td>775220</td>\n",
       "      <td>the</td>\n",
       "      <td>1036</td>\n",
       "      <td>0</td>\n",
       "    </tr>\n",
       "    <tr>\n",
       "      <th>2175786</th>\n",
       "      <td>TRDIEOU128F4261A22</td>\n",
       "      <td>775220</td>\n",
       "      <td>woman</td>\n",
       "      <td>718</td>\n",
       "      <td>0</td>\n",
       "    </tr>\n",
       "    <tr>\n",
       "      <th>2175762</th>\n",
       "      <td>TRDIEOU128F4261A22</td>\n",
       "      <td>775220</td>\n",
       "      <td>see</td>\n",
       "      <td>700</td>\n",
       "      <td>0</td>\n",
       "    </tr>\n",
       "    <tr>\n",
       "      <th>2175743</th>\n",
       "      <td>TRDIEOU128F4261A22</td>\n",
       "      <td>775220</td>\n",
       "      <td>it</td>\n",
       "      <td>638</td>\n",
       "      <td>0</td>\n",
       "    </tr>\n",
       "  </tbody>\n",
       "</table>\n",
       "</div>"
      ],
      "text/plain": [
       "                   track_id  mxm_tid   word  count  is_test\n",
       "2175736  TRDIEOU128F4261A22   775220      i   1110        0\n",
       "2175737  TRDIEOU128F4261A22   775220    the   1036        0\n",
       "2175786  TRDIEOU128F4261A22   775220  woman    718        0\n",
       "2175762  TRDIEOU128F4261A22   775220    see    700        0\n",
       "2175743  TRDIEOU128F4261A22   775220     it    638        0"
      ]
     },
     "execution_count": 318,
     "metadata": {},
     "output_type": "execute_result"
    }
   ],
   "source": [
    "df_mxm_lyrics.sort_values('count',ascending=False).head()"
   ]
  },
  {
   "cell_type": "markdown",
   "metadata": {},
   "source": [
    "From this dataset we decide to remove stopwords which we consider to be uninformative (such as I, the, a...) and then get the most repeated word in every single track."
   ]
  },
  {
   "cell_type": "code",
   "execution_count": 319,
   "metadata": {},
   "outputs": [
    {
     "data": {
      "text/html": [
       "<div>\n",
       "<style>\n",
       "    .dataframe thead tr:only-child th {\n",
       "        text-align: right;\n",
       "    }\n",
       "\n",
       "    .dataframe thead th {\n",
       "        text-align: left;\n",
       "    }\n",
       "\n",
       "    .dataframe tbody tr th {\n",
       "        vertical-align: top;\n",
       "    }\n",
       "</style>\n",
       "<table border=\"1\" class=\"dataframe\">\n",
       "  <thead>\n",
       "    <tr style=\"text-align: right;\">\n",
       "      <th></th>\n",
       "      <th>count</th>\n",
       "      <th>word</th>\n",
       "    </tr>\n",
       "    <tr>\n",
       "      <th>track_id</th>\n",
       "      <th></th>\n",
       "      <th></th>\n",
       "    </tr>\n",
       "  </thead>\n",
       "  <tbody>\n",
       "    <tr>\n",
       "      <th>TRAAAAV128F421A322</th>\n",
       "      <td>2</td>\n",
       "      <td>worth</td>\n",
       "    </tr>\n",
       "    <tr>\n",
       "      <th>TRAAABD128F429CF47</th>\n",
       "      <td>7</td>\n",
       "      <td>yeah</td>\n",
       "    </tr>\n",
       "    <tr>\n",
       "      <th>TRAAAED128E0783FAB</th>\n",
       "      <td>11</td>\n",
       "      <td>whi</td>\n",
       "    </tr>\n",
       "    <tr>\n",
       "      <th>TRAAAEF128F4273421</th>\n",
       "      <td>17</td>\n",
       "      <td>world</td>\n",
       "    </tr>\n",
       "    <tr>\n",
       "      <th>TRAAAEW128F42930C0</th>\n",
       "      <td>11</td>\n",
       "      <td>wo</td>\n",
       "    </tr>\n",
       "  </tbody>\n",
       "</table>\n",
       "</div>"
      ],
      "text/plain": [
       "                    count   word\n",
       "track_id                        \n",
       "TRAAAAV128F421A322      2  worth\n",
       "TRAAABD128F429CF47      7   yeah\n",
       "TRAAAED128E0783FAB     11    whi\n",
       "TRAAAEF128F4273421     17  world\n",
       "TRAAAEW128F42930C0     11     wo"
      ]
     },
     "execution_count": 319,
     "metadata": {},
     "output_type": "execute_result"
    }
   ],
   "source": [
    "#We remove all lines containing stopwords\n",
    "stop_wrds = open(\"./datasets/AdditionalFiles/stop_words.txt\",\"r\")\n",
    "lines = stop_wrds.read().split('\\n')\n",
    "df_mxm_lyrics = df_mxm_lyrics[~df_mxm_lyrics.word.isin(lines)]\n",
    "df_lyrics = df_mxm_lyrics\n",
    "df_lyrics = df_lyrics.groupby('track_id')['count','word'].max()\n",
    "df_lyrics.head()"
   ]
  },
  {
   "cell_type": "code",
   "execution_count": 320,
   "metadata": {},
   "outputs": [
    {
     "data": {
      "text/html": [
       "<div>\n",
       "<style>\n",
       "    .dataframe thead tr:only-child th {\n",
       "        text-align: right;\n",
       "    }\n",
       "\n",
       "    .dataframe thead th {\n",
       "        text-align: left;\n",
       "    }\n",
       "\n",
       "    .dataframe tbody tr th {\n",
       "        vertical-align: top;\n",
       "    }\n",
       "</style>\n",
       "<table border=\"1\" class=\"dataframe\">\n",
       "  <thead>\n",
       "    <tr style=\"text-align: right;\">\n",
       "      <th></th>\n",
       "      <th>song_hotttnesss</th>\n",
       "      <th>title</th>\n",
       "      <th>artist_name</th>\n",
       "      <th>duration</th>\n",
       "      <th>count</th>\n",
       "      <th>word</th>\n",
       "    </tr>\n",
       "    <tr>\n",
       "      <th>track_id</th>\n",
       "      <th></th>\n",
       "      <th></th>\n",
       "      <th></th>\n",
       "      <th></th>\n",
       "      <th></th>\n",
       "      <th></th>\n",
       "    </tr>\n",
       "  </thead>\n",
       "  <tbody>\n",
       "    <tr>\n",
       "      <th>TRRVILL128F9307C9F</th>\n",
       "      <td>1.0</td>\n",
       "      <td>Panic Switch (UK edit)</td>\n",
       "      <td>Silversun Pickups</td>\n",
       "      <td>253.75302</td>\n",
       "      <td>9</td>\n",
       "      <td>worth</td>\n",
       "    </tr>\n",
       "    <tr>\n",
       "      <th>TRNSQDY128F9366831</th>\n",
       "      <td>1.0</td>\n",
       "      <td>This Is War</td>\n",
       "      <td>30 Seconds To Mars</td>\n",
       "      <td>326.97424</td>\n",
       "      <td>22</td>\n",
       "      <td>world</td>\n",
       "    </tr>\n",
       "    <tr>\n",
       "      <th>TRENTGL128E0780C8E</th>\n",
       "      <td>1.0</td>\n",
       "      <td>Clocks</td>\n",
       "      <td>Coldplay</td>\n",
       "      <td>307.51302</td>\n",
       "      <td>9</td>\n",
       "      <td>want</td>\n",
       "    </tr>\n",
       "    <tr>\n",
       "      <th>TRIRQPO128F4281996</th>\n",
       "      <td>1.0</td>\n",
       "      <td>We Are The Sleepyheads</td>\n",
       "      <td>Belle &amp; Sebastian</td>\n",
       "      <td>213.73342</td>\n",
       "      <td>3</td>\n",
       "      <td>whenev</td>\n",
       "    </tr>\n",
       "    <tr>\n",
       "      <th>TRQFXKD128E0780CAE</th>\n",
       "      <td>1.0</td>\n",
       "      <td>The Scientist</td>\n",
       "      <td>Coldplay</td>\n",
       "      <td>311.27465</td>\n",
       "      <td>17</td>\n",
       "      <td>tell</td>\n",
       "    </tr>\n",
       "  </tbody>\n",
       "</table>\n",
       "</div>"
      ],
      "text/plain": [
       "                    song_hotttnesss                   title  \\\n",
       "track_id                                                      \n",
       "TRRVILL128F9307C9F              1.0  Panic Switch (UK edit)   \n",
       "TRNSQDY128F9366831              1.0             This Is War   \n",
       "TRENTGL128E0780C8E              1.0                  Clocks   \n",
       "TRIRQPO128F4281996              1.0  We Are The Sleepyheads   \n",
       "TRQFXKD128E0780CAE              1.0           The Scientist   \n",
       "\n",
       "                           artist_name   duration  count    word  \n",
       "track_id                                                          \n",
       "TRRVILL128F9307C9F   Silversun Pickups  253.75302      9   worth  \n",
       "TRNSQDY128F9366831  30 Seconds To Mars  326.97424     22   world  \n",
       "TRENTGL128E0780C8E            Coldplay  307.51302      9    want  \n",
       "TRIRQPO128F4281996   Belle & Sebastian  213.73342      3  whenev  \n",
       "TRQFXKD128E0780CAE            Coldplay  311.27465     17    tell  "
      ]
     },
     "execution_count": 320,
     "metadata": {},
     "output_type": "execute_result"
    }
   ],
   "source": [
    "#We merge the two dataframes\n",
    "df_top_songs_word = pd.merge(df_top_songs, df_lyrics, left_index=True, right_index=True, how='inner')\n",
    "#get rid wrong durations some song is .7 seconds with 7 words occurences which is I think not physically possible\n",
    "df_top_songs_word = df_top_songs_word[df_top_songs_word['duration'] > 1]\n",
    "df_top_songs_word.head()"
   ]
  },
  {
   "cell_type": "code",
   "execution_count": 321,
   "metadata": {
    "scrolled": false
   },
   "outputs": [
    {
     "data": {
      "image/png": "[encoded data removed]",
      "text/plain": [
       "<matplotlib.figure.Figure at 0x7f84041f8c88>"
      ]
     },
     "metadata": {},
     "output_type": "display_data"
    }
   ],
   "source": [
    "a = df_top_songs_word.groupby('word').sum().sort_values('count',ascending=False)[[\"count\"]].head(20)\n",
    "fig, ax = plt.subplots()\n",
    "fig.set_size_inches(15, 6)\n",
    "sns.barplot(a.index,list(a['count']))\n",
    "plt.show()\n",
    "plt.close()"
   ]
  },
  {
   "cell_type": "markdown",
   "metadata": {},
   "source": [
    "The top word is by far 'Yeah' and this result is very similar for the worst songs. Hence as a first conclusion we might say people do not really care about lyrics.\n",
    "\n",
    "Next we add weight to top words in function of occurences per duration of song to get a more precise result"
   ]
  },
  {
   "cell_type": "code",
   "execution_count": 322,
   "metadata": {
    "scrolled": false
   },
   "outputs": [
    {
     "data": {
      "image/png": "[encoded data removed]",
      "text/plain": [
       "<matplotlib.figure.Figure at 0x7f85be9efeb8>"
      ]
     },
     "metadata": {},
     "output_type": "display_data"
    }
   ],
   "source": [
    "#weighted version\n",
    "df_top_songs_word[\"weight\"] = df_top_songs_word[\"count\"]/df_top_songs_word[\"duration\"]\n",
    "a = df_top_songs_word.groupby('word').sum().sort_values('weight',ascending=False)[[\"count\",\"weight\"]].head(20)\n",
    "fig, ax = plt.subplots()\n",
    "fig.set_size_inches(15, 6)\n",
    "sns.barplot(a.index,a.weight)\n",
    "plt.show()\n",
    "plt.close()"
   ]
  },
  {
   "cell_type": "markdown",
   "metadata": {},
   "source": [
    "Appart from 'yeah' we can see a lot of top words concerning themes such as youth, the world/people, and verbs that refer to desire(wish, want... (woman ?)) these are similar for the worst songs as well.\n",
    "\n",
    "Now we consider the full lyrics dataset without taking care of hotttnesss and using counting all the words for every tracks, summing them up to see what is the most reccurent theme."
   ]
  },
  {
   "cell_type": "code",
   "execution_count": 323,
   "metadata": {},
   "outputs": [
    {
     "data": {
      "image/png": "[encoded data removed]",
      "text/plain": [
       "<matplotlib.figure.Figure at 0x7f86a69e7860>"
      ]
     },
     "metadata": {},
     "output_type": "display_data"
    }
   ],
   "source": [
    "df_mxm_all_wrds = df_mxm_lyrics.groupby('word')['count','word'].sum()\n",
    "a = df_mxm_all_wrds.sort_values('count',ascending=False).head(20)\n",
    "fig, ax = plt.subplots()\n",
    "fig.set_size_inches(15, 6)\n",
    "sns.barplot(a.index,list(a['count']))\n",
    "plt.show()\n",
    "plt.close()"
   ]
  },
  {
   "cell_type": "markdown",
   "metadata": {},
   "source": [
    "Here we have a different and interesting result over all the songs we can see that the most recurent word is 'love' and there are many other high-ranked words that recall feelings (feel, like, want, baby, heart, girl...)."
   ]
  },
  {
   "cell_type": "code",
   "execution_count": 324,
   "metadata": {},
   "outputs": [
    {
     "data": {
      "image/png": "[encoded data removed]",
      "text/plain": [
       "<matplotlib.figure.Figure at 0x7f86ba3cab38>"
      ]
     },
     "metadata": {},
     "output_type": "display_data"
    }
   ],
   "source": [
    "df_top_songs_all_wrds = pd.merge(df_top_songs, df_mxm_lyrics, left_index=True, right_on='track_id', how='inner')\n",
    "df_top_songs_all_wrds = df_top_songs_all_wrds.groupby('word')['count','word'].sum()\n",
    "a = df_top_songs_all_wrds.sort_values('count',ascending=False).head(20)\n",
    "fig, ax = plt.subplots()\n",
    "fig.set_size_inches(15, 6)\n",
    "sns.barplot(a.index,list(a['count']))\n",
    "plt.show()\n",
    "plt.close()"
   ]
  },
  {
   "cell_type": "markdown",
   "metadata": {},
   "source": [
    "We have quiet similar results for top/worst songs, in terms of lyrics we can say that top/worst songs are very similar in terms of themes addressed."
   ]
  },
  {
   "cell_type": "markdown",
   "metadata": {},
   "source": [
    "## Q3.2 Do the popular songs have the good quality of lyrics from literacy view points? Can we measure the quality and popularity of a song from its lyrics?"
   ]
  },
  {
   "cell_type": "markdown",
   "metadata": {},
   "source": [
    "### Description: \n",
    "\n",
    "Here we will try to uncover some features that might be characteristic of popular songs, as a starting point we will focus on \"slang\" words such as insults or controversed subjects.\n",
    "\n",
    "\n",
    "### \"Slang\" words part :\n",
    "\n",
    "Here we use a text file that was used to provide an obscenity filter to find the slang words (please don't be offended by them)."
   ]
  },
  {
   "cell_type": "code",
   "execution_count": 325,
   "metadata": {},
   "outputs": [],
   "source": [
    "import csv\n",
    "with open('./datasets/AdditionalFiles/bad_words.csv', 'r') as f:\n",
    "    reader = csv.reader(f)\n",
    "    bad_words = list(reader)\n",
    "bad_words = [row[1][:len(row[1])-1] for row in bad_words][4:]"
   ]
  },
  {
   "cell_type": "code",
   "execution_count": 326,
   "metadata": {},
   "outputs": [],
   "source": [
    "#We retain the songs containing slang words.\n",
    "df_mxm_bad = df_mxm_lyrics[df_mxm_lyrics.word.isin(bad_words)].sort_values(\"count\",ascending = False)"
   ]
  },
  {
   "cell_type": "code",
   "execution_count": 327,
   "metadata": {},
   "outputs": [
    {
     "name": "stdout",
     "output_type": "stream",
     "text": [
      "We have a ratio of 0.3063533507397737 top songs with bad words\n"
     ]
    },
    {
     "data": {
      "text/html": [
       "<div>\n",
       "<style>\n",
       "    .dataframe thead tr:only-child th {\n",
       "        text-align: right;\n",
       "    }\n",
       "\n",
       "    .dataframe thead th {\n",
       "        text-align: left;\n",
       "    }\n",
       "\n",
       "    .dataframe tbody tr th {\n",
       "        vertical-align: top;\n",
       "    }\n",
       "</style>\n",
       "<table border=\"1\" class=\"dataframe\">\n",
       "  <thead>\n",
       "    <tr style=\"text-align: right;\">\n",
       "      <th></th>\n",
       "      <th>song_hotttnesss</th>\n",
       "      <th>title</th>\n",
       "      <th>ratio</th>\n",
       "    </tr>\n",
       "    <tr>\n",
       "      <th>track_id</th>\n",
       "      <th></th>\n",
       "      <th></th>\n",
       "      <th></th>\n",
       "    </tr>\n",
       "  </thead>\n",
       "  <tbody>\n",
       "    <tr>\n",
       "      <th>TRQUHKZ128F930304E</th>\n",
       "      <td>0.884117</td>\n",
       "      <td>My Generation</td>\n",
       "      <td>0.214815</td>\n",
       "    </tr>\n",
       "    <tr>\n",
       "      <th>TROXWIE128F92D1249</th>\n",
       "      <td>0.895749</td>\n",
       "      <td>Dusk Till Dawn</td>\n",
       "      <td>0.210526</td>\n",
       "    </tr>\n",
       "    <tr>\n",
       "      <th>TRESXNP128EF350B90</th>\n",
       "      <td>0.899010</td>\n",
       "      <td>Fuck The Pain Away</td>\n",
       "      <td>0.198718</td>\n",
       "    </tr>\n",
       "    <tr>\n",
       "      <th>TRSKYDX12903CFA1D1</th>\n",
       "      <td>0.964620</td>\n",
       "      <td>Born to Party</td>\n",
       "      <td>0.194444</td>\n",
       "    </tr>\n",
       "    <tr>\n",
       "      <th>TRKMBDM128E0783E27</th>\n",
       "      <td>0.880696</td>\n",
       "      <td>Hollaback Girl</td>\n",
       "      <td>0.188119</td>\n",
       "    </tr>\n",
       "  </tbody>\n",
       "</table>\n",
       "</div>"
      ],
      "text/plain": [
       "                    song_hotttnesss               title     ratio\n",
       "track_id                                                         \n",
       "TRQUHKZ128F930304E         0.884117       My Generation  0.214815\n",
       "TROXWIE128F92D1249         0.895749      Dusk Till Dawn  0.210526\n",
       "TRESXNP128EF350B90         0.899010  Fuck The Pain Away  0.198718\n",
       "TRSKYDX12903CFA1D1         0.964620       Born to Party  0.194444\n",
       "TRKMBDM128E0783E27         0.880696      Hollaback Girl  0.188119"
      ]
     },
     "execution_count": 327,
     "metadata": {},
     "output_type": "execute_result"
    }
   ],
   "source": [
    "df_bad_count = df_mxm_bad.groupby('track_id')['count','word'].sum()\n",
    "df_top_bad_songs = pd.merge(df_top_songs, df_bad_count, left_index=True, right_index=True, how='inner')\n",
    "print(\"We have a ratio of \"+repr(len(df_top_bad_songs)/len(df_top_songs_word))+\" top songs with bad words\")\n",
    "df_ratio = pd.merge(df_mxm_lyrics.groupby('track_id')['count','word'].sum(), df_top_bad_songs, left_index=True, right_index=True, how='inner')\n",
    "df_ratio['ratio'] = df_ratio['count_y']/df_ratio['count_x']\n",
    "df_ratio.sort_values('ratio',ascending=False)[['song_hotttnesss','title','ratio']].head()"
   ]
  },
  {
   "cell_type": "markdown",
   "metadata": {},
   "source": [
    "We have a ratio of 0.3063533507397737 top songs with bad words. For the low hotttnesss songs we can actually see that we only have 0.22113502935420742 as a ratio. We can also see that some songs with a very high hotttness having 1/5 words being a slang word, so people might be more interested in borderline songs ?"
   ]
  },
  {
   "cell_type": "markdown",
   "metadata": {},
   "source": [
    "### Lyrics density"
   ]
  },
  {
   "cell_type": "markdown",
   "metadata": {},
   "source": [
    "Here we will try to see wether the sparsity of the lyrics in a songs influences its popularity (i.e. if a high density of words implies popularity)."
   ]
  },
  {
   "cell_type": "code",
   "execution_count": 328,
   "metadata": {},
   "outputs": [
    {
     "data": {
      "text/html": [
       "<div>\n",
       "<style>\n",
       "    .dataframe thead tr:only-child th {\n",
       "        text-align: right;\n",
       "    }\n",
       "\n",
       "    .dataframe thead th {\n",
       "        text-align: left;\n",
       "    }\n",
       "\n",
       "    .dataframe tbody tr th {\n",
       "        vertical-align: top;\n",
       "    }\n",
       "</style>\n",
       "<table border=\"1\" class=\"dataframe\">\n",
       "  <thead>\n",
       "    <tr style=\"text-align: right;\">\n",
       "      <th></th>\n",
       "      <th>song_hotttnesss</th>\n",
       "      <th>title</th>\n",
       "      <th>artist_name</th>\n",
       "      <th>duration</th>\n",
       "      <th>mxm_tid</th>\n",
       "      <th>count</th>\n",
       "      <th>is_test</th>\n",
       "      <th>density</th>\n",
       "    </tr>\n",
       "    <tr>\n",
       "      <th>track_id</th>\n",
       "      <th></th>\n",
       "      <th></th>\n",
       "      <th></th>\n",
       "      <th></th>\n",
       "      <th></th>\n",
       "      <th></th>\n",
       "      <th></th>\n",
       "      <th></th>\n",
       "    </tr>\n",
       "  </thead>\n",
       "  <tbody>\n",
       "    <tr>\n",
       "      <th>TRNCXNX128F4282732</th>\n",
       "      <td>0.927425</td>\n",
       "      <td>Festival</td>\n",
       "      <td>Sigur Rós</td>\n",
       "      <td>565.13261</td>\n",
       "      <td>21852384</td>\n",
       "      <td>3</td>\n",
       "      <td>0</td>\n",
       "      <td>0.005308</td>\n",
       "    </tr>\n",
       "    <tr>\n",
       "      <th>TRLQUGG128F4261B0E</th>\n",
       "      <td>0.915077</td>\n",
       "      <td>Olsen Olsen</td>\n",
       "      <td>Sigur Ros</td>\n",
       "      <td>483.13424</td>\n",
       "      <td>4405912</td>\n",
       "      <td>6</td>\n",
       "      <td>0</td>\n",
       "      <td>0.012419</td>\n",
       "    </tr>\n",
       "    <tr>\n",
       "      <th>TRNKWUD128F92FEB41</th>\n",
       "      <td>0.900961</td>\n",
       "      <td>Music Is Math</td>\n",
       "      <td>Boards of Canada</td>\n",
       "      <td>321.46240</td>\n",
       "      <td>3361132</td>\n",
       "      <td>4</td>\n",
       "      <td>0</td>\n",
       "      <td>0.012443</td>\n",
       "    </tr>\n",
       "    <tr>\n",
       "      <th>TRWUKDU128F92E4963</th>\n",
       "      <td>0.879231</td>\n",
       "      <td>Om Nashi Me</td>\n",
       "      <td>Edward Sharpe &amp; The Magnetic Zeros</td>\n",
       "      <td>376.05832</td>\n",
       "      <td>26090667</td>\n",
       "      <td>5</td>\n",
       "      <td>0</td>\n",
       "      <td>0.013296</td>\n",
       "    </tr>\n",
       "    <tr>\n",
       "      <th>TRFAOTA128E07989E0</th>\n",
       "      <td>0.940713</td>\n",
       "      <td>Heysátan</td>\n",
       "      <td>Sigur Rós</td>\n",
       "      <td>249.62567</td>\n",
       "      <td>11900784</td>\n",
       "      <td>6</td>\n",
       "      <td>0</td>\n",
       "      <td>0.024036</td>\n",
       "    </tr>\n",
       "  </tbody>\n",
       "</table>\n",
       "</div>"
      ],
      "text/plain": [
       "                    song_hotttnesss          title  \\\n",
       "track_id                                             \n",
       "TRNCXNX128F4282732         0.927425       Festival   \n",
       "TRLQUGG128F4261B0E         0.915077    Olsen Olsen   \n",
       "TRNKWUD128F92FEB41         0.900961  Music Is Math   \n",
       "TRWUKDU128F92E4963         0.879231    Om Nashi Me   \n",
       "TRFAOTA128E07989E0         0.940713       Heysátan   \n",
       "\n",
       "                                           artist_name   duration   mxm_tid  \\\n",
       "track_id                                                                      \n",
       "TRNCXNX128F4282732                           Sigur Rós  565.13261  21852384   \n",
       "TRLQUGG128F4261B0E                           Sigur Ros  483.13424   4405912   \n",
       "TRNKWUD128F92FEB41                    Boards of Canada  321.46240   3361132   \n",
       "TRWUKDU128F92E4963  Edward Sharpe & The Magnetic Zeros  376.05832  26090667   \n",
       "TRFAOTA128E07989E0                           Sigur Rós  249.62567  11900784   \n",
       "\n",
       "                    count  is_test   density  \n",
       "track_id                                      \n",
       "TRNCXNX128F4282732      3        0  0.005308  \n",
       "TRLQUGG128F4261B0E      6        0  0.012419  \n",
       "TRNKWUD128F92FEB41      4        0  0.012443  \n",
       "TRWUKDU128F92E4963      5        0  0.013296  \n",
       "TRFAOTA128E07989E0      6        0  0.024036  "
      ]
     },
     "execution_count": 328,
     "metadata": {},
     "output_type": "execute_result"
    }
   ],
   "source": [
    "df_density = df_mxm_lyrics.groupby(\"track_id\").sum()\n",
    "df_density = pd.merge(df_top_songs, df_density, left_index=True, right_index=True, how='inner')\n",
    "df_density['density'] = df_density['count'] /df_density['duration']\n",
    "df_density = df_density.sort_values('density',ascending = True)\n",
    "df_density.head()"
   ]
  },
  {
   "cell_type": "code",
   "execution_count": 329,
   "metadata": {},
   "outputs": [
    {
     "name": "stdout",
     "output_type": "stream",
     "text": [
      "On average we have 0.45214054682294735 words per second for the top songs\n"
     ]
    }
   ],
   "source": [
    "#We do this because theres a lot of wrong word count/duration\n",
    "df_density= df_density.loc[df_density['density'] < 1.9]\n",
    "print(\"On average we have \"+repr(df_density['density'].mean())+\" words per second for the top songs\")"
   ]
  },
  {
   "cell_type": "markdown",
   "metadata": {},
   "source": [
    "We have 0.42832003048718376 for the worst and 0.45214054682294735 for the top the difference is quiet small and I do not think we can come to a conclusion due to the fact there might be many errors in the word counts."
   ]
  },
  {
   "cell_type": "markdown",
   "metadata": {},
   "source": [
    "As a conclusion we can say that most songs have reccurent themes (usually love and people) but these do not really influence the popularity of the song. We saw a slight trend for songs that contain slang/obscene words, they might be more popular than \"polite\" due to the fact they might shock the public ?\n",
    "Also a song's popularity does not usually rely on the density or quality of their lyrics, as we saw in question 3.1 the most common word for the majority of the songs is 'yeah' and the lyrics sparsity isn't relevant either.\n",
    "\n",
    "A next interesting step might by to try some natural language processing (sentiment analysis?) on the lyrics which might be difficult due to the fact we do not have complete sentences but only bag of words. "
   ]
  }
 ],
 "metadata": {
  "kernelspec": {
   "display_name": "Python [default]",
   "language": "python",
   "name": "python3"
  },
  "language_info": {
   "codemirror_mode": {
    "name": "ipython",
    "version": 3
   },
   "file_extension": ".py",
   "mimetype": "text/x-python",
   "name": "python",
   "nbconvert_exporter": "python",
   "pygments_lexer": "ipython3",
   "version": "3.6.3"
  }
 },
 "nbformat": 4,
 "nbformat_minor": 2
}
