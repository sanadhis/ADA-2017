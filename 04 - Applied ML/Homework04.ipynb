{
 "cells": [
  {
   "cell_type": "markdown",
   "metadata": {},
   "source": [
    "# Preliminaries"
   ]
  },
  {
   "cell_type": "markdown",
   "metadata": {},
   "source": [
    "## Libraries\n",
    "We use scikit-learn library to achieve goals in task 1 & task 2. In addition, we use networkx library to perform propensity score matching at task 1."
   ]
  },
  {
   "cell_type": "code",
   "execution_count": 1,
   "metadata": {},
   "outputs": [],
   "source": [
    "import pandas as pd\n",
    "import seaborn as sns\n",
    "import numpy as np\n",
    "\n",
    "from sklearn.linear_model import LinearRegression, LogisticRegression\n",
    "from sklearn.model_selection import cross_val_predict\n",
    "from sklearn.model_selection import cross_val_score\n",
    "\n",
    "import matplotlib.pyplot as plt\n",
    "%matplotlib inline\n",
    "\n",
    "import networkx as nx"
   ]
  },
  {
   "cell_type": "markdown",
   "metadata": {},
   "source": [
    "## Theme for plots\n",
    "Overall, we use seaborn to plot graphs and charts. We pick whitegrid for simplicity."
   ]
  },
  {
   "cell_type": "code",
   "execution_count": 2,
   "metadata": {},
   "outputs": [],
   "source": [
    "sns.set(style=\"whitegrid\")"
   ]
  },
  {
   "cell_type": "markdown",
   "metadata": {},
   "source": [
    "# Main Homework"
   ]
  },
  {
   "cell_type": "markdown",
   "metadata": {},
   "source": [
    "## 1. Propensity Score Matching"
   ]
  },
  {
   "cell_type": "markdown",
   "metadata": {},
   "source": [
    "Read data from the provided dataset and form raw dataframe."
   ]
  },
  {
   "cell_type": "code",
   "execution_count": 3,
   "metadata": {},
   "outputs": [
    {
     "name": "stdout",
     "output_type": "stream",
     "text": [
      "Number of subjects:  614\n"
     ]
    },
    {
     "data": {
      "text/html": [
       "<div>\n",
       "<style>\n",
       "    .dataframe thead tr:only-child th {\n",
       "        text-align: right;\n",
       "    }\n",
       "\n",
       "    .dataframe thead th {\n",
       "        text-align: left;\n",
       "    }\n",
       "\n",
       "    .dataframe tbody tr th {\n",
       "        vertical-align: top;\n",
       "    }\n",
       "</style>\n",
       "<table border=\"1\" class=\"dataframe\">\n",
       "  <thead>\n",
       "    <tr style=\"text-align: right;\">\n",
       "      <th></th>\n",
       "      <th>id</th>\n",
       "      <th>treat</th>\n",
       "      <th>age</th>\n",
       "      <th>educ</th>\n",
       "      <th>black</th>\n",
       "      <th>hispan</th>\n",
       "      <th>married</th>\n",
       "      <th>nodegree</th>\n",
       "      <th>re74</th>\n",
       "      <th>re75</th>\n",
       "      <th>re78</th>\n",
       "    </tr>\n",
       "  </thead>\n",
       "  <tbody>\n",
       "    <tr>\n",
       "      <th>0</th>\n",
       "      <td>NSW1</td>\n",
       "      <td>1</td>\n",
       "      <td>37</td>\n",
       "      <td>11</td>\n",
       "      <td>1</td>\n",
       "      <td>0</td>\n",
       "      <td>1</td>\n",
       "      <td>1</td>\n",
       "      <td>0.0</td>\n",
       "      <td>0.0</td>\n",
       "      <td>9930.0460</td>\n",
       "    </tr>\n",
       "    <tr>\n",
       "      <th>1</th>\n",
       "      <td>NSW2</td>\n",
       "      <td>1</td>\n",
       "      <td>22</td>\n",
       "      <td>9</td>\n",
       "      <td>0</td>\n",
       "      <td>1</td>\n",
       "      <td>0</td>\n",
       "      <td>1</td>\n",
       "      <td>0.0</td>\n",
       "      <td>0.0</td>\n",
       "      <td>3595.8940</td>\n",
       "    </tr>\n",
       "    <tr>\n",
       "      <th>2</th>\n",
       "      <td>NSW3</td>\n",
       "      <td>1</td>\n",
       "      <td>30</td>\n",
       "      <td>12</td>\n",
       "      <td>1</td>\n",
       "      <td>0</td>\n",
       "      <td>0</td>\n",
       "      <td>0</td>\n",
       "      <td>0.0</td>\n",
       "      <td>0.0</td>\n",
       "      <td>24909.4500</td>\n",
       "    </tr>\n",
       "    <tr>\n",
       "      <th>3</th>\n",
       "      <td>NSW4</td>\n",
       "      <td>1</td>\n",
       "      <td>27</td>\n",
       "      <td>11</td>\n",
       "      <td>1</td>\n",
       "      <td>0</td>\n",
       "      <td>0</td>\n",
       "      <td>1</td>\n",
       "      <td>0.0</td>\n",
       "      <td>0.0</td>\n",
       "      <td>7506.1460</td>\n",
       "    </tr>\n",
       "    <tr>\n",
       "      <th>4</th>\n",
       "      <td>NSW5</td>\n",
       "      <td>1</td>\n",
       "      <td>33</td>\n",
       "      <td>8</td>\n",
       "      <td>1</td>\n",
       "      <td>0</td>\n",
       "      <td>0</td>\n",
       "      <td>1</td>\n",
       "      <td>0.0</td>\n",
       "      <td>0.0</td>\n",
       "      <td>289.7899</td>\n",
       "    </tr>\n",
       "  </tbody>\n",
       "</table>\n",
       "</div>"
      ],
      "text/plain": [
       "     id  treat  age  educ  black  hispan  married  nodegree  re74  re75  \\\n",
       "0  NSW1      1   37    11      1       0        1         1   0.0   0.0   \n",
       "1  NSW2      1   22     9      0       1        0         1   0.0   0.0   \n",
       "2  NSW3      1   30    12      1       0        0         0   0.0   0.0   \n",
       "3  NSW4      1   27    11      1       0        0         1   0.0   0.0   \n",
       "4  NSW5      1   33     8      1       0        0         1   0.0   0.0   \n",
       "\n",
       "         re78  \n",
       "0   9930.0460  \n",
       "1   3595.8940  \n",
       "2  24909.4500  \n",
       "3   7506.1460  \n",
       "4    289.7899  "
      ]
     },
     "metadata": {},
     "output_type": "display_data"
    }
   ],
   "source": [
    "# df_raw: bulk classic dataset from Robert LaLonde's study \n",
    "dataset_file = 'lalonde.csv'\n",
    "df_raw       = pd.read_csv(dataset_file)\n",
    "\n",
    "# print general information of the datasets\n",
    "print(\"Number of subjects: \",df_raw.shape[0])\n",
    "\n",
    "# preview the data\n",
    "display(df_raw.head(5))"
   ]
  },
  {
   "cell_type": "markdown",
   "metadata": {},
   "source": [
    "### 1a. Naive Analysis"
   ]
  },
  {
   "cell_type": "markdown",
   "metadata": {},
   "source": [
    "First, we split data into two groups, treatment and control, based on treatment on subject or not (treat 1 or 0)"
   ]
  },
  {
   "cell_type": "code",
   "execution_count": 4,
   "metadata": {},
   "outputs": [
    {
     "name": "stdout",
     "output_type": "stream",
     "text": [
      "Number of treated subjects:  185\n",
      "Number of control subjects:  429\n"
     ]
    }
   ],
   "source": [
    "# split using predefined function split_data\n",
    "def split_data(df):\n",
    "    return df.loc[df[\"treat\"]==1], df.loc[df[\"treat\"]==0]\n",
    "\n",
    "df_treated_raw, df_control_raw = split_data(df_raw)\n",
    "\n",
    "# print number of treated and control subjects\n",
    "print(\"Number of treated subjects: \",df_treated_raw.shape[0])\n",
    "print(\"Number of control subjects: \",df_control_raw.shape[0])"
   ]
  },
  {
   "cell_type": "markdown",
   "metadata": {},
   "source": [
    "* We discover that zeros are frequently presence in re78 column. Zeros mean unemployed condition (no salaries) and thus we cannot really analyze the results of job training program. Because we strictly rely with real earnings in 1978 to determine the outcome of job training program, there will be some cases where we decide to ignore zeros.\n",
    "* Hence we create dataframes with zeros replaces with NaN. By default, pandas operation will not include zeros entries and we can count statistics of the rest non-zeros values."
   ]
  },
  {
   "cell_type": "code",
   "execution_count": 5,
   "metadata": {},
   "outputs": [],
   "source": [
    "# we don't want to account for zero, thus we show the dataframe with NaN\n",
    "# note that this replaces binaries features as well, but we can ignore that since here at this point we focus on re78\n",
    "df_treated_with_nan    = df_treated_raw.replace(0,np.NAN)\n",
    "df_control_with_nan    = df_control_raw.replace(0,np.NAN)"
   ]
  },
  {
   "cell_type": "markdown",
   "metadata": {},
   "source": [
    "Then, we compare 4 different statistics of re78:\n",
    "1. Earnings in 78 of **treated group (NSW)**\n",
    "2. Earnings in 78 of **control group (PSID)**\n",
    "3. Earnings in 78 of **treated group (NSW)**, employed subject only (ignore subject with zeros earnings)\n",
    "4. Earnings in 78 of **control group (PSID)**, employed subject only (ignore subject with zeros earnings)"
   ]
  },
  {
   "cell_type": "code",
   "execution_count": 6,
   "metadata": {},
   "outputs": [
    {
     "name": "stdout",
     "output_type": "stream",
     "text": [
      "Re78 statistics of Treated vs Control Group\n"
     ]
    },
    {
     "data": {
      "text/html": [
       "<div>\n",
       "<style>\n",
       "    .dataframe thead tr:only-child th {\n",
       "        text-align: right;\n",
       "    }\n",
       "\n",
       "    .dataframe thead th {\n",
       "        text-align: left;\n",
       "    }\n",
       "\n",
       "    .dataframe tbody tr th {\n",
       "        vertical-align: top;\n",
       "    }\n",
       "</style>\n",
       "<table border=\"1\" class=\"dataframe\">\n",
       "  <thead>\n",
       "    <tr style=\"text-align: right;\">\n",
       "      <th></th>\n",
       "      <th>treated_re78</th>\n",
       "      <th>control_re78</th>\n",
       "      <th>treated_re78_without_unemployed</th>\n",
       "      <th>control_re78_without_unemployed</th>\n",
       "    </tr>\n",
       "  </thead>\n",
       "  <tbody>\n",
       "    <tr>\n",
       "      <th>count</th>\n",
       "      <td>185.000000</td>\n",
       "      <td>429.000000</td>\n",
       "      <td>140.000000</td>\n",
       "      <td>331.000000</td>\n",
       "    </tr>\n",
       "    <tr>\n",
       "      <th>mean</th>\n",
       "      <td>6349.143530</td>\n",
       "      <td>6984.169742</td>\n",
       "      <td>8389.939665</td>\n",
       "      <td>9051.990391</td>\n",
       "    </tr>\n",
       "    <tr>\n",
       "      <th>std</th>\n",
       "      <td>7867.402218</td>\n",
       "      <td>7294.161791</td>\n",
       "      <td>8042.944693</td>\n",
       "      <td>7087.340468</td>\n",
       "    </tr>\n",
       "    <tr>\n",
       "      <th>min</th>\n",
       "      <td>0.000000</td>\n",
       "      <td>0.000000</td>\n",
       "      <td>289.789900</td>\n",
       "      <td>31.032260</td>\n",
       "    </tr>\n",
       "    <tr>\n",
       "      <th>25%</th>\n",
       "      <td>485.229800</td>\n",
       "      <td>220.181300</td>\n",
       "      <td>3167.353750</td>\n",
       "      <td>2978.358000</td>\n",
       "    </tr>\n",
       "    <tr>\n",
       "      <th>50%</th>\n",
       "      <td>4232.309000</td>\n",
       "      <td>4975.505000</td>\n",
       "      <td>6504.144500</td>\n",
       "      <td>7310.313000</td>\n",
       "    </tr>\n",
       "    <tr>\n",
       "      <th>75%</th>\n",
       "      <td>9642.999000</td>\n",
       "      <td>11688.820000</td>\n",
       "      <td>11017.730000</td>\n",
       "      <td>14131.500000</td>\n",
       "    </tr>\n",
       "    <tr>\n",
       "      <th>max</th>\n",
       "      <td>60307.930000</td>\n",
       "      <td>25564.670000</td>\n",
       "      <td>60307.930000</td>\n",
       "      <td>25564.670000</td>\n",
       "    </tr>\n",
       "  </tbody>\n",
       "</table>\n",
       "</div>"
      ],
      "text/plain": [
       "       treated_re78  control_re78  treated_re78_without_unemployed  \\\n",
       "count    185.000000    429.000000                       140.000000   \n",
       "mean    6349.143530   6984.169742                      8389.939665   \n",
       "std     7867.402218   7294.161791                      8042.944693   \n",
       "min        0.000000      0.000000                       289.789900   \n",
       "25%      485.229800    220.181300                      3167.353750   \n",
       "50%     4232.309000   4975.505000                      6504.144500   \n",
       "75%     9642.999000  11688.820000                     11017.730000   \n",
       "max    60307.930000  25564.670000                     60307.930000   \n",
       "\n",
       "       control_re78_without_unemployed  \n",
       "count                       331.000000  \n",
       "mean                       9051.990391  \n",
       "std                        7087.340468  \n",
       "min                          31.032260  \n",
       "25%                        2978.358000  \n",
       "50%                        7310.313000  \n",
       "75%                       14131.500000  \n",
       "max                       25564.670000  "
      ]
     },
     "metadata": {},
     "output_type": "display_data"
    }
   ],
   "source": [
    "print(\"Re78 statistics of Treated vs Control Group\")\n",
    "\n",
    "# form stats dataframe\n",
    "stats         = pd.DataFrame(df_treated_raw.describe()[['re78']])\n",
    "stats.columns = [\"treated_re78\"]\n",
    "\n",
    "# add statistics of re78\n",
    "stats[\"control_re78\"]                     = df_control_raw.describe()[['re78']]\n",
    "stats[\"treated_re78_without_unemployed\"]  = df_treated_with_nan.describe()[['re78']]\n",
    "stats[\"control_re78_without_unemployed\"]  = df_control_with_nan.describe()[['re78']]\n",
    "\n",
    "display(stats)"
   ]
  },
  {
   "cell_type": "markdown",
   "metadata": {},
   "source": [
    "#### Distribution of re78 between two groups - Include outliers and zeros (unemployed subjects)\n",
    "Now we want to see the distributions of outcome variable re78 between two groups.\n",
    "<br>First we see the distributions when we include zeros and outliers"
   ]
  },
  {
   "cell_type": "code",
   "execution_count": 7,
   "metadata": {},
   "outputs": [
    {
     "name": "stdout",
     "output_type": "stream",
     "text": [
      "Mean earnings in 1978 of Treated group:  6349.143530270269\n",
      "Median earnings in 1978 of Treated group:  4232.309\n",
      "Mean earnings in 1978 of Control group:  6984.169742307697\n",
      "Median earnings in 1978 of Control group:  4975.505\n"
     ]
    },
    {
     "data": {
      "image/png": "[encoded data removed]",
      "text/plain": [
       "<matplotlib.figure.Figure at 0x11883fef0>"
      ]
     },
     "metadata": {},
     "output_type": "display_data"
    }
   ],
   "source": [
    "# Plot 2 x 1\n",
    "fig, (ax1, ax2) = plt.subplots(ncols=2, sharey=True)\n",
    "fig.set_size_inches(16, 8)\n",
    "ax1 = sns.boxplot(y = 're78', data=df_treated_raw, ax = ax1, palette=\"Set3\")\n",
    "ax1 = sns.swarmplot(y = 're78', data=df_treated_raw, ax = ax1, color=\".25\")\n",
    "ax1.set_title(\"Real earnings in 1978 for Treated Group\")\n",
    "\n",
    "ax2 = sns.boxplot(y = 're78', data=df_control_raw, ax = ax2, palette=\"Set3\")\n",
    "ax2 = sns.swarmplot(y = 're78', data=df_control_raw, ax = ax2, color=\".25\")\n",
    "ax2.set_title(\"Real earnings in 1978 for Control Group\")\n",
    "\n",
    "# Print mean and median of re78 between two groups\n",
    "print(\"Mean earnings in 1978 of Treated group: \", df_treated_raw['re78'].mean())\n",
    "print(\"Median earnings in 1978 of Treated group: \", df_treated_raw['re78'].median())\n",
    "print(\"Mean earnings in 1978 of Control group: \", df_control_raw['re78'].mean())\n",
    "print(\"Median earnings in 1978 of Control group: \", df_control_raw['re78'].median())"
   ]
  },
  {
   "cell_type": "markdown",
   "metadata": {},
   "source": [
    "#### Observing outliers in treated group & zeros earnings in both group\n",
    "As we can see in above figure, there are several outliers in treated group with earnings of almost 10 times larger than the average group earnings."
   ]
  },
  {
   "cell_type": "code",
   "execution_count": 8,
   "metadata": {},
   "outputs": [
    {
     "name": "stdout",
     "output_type": "stream",
     "text": [
      "Number of outliers in treated group:  9\n",
      "Number of zeros earnings in 1978 of treated group:  45\n",
      "Number of zeros earnings in 1978 of control group:  98\n"
     ]
    },
    {
     "data": {
      "text/html": [
       "<div>\n",
       "<style>\n",
       "    .dataframe thead tr:only-child th {\n",
       "        text-align: right;\n",
       "    }\n",
       "\n",
       "    .dataframe thead th {\n",
       "        text-align: left;\n",
       "    }\n",
       "\n",
       "    .dataframe tbody tr th {\n",
       "        vertical-align: top;\n",
       "    }\n",
       "</style>\n",
       "<table border=\"1\" class=\"dataframe\">\n",
       "  <thead>\n",
       "    <tr style=\"text-align: right;\">\n",
       "      <th></th>\n",
       "      <th>id</th>\n",
       "      <th>treat</th>\n",
       "      <th>age</th>\n",
       "      <th>educ</th>\n",
       "      <th>black</th>\n",
       "      <th>hispan</th>\n",
       "      <th>married</th>\n",
       "      <th>nodegree</th>\n",
       "      <th>re74</th>\n",
       "      <th>re75</th>\n",
       "      <th>re78</th>\n",
       "    </tr>\n",
       "  </thead>\n",
       "  <tbody>\n",
       "    <tr>\n",
       "      <th>2</th>\n",
       "      <td>NSW3</td>\n",
       "      <td>1</td>\n",
       "      <td>30</td>\n",
       "      <td>12</td>\n",
       "      <td>1</td>\n",
       "      <td>0</td>\n",
       "      <td>0</td>\n",
       "      <td>0</td>\n",
       "      <td>0.0</td>\n",
       "      <td>0.0</td>\n",
       "      <td>24909.45</td>\n",
       "    </tr>\n",
       "    <tr>\n",
       "      <th>35</th>\n",
       "      <td>NSW36</td>\n",
       "      <td>1</td>\n",
       "      <td>42</td>\n",
       "      <td>14</td>\n",
       "      <td>1</td>\n",
       "      <td>0</td>\n",
       "      <td>0</td>\n",
       "      <td>0</td>\n",
       "      <td>0.0</td>\n",
       "      <td>0.0</td>\n",
       "      <td>20505.93</td>\n",
       "    </tr>\n",
       "    <tr>\n",
       "      <th>78</th>\n",
       "      <td>NSW79</td>\n",
       "      <td>1</td>\n",
       "      <td>40</td>\n",
       "      <td>11</td>\n",
       "      <td>1</td>\n",
       "      <td>0</td>\n",
       "      <td>0</td>\n",
       "      <td>1</td>\n",
       "      <td>0.0</td>\n",
       "      <td>0.0</td>\n",
       "      <td>23005.60</td>\n",
       "    </tr>\n",
       "    <tr>\n",
       "      <th>99</th>\n",
       "      <td>NSW100</td>\n",
       "      <td>1</td>\n",
       "      <td>31</td>\n",
       "      <td>9</td>\n",
       "      <td>0</td>\n",
       "      <td>1</td>\n",
       "      <td>0</td>\n",
       "      <td>1</td>\n",
       "      <td>0.0</td>\n",
       "      <td>0.0</td>\n",
       "      <td>26817.60</td>\n",
       "    </tr>\n",
       "    <tr>\n",
       "      <th>106</th>\n",
       "      <td>NSW107</td>\n",
       "      <td>1</td>\n",
       "      <td>27</td>\n",
       "      <td>13</td>\n",
       "      <td>1</td>\n",
       "      <td>0</td>\n",
       "      <td>0</td>\n",
       "      <td>0</td>\n",
       "      <td>0.0</td>\n",
       "      <td>0.0</td>\n",
       "      <td>34099.28</td>\n",
       "    </tr>\n",
       "  </tbody>\n",
       "</table>\n",
       "</div>"
      ],
      "text/plain": [
       "         id  treat  age  educ  black  hispan  married  nodegree  re74  re75  \\\n",
       "2      NSW3      1   30    12      1       0        0         0   0.0   0.0   \n",
       "35    NSW36      1   42    14      1       0        0         0   0.0   0.0   \n",
       "78    NSW79      1   40    11      1       0        0         1   0.0   0.0   \n",
       "99   NSW100      1   31     9      0       1        0         1   0.0   0.0   \n",
       "106  NSW107      1   27    13      1       0        0         0   0.0   0.0   \n",
       "\n",
       "         re78  \n",
       "2    24909.45  \n",
       "35   20505.93  \n",
       "78   23005.60  \n",
       "99   26817.60  \n",
       "106  34099.28  "
      ]
     },
     "metadata": {},
     "output_type": "display_data"
    }
   ],
   "source": [
    "# consider outliers are ones with re78 > 20000\n",
    "df_treated_raw_outliers = df_treated_raw.loc[df_treated_raw['re78'] > 20000]\n",
    "\n",
    "# inspect zeros\n",
    "n_zeros_treated_raw = df_treated_raw.loc[df_treated_raw[\"re78\"]==0].shape[0]\n",
    "n_zeros_control_raw = df_control_raw.loc[df_control_raw[\"re78\"]==0].shape[0]\n",
    "\n",
    "print(\"Number of outliers in treated group: \", df_treated_raw_outliers.shape[0])\n",
    "print(\"Number of zeros earnings in 1978 of treated group: \", n_zeros_treated_raw)\n",
    "print(\"Number of zeros earnings in 1978 of control group: \", n_zeros_control_raw)\n",
    "\n",
    "display(df_treated_raw_outliers.head(5))"
   ]
  },
  {
   "cell_type": "markdown",
   "metadata": {},
   "source": [
    "It is astonishing to see **45 out of 185** and **98 out of 429** (almost quarter each) subjects in treated group  and control group are unemployed persons. Thus this bold our reason to plot only non-zeros values of re78."
   ]
  },
  {
   "cell_type": "markdown",
   "metadata": {},
   "source": [
    "#### Distribution of re78 between two groups - Exclude outliers and zeros (unemployed subjects)\n",
    "Then let's see the distributions when we exclude zeros and outliers from both group"
   ]
  },
  {
   "cell_type": "code",
   "execution_count": 9,
   "metadata": {},
   "outputs": [
    {
     "name": "stdout",
     "output_type": "stream",
     "text": [
      "Average earnings in 1978 of Treated group (zeros excluded):  8389.939665\n",
      "Median earnings in 1978 of Treated group (zeros excluded):  6504.144499999999\n",
      "Average earnings in 1978 of Control group (zeros excluded):  9051.990391087618\n",
      "Median earnings in 1978 of Control group (zeros excluded):  7310.313\n"
     ]
    },
    {
     "data": {
      "image/png": "[encoded data removed]",
      "text/plain": [
       "<matplotlib.figure.Figure at 0x11883fdd8>"
      ]
     },
     "metadata": {},
     "output_type": "display_data"
    }
   ],
   "source": [
    "# Plot 2 x 1\n",
    "fig, (ax1, ax2) = plt.subplots(ncols=2, sharey=True)\n",
    "fig.set_size_inches(12, 6)\n",
    "ax1 = sns.boxplot(y = 're78' , data=df_treated_with_nan, ax = ax1, palette=\"Set3\", showfliers=False)\n",
    "ax1.set_title(\"Real earnings in 1978 for Treated Group\")\n",
    "\n",
    "ax2 = sns.boxplot(y = 're78' , data=df_control_with_nan, ax = ax2, palette=\"Set3\", showfliers=False)\n",
    "ax2.set_title(\"Real earnings in 1978 for Control Group\")\n",
    "\n",
    "print(\"Average earnings in 1978 of Treated group (zeros excluded): \",df_treated_with_nan['re78'].mean())\n",
    "print(\"Median earnings in 1978 of Treated group (zeros excluded): \",df_treated_with_nan['re78'].median())\n",
    "print(\"Average earnings in 1978 of Control group (zeros excluded): \",df_control_with_nan['re78'].mean())\n",
    "print(\"Median earnings in 1978 of Control group (zeros excluded): \",df_control_with_nan['re78'].median())"
   ]
  },
  {
   "cell_type": "markdown",
   "metadata": {},
   "source": [
    "### Naive observations"
   ]
  },
  {
   "cell_type": "markdown",
   "metadata": {},
   "source": [
    "> At this point, naive researchers may conclude that:\n",
    "1. There is **no impact of job training program** to subject's earning as outcome (re78). Subjects in treated group tends to have lower outcome as we can see from both their earnings mean and median. Recall that median is sensitive to outliers.\n",
    "2. The training is effective only to specific indivinduals, several subjects whom we can see as outliers in treated group."
   ]
  },
  {
   "cell_type": "markdown",
   "metadata": {},
   "source": [
    "### 1b. A Closer Look Into the Data\n",
    "Now we delve deeper into distibutions of features between two groups. We can separate the analysis based on:\n",
    "1. Binary features (either one or zero/ yes or no): { black, hispan, married, nodegree }\n",
    "2. Continuous features : { age, educ, re74, re75 }"
   ]
  },
  {
   "cell_type": "code",
   "execution_count": 10,
   "metadata": {},
   "outputs": [
    {
     "name": "stdout",
     "output_type": "stream",
     "text": [
      "Number of Treated Subjects:  185\n",
      "Number of Control Subjects:  429\n"
     ]
    }
   ],
   "source": [
    "# first lets peek for number of data in each group\n",
    "n_treated_raw = df_treated_raw.shape[0]\n",
    "n_control_raw = df_control_raw.shape[0]\n",
    "\n",
    "print(\"Number of Treated Subjects: \", n_treated_raw)\n",
    "print(\"Number of Control Subjects: \", n_control_raw)"
   ]
  },
  {
   "cell_type": "markdown",
   "metadata": {},
   "source": [
    "#### Binary Features (black, hispan, married, nodegree)\n",
    "Please note that to see distribution of binary features, it is better if we see the distribution in form of percentages. As we can see that the number of subject is imbalance between two groups (n_control > n_treated)"
   ]
  },
  {
   "cell_type": "code",
   "execution_count": 11,
   "metadata": {},
   "outputs": [
    {
     "name": "stdout",
     "output_type": "stream",
     "text": [
      "Number of Black Subject in Treated Group:  156\n",
      "Number of Black Subject in Control Group:  87\n",
      "Number of Hispan Subject in Treated Group:  11\n",
      "Number of Hispan Subject in Control Group:  61\n",
      "Number of Married Subject in Treated Group:  35\n",
      "Number of Married Subject in Control Group:  220\n",
      "Number of Nodegree Subject in Treated Group:  131\n",
      "Number of Nodegree Subject in Control Group:  256\n"
     ]
    }
   ],
   "source": [
    "# gather the number of black, hispan, married, and nodegree subjects for both treated and control group\n",
    "n_black_treated_raw    = df_treated_raw.loc[df_treated_raw[\"black\"]==1].shape[0]\n",
    "n_black_control_raw    = df_control_raw.loc[df_control_raw[\"black\"]==1].shape[0]\n",
    "n_hispan_treated_raw   = df_treated_raw.loc[df_treated_raw[\"hispan\"]==1].shape[0]\n",
    "n_hispan_control_raw   = df_control_raw.loc[df_control_raw[\"hispan\"]==1].shape[0]\n",
    "n_married_treated_raw  = df_treated_raw.loc[df_treated_raw[\"married\"]==1].shape[0]\n",
    "n_married_control_raw  = df_control_raw.loc[df_control_raw[\"married\"]==1].shape[0]\n",
    "n_nodegree_treated_raw = df_treated_raw.loc[df_treated_raw[\"nodegree\"]==1].shape[0]\n",
    "n_nodegree_control_raw = df_control_raw.loc[df_control_raw[\"nodegree\"]==1].shape[0]\n",
    "\n",
    "print(\"Number of Black Subject in Treated Group: \",n_black_treated_raw)\n",
    "print(\"Number of Black Subject in Control Group: \",n_black_control_raw)\n",
    "print(\"Number of Hispan Subject in Treated Group: \",n_hispan_treated_raw)\n",
    "print(\"Number of Hispan Subject in Control Group: \",n_hispan_control_raw)\n",
    "print(\"Number of Married Subject in Treated Group: \",n_married_treated_raw)\n",
    "print(\"Number of Married Subject in Control Group: \",n_married_control_raw)\n",
    "print(\"Number of Nodegree Subject in Treated Group: \",n_nodegree_treated_raw)\n",
    "print(\"Number of Nodegree Subject in Control Group: \",n_nodegree_control_raw)"
   ]
  },
  {
   "cell_type": "markdown",
   "metadata": {},
   "source": [
    "To later plot the distribution, we calcuate the percentage of every binary feature in each group."
   ]
  },
  {
   "cell_type": "code",
   "execution_count": 12,
   "metadata": {},
   "outputs": [],
   "source": [
    "# percentage_of_feature = count(features) / n_data\n",
    "pr_black_treated_raw    = n_black_treated_raw    / n_treated_raw\n",
    "pr_black_control_raw    = n_black_control_raw    / n_control_raw\n",
    "pr_hispan_treated_raw   = n_hispan_treated_raw   / n_treated_raw\n",
    "pr_hispan_control_raw   = n_hispan_control_raw   / n_control_raw\n",
    "pr_married_treated_raw  = n_married_treated_raw  / n_treated_raw\n",
    "pr_married_control_raw  = n_married_control_raw  / n_control_raw\n",
    "pr_nodegree_treated_raw = n_nodegree_treated_raw / n_treated_raw\n",
    "pr_nodegree_control_raw = n_nodegree_control_raw / n_control_raw"
   ]
  },
  {
   "cell_type": "markdown",
   "metadata": {},
   "source": [
    "Now we form dataframe of percentage of binary features"
   ]
  },
  {
   "cell_type": "code",
   "execution_count": 13,
   "metadata": {},
   "outputs": [
    {
     "data": {
      "text/html": [
       "<div>\n",
       "<style>\n",
       "    .dataframe thead tr:only-child th {\n",
       "        text-align: right;\n",
       "    }\n",
       "\n",
       "    .dataframe thead th {\n",
       "        text-align: left;\n",
       "    }\n",
       "\n",
       "    .dataframe tbody tr th {\n",
       "        vertical-align: top;\n",
       "    }\n",
       "</style>\n",
       "<table border=\"1\" class=\"dataframe\">\n",
       "  <thead>\n",
       "    <tr style=\"text-align: right;\">\n",
       "      <th></th>\n",
       "      <th>features</th>\n",
       "      <th>pr_treated</th>\n",
       "      <th>pr_control</th>\n",
       "    </tr>\n",
       "  </thead>\n",
       "  <tbody>\n",
       "    <tr>\n",
       "      <th>0</th>\n",
       "      <td>black</td>\n",
       "      <td>0.843243</td>\n",
       "      <td>0.202797</td>\n",
       "    </tr>\n",
       "    <tr>\n",
       "      <th>1</th>\n",
       "      <td>hispan</td>\n",
       "      <td>0.059459</td>\n",
       "      <td>0.142191</td>\n",
       "    </tr>\n",
       "    <tr>\n",
       "      <th>2</th>\n",
       "      <td>married</td>\n",
       "      <td>0.189189</td>\n",
       "      <td>0.512821</td>\n",
       "    </tr>\n",
       "    <tr>\n",
       "      <th>3</th>\n",
       "      <td>nodegree</td>\n",
       "      <td>0.708108</td>\n",
       "      <td>0.596737</td>\n",
       "    </tr>\n",
       "  </tbody>\n",
       "</table>\n",
       "</div>"
      ],
      "text/plain": [
       "   features  pr_treated  pr_control\n",
       "0     black    0.843243    0.202797\n",
       "1    hispan    0.059459    0.142191\n",
       "2   married    0.189189    0.512821\n",
       "3  nodegree    0.708108    0.596737"
      ]
     },
     "execution_count": 13,
     "metadata": {},
     "output_type": "execute_result"
    }
   ],
   "source": [
    "data = {\n",
    "        'features':['black','hispan','married','nodegree'],\n",
    "        'pr_treated':[pr_black_treated_raw, pr_hispan_treated_raw, pr_married_treated_raw, pr_nodegree_treated_raw],\n",
    "        'pr_control':[pr_black_control_raw, pr_hispan_control_raw, pr_married_control_raw, pr_nodegree_control_raw]\n",
    "       }\n",
    "\n",
    "# form dataframe of percentage of binary features\n",
    "df_binary_features_pr = (pd.DataFrame(data, columns = ['features', 'pr_treated', 'pr_control']))\n",
    "df_binary_features_pr"
   ]
  },
  {
   "cell_type": "markdown",
   "metadata": {},
   "source": [
    "#### Plotting Distribution of Binary Features (black, hispan, married, nodegree)"
   ]
  },
  {
   "cell_type": "code",
   "execution_count": 14,
   "metadata": {
    "scrolled": true
   },
   "outputs": [
    {
     "data": {
      "image/png": "[encoded data removed]",
      "text/plain": [
       "<matplotlib.figure.Figure at 0x1187f6b00>"
      ]
     },
     "metadata": {},
     "output_type": "display_data"
    }
   ],
   "source": [
    "# use bar chart to depict percentage of binary values in dataset\n",
    "ax = df_binary_features_pr.sort_values([\"pr_treated\"]) \\\n",
    "                          .plot.barh(y=[\"pr_treated\",\"pr_control\"],x=[\"features\"], figsize=(12,5))\n",
    "ax.set_xlabel('Percentage of Features');\n",
    "ax.set_ylabel('Features');\n",
    "ax.set_title('Percentage of Binary Feature in Treated Group(Blue) and Control Group(Green)');"
   ]
  },
  {
   "cell_type": "markdown",
   "metadata": {},
   "source": [
    "#### Observations of binary features\n",
    "We see that there is a significant difference in distribution of **\"Black\"** and **\"Married\"** features."
   ]
  },
  {
   "cell_type": "markdown",
   "metadata": {},
   "source": [
    "#### Plotting Continous Features (age, educ, re74, re75) - Box Plots (without outliers)"
   ]
  },
  {
   "cell_type": "code",
   "execution_count": 15,
   "metadata": {},
   "outputs": [
    {
     "data": {
      "text/plain": [
       "<matplotlib.text.Text at 0x11c6d5c18>"
      ]
     },
     "execution_count": 15,
     "metadata": {},
     "output_type": "execute_result"
    },
    {
     "data": {
      "image/png": "[encoded data removed]",
      "text/plain": [
       "<matplotlib.figure.Figure at 0x11c22f3c8>"
      ]
     },
     "metadata": {},
     "output_type": "display_data"
    }
   ],
   "source": [
    "# Plot 2 x 2\n",
    "fig, ([ax1, ax2], [ax3, ax4]) = plt.subplots(nrows=2, ncols=2)\n",
    "fig.set_size_inches(12, 12)\n",
    "ax1 = sns.boxplot(y=\"age\", x=\"treat\", ax=ax1, data=df_raw, palette=\"Set3\", showfliers=False)\n",
    "ax1.set_title(\"Distribution of Age (Green=Control, Yellow=Treated)\")\n",
    "\n",
    "ax2 = sns.boxplot(y=\"educ\", x=\"treat\", ax=ax2, data=df_raw, palette=\"Set3\", showfliers=False)\n",
    "ax2.set_title(\"Distibution of Years of Education (Green=Control, Yellow=Treated)\")\n",
    "\n",
    "ax3 = sns.boxplot(y=\"re74\", x=\"treat\", ax=ax3, data=df_raw, palette=\"Set3\", showfliers=False)\n",
    "ax3.set_title(\"Distribution of Earnings in 1974 (Green=Control, Yellow=Treated)\")\n",
    "\n",
    "ax4 = sns.boxplot(y=\"re75\", x=\"treat\", ax=ax4, data=df_raw, palette=\"Set3\", showfliers=False)\n",
    "ax4.set_title(\"Distribution of Earnings in 1975 (Green=Control, Yellow=Treated)\")"
   ]
  },
  {
   "cell_type": "markdown",
   "metadata": {},
   "source": [
    "We can sure from boxplot above that there are plenty of zeros present in re74 and re75.\n",
    "As we see that the mean for treated group is close to zero."
   ]
  },
  {
   "cell_type": "markdown",
   "metadata": {},
   "source": [
    "#### Plotting Continous Features (age, educ, re74, re75) - Distribution Plot With Outliers\n",
    "Disclaimer: Although there are zeros in re74 and re75, we cannot just exclude these values since we assume that job training program made unemployed subjects in 1974 and 1975 gained job in 1978."
   ]
  },
  {
   "cell_type": "code",
   "execution_count": 16,
   "metadata": {},
   "outputs": [
    {
     "data": {
      "text/plain": [
       "<matplotlib.text.Text at 0x11cc8b4a8>"
      ]
     },
     "execution_count": 16,
     "metadata": {},
     "output_type": "execute_result"
    },
    {
     "data": {
      "image/png": "[encoded data removed]",
      "text/plain": [
       "<matplotlib.figure.Figure at 0x11caf2d30>"
      ]
     },
     "metadata": {},
     "output_type": "display_data"
    }
   ],
   "source": [
    "# Plot 2 x 2\n",
    "fig, ([ax1, ax2], [ax3, ax4]) = plt.subplots(nrows=2, ncols=2)\n",
    "fig.set_size_inches(16, 12)\n",
    "\n",
    "ax1 = sns.distplot(df_treated_raw['age'], ax=ax1)\n",
    "ax1 = sns.distplot(df_control_raw['age'], ax=ax1)\n",
    "ax1.set_title(\"Distribution of Age in Treated (Blue) and Control(Green)\")\n",
    "\n",
    "ax2 = sns.distplot(df_treated_raw['educ'], ax=ax2)\n",
    "ax2 = sns.distplot(df_control_raw['educ'], ax=ax2)\n",
    "ax2.set_title(\"Distribution of Years of Education in Treated (Blue) and Control(Green)\")\n",
    "\n",
    "ax3 = sns.distplot(df_treated_raw['re74'], ax=ax3)\n",
    "ax3 = sns.distplot(df_control_raw['re74'], ax=ax3)\n",
    "ax3.set_title(\"Distribution of Earings 1974 in Treated (Blue) and Control(Green)\")\n",
    "\n",
    "ax4 = sns.distplot(df_treated_raw['re75'], ax=ax4)\n",
    "ax4 = sns.distplot(df_control_raw['re75'], ax=ax4)\n",
    "ax4.set_title(\"Distribution of Earings 1975 in Treated (Blue) and Control(Green)\")\n"
   ]
  },
  {
   "cell_type": "markdown",
   "metadata": {},
   "source": [
    "#### Observations of continuous features\n",
    "We see that the distribution of continious features between two groups are roughly same. The only obvious imbalance distribution is in feature **\"age\"**."
   ]
  },
  {
   "cell_type": "markdown",
   "metadata": {},
   "source": [
    "#### What does it mean to conclusion we had on previous question?\n",
    "> In naive/superficial analysis, we compare and draw conclusion for earnings outcome as if we have the identical subjects for both group. For example, we tend to think as if we are comparing an earning outcome of a same person X before and after treatment. \n",
    "\n",
    "> We have already known that even the numbers of subjects between two groups are different.\n",
    "Thus we know that distribution of features are most likely different. We cannot infer the training program does not work without considering underlying factor (features) that might give significant correlation to the earnings outcome.\n",
    "\n",
    "> Then at this point, we assume that \"Black\", \"Married\", \"Age\" have significant impact to earning outcome and we want to avoid pitfalls in observational studies as we had in 1a."
   ]
  },
  {
   "cell_type": "markdown",
   "metadata": {},
   "source": [
    "### 1c. Propensity Score Model\n",
    "From [Rosenbaum](http://www.stewartschultz.com/statistics/books/Design%20of%20observational%20studies.pdf):\n",
    "<br>\n",
    "In the population before matching, we imagine that subject received treatment\n",
    "with probability π, independently of other subjects, where π may vary from one\n",
    "person to the next and is not known. More precisely, π\n",
    "\n",
    "\n",
    "\\begin{align}\n",
    "\\pi_l & = Pr(Z_l = 1 | r_tl, r_cl, x_l, u_l) \\\\\n",
    "\\end{align}\n",
    "\n",
    "Here we define propensity score of each subject is equal to its probability of being treated. To calculate propensity score, we use logistic regression model."
   ]
  },
  {
   "cell_type": "code",
   "execution_count": 17,
   "metadata": {},
   "outputs": [
    {
     "name": "stdout",
     "output_type": "stream",
     "text": [
      "-0.006794203196110479 * age + \n",
      "-0.06602229032932304 * educ + \n",
      "2.584312591779158 * black + \n",
      "-0.04066538431557746 * hispan + \n",
      "-0.8414791177767145 * married + \n",
      "-0.36073074385840437 * nodegree + \n",
      "-7.541707841613298e-05 * re74 + \n",
      "5.759219439211685e-05 * re75 + \n",
      "[-0.63204745]\n"
     ]
    }
   ],
   "source": [
    "# Now we have eight features; 4 binaries and 4 continuous features\n",
    "features = ['age','educ','black','hispan','married','nodegree','re74','re75']\n",
    "\n",
    "# Logistic Regression model\n",
    "lr = LogisticRegression()\n",
    "\n",
    "# X = { features }, y = treat\n",
    "X = df_raw[features]\n",
    "y = df_raw.treat\n",
    "\n",
    "# train the model with entire dataset\n",
    "lr.fit(X, y)\n",
    "\n",
    "# print the model of our logistic regression\n",
    "for f in range(len(features)):\n",
    "    print(\"{0} * {1} + \".format(lr.coef_[0][f], features[f]))\n",
    "print(lr.intercept_)"
   ]
  },
  {
   "cell_type": "markdown",
   "metadata": {},
   "source": [
    "$$y = \\beta_0 + \\beta_1  \\times educ + \\beta_2  \\times black + \\beta_3  \\times hispan + \\beta_4  \\times married + \\beta_5  \\times nodegree + \\beta_6  \\times re74 + \\beta_7  \\times re75$$\n",
    "$$y = -0.6320 - 0.0068 \\times age - 0.0660 \\times educ + 2.5843  \\times black - 0.0407 \\times hispan - 0.8415 \\times married - 0.3607 \\times nodegree - 7.5417 \\times re74 + 5.7592 \\times re75$$"
   ]
  },
  {
   "cell_type": "markdown",
   "metadata": {},
   "source": [
    "As we explained before, we use the logistic regression to get probability of being treated for each subject."
   ]
  },
  {
   "cell_type": "code",
   "execution_count": 18,
   "metadata": {},
   "outputs": [
    {
     "data": {
      "text/html": [
       "<div>\n",
       "<style>\n",
       "    .dataframe thead tr:only-child th {\n",
       "        text-align: right;\n",
       "    }\n",
       "\n",
       "    .dataframe thead th {\n",
       "        text-align: left;\n",
       "    }\n",
       "\n",
       "    .dataframe tbody tr th {\n",
       "        vertical-align: top;\n",
       "    }\n",
       "</style>\n",
       "<table border=\"1\" class=\"dataframe\">\n",
       "  <thead>\n",
       "    <tr style=\"text-align: right;\">\n",
       "      <th></th>\n",
       "      <th>propensity_score</th>\n",
       "    </tr>\n",
       "  </thead>\n",
       "  <tbody>\n",
       "    <tr>\n",
       "      <th>0</th>\n",
       "      <td>0.443350</td>\n",
       "    </tr>\n",
       "    <tr>\n",
       "      <th>1</th>\n",
       "      <td>0.144660</td>\n",
       "    </tr>\n",
       "    <tr>\n",
       "      <th>2</th>\n",
       "      <td>0.722355</td>\n",
       "    </tr>\n",
       "    <tr>\n",
       "      <th>3</th>\n",
       "      <td>0.664151</td>\n",
       "    </tr>\n",
       "    <tr>\n",
       "      <th>4</th>\n",
       "      <td>0.698286</td>\n",
       "    </tr>\n",
       "  </tbody>\n",
       "</table>\n",
       "</div>"
      ],
      "text/plain": [
       "   propensity_score\n",
       "0          0.443350\n",
       "1          0.144660\n",
       "2          0.722355\n",
       "3          0.664151\n",
       "4          0.698286"
      ]
     },
     "execution_count": 18,
     "metadata": {},
     "output_type": "execute_result"
    }
   ],
   "source": [
    "# We only pick the probability of being treated by accessing [:,1]\n",
    "pred = pd.DataFrame(lr.predict_proba(X)[:,1])\n",
    "pred.columns = [\"propensity_score\"]\n",
    "pred.head(5)"
   ]
  },
  {
   "cell_type": "markdown",
   "metadata": {},
   "source": [
    "Let's split the data again into treated and control group but this time we add **propensity_score** to every subject."
   ]
  },
  {
   "cell_type": "code",
   "execution_count": 19,
   "metadata": {},
   "outputs": [
    {
     "data": {
      "text/html": [
       "<div>\n",
       "<style>\n",
       "    .dataframe thead tr:only-child th {\n",
       "        text-align: right;\n",
       "    }\n",
       "\n",
       "    .dataframe thead th {\n",
       "        text-align: left;\n",
       "    }\n",
       "\n",
       "    .dataframe tbody tr th {\n",
       "        vertical-align: top;\n",
       "    }\n",
       "</style>\n",
       "<table border=\"1\" class=\"dataframe\">\n",
       "  <thead>\n",
       "    <tr style=\"text-align: right;\">\n",
       "      <th></th>\n",
       "      <th>id</th>\n",
       "      <th>treat</th>\n",
       "      <th>age</th>\n",
       "      <th>educ</th>\n",
       "      <th>black</th>\n",
       "      <th>hispan</th>\n",
       "      <th>married</th>\n",
       "      <th>nodegree</th>\n",
       "      <th>re74</th>\n",
       "      <th>re75</th>\n",
       "      <th>re78</th>\n",
       "      <th>propensity_score</th>\n",
       "    </tr>\n",
       "  </thead>\n",
       "  <tbody>\n",
       "    <tr>\n",
       "      <th>185</th>\n",
       "      <td>PSID1</td>\n",
       "      <td>0</td>\n",
       "      <td>30</td>\n",
       "      <td>12</td>\n",
       "      <td>0</td>\n",
       "      <td>0</td>\n",
       "      <td>1</td>\n",
       "      <td>0</td>\n",
       "      <td>20166.73</td>\n",
       "      <td>18347.23</td>\n",
       "      <td>25564.67</td>\n",
       "      <td>0.050504</td>\n",
       "    </tr>\n",
       "    <tr>\n",
       "      <th>186</th>\n",
       "      <td>PSID2</td>\n",
       "      <td>0</td>\n",
       "      <td>26</td>\n",
       "      <td>12</td>\n",
       "      <td>0</td>\n",
       "      <td>0</td>\n",
       "      <td>1</td>\n",
       "      <td>0</td>\n",
       "      <td>25862.32</td>\n",
       "      <td>17806.55</td>\n",
       "      <td>25564.67</td>\n",
       "      <td>0.033330</td>\n",
       "    </tr>\n",
       "    <tr>\n",
       "      <th>187</th>\n",
       "      <td>PSID3</td>\n",
       "      <td>0</td>\n",
       "      <td>25</td>\n",
       "      <td>16</td>\n",
       "      <td>0</td>\n",
       "      <td>0</td>\n",
       "      <td>1</td>\n",
       "      <td>0</td>\n",
       "      <td>25862.32</td>\n",
       "      <td>15316.21</td>\n",
       "      <td>25564.67</td>\n",
       "      <td>0.022574</td>\n",
       "    </tr>\n",
       "    <tr>\n",
       "      <th>188</th>\n",
       "      <td>PSID4</td>\n",
       "      <td>0</td>\n",
       "      <td>42</td>\n",
       "      <td>11</td>\n",
       "      <td>0</td>\n",
       "      <td>0</td>\n",
       "      <td>1</td>\n",
       "      <td>1</td>\n",
       "      <td>21787.05</td>\n",
       "      <td>14265.29</td>\n",
       "      <td>15491.01</td>\n",
       "      <td>0.024906</td>\n",
       "    </tr>\n",
       "    <tr>\n",
       "      <th>189</th>\n",
       "      <td>PSID5</td>\n",
       "      <td>0</td>\n",
       "      <td>25</td>\n",
       "      <td>9</td>\n",
       "      <td>1</td>\n",
       "      <td>0</td>\n",
       "      <td>1</td>\n",
       "      <td>1</td>\n",
       "      <td>14829.69</td>\n",
       "      <td>13776.53</td>\n",
       "      <td>0.00</td>\n",
       "      <td>0.416054</td>\n",
       "    </tr>\n",
       "  </tbody>\n",
       "</table>\n",
       "</div>"
      ],
      "text/plain": [
       "        id  treat  age  educ  black  hispan  married  nodegree      re74  \\\n",
       "185  PSID1      0   30    12      0       0        1         0  20166.73   \n",
       "186  PSID2      0   26    12      0       0        1         0  25862.32   \n",
       "187  PSID3      0   25    16      0       0        1         0  25862.32   \n",
       "188  PSID4      0   42    11      0       0        1         1  21787.05   \n",
       "189  PSID5      0   25     9      1       0        1         1  14829.69   \n",
       "\n",
       "         re75      re78  propensity_score  \n",
       "185  18347.23  25564.67          0.050504  \n",
       "186  17806.55  25564.67          0.033330  \n",
       "187  15316.21  25564.67          0.022574  \n",
       "188  14265.29  15491.01          0.024906  \n",
       "189  13776.53      0.00          0.416054  "
      ]
     },
     "metadata": {},
     "output_type": "display_data"
    },
    {
     "data": {
      "text/html": [
       "<div>\n",
       "<style>\n",
       "    .dataframe thead tr:only-child th {\n",
       "        text-align: right;\n",
       "    }\n",
       "\n",
       "    .dataframe thead th {\n",
       "        text-align: left;\n",
       "    }\n",
       "\n",
       "    .dataframe tbody tr th {\n",
       "        vertical-align: top;\n",
       "    }\n",
       "</style>\n",
       "<table border=\"1\" class=\"dataframe\">\n",
       "  <thead>\n",
       "    <tr style=\"text-align: right;\">\n",
       "      <th></th>\n",
       "      <th>id</th>\n",
       "      <th>treat</th>\n",
       "      <th>age</th>\n",
       "      <th>educ</th>\n",
       "      <th>black</th>\n",
       "      <th>hispan</th>\n",
       "      <th>married</th>\n",
       "      <th>nodegree</th>\n",
       "      <th>re74</th>\n",
       "      <th>re75</th>\n",
       "      <th>re78</th>\n",
       "      <th>propensity_score</th>\n",
       "    </tr>\n",
       "  </thead>\n",
       "  <tbody>\n",
       "    <tr>\n",
       "      <th>0</th>\n",
       "      <td>NSW1</td>\n",
       "      <td>1</td>\n",
       "      <td>37</td>\n",
       "      <td>11</td>\n",
       "      <td>1</td>\n",
       "      <td>0</td>\n",
       "      <td>1</td>\n",
       "      <td>1</td>\n",
       "      <td>0.0</td>\n",
       "      <td>0.0</td>\n",
       "      <td>9930.0460</td>\n",
       "      <td>0.443350</td>\n",
       "    </tr>\n",
       "    <tr>\n",
       "      <th>1</th>\n",
       "      <td>NSW2</td>\n",
       "      <td>1</td>\n",
       "      <td>22</td>\n",
       "      <td>9</td>\n",
       "      <td>0</td>\n",
       "      <td>1</td>\n",
       "      <td>0</td>\n",
       "      <td>1</td>\n",
       "      <td>0.0</td>\n",
       "      <td>0.0</td>\n",
       "      <td>3595.8940</td>\n",
       "      <td>0.144660</td>\n",
       "    </tr>\n",
       "    <tr>\n",
       "      <th>2</th>\n",
       "      <td>NSW3</td>\n",
       "      <td>1</td>\n",
       "      <td>30</td>\n",
       "      <td>12</td>\n",
       "      <td>1</td>\n",
       "      <td>0</td>\n",
       "      <td>0</td>\n",
       "      <td>0</td>\n",
       "      <td>0.0</td>\n",
       "      <td>0.0</td>\n",
       "      <td>24909.4500</td>\n",
       "      <td>0.722355</td>\n",
       "    </tr>\n",
       "    <tr>\n",
       "      <th>3</th>\n",
       "      <td>NSW4</td>\n",
       "      <td>1</td>\n",
       "      <td>27</td>\n",
       "      <td>11</td>\n",
       "      <td>1</td>\n",
       "      <td>0</td>\n",
       "      <td>0</td>\n",
       "      <td>1</td>\n",
       "      <td>0.0</td>\n",
       "      <td>0.0</td>\n",
       "      <td>7506.1460</td>\n",
       "      <td>0.664151</td>\n",
       "    </tr>\n",
       "    <tr>\n",
       "      <th>4</th>\n",
       "      <td>NSW5</td>\n",
       "      <td>1</td>\n",
       "      <td>33</td>\n",
       "      <td>8</td>\n",
       "      <td>1</td>\n",
       "      <td>0</td>\n",
       "      <td>0</td>\n",
       "      <td>1</td>\n",
       "      <td>0.0</td>\n",
       "      <td>0.0</td>\n",
       "      <td>289.7899</td>\n",
       "      <td>0.698286</td>\n",
       "    </tr>\n",
       "  </tbody>\n",
       "</table>\n",
       "</div>"
      ],
      "text/plain": [
       "     id  treat  age  educ  black  hispan  married  nodegree  re74  re75  \\\n",
       "0  NSW1      1   37    11      1       0        1         1   0.0   0.0   \n",
       "1  NSW2      1   22     9      0       1        0         1   0.0   0.0   \n",
       "2  NSW3      1   30    12      1       0        0         0   0.0   0.0   \n",
       "3  NSW4      1   27    11      1       0        0         1   0.0   0.0   \n",
       "4  NSW5      1   33     8      1       0        0         1   0.0   0.0   \n",
       "\n",
       "         re78  propensity_score  \n",
       "0   9930.0460          0.443350  \n",
       "1   3595.8940          0.144660  \n",
       "2  24909.4500          0.722355  \n",
       "3   7506.1460          0.664151  \n",
       "4    289.7899          0.698286  "
      ]
     },
     "metadata": {},
     "output_type": "display_data"
    }
   ],
   "source": [
    "# Create new dataframe, add \"propensity_score\" column\n",
    "df_prop_scr                     = df_raw\n",
    "df_prop_scr['propensity_score'] = pred['propensity_score']\n",
    "\n",
    "# split the data using predefined split_data function\n",
    "df_treated_prop_scr, df_control_prop_scr = split_data(df_prop_scr)\n",
    "\n",
    "display(df_control_prop_scr.head(5))\n",
    "display(df_treated_prop_scr.head(5))"
   ]
  },
  {
   "cell_type": "markdown",
   "metadata": {},
   "source": [
    "#### Plotting the distribution of propensity scores"
   ]
  },
  {
   "cell_type": "code",
   "execution_count": 20,
   "metadata": {},
   "outputs": [
    {
     "data": {
      "text/plain": [
       "<matplotlib.text.Text at 0x11d2d9208>"
      ]
     },
     "execution_count": 20,
     "metadata": {},
     "output_type": "execute_result"
    },
    {
     "data": {
      "image/png": "[encoded data removed]",
      "text/plain": [
       "<matplotlib.figure.Figure at 0x11c2799e8>"
      ]
     },
     "metadata": {},
     "output_type": "display_data"
    }
   ],
   "source": [
    "# create 2 x 1 plot\n",
    "fig, (ax1, ax2) = plt.subplots(ncols=2, sharey=True)\n",
    "fig.set_size_inches(16, 4)\n",
    "ax1 = sns.distplot(df_control_prop_scr['propensity_score'], ax = ax1)\n",
    "ax1.set_title(\"Distribution of Propensity scores of Control Group\")\n",
    "\n",
    "ax2 = sns.distplot(df_treated_prop_scr['propensity_score'], ax = ax2)\n",
    "ax2.set_title(\"Distribution of Propensity scores of Treated Group\")"
   ]
  },
  {
   "cell_type": "markdown",
   "metadata": {},
   "source": [
    "#### Observations - Propensity Score Matching with Logistic Regression"
   ]
  },
  {
   "cell_type": "markdown",
   "metadata": {},
   "source": [
    "> TBD"
   ]
  },
  {
   "cell_type": "markdown",
   "metadata": {},
   "source": [
    "### 1d. Balancing dataset via matching Propensity Score\n",
    "Steps for this part\n",
    "* Measuring costs between all subjects in treated group with all subjects in control group\n",
    "* Use networkx graph function to maximize similiarity between matched subjects.\n",
    "* Data wrangling\n",
    "* Analysis of re78 after matching\n",
    "* Analysis of features-values distribution after matching"
   ]
  },
  {
   "cell_type": "markdown",
   "metadata": {},
   "source": [
    "#### Costs\n",
    "We define cost as:\n",
    "$$cost_{ij} = | PropensityScore_i - PropensityScore_j |$$\n",
    "\n",
    "Where; i = subject i from either control or treated group, j = subject in different group from i.\n",
    "\n",
    "For each subject from treated group, we measure its costs to every datapoint in control group."
   ]
  },
  {
   "cell_type": "code",
   "execution_count": 21,
   "metadata": {},
   "outputs": [
    {
     "name": "stdout",
     "output_type": "stream",
     "text": [
      "Dataframe with costs:\n"
     ]
    },
    {
     "data": {
      "text/html": [
       "<div>\n",
       "<style>\n",
       "    .dataframe thead tr:only-child th {\n",
       "        text-align: right;\n",
       "    }\n",
       "\n",
       "    .dataframe thead th {\n",
       "        text-align: left;\n",
       "    }\n",
       "\n",
       "    .dataframe tbody tr th {\n",
       "        vertical-align: top;\n",
       "    }\n",
       "</style>\n",
       "<table border=\"1\" class=\"dataframe\">\n",
       "  <thead>\n",
       "    <tr style=\"text-align: right;\">\n",
       "      <th></th>\n",
       "      <th>b</th>\n",
       "      <th>0</th>\n",
       "      <th>costs</th>\n",
       "    </tr>\n",
       "  </thead>\n",
       "  <tbody>\n",
       "    <tr>\n",
       "      <th>0</th>\n",
       "      <td>NSW1</td>\n",
       "      <td>PSID1</td>\n",
       "      <td>0.392846</td>\n",
       "    </tr>\n",
       "    <tr>\n",
       "      <th>1</th>\n",
       "      <td>NSW2</td>\n",
       "      <td>PSID1</td>\n",
       "      <td>0.094156</td>\n",
       "    </tr>\n",
       "    <tr>\n",
       "      <th>2</th>\n",
       "      <td>NSW3</td>\n",
       "      <td>PSID1</td>\n",
       "      <td>0.671851</td>\n",
       "    </tr>\n",
       "    <tr>\n",
       "      <th>3</th>\n",
       "      <td>NSW4</td>\n",
       "      <td>PSID1</td>\n",
       "      <td>0.613647</td>\n",
       "    </tr>\n",
       "    <tr>\n",
       "      <th>4</th>\n",
       "      <td>NSW5</td>\n",
       "      <td>PSID1</td>\n",
       "      <td>0.647782</td>\n",
       "    </tr>\n",
       "  </tbody>\n",
       "</table>\n",
       "</div>"
      ],
      "text/plain": [
       "      b      0     costs\n",
       "0  NSW1  PSID1  0.392846\n",
       "1  NSW2  PSID1  0.094156\n",
       "2  NSW3  PSID1  0.671851\n",
       "3  NSW4  PSID1  0.613647\n",
       "4  NSW5  PSID1  0.647782"
      ]
     },
     "metadata": {},
     "output_type": "display_data"
    }
   ],
   "source": [
    "# Init an empty dataframe\n",
    "df_pr_costs = pd.DataFrame()\n",
    "\n",
    "# Loop through each subject in control group.\n",
    "for row in df_control_prop_scr[['id','propensity_score']].iterrows():\n",
    "    # get subject id and subject propensity score\n",
    "    subject_id     = row[1][0]\n",
    "    subject_pr_scr = row[1][1]\n",
    "    \n",
    "    # measure absolute costs from all subject in treated group to this control subject\n",
    "    costs               = abs(subject_pr_scr - df_treated_prop_scr.propensity_score)\n",
    "    \n",
    "    # form dataframe contains: \"0\" source, \"b\" destination, \"costs\" of \"0\"-\"b\"\n",
    "    df_pr_cost          = pd.DataFrame(df_treated_prop_scr[['id']])\n",
    "    df_pr_cost.columns  = [['b']]\n",
    "    df_pr_cost['0']     = subject_id\n",
    "    df_pr_cost[\"costs\"] = pd.DataFrame(costs) \n",
    "    \n",
    "    # append distance per subject\n",
    "    df_pr_costs           = pd.concat([df_pr_costs, df_pr_cost])\n",
    "\n",
    "print(\"Dataframe with costs:\")\n",
    "display(df_pr_costs.head(5))"
   ]
  },
  {
   "cell_type": "markdown",
   "metadata": {},
   "source": [
    "#### Matching with Networkx Graph\n",
    "To ensure that each data point from the control group is matched with at most one data point from the treated group, we use networkx package."
   ]
  },
  {
   "cell_type": "code",
   "execution_count": 22,
   "metadata": {},
   "outputs": [],
   "source": [
    "# Build empty graph\n",
    "G = nx.Graph()\n",
    "\n",
    "# Build graph with vertices sources, destinations, and distance obtained directly from panda dataframe\n",
    "G = nx.from_pandas_dataframe(df_pr_costs, '0', 'b', ['costs'])\n",
    "\n",
    "# Perform max weight matching\n",
    "match_control_treated = nx.max_weight_matching(G, maxcardinality=True)"
   ]
  },
  {
   "cell_type": "code",
   "execution_count": 23,
   "metadata": {},
   "outputs": [
    {
     "name": "stdout",
     "output_type": "stream",
     "text": [
      "Matched control-treated subject:\n"
     ]
    },
    {
     "data": {
      "text/html": [
       "<div>\n",
       "<style>\n",
       "    .dataframe thead tr:only-child th {\n",
       "        text-align: right;\n",
       "    }\n",
       "\n",
       "    .dataframe thead th {\n",
       "        text-align: left;\n",
       "    }\n",
       "\n",
       "    .dataframe tbody tr th {\n",
       "        vertical-align: top;\n",
       "    }\n",
       "</style>\n",
       "<table border=\"1\" class=\"dataframe\">\n",
       "  <thead>\n",
       "    <tr style=\"text-align: right;\">\n",
       "      <th></th>\n",
       "      <th>control</th>\n",
       "      <th>treated</th>\n",
       "    </tr>\n",
       "  </thead>\n",
       "  <tbody>\n",
       "    <tr>\n",
       "      <th>1</th>\n",
       "      <td>PSID429</td>\n",
       "      <td>NSW1</td>\n",
       "    </tr>\n",
       "    <tr>\n",
       "      <th>19</th>\n",
       "      <td>PSID420</td>\n",
       "      <td>NSW10</td>\n",
       "    </tr>\n",
       "    <tr>\n",
       "      <th>199</th>\n",
       "      <td>PSID330</td>\n",
       "      <td>NSW100</td>\n",
       "    </tr>\n",
       "    <tr>\n",
       "      <th>201</th>\n",
       "      <td>PSID329</td>\n",
       "      <td>NSW101</td>\n",
       "    </tr>\n",
       "    <tr>\n",
       "      <th>203</th>\n",
       "      <td>PSID328</td>\n",
       "      <td>NSW102</td>\n",
       "    </tr>\n",
       "  </tbody>\n",
       "</table>\n",
       "</div>"
      ],
      "text/plain": [
       "     control treated\n",
       "1    PSID429    NSW1\n",
       "19   PSID420   NSW10\n",
       "199  PSID330  NSW100\n",
       "201  PSID329  NSW101\n",
       "203  PSID328  NSW102"
      ]
     },
     "execution_count": 23,
     "metadata": {},
     "output_type": "execute_result"
    }
   ],
   "source": [
    "# Build dataframe from tree result, containing matching pair treated-control subject\n",
    "df_prop_matched            = pd.DataFrame(columns=[\"control\",\"treated\"])\n",
    "df_prop_matched['treated'] = match_control_treated.keys()\n",
    "df_prop_matched['control'] = match_control_treated.values()\n",
    "\n",
    "# The dataframe contains redundant entries, e.g. PSID1 - NSW185, NSW185 - PSID1\n",
    "# So we sort the values and only pick the first half\n",
    "n_treated       = int((df_prop_matched.shape[0])/2)\n",
    "df_prop_matched = df_prop_matched.sort_values(by=\"treated\")[:n_treated]\n",
    "\n",
    "print(\"Matched control-treated subject:\")\n",
    "df_prop_matched.head()"
   ]
  },
  {
   "cell_type": "markdown",
   "metadata": {},
   "source": [
    "#### Data wrangling\n",
    "Finally, we add corresponding values of re78 to each pair of control-treated subject."
   ]
  },
  {
   "cell_type": "code",
   "execution_count": 24,
   "metadata": {},
   "outputs": [
    {
     "name": "stdout",
     "output_type": "stream",
     "text": [
      "Matched control-treated subject with their corresponding re78 value\n"
     ]
    },
    {
     "data": {
      "text/html": [
       "<div>\n",
       "<style>\n",
       "    .dataframe thead tr:only-child th {\n",
       "        text-align: right;\n",
       "    }\n",
       "\n",
       "    .dataframe thead th {\n",
       "        text-align: left;\n",
       "    }\n",
       "\n",
       "    .dataframe tbody tr th {\n",
       "        vertical-align: top;\n",
       "    }\n",
       "</style>\n",
       "<table border=\"1\" class=\"dataframe\">\n",
       "  <thead>\n",
       "    <tr style=\"text-align: right;\">\n",
       "      <th></th>\n",
       "      <th>control</th>\n",
       "      <th>treated</th>\n",
       "      <th>re78_control</th>\n",
       "      <th>re78_treated</th>\n",
       "    </tr>\n",
       "  </thead>\n",
       "  <tbody>\n",
       "    <tr>\n",
       "      <th>1</th>\n",
       "      <td>PSID429</td>\n",
       "      <td>NSW1</td>\n",
       "      <td>1495.4590</td>\n",
       "      <td>9930.046</td>\n",
       "    </tr>\n",
       "    <tr>\n",
       "      <th>19</th>\n",
       "      <td>PSID420</td>\n",
       "      <td>NSW10</td>\n",
       "      <td>964.9555</td>\n",
       "      <td>12418.070</td>\n",
       "    </tr>\n",
       "    <tr>\n",
       "      <th>199</th>\n",
       "      <td>PSID330</td>\n",
       "      <td>NSW100</td>\n",
       "      <td>116.7404</td>\n",
       "      <td>26817.600</td>\n",
       "    </tr>\n",
       "    <tr>\n",
       "      <th>201</th>\n",
       "      <td>PSID329</td>\n",
       "      <td>NSW101</td>\n",
       "      <td>1717.1180</td>\n",
       "      <td>0.000</td>\n",
       "    </tr>\n",
       "    <tr>\n",
       "      <th>203</th>\n",
       "      <td>PSID328</td>\n",
       "      <td>NSW102</td>\n",
       "      <td>14339.8600</td>\n",
       "      <td>9265.788</td>\n",
       "    </tr>\n",
       "  </tbody>\n",
       "</table>\n",
       "</div>"
      ],
      "text/plain": [
       "     control treated  re78_control  re78_treated\n",
       "1    PSID429    NSW1     1495.4590      9930.046\n",
       "19   PSID420   NSW10      964.9555     12418.070\n",
       "199  PSID330  NSW100      116.7404     26817.600\n",
       "201  PSID329  NSW101     1717.1180         0.000\n",
       "203  PSID328  NSW102    14339.8600      9265.788"
      ]
     },
     "execution_count": 24,
     "metadata": {},
     "output_type": "execute_result"
    }
   ],
   "source": [
    "# set \"id\" as index of df_raw, form new dataframe\n",
    "df_raw_indexed = df_raw.set_index(\"id\")\n",
    "\n",
    "# Get value of re78 each matched control-treated subject\n",
    "re78_control = df_raw_indexed.loc[df_prop_matched[\"control\"]][\"re78\"]\n",
    "re78_treated = df_raw_indexed.loc[df_prop_matched[\"treated\"]][\"re78\"]\n",
    "\n",
    "# add the re78 into df_prop_matched\n",
    "df_prop_matched[\"re78_control\"] = list(re78_control)\n",
    "df_prop_matched[\"re78_treated\"] = list(re78_treated)\n",
    "\n",
    "print(\"Matched control-treated subject with their corresponding re78 value\")\n",
    "df_prop_matched.head()"
   ]
  },
  {
   "cell_type": "markdown",
   "metadata": {},
   "source": [
    "#### Analysis of re78 after propensity score matching\n",
    "To get brief stats, we compare using descibe()"
   ]
  },
  {
   "cell_type": "code",
   "execution_count": 25,
   "metadata": {
    "scrolled": true
   },
   "outputs": [
    {
     "data": {
      "text/html": [
       "<div>\n",
       "<style>\n",
       "    .dataframe thead tr:only-child th {\n",
       "        text-align: right;\n",
       "    }\n",
       "\n",
       "    .dataframe thead th {\n",
       "        text-align: left;\n",
       "    }\n",
       "\n",
       "    .dataframe tbody tr th {\n",
       "        vertical-align: top;\n",
       "    }\n",
       "</style>\n",
       "<table border=\"1\" class=\"dataframe\">\n",
       "  <thead>\n",
       "    <tr style=\"text-align: right;\">\n",
       "      <th></th>\n",
       "      <th>re78_control</th>\n",
       "      <th>re78_treated</th>\n",
       "    </tr>\n",
       "  </thead>\n",
       "  <tbody>\n",
       "    <tr>\n",
       "      <th>count</th>\n",
       "      <td>185.000000</td>\n",
       "      <td>185.000000</td>\n",
       "    </tr>\n",
       "    <tr>\n",
       "      <th>mean</th>\n",
       "      <td>5525.962462</td>\n",
       "      <td>6349.143530</td>\n",
       "    </tr>\n",
       "    <tr>\n",
       "      <th>std</th>\n",
       "      <td>6637.979050</td>\n",
       "      <td>7867.402218</td>\n",
       "    </tr>\n",
       "    <tr>\n",
       "      <th>min</th>\n",
       "      <td>0.000000</td>\n",
       "      <td>0.000000</td>\n",
       "    </tr>\n",
       "    <tr>\n",
       "      <th>25%</th>\n",
       "      <td>0.000000</td>\n",
       "      <td>485.229800</td>\n",
       "    </tr>\n",
       "    <tr>\n",
       "      <th>50%</th>\n",
       "      <td>2813.591000</td>\n",
       "      <td>4232.309000</td>\n",
       "    </tr>\n",
       "    <tr>\n",
       "      <th>75%</th>\n",
       "      <td>8844.194000</td>\n",
       "      <td>9642.999000</td>\n",
       "    </tr>\n",
       "    <tr>\n",
       "      <th>max</th>\n",
       "      <td>25564.670000</td>\n",
       "      <td>60307.930000</td>\n",
       "    </tr>\n",
       "  </tbody>\n",
       "</table>\n",
       "</div>"
      ],
      "text/plain": [
       "       re78_control  re78_treated\n",
       "count    185.000000    185.000000\n",
       "mean    5525.962462   6349.143530\n",
       "std     6637.979050   7867.402218\n",
       "min        0.000000      0.000000\n",
       "25%        0.000000    485.229800\n",
       "50%     2813.591000   4232.309000\n",
       "75%     8844.194000   9642.999000\n",
       "max    25564.670000  60307.930000"
      ]
     },
     "execution_count": 25,
     "metadata": {},
     "output_type": "execute_result"
    }
   ],
   "source": [
    "df_prop_matched.describe()"
   ]
  },
  {
   "cell_type": "markdown",
   "metadata": {},
   "source": [
    "##### Plotting Distribution of re78 between two groups after propensity score matching\n",
    "Note that we don't include outliers in plot below."
   ]
  },
  {
   "cell_type": "code",
   "execution_count": 38,
   "metadata": {},
   "outputs": [
    {
     "name": "stdout",
     "output_type": "stream",
     "text": [
      "Average earning in 1978 of Control group (zeros excluded):  5525.962462378378\n",
      "Median earning in 1978 of Control group (zeros excluded):  2813.591\n",
      "Average earning in 1978 of Treated group (zeros excluded):  6349.1435302702685\n",
      "Median earning in 1978 of Treated group (zeros excluded):  4232.309\n"
     ]
    },
    {
     "data": {
      "image/png": "[encoded data removed]",
      "text/plain": [
       "<matplotlib.figure.Figure at 0x120c0cb38>"
      ]
     },
     "metadata": {},
     "output_type": "display_data"
    }
   ],
   "source": [
    "# draw 1 x 2 plot\n",
    "fig, (ax1, ax2) = plt.subplots(ncols=2, sharey=True)\n",
    "fig.set_size_inches(8, 8)\n",
    "ax1 = sns.boxplot(y = 're78_control' , data=df_prop_matched, ax = ax1, palette=\"Set3\", showfliers=False)\n",
    "ax1.set_title(\"Real earnings in 1978 for Control Group\")\n",
    "\n",
    "ax2 = sns.boxplot(y = 're78_treated' , data=df_prop_matched, ax = ax2, palette=\"Set3\", showfliers=False)\n",
    "ax2.set_title(\"Real earnings in 1978 for Treated Group\")\n",
    "\n",
    "# Display mean and median of re78 in two groups\n",
    "print(\"Average earning in 1978 of Control group (zeros excluded): \",df_prop_matched['re78_control'].mean())\n",
    "print(\"Median earning in 1978 of Control group (zeros excluded): \",df_prop_matched['re78_control'].median())\n",
    "print(\"Average earning in 1978 of Treated group (zeros excluded): \",df_prop_matched['re78_treated'].mean())\n",
    "print(\"Median earning in 1978 of Treated group (zeros excluded): \",df_prop_matched['re78_treated'].median())"
   ]
  },
  {
   "cell_type": "markdown",
   "metadata": {},
   "source": [
    "##### Observations of re78 values\n",
    "We can spot that after the matching, the treated group has higher mean, median, and 25% quartile. This means at this point, we can show that the earnings outcome of treated group is better than control group.\n",
    "> We conclude at this point that the training is working and effective"
   ]
  },
  {
   "cell_type": "markdown",
   "metadata": {},
   "source": [
    "#### Analysis of features-values distribution after propensity score matching\n",
    "Now we repeat our result in task 1b but using matched data of control-treated subjects. This is necessary to observe features distribution between matched control and treated group."
   ]
  },
  {
   "cell_type": "code",
   "execution_count": 27,
   "metadata": {},
   "outputs": [
    {
     "name": "stdout",
     "output_type": "stream",
     "text": [
      "Number of treated subject:  185\n",
      "Number of control subject:  185\n"
     ]
    },
    {
     "data": {
      "text/html": [
       "<div>\n",
       "<style>\n",
       "    .dataframe thead tr:only-child th {\n",
       "        text-align: right;\n",
       "    }\n",
       "\n",
       "    .dataframe thead th {\n",
       "        text-align: left;\n",
       "    }\n",
       "\n",
       "    .dataframe tbody tr th {\n",
       "        vertical-align: top;\n",
       "    }\n",
       "</style>\n",
       "<table border=\"1\" class=\"dataframe\">\n",
       "  <thead>\n",
       "    <tr style=\"text-align: right;\">\n",
       "      <th></th>\n",
       "      <th>treat</th>\n",
       "      <th>age</th>\n",
       "      <th>educ</th>\n",
       "      <th>black</th>\n",
       "      <th>hispan</th>\n",
       "      <th>married</th>\n",
       "      <th>nodegree</th>\n",
       "      <th>re74</th>\n",
       "      <th>re75</th>\n",
       "      <th>re78</th>\n",
       "      <th>propensity_score</th>\n",
       "    </tr>\n",
       "    <tr>\n",
       "      <th>id</th>\n",
       "      <th></th>\n",
       "      <th></th>\n",
       "      <th></th>\n",
       "      <th></th>\n",
       "      <th></th>\n",
       "      <th></th>\n",
       "      <th></th>\n",
       "      <th></th>\n",
       "      <th></th>\n",
       "      <th></th>\n",
       "      <th></th>\n",
       "    </tr>\n",
       "  </thead>\n",
       "  <tbody>\n",
       "    <tr>\n",
       "      <th>PSID429</th>\n",
       "      <td>0</td>\n",
       "      <td>16</td>\n",
       "      <td>9</td>\n",
       "      <td>0</td>\n",
       "      <td>0</td>\n",
       "      <td>0</td>\n",
       "      <td>1</td>\n",
       "      <td>0.00</td>\n",
       "      <td>0.0</td>\n",
       "      <td>1495.4590</td>\n",
       "      <td>0.155030</td>\n",
       "    </tr>\n",
       "    <tr>\n",
       "      <th>PSID420</th>\n",
       "      <td>0</td>\n",
       "      <td>39</td>\n",
       "      <td>2</td>\n",
       "      <td>1</td>\n",
       "      <td>0</td>\n",
       "      <td>1</td>\n",
       "      <td>1</td>\n",
       "      <td>0.00</td>\n",
       "      <td>0.0</td>\n",
       "      <td>964.9555</td>\n",
       "      <td>0.587354</td>\n",
       "    </tr>\n",
       "    <tr>\n",
       "      <th>PSID330</th>\n",
       "      <td>0</td>\n",
       "      <td>22</td>\n",
       "      <td>16</td>\n",
       "      <td>1</td>\n",
       "      <td>0</td>\n",
       "      <td>0</td>\n",
       "      <td>0</td>\n",
       "      <td>2564.68</td>\n",
       "      <td>0.0</td>\n",
       "      <td>116.7404</td>\n",
       "      <td>0.634835</td>\n",
       "    </tr>\n",
       "  </tbody>\n",
       "</table>\n",
       "</div>"
      ],
      "text/plain": [
       "         treat  age  educ  black  hispan  married  nodegree     re74  re75  \\\n",
       "id                                                                           \n",
       "PSID429      0   16     9      0       0        0         1     0.00   0.0   \n",
       "PSID420      0   39     2      1       0        1         1     0.00   0.0   \n",
       "PSID330      0   22    16      1       0        0         0  2564.68   0.0   \n",
       "\n",
       "              re78  propensity_score  \n",
       "id                                    \n",
       "PSID429  1495.4590          0.155030  \n",
       "PSID420   964.9555          0.587354  \n",
       "PSID330   116.7404          0.634835  "
      ]
     },
     "metadata": {},
     "output_type": "display_data"
    },
    {
     "data": {
      "text/html": [
       "<div>\n",
       "<style>\n",
       "    .dataframe thead tr:only-child th {\n",
       "        text-align: right;\n",
       "    }\n",
       "\n",
       "    .dataframe thead th {\n",
       "        text-align: left;\n",
       "    }\n",
       "\n",
       "    .dataframe tbody tr th {\n",
       "        vertical-align: top;\n",
       "    }\n",
       "</style>\n",
       "<table border=\"1\" class=\"dataframe\">\n",
       "  <thead>\n",
       "    <tr style=\"text-align: right;\">\n",
       "      <th></th>\n",
       "      <th>treat</th>\n",
       "      <th>age</th>\n",
       "      <th>educ</th>\n",
       "      <th>black</th>\n",
       "      <th>hispan</th>\n",
       "      <th>married</th>\n",
       "      <th>nodegree</th>\n",
       "      <th>re74</th>\n",
       "      <th>re75</th>\n",
       "      <th>re78</th>\n",
       "      <th>propensity_score</th>\n",
       "    </tr>\n",
       "    <tr>\n",
       "      <th>id</th>\n",
       "      <th></th>\n",
       "      <th></th>\n",
       "      <th></th>\n",
       "      <th></th>\n",
       "      <th></th>\n",
       "      <th></th>\n",
       "      <th></th>\n",
       "      <th></th>\n",
       "      <th></th>\n",
       "      <th></th>\n",
       "      <th></th>\n",
       "    </tr>\n",
       "  </thead>\n",
       "  <tbody>\n",
       "    <tr>\n",
       "      <th>NSW1</th>\n",
       "      <td>1</td>\n",
       "      <td>37</td>\n",
       "      <td>11</td>\n",
       "      <td>1</td>\n",
       "      <td>0</td>\n",
       "      <td>1</td>\n",
       "      <td>1</td>\n",
       "      <td>0.0</td>\n",
       "      <td>0.0</td>\n",
       "      <td>9930.046</td>\n",
       "      <td>0.443350</td>\n",
       "    </tr>\n",
       "    <tr>\n",
       "      <th>NSW10</th>\n",
       "      <td>1</td>\n",
       "      <td>33</td>\n",
       "      <td>12</td>\n",
       "      <td>0</td>\n",
       "      <td>0</td>\n",
       "      <td>1</td>\n",
       "      <td>0</td>\n",
       "      <td>0.0</td>\n",
       "      <td>0.0</td>\n",
       "      <td>12418.070</td>\n",
       "      <td>0.076562</td>\n",
       "    </tr>\n",
       "    <tr>\n",
       "      <th>NSW100</th>\n",
       "      <td>1</td>\n",
       "      <td>31</td>\n",
       "      <td>9</td>\n",
       "      <td>0</td>\n",
       "      <td>1</td>\n",
       "      <td>0</td>\n",
       "      <td>1</td>\n",
       "      <td>0.0</td>\n",
       "      <td>0.0</td>\n",
       "      <td>26817.600</td>\n",
       "      <td>0.137257</td>\n",
       "    </tr>\n",
       "  </tbody>\n",
       "</table>\n",
       "</div>"
      ],
      "text/plain": [
       "        treat  age  educ  black  hispan  married  nodegree  re74  re75  \\\n",
       "id                                                                       \n",
       "NSW1        1   37    11      1       0        1         1   0.0   0.0   \n",
       "NSW10       1   33    12      0       0        1         0   0.0   0.0   \n",
       "NSW100      1   31     9      0       1        0         1   0.0   0.0   \n",
       "\n",
       "             re78  propensity_score  \n",
       "id                                   \n",
       "NSW1     9930.046          0.443350  \n",
       "NSW10   12418.070          0.076562  \n",
       "NSW100  26817.600          0.137257  "
      ]
     },
     "metadata": {},
     "output_type": "display_data"
    }
   ],
   "source": [
    "# Get only matched control-treated pair from raw dataframe\n",
    "df_control = df_raw_indexed.loc[df_prop_matched[\"control\"]]\n",
    "df_treated = df_raw_indexed.loc[df_prop_matched[\"treated\"]]\n",
    "\n",
    "# note that n_treated should be equal to n_control\n",
    "n_treated = df_treated.shape[0]\n",
    "n_control = df_control.shape[0]\n",
    "\n",
    "# Check how many pairs we have\n",
    "print(\"Number of treated subject: \",n_treated)\n",
    "print(\"Number of control subject: \",n_control)\n",
    "\n",
    "# Display pairs-example\n",
    "display(df_control.head(3))\n",
    "display(df_treated.head(3))"
   ]
  },
  {
   "cell_type": "markdown",
   "metadata": {},
   "source": [
    "###### Binary Features (black, hispan, married, nodegree)"
   ]
  },
  {
   "cell_type": "code",
   "execution_count": 39,
   "metadata": {},
   "outputs": [
    {
     "name": "stdout",
     "output_type": "stream",
     "text": [
      "Number of Black Subject in Treated Group After Matching:  156\n",
      "Number of Black Subject in Control Group After Matching:  51\n",
      "Number of Hispan Subject in Treated Group After Matching:  11\n",
      "Number of Hispan Subject in Control Group After Matching:  22\n",
      "Number of Married Subject in Treated Group After Matching:  35\n",
      "Number of Married Subject in Control Group After Matching:  76\n",
      "Number of Nodegree Subject in Treated Group After Matching:  131\n",
      "Number of Nodegree Subject in Control Group After Matching:  121\n"
     ]
    }
   ],
   "source": [
    "# gather the number of black, hispan, married, and nodegree subjects for both treated and control group\n",
    "n_black_treated    = df_treated.loc[df_treated[\"black\"]==1].shape[0]\n",
    "n_black_control    = df_control.loc[df_control[\"black\"]==1].shape[0]\n",
    "n_hispan_treated   = df_treated.loc[df_treated[\"hispan\"]==1].shape[0]\n",
    "n_hispan_control   = df_control.loc[df_control[\"hispan\"]==1].shape[0]\n",
    "n_married_treated  = df_treated.loc[df_treated[\"married\"]==1].shape[0]\n",
    "n_married_control  = df_control.loc[df_control[\"married\"]==1].shape[0]\n",
    "n_nodegree_treated = df_treated.loc[df_treated[\"nodegree\"]==1].shape[0]\n",
    "n_nodegree_control = df_control.loc[df_control[\"nodegree\"]==1].shape[0]\n",
    "\n",
    "print(\"Number of Black Subject in Treated Group After Matching: \",n_black_treated)\n",
    "print(\"Number of Black Subject in Control Group After Matching: \",n_black_control)\n",
    "print(\"Number of Hispan Subject in Treated Group After Matching: \",n_hispan_treated)\n",
    "print(\"Number of Hispan Subject in Control Group After Matching: \",n_hispan_control)\n",
    "print(\"Number of Married Subject in Treated Group After Matching: \",n_married_treated)\n",
    "print(\"Number of Married Subject in Control Group After Matching: \",n_married_control)\n",
    "print(\"Number of Nodegree Subject in Treated Group After Matching: \",n_nodegree_treated)\n",
    "print(\"Number of Nodegree Subject in Control Group After Matching: \",n_nodegree_control)"
   ]
  },
  {
   "cell_type": "markdown",
   "metadata": {},
   "source": [
    "Then we calcuate the percentages of every binary feature in two groups after propensity score matching."
   ]
  },
  {
   "cell_type": "code",
   "execution_count": 40,
   "metadata": {},
   "outputs": [],
   "source": [
    "# percentage_of_feature = count(features) / n_data\n",
    "pr_black_treated    = n_black_treated    / n_treated\n",
    "pr_black_control    = n_black_control    / n_control\n",
    "pr_hispan_treated   = n_hispan_treated   / n_treated\n",
    "pr_hispan_control   = n_hispan_control   / n_control\n",
    "pr_married_treated  = n_married_treated  / n_treated\n",
    "pr_married_control  = n_married_control  / n_control\n",
    "pr_nodegree_treated = n_nodegree_treated / n_treated\n",
    "pr_nodegree_control = n_nodegree_control / n_control"
   ]
  },
  {
   "cell_type": "markdown",
   "metadata": {},
   "source": [
    "Now we form dataframe consisting percentages of each binary features"
   ]
  },
  {
   "cell_type": "code",
   "execution_count": 41,
   "metadata": {},
   "outputs": [
    {
     "data": {
      "text/html": [
       "<div>\n",
       "<style>\n",
       "    .dataframe thead tr:only-child th {\n",
       "        text-align: right;\n",
       "    }\n",
       "\n",
       "    .dataframe thead th {\n",
       "        text-align: left;\n",
       "    }\n",
       "\n",
       "    .dataframe tbody tr th {\n",
       "        vertical-align: top;\n",
       "    }\n",
       "</style>\n",
       "<table border=\"1\" class=\"dataframe\">\n",
       "  <thead>\n",
       "    <tr style=\"text-align: right;\">\n",
       "      <th></th>\n",
       "      <th>features</th>\n",
       "      <th>pr_treated</th>\n",
       "      <th>pr_control</th>\n",
       "    </tr>\n",
       "  </thead>\n",
       "  <tbody>\n",
       "    <tr>\n",
       "      <th>0</th>\n",
       "      <td>black</td>\n",
       "      <td>0.843243</td>\n",
       "      <td>0.275676</td>\n",
       "    </tr>\n",
       "    <tr>\n",
       "      <th>1</th>\n",
       "      <td>hispan</td>\n",
       "      <td>0.059459</td>\n",
       "      <td>0.118919</td>\n",
       "    </tr>\n",
       "    <tr>\n",
       "      <th>2</th>\n",
       "      <td>married</td>\n",
       "      <td>0.189189</td>\n",
       "      <td>0.410811</td>\n",
       "    </tr>\n",
       "    <tr>\n",
       "      <th>3</th>\n",
       "      <td>nodegree</td>\n",
       "      <td>0.708108</td>\n",
       "      <td>0.654054</td>\n",
       "    </tr>\n",
       "  </tbody>\n",
       "</table>\n",
       "</div>"
      ],
      "text/plain": [
       "   features  pr_treated  pr_control\n",
       "0     black    0.843243    0.275676\n",
       "1    hispan    0.059459    0.118919\n",
       "2   married    0.189189    0.410811\n",
       "3  nodegree    0.708108    0.654054"
      ]
     },
     "execution_count": 41,
     "metadata": {},
     "output_type": "execute_result"
    }
   ],
   "source": [
    "data = {\n",
    "        'features':['black','hispan','married','nodegree'],\n",
    "        'pr_treated':[pr_black_treated, pr_hispan_treated, pr_married_treated, pr_nodegree_treated],\n",
    "        'pr_control':[pr_black_control, pr_hispan_control, pr_married_control, pr_nodegree_control]\n",
    "       }\n",
    "\n",
    "# form dataframe of percentage of binary features\n",
    "df_pr_binary_features = (pd.DataFrame(data, columns = ['features', 'pr_treated', 'pr_control']))\n",
    "df_pr_binary_features"
   ]
  },
  {
   "cell_type": "markdown",
   "metadata": {},
   "source": [
    "###### Plotting Distribution of Binary Features (black, hispan, married, nodegree) after propensity score matching"
   ]
  },
  {
   "cell_type": "code",
   "execution_count": 42,
   "metadata": {
    "scrolled": true
   },
   "outputs": [
    {
     "data": {
      "image/png": "[encoded data removed]",
      "text/plain": [
       "<matplotlib.figure.Figure at 0x120bbeb00>"
      ]
     },
     "metadata": {},
     "output_type": "display_data"
    }
   ],
   "source": [
    "# use bar chart to depict percentage of binary values in dataset\n",
    "ax = df_pr_binary_features.sort_values([\"pr_treated\"]) \\\n",
    "                          .plot.barh(y=[\"pr_treated\",\"pr_control\"],x=[\"features\"], figsize=(12,5))\n",
    "ax.set_xlabel('Percentage of Features');\n",
    "ax.set_ylabel('Features');\n",
    "ax.set_title('Percentage of Binary Feature in Treated Group(Blue) and Control Group(Green)');"
   ]
  },
  {
   "cell_type": "markdown",
   "metadata": {},
   "source": [
    "###### Observations of binary features\n",
    "> After matching, the distibutions of **black** and **married** still have huge differences. At this point we have to **withdraw our previous conclusion** as we cannot infer the result of observational studies in which treatment assignment and response may be caused by featues correlate (black or married)."
   ]
  },
  {
   "cell_type": "markdown",
   "metadata": {},
   "source": [
    "###### Plotting Distribution of Continous Features (age, educ, re74, re75) after propensity score matching:  Distribution Plot With Outliers"
   ]
  },
  {
   "cell_type": "markdown",
   "metadata": {},
   "source": [
    "**Disclaimer about zeros in re74 and re75**: Although there are zeros in re74 and re75, we cannot just exclude these values since we **assume** that job training program made unemployed subjects in 1974 and 1975 gained job in 1978."
   ]
  },
  {
   "cell_type": "code",
   "execution_count": 44,
   "metadata": {},
   "outputs": [
    {
     "data": {
      "text/plain": [
       "<matplotlib.text.Text at 0x11faf2f60>"
      ]
     },
     "execution_count": 44,
     "metadata": {},
     "output_type": "execute_result"
    },
    {
     "data": {
      "image/png": "[encoded data removed]",
      "text/plain": [
       "<matplotlib.figure.Figure at 0x11dd37668>"
      ]
     },
     "metadata": {},
     "output_type": "display_data"
    }
   ],
   "source": [
    "# Plot 2 x 2\n",
    "fig, ([ax1, ax2], [ax3, ax4]) = plt.subplots(nrows=2, ncols=2)\n",
    "fig.set_size_inches(16, 12)\n",
    "\n",
    "ax1 = sns.distplot(df_treated['age'], ax=ax1)\n",
    "ax1 = sns.distplot(df_control['age'], ax=ax1)\n",
    "ax1.set_title(\"Distribution of Age in Treated (Blue) and Control(Green)\")\n",
    "\n",
    "ax2 = sns.distplot(df_treated['educ'], ax=ax2)\n",
    "ax2 = sns.distplot(df_control['educ'], ax=ax2)\n",
    "ax2.set_title(\"Distribution of Years of Education in Treated (Blue) and Control(Green)\")\n",
    "\n",
    "ax3 = sns.distplot(df_treated['re74'], ax=ax3)\n",
    "ax3 = sns.distplot(df_control['re74'], ax=ax3)\n",
    "ax3.set_title(\"Distribution of Earings 1975 in Treated (Blue) and Control(Green)\")\n",
    "\n",
    "ax4 = sns.distplot(df_treated['re75'], ax=ax4)\n",
    "ax4 = sns.distplot(df_control['re75'], ax=ax4)\n",
    "ax4.set_title(\"Distribution of Earings 1975 in Treated (Blue) and Control(Green)\")\n"
   ]
  },
  {
   "cell_type": "markdown",
   "metadata": {},
   "source": [
    "###### Observations of Continuous features\n",
    "> We can see that there is no significance difference of distribution between continuous features, before and after matching. After matching we notice that the distribution of continuous features between two groups are roughly same. Consistenly, the only obvious imbalance distribution is in feature **\"age\"**, same as before matching."
   ]
  },
  {
   "cell_type": "markdown",
   "metadata": {},
   "source": [
    "#### 1d recap: We are not satisfied with the result! :(\n",
    "> After propensity score matching, we still are not happy with the results since the features distribution are not well-balanced. Let's say that training program is well-suited for Husbands (married) to manage work-life balanced or the training is designed to white (non-black) people only. This will mislead our conclusion and it's better if we try to balance the distribution even further, as we are not sure the implication of underlying features!"
   ]
  },
  {
   "cell_type": "markdown",
   "metadata": {},
   "source": [
    "### 1e. Balancing Groups Further: Binary Features Matching\n",
    "From the results obtained by 1b and 1d, we can see from the plots that two binaries features are heavily imbalanced; black and married. We aware that the ages distribution is not suifficiently balanced as well. But out strategy is to  pay more attention to \"black\" and \"married\" feature."
   ]
  },
  {
   "cell_type": "markdown",
   "metadata": {},
   "source": [
    "Almost the same as 1d, steps for this part:\n",
    "* Measuring costs between all subjects in treated group with all subjects in control group\n",
    "* Use networkx graph function to maximize similiarity between matched subjects.\n",
    "* Data wrangling\n",
    "* Analysis of features-values distribution after matching"
   ]
  },
  {
   "cell_type": "markdown",
   "metadata": {},
   "source": [
    "#### Costs\n",
    "Important notes: \n",
    "* Now we cut the node connections if subject in control does not has the same property as subject in treatment. E.g. for a subject i in control, who is black, we measure costs only between it to other black subjects in treatment group. \n",
    "* We filter \"black\" and \"married\" features only."
   ]
  },
  {
   "cell_type": "code",
   "execution_count": 52,
   "metadata": {},
   "outputs": [
    {
     "name": "stdout",
     "output_type": "stream",
     "text": [
      "Dataframe with costs:\n"
     ]
    },
    {
     "data": {
      "text/html": [
       "<div>\n",
       "<style>\n",
       "    .dataframe thead tr:only-child th {\n",
       "        text-align: right;\n",
       "    }\n",
       "\n",
       "    .dataframe thead th {\n",
       "        text-align: left;\n",
       "    }\n",
       "\n",
       "    .dataframe tbody tr th {\n",
       "        vertical-align: top;\n",
       "    }\n",
       "</style>\n",
       "<table border=\"1\" class=\"dataframe\">\n",
       "  <thead>\n",
       "    <tr style=\"text-align: right;\">\n",
       "      <th></th>\n",
       "      <th>b</th>\n",
       "      <th>0</th>\n",
       "      <th>costs</th>\n",
       "    </tr>\n",
       "  </thead>\n",
       "  <tbody>\n",
       "    <tr>\n",
       "      <th>9</th>\n",
       "      <td>NSW10</td>\n",
       "      <td>PSID1</td>\n",
       "      <td>0.026058</td>\n",
       "    </tr>\n",
       "    <tr>\n",
       "      <th>43</th>\n",
       "      <td>NSW44</td>\n",
       "      <td>PSID1</td>\n",
       "      <td>0.023593</td>\n",
       "    </tr>\n",
       "    <tr>\n",
       "      <th>123</th>\n",
       "      <td>NSW124</td>\n",
       "      <td>PSID1</td>\n",
       "      <td>0.010333</td>\n",
       "    </tr>\n",
       "    <tr>\n",
       "      <th>136</th>\n",
       "      <td>NSW137</td>\n",
       "      <td>PSID1</td>\n",
       "      <td>0.031153</td>\n",
       "    </tr>\n",
       "    <tr>\n",
       "      <th>166</th>\n",
       "      <td>NSW167</td>\n",
       "      <td>PSID1</td>\n",
       "      <td>0.005501</td>\n",
       "    </tr>\n",
       "  </tbody>\n",
       "</table>\n",
       "</div>"
      ],
      "text/plain": [
       "          b      0     costs\n",
       "9     NSW10  PSID1  0.026058\n",
       "43    NSW44  PSID1  0.023593\n",
       "123  NSW124  PSID1  0.010333\n",
       "136  NSW137  PSID1  0.031153\n",
       "166  NSW167  PSID1  0.005501"
      ]
     },
     "metadata": {},
     "output_type": "display_data"
    }
   ],
   "source": [
    "# Init an empty dataframe: costs of propensity scores between matched features only\n",
    "df_matched_f_pr_costs = pd.DataFrame()\n",
    "\n",
    "# Loop through each subject in control group.\n",
    "for row in df_control_prop_scr[['id','propensity_score','black','married']].iterrows():\n",
    "    # get subject id and subject propensity score\n",
    "    subject_id     = row[1][0]\n",
    "    subject_pr_scr = row[1][1]\n",
    "    \n",
    "    # get black and married property of the control subject\n",
    "    subject_black   = row[1][2]\n",
    "    subject_married = row[1][3]\n",
    "    \n",
    "    # measure absolute costs from all subject in treated group to this control subject\n",
    "    costs = abs(subject_pr_scr - df_treated_prop_scr.loc[(df_treated_prop_scr[\"black\"] == subject_black ) \\\n",
    "                                                         & (df_treated_prop_scr[\"married\"] == subject_married)]\n",
    "                                                        .propensity_score)\n",
    "    \n",
    "    # form dataframe contains: \"0\" source, \"b\" destination, \"costs\" of \"0\"-\"b\"\n",
    "    df_pr_cost          = pd.DataFrame(df_treated_prop_scr[['id']])\n",
    "    df_pr_cost.columns  = [['b']]\n",
    "    df_pr_cost['0']     = subject_id\n",
    "    df_pr_cost[\"costs\"] = pd.DataFrame(costs) \n",
    "    \n",
    "    # append distance per subject\n",
    "    df_matched_f_pr_costs           = pd.concat([df_matched_f_pr_costs, df_pr_cost.dropna(axis=0)])\n",
    "\n",
    "print(\"Dataframe with costs:\")\n",
    "display(df_matched_f_pr_costs.head(5))"
   ]
  },
  {
   "cell_type": "markdown",
   "metadata": {},
   "source": [
    "#### Matching with Networkx Graph\n",
    "To ensure that each data point from the control group is matched with at most one data point from the treated group, we use networkx package."
   ]
  },
  {
   "cell_type": "code",
   "execution_count": 53,
   "metadata": {},
   "outputs": [],
   "source": [
    "# Build empty graph\n",
    "G = nx.Graph()\n",
    "\n",
    "# Build graph with vertices sources, destinations, and distance obtained directly from panda dataframe\n",
    "G = nx.from_pandas_dataframe(df_matched_f_pr_costs, '0', 'b', ['costs'])\n",
    "\n",
    "# Perform max weight matching\n",
    "match_features_control_treated = nx.max_weight_matching(G, maxcardinality=True)"
   ]
  },
  {
   "cell_type": "code",
   "execution_count": 54,
   "metadata": {},
   "outputs": [
    {
     "name": "stdout",
     "output_type": "stream",
     "text": [
      "Matched control-treated subject:\n"
     ]
    },
    {
     "data": {
      "text/html": [
       "<div>\n",
       "<style>\n",
       "    .dataframe thead tr:only-child th {\n",
       "        text-align: right;\n",
       "    }\n",
       "\n",
       "    .dataframe thead th {\n",
       "        text-align: left;\n",
       "    }\n",
       "\n",
       "    .dataframe tbody tr th {\n",
       "        vertical-align: top;\n",
       "    }\n",
       "</style>\n",
       "<table border=\"1\" class=\"dataframe\">\n",
       "  <thead>\n",
       "    <tr style=\"text-align: right;\">\n",
       "      <th></th>\n",
       "      <th>control</th>\n",
       "      <th>treated</th>\n",
       "    </tr>\n",
       "  </thead>\n",
       "  <tbody>\n",
       "    <tr>\n",
       "      <th>3</th>\n",
       "      <td>PSID428</td>\n",
       "      <td>NSW1</td>\n",
       "    </tr>\n",
       "    <tr>\n",
       "      <th>7</th>\n",
       "      <td>PSID426</td>\n",
       "      <td>NSW10</td>\n",
       "    </tr>\n",
       "    <tr>\n",
       "      <th>55</th>\n",
       "      <td>PSID402</td>\n",
       "      <td>NSW100</td>\n",
       "    </tr>\n",
       "    <tr>\n",
       "      <th>59</th>\n",
       "      <td>PSID400</td>\n",
       "      <td>NSW11</td>\n",
       "    </tr>\n",
       "    <tr>\n",
       "      <th>203</th>\n",
       "      <td>PSID98</td>\n",
       "      <td>NSW110</td>\n",
       "    </tr>\n",
       "  </tbody>\n",
       "</table>\n",
       "</div>"
      ],
      "text/plain": [
       "     control treated\n",
       "3    PSID428    NSW1\n",
       "7    PSID426   NSW10\n",
       "55   PSID402  NSW100\n",
       "59   PSID400   NSW11\n",
       "203   PSID98  NSW110"
      ]
     },
     "execution_count": 54,
     "metadata": {},
     "output_type": "execute_result"
    }
   ],
   "source": [
    "# Build dataframe from tree result, containing matching pair treated-control subject\n",
    "df_prop_matched_features            = pd.DataFrame(columns=[\"control\",\"treated\"])\n",
    "df_prop_matched_features['treated'] = match_features_control_treated.keys()\n",
    "df_prop_matched_features['control'] = match_features_control_treated.values()\n",
    "\n",
    "# The dataframe contains redundant entries, e.g. PSID1 - NSW185, NSW185 - PSID1\n",
    "# So we sort the values and only pick the first half\n",
    "n_treated                = int((df_prop_matched_features.shape[0])/2)\n",
    "df_prop_matched_features = df_prop_matched_features.sort_values(by=\"treated\")[:n_treated]\n",
    "\n",
    "print(\"Matched control-treated subject:\")\n",
    "df_prop_matched_features.head()"
   ]
  },
  {
   "cell_type": "markdown",
   "metadata": {},
   "source": [
    "#### Data wrangling\n",
    "Finally, we add corresponding values of re78 to each pair of control-treated subject."
   ]
  },
  {
   "cell_type": "code",
   "execution_count": 55,
   "metadata": {},
   "outputs": [
    {
     "name": "stdout",
     "output_type": "stream",
     "text": [
      "Matched control-treated subject with their corresponding re78 value\n"
     ]
    },
    {
     "data": {
      "text/html": [
       "<div>\n",
       "<style>\n",
       "    .dataframe thead tr:only-child th {\n",
       "        text-align: right;\n",
       "    }\n",
       "\n",
       "    .dataframe thead th {\n",
       "        text-align: left;\n",
       "    }\n",
       "\n",
       "    .dataframe tbody tr th {\n",
       "        vertical-align: top;\n",
       "    }\n",
       "</style>\n",
       "<table border=\"1\" class=\"dataframe\">\n",
       "  <thead>\n",
       "    <tr style=\"text-align: right;\">\n",
       "      <th></th>\n",
       "      <th>control</th>\n",
       "      <th>treated</th>\n",
       "      <th>re78_control</th>\n",
       "      <th>re78_treated</th>\n",
       "    </tr>\n",
       "  </thead>\n",
       "  <tbody>\n",
       "    <tr>\n",
       "      <th>3</th>\n",
       "      <td>PSID428</td>\n",
       "      <td>NSW1</td>\n",
       "      <td>187.6713</td>\n",
       "      <td>9930.046</td>\n",
       "    </tr>\n",
       "    <tr>\n",
       "      <th>7</th>\n",
       "      <td>PSID426</td>\n",
       "      <td>NSW10</td>\n",
       "      <td>19464.6100</td>\n",
       "      <td>12418.070</td>\n",
       "    </tr>\n",
       "    <tr>\n",
       "      <th>55</th>\n",
       "      <td>PSID402</td>\n",
       "      <td>NSW100</td>\n",
       "      <td>0.0000</td>\n",
       "      <td>26817.600</td>\n",
       "    </tr>\n",
       "    <tr>\n",
       "      <th>59</th>\n",
       "      <td>PSID400</td>\n",
       "      <td>NSW11</td>\n",
       "      <td>648.7220</td>\n",
       "      <td>8173.908</td>\n",
       "    </tr>\n",
       "    <tr>\n",
       "      <th>203</th>\n",
       "      <td>PSID98</td>\n",
       "      <td>NSW110</td>\n",
       "      <td>0.0000</td>\n",
       "      <td>0.000</td>\n",
       "    </tr>\n",
       "  </tbody>\n",
       "</table>\n",
       "</div>"
      ],
      "text/plain": [
       "     control treated  re78_control  re78_treated\n",
       "3    PSID428    NSW1      187.6713      9930.046\n",
       "7    PSID426   NSW10    19464.6100     12418.070\n",
       "55   PSID402  NSW100        0.0000     26817.600\n",
       "59   PSID400   NSW11      648.7220      8173.908\n",
       "203   PSID98  NSW110        0.0000         0.000"
      ]
     },
     "execution_count": 55,
     "metadata": {},
     "output_type": "execute_result"
    }
   ],
   "source": [
    "# set \"id\" as index of df_raw, form new dataframe\n",
    "df_raw_indexed = df_raw.set_index(\"id\")\n",
    "\n",
    "# Get value of re78 each matched control-treated subject\n",
    "re78_control = df_raw_indexed.loc[df_prop_matched_features[\"control\"]][\"re78\"]\n",
    "re78_treated = df_raw_indexed.loc[df_prop_matched_features[\"treated\"]][\"re78\"]\n",
    "\n",
    "# add the re78 into df_prop_matched\n",
    "df_prop_matched_features[\"re78_control\"] = list(re78_control)\n",
    "df_prop_matched_features[\"re78_treated\"] = list(re78_treated)\n",
    "\n",
    "print(\"Matched control-treated subject with their corresponding re78 value\")\n",
    "df_prop_matched_features.head()"
   ]
  },
  {
   "cell_type": "markdown",
   "metadata": {},
   "source": [
    "**Note that we will use df_prop_matched_features for final part 1f**"
   ]
  },
  {
   "cell_type": "markdown",
   "metadata": {},
   "source": [
    "#### Analysis of features-values distribution after propensity score matching + binary features matching\n",
    "Now we confirm the distribution of features in our matched dataset control and treated group."
   ]
  },
  {
   "cell_type": "code",
   "execution_count": 56,
   "metadata": {},
   "outputs": [
    {
     "name": "stdout",
     "output_type": "stream",
     "text": [
      "Number of treated subject:  116\n",
      "Number of control subject:  116\n"
     ]
    },
    {
     "data": {
      "text/html": [
       "<div>\n",
       "<style>\n",
       "    .dataframe thead tr:only-child th {\n",
       "        text-align: right;\n",
       "    }\n",
       "\n",
       "    .dataframe thead th {\n",
       "        text-align: left;\n",
       "    }\n",
       "\n",
       "    .dataframe tbody tr th {\n",
       "        vertical-align: top;\n",
       "    }\n",
       "</style>\n",
       "<table border=\"1\" class=\"dataframe\">\n",
       "  <thead>\n",
       "    <tr style=\"text-align: right;\">\n",
       "      <th></th>\n",
       "      <th>treat</th>\n",
       "      <th>age</th>\n",
       "      <th>educ</th>\n",
       "      <th>black</th>\n",
       "      <th>hispan</th>\n",
       "      <th>married</th>\n",
       "      <th>nodegree</th>\n",
       "      <th>re74</th>\n",
       "      <th>re75</th>\n",
       "      <th>re78</th>\n",
       "      <th>propensity_score</th>\n",
       "    </tr>\n",
       "    <tr>\n",
       "      <th>id</th>\n",
       "      <th></th>\n",
       "      <th></th>\n",
       "      <th></th>\n",
       "      <th></th>\n",
       "      <th></th>\n",
       "      <th></th>\n",
       "      <th></th>\n",
       "      <th></th>\n",
       "      <th></th>\n",
       "      <th></th>\n",
       "      <th></th>\n",
       "    </tr>\n",
       "  </thead>\n",
       "  <tbody>\n",
       "    <tr>\n",
       "      <th>PSID428</th>\n",
       "      <td>0</td>\n",
       "      <td>32</td>\n",
       "      <td>5</td>\n",
       "      <td>1</td>\n",
       "      <td>0</td>\n",
       "      <td>1</td>\n",
       "      <td>1</td>\n",
       "      <td>0.0</td>\n",
       "      <td>0.0</td>\n",
       "      <td>187.6713</td>\n",
       "      <td>0.550460</td>\n",
       "    </tr>\n",
       "    <tr>\n",
       "      <th>PSID426</th>\n",
       "      <td>0</td>\n",
       "      <td>24</td>\n",
       "      <td>1</td>\n",
       "      <td>0</td>\n",
       "      <td>1</td>\n",
       "      <td>1</td>\n",
       "      <td>1</td>\n",
       "      <td>0.0</td>\n",
       "      <td>0.0</td>\n",
       "      <td>19464.6100</td>\n",
       "      <td>0.108708</td>\n",
       "    </tr>\n",
       "    <tr>\n",
       "      <th>PSID402</th>\n",
       "      <td>0</td>\n",
       "      <td>16</td>\n",
       "      <td>8</td>\n",
       "      <td>0</td>\n",
       "      <td>0</td>\n",
       "      <td>0</td>\n",
       "      <td>1</td>\n",
       "      <td>0.0</td>\n",
       "      <td>0.0</td>\n",
       "      <td>0.0000</td>\n",
       "      <td>0.163876</td>\n",
       "    </tr>\n",
       "  </tbody>\n",
       "</table>\n",
       "</div>"
      ],
      "text/plain": [
       "         treat  age  educ  black  hispan  married  nodegree  re74  re75  \\\n",
       "id                                                                        \n",
       "PSID428      0   32     5      1       0        1         1   0.0   0.0   \n",
       "PSID426      0   24     1      0       1        1         1   0.0   0.0   \n",
       "PSID402      0   16     8      0       0        0         1   0.0   0.0   \n",
       "\n",
       "               re78  propensity_score  \n",
       "id                                     \n",
       "PSID428    187.6713          0.550460  \n",
       "PSID426  19464.6100          0.108708  \n",
       "PSID402      0.0000          0.163876  "
      ]
     },
     "metadata": {},
     "output_type": "display_data"
    },
    {
     "data": {
      "text/html": [
       "<div>\n",
       "<style>\n",
       "    .dataframe thead tr:only-child th {\n",
       "        text-align: right;\n",
       "    }\n",
       "\n",
       "    .dataframe thead th {\n",
       "        text-align: left;\n",
       "    }\n",
       "\n",
       "    .dataframe tbody tr th {\n",
       "        vertical-align: top;\n",
       "    }\n",
       "</style>\n",
       "<table border=\"1\" class=\"dataframe\">\n",
       "  <thead>\n",
       "    <tr style=\"text-align: right;\">\n",
       "      <th></th>\n",
       "      <th>treat</th>\n",
       "      <th>age</th>\n",
       "      <th>educ</th>\n",
       "      <th>black</th>\n",
       "      <th>hispan</th>\n",
       "      <th>married</th>\n",
       "      <th>nodegree</th>\n",
       "      <th>re74</th>\n",
       "      <th>re75</th>\n",
       "      <th>re78</th>\n",
       "      <th>propensity_score</th>\n",
       "    </tr>\n",
       "    <tr>\n",
       "      <th>id</th>\n",
       "      <th></th>\n",
       "      <th></th>\n",
       "      <th></th>\n",
       "      <th></th>\n",
       "      <th></th>\n",
       "      <th></th>\n",
       "      <th></th>\n",
       "      <th></th>\n",
       "      <th></th>\n",
       "      <th></th>\n",
       "      <th></th>\n",
       "    </tr>\n",
       "  </thead>\n",
       "  <tbody>\n",
       "    <tr>\n",
       "      <th>NSW1</th>\n",
       "      <td>1</td>\n",
       "      <td>37</td>\n",
       "      <td>11</td>\n",
       "      <td>1</td>\n",
       "      <td>0</td>\n",
       "      <td>1</td>\n",
       "      <td>1</td>\n",
       "      <td>0.0</td>\n",
       "      <td>0.0</td>\n",
       "      <td>9930.046</td>\n",
       "      <td>0.443350</td>\n",
       "    </tr>\n",
       "    <tr>\n",
       "      <th>NSW10</th>\n",
       "      <td>1</td>\n",
       "      <td>33</td>\n",
       "      <td>12</td>\n",
       "      <td>0</td>\n",
       "      <td>0</td>\n",
       "      <td>1</td>\n",
       "      <td>0</td>\n",
       "      <td>0.0</td>\n",
       "      <td>0.0</td>\n",
       "      <td>12418.070</td>\n",
       "      <td>0.076562</td>\n",
       "    </tr>\n",
       "    <tr>\n",
       "      <th>NSW100</th>\n",
       "      <td>1</td>\n",
       "      <td>31</td>\n",
       "      <td>9</td>\n",
       "      <td>0</td>\n",
       "      <td>1</td>\n",
       "      <td>0</td>\n",
       "      <td>1</td>\n",
       "      <td>0.0</td>\n",
       "      <td>0.0</td>\n",
       "      <td>26817.600</td>\n",
       "      <td>0.137257</td>\n",
       "    </tr>\n",
       "  </tbody>\n",
       "</table>\n",
       "</div>"
      ],
      "text/plain": [
       "        treat  age  educ  black  hispan  married  nodegree  re74  re75  \\\n",
       "id                                                                       \n",
       "NSW1        1   37    11      1       0        1         1   0.0   0.0   \n",
       "NSW10       1   33    12      0       0        1         0   0.0   0.0   \n",
       "NSW100      1   31     9      0       1        0         1   0.0   0.0   \n",
       "\n",
       "             re78  propensity_score  \n",
       "id                                   \n",
       "NSW1     9930.046          0.443350  \n",
       "NSW10   12418.070          0.076562  \n",
       "NSW100  26817.600          0.137257  "
      ]
     },
     "metadata": {},
     "output_type": "display_data"
    }
   ],
   "source": [
    "# Get only matched control-treated pair from raw dataframe\n",
    "df_control_f_matched = df_raw_indexed.loc[df_prop_matched_features[\"control\"]]\n",
    "df_treated_f_matched = df_raw_indexed.loc[df_prop_matched_features[\"treated\"]]\n",
    "\n",
    "# note that n_treated should be equal to n_control\n",
    "n_treated = df_treated_f_matched.shape[0]\n",
    "n_control = df_control_f_matched.shape[0]\n",
    "\n",
    "# Check how many pairs we have\n",
    "print(\"Number of treated subject: \",n_treated)\n",
    "print(\"Number of control subject: \",n_control)\n",
    "\n",
    "# Display pairs-example\n",
    "display(df_control_f_matched.head(3))\n",
    "display(df_treated_f_matched.head(3))"
   ]
  },
  {
   "cell_type": "markdown",
   "metadata": {},
   "source": [
    "###### Binary Features (black, hispan, married, nodegree)"
   ]
  },
  {
   "cell_type": "code",
   "execution_count": 39,
   "metadata": {},
   "outputs": [
    {
     "name": "stdout",
     "output_type": "stream",
     "text": [
      "Number of Black Subject in Treated Group After Matching:  156\n",
      "Number of Black Subject in Control Group After Matching:  51\n",
      "Number of Hispan Subject in Treated Group After Matching:  11\n",
      "Number of Hispan Subject in Control Group After Matching:  22\n",
      "Number of Married Subject in Treated Group After Matching:  35\n",
      "Number of Married Subject in Control Group After Matching:  76\n",
      "Number of Nodegree Subject in Treated Group After Matching:  131\n",
      "Number of Nodegree Subject in Control Group After Matching:  121\n"
     ]
    }
   ],
   "source": [
    "# gather the number of black, hispan, married, and nodegree subjects for both treated and control group\n",
    "n_black_treated    = df_treated.loc[df_treated[\"black\"]==1].shape[0]\n",
    "n_black_control    = df_control.loc[df_control[\"black\"]==1].shape[0]\n",
    "n_hispan_treated   = df_treated.loc[df_treated[\"hispan\"]==1].shape[0]\n",
    "n_hispan_control   = df_control.loc[df_control[\"hispan\"]==1].shape[0]\n",
    "n_married_treated  = df_treated.loc[df_treated[\"married\"]==1].shape[0]\n",
    "n_married_control  = df_control.loc[df_control[\"married\"]==1].shape[0]\n",
    "n_nodegree_treated = df_treated.loc[df_treated[\"nodegree\"]==1].shape[0]\n",
    "n_nodegree_control = df_control.loc[df_control[\"nodegree\"]==1].shape[0]\n",
    "\n",
    "print(\"Number of Black Subject in Treated Group After Matching: \",n_black_treated)\n",
    "print(\"Number of Black Subject in Control Group After Matching: \",n_black_control)\n",
    "print(\"Number of Hispan Subject in Treated Group After Matching: \",n_hispan_treated)\n",
    "print(\"Number of Hispan Subject in Control Group After Matching: \",n_hispan_control)\n",
    "print(\"Number of Married Subject in Treated Group After Matching: \",n_married_treated)\n",
    "print(\"Number of Married Subject in Control Group After Matching: \",n_married_control)\n",
    "print(\"Number of Nodegree Subject in Treated Group After Matching: \",n_nodegree_treated)\n",
    "print(\"Number of Nodegree Subject in Control Group After Matching: \",n_nodegree_control)"
   ]
  },
  {
   "cell_type": "markdown",
   "metadata": {},
   "source": [
    "Then we calcuate the percentages of every binary feature in two groups after propensity score matching."
   ]
  },
  {
   "cell_type": "code",
   "execution_count": 40,
   "metadata": {},
   "outputs": [],
   "source": [
    "# percentage_of_feature = count(features) / n_data\n",
    "pr_black_treated    = n_black_treated    / n_treated\n",
    "pr_black_control    = n_black_control    / n_control\n",
    "pr_hispan_treated   = n_hispan_treated   / n_treated\n",
    "pr_hispan_control   = n_hispan_control   / n_control\n",
    "pr_married_treated  = n_married_treated  / n_treated\n",
    "pr_married_control  = n_married_control  / n_control\n",
    "pr_nodegree_treated = n_nodegree_treated / n_treated\n",
    "pr_nodegree_control = n_nodegree_control / n_control"
   ]
  },
  {
   "cell_type": "markdown",
   "metadata": {},
   "source": [
    "Now we form dataframe consisting percentages of each binary features"
   ]
  },
  {
   "cell_type": "code",
   "execution_count": 41,
   "metadata": {},
   "outputs": [
    {
     "data": {
      "text/html": [
       "<div>\n",
       "<style>\n",
       "    .dataframe thead tr:only-child th {\n",
       "        text-align: right;\n",
       "    }\n",
       "\n",
       "    .dataframe thead th {\n",
       "        text-align: left;\n",
       "    }\n",
       "\n",
       "    .dataframe tbody tr th {\n",
       "        vertical-align: top;\n",
       "    }\n",
       "</style>\n",
       "<table border=\"1\" class=\"dataframe\">\n",
       "  <thead>\n",
       "    <tr style=\"text-align: right;\">\n",
       "      <th></th>\n",
       "      <th>features</th>\n",
       "      <th>pr_treated</th>\n",
       "      <th>pr_control</th>\n",
       "    </tr>\n",
       "  </thead>\n",
       "  <tbody>\n",
       "    <tr>\n",
       "      <th>0</th>\n",
       "      <td>black</td>\n",
       "      <td>0.843243</td>\n",
       "      <td>0.275676</td>\n",
       "    </tr>\n",
       "    <tr>\n",
       "      <th>1</th>\n",
       "      <td>hispan</td>\n",
       "      <td>0.059459</td>\n",
       "      <td>0.118919</td>\n",
       "    </tr>\n",
       "    <tr>\n",
       "      <th>2</th>\n",
       "      <td>married</td>\n",
       "      <td>0.189189</td>\n",
       "      <td>0.410811</td>\n",
       "    </tr>\n",
       "    <tr>\n",
       "      <th>3</th>\n",
       "      <td>nodegree</td>\n",
       "      <td>0.708108</td>\n",
       "      <td>0.654054</td>\n",
       "    </tr>\n",
       "  </tbody>\n",
       "</table>\n",
       "</div>"
      ],
      "text/plain": [
       "   features  pr_treated  pr_control\n",
       "0     black    0.843243    0.275676\n",
       "1    hispan    0.059459    0.118919\n",
       "2   married    0.189189    0.410811\n",
       "3  nodegree    0.708108    0.654054"
      ]
     },
     "execution_count": 41,
     "metadata": {},
     "output_type": "execute_result"
    }
   ],
   "source": [
    "data = {\n",
    "        'features':['black','hispan','married','nodegree'],\n",
    "        'pr_treated':[pr_black_treated, pr_hispan_treated, pr_married_treated, pr_nodegree_treated],\n",
    "        'pr_control':[pr_black_control, pr_hispan_control, pr_married_control, pr_nodegree_control]\n",
    "       }\n",
    "\n",
    "# form dataframe of percentage of binary features\n",
    "df_pr_binary_features = (pd.DataFrame(data, columns = ['features', 'pr_treated', 'pr_control']))\n",
    "df_pr_binary_features"
   ]
  },
  {
   "cell_type": "markdown",
   "metadata": {},
   "source": [
    "###### Plotting Distribution of Binary Features (black, hispan, married, nodegree) after propensity score matching"
   ]
  },
  {
   "cell_type": "code",
   "execution_count": 42,
   "metadata": {
    "scrolled": true
   },
   "outputs": [
    {
     "data": {
      "image/png": "[encoded data removed]",
      "text/plain": [
       "<matplotlib.figure.Figure at 0x120bbeb00>"
      ]
     },
     "metadata": {},
     "output_type": "display_data"
    }
   ],
   "source": [
    "# use bar chart to depict percentage of binary values in dataset\n",
    "ax = df_pr_binary_features.sort_values([\"pr_treated\"]) \\\n",
    "                          .plot.barh(y=[\"pr_treated\",\"pr_control\"],x=[\"features\"], figsize=(12,5))\n",
    "ax.set_xlabel('Percentage of Features');\n",
    "ax.set_ylabel('Features');\n",
    "ax.set_title('Percentage of Binary Feature in Treated Group(Blue) and Control Group(Green)');"
   ]
  },
  {
   "cell_type": "markdown",
   "metadata": {},
   "source": [
    "###### Observations of binary features\n",
    "> After matching, the distibutions of **black** and **married** still have huge differences. At this point we have to **withdraw our previous conclusion** as we cannot infer the result of observational studies in which treatment assignment and response may be caused by featues correlate (black or married)."
   ]
  },
  {
   "cell_type": "markdown",
   "metadata": {},
   "source": [
    "###### Plotting Distribution of Continous Features (age, educ, re74, re75) after propensity score matching:  Distribution Plot With Outliers"
   ]
  },
  {
   "cell_type": "markdown",
   "metadata": {},
   "source": [
    "**Disclaimer about zeros in re74 and re75**: Although there are zeros in re74 and re75, we cannot just exclude these values since we **assume** that job training program made unemployed subjects in 1974 and 1975 gained job in 1978."
   ]
  },
  {
   "cell_type": "code",
   "execution_count": 44,
   "metadata": {},
   "outputs": [
    {
     "data": {
      "text/plain": [
       "<matplotlib.text.Text at 0x11faf2f60>"
      ]
     },
     "execution_count": 44,
     "metadata": {},
     "output_type": "execute_result"
    },
    {
     "data": {
      "image/png": "[encoded data removed]",
      "text/plain": [
       "<matplotlib.figure.Figure at 0x11dd37668>"
      ]
     },
     "metadata": {},
     "output_type": "display_data"
    }
   ],
   "source": [
    "# Plot 2 x 2\n",
    "fig, ([ax1, ax2], [ax3, ax4]) = plt.subplots(nrows=2, ncols=2)\n",
    "fig.set_size_inches(16, 12)\n",
    "\n",
    "ax1 = sns.distplot(df_treated['age'], ax=ax1)\n",
    "ax1 = sns.distplot(df_control['age'], ax=ax1)\n",
    "ax1.set_title(\"Distribution of Age in Treated (Blue) and Control(Green)\")\n",
    "\n",
    "ax2 = sns.distplot(df_treated['educ'], ax=ax2)\n",
    "ax2 = sns.distplot(df_control['educ'], ax=ax2)\n",
    "ax2.set_title(\"Distribution of Years of Education in Treated (Blue) and Control(Green)\")\n",
    "\n",
    "ax3 = sns.distplot(df_treated['re74'], ax=ax3)\n",
    "ax3 = sns.distplot(df_control['re74'], ax=ax3)\n",
    "ax3.set_title(\"Distribution of Earings 1975 in Treated (Blue) and Control(Green)\")\n",
    "\n",
    "ax4 = sns.distplot(df_treated['re75'], ax=ax4)\n",
    "ax4 = sns.distplot(df_control['re75'], ax=ax4)\n",
    "ax4.set_title(\"Distribution of Earings 1975 in Treated (Blue) and Control(Green)\")\n"
   ]
  },
  {
   "cell_type": "markdown",
   "metadata": {},
   "source": [
    "###### Observations of Continuous features\n",
    "> We can see that there is no significance difference of distribution between continuous features, before and after matching. After matching we notice that the distribution of continuous features between two groups are roughly same. Consistenly, the only obvious imbalance distribution is in feature **\"age\"**, same as before matching."
   ]
  },
  {
   "cell_type": "markdown",
   "metadata": {},
   "source": [
    "#### 1d recap: We are not satisfied with the result! :(\n",
    "> After propensity score matching, we still are not happy with the results since the features distribution are not well-balanced. Let's say that training program is well-suited for Husbands (married) to manage work-life balanced or the training is designed to white (non-black) people only. This will mislead our conclusion and it's better if we try to balance the distribution even further, as we are not sure the implication of underlying features!"
   ]
  },
  {
   "cell_type": "markdown",
   "metadata": {},
   "source": [
    "### 1f. Comparison of re78 after features matching + propensity score matching"
   ]
  },
  {
   "cell_type": "code",
   "execution_count": null,
   "metadata": {
    "scrolled": true
   },
   "outputs": [],
   "source": [
    "df_prop_merged.describe()"
   ]
  },
  {
   "cell_type": "code",
   "execution_count": null,
   "metadata": {},
   "outputs": [],
   "source": [
    "fig, (ax1, ax2) = plt.subplots(ncols=2, sharey=True)\n",
    "fig.set_size_inches(16, 10)\n",
    "ax1 = sns.boxplot(y = 're78_control' , data=df_prop_merged, ax = ax1, palette=\"Set3\", showfliers=False)\n",
    "ax1.set_title(\"Real earnings in 1978 for Control Group\")\n",
    "\n",
    "ax2 = sns.boxplot(y = 're78_treated' , data=df_prop_merged, ax = ax2, palette=\"Set3\", showfliers=False)\n",
    "ax2.set_title(\"Real earnings in 1978 for Treated Group\")\n",
    "\n",
    "print(\"Average earning of Control group (zeros excluded): \",df_prop_merged['re78_control'].mean())\n",
    "print(\"Median earning of Control group (zeros excluded): \",df_prop_merged['re78_control'].median())\n",
    "print(\"Average earning of Treated group (zeros excluded): \",df_prop_merged['re78_treated'].mean())\n",
    "print(\"Median earning of Treated group (zeros excluded): \",df_prop_merged['re78_treated'].median())"
   ]
  },
  {
   "cell_type": "code",
   "execution_count": null,
   "metadata": {},
   "outputs": [],
   "source": []
  }
 ],
 "metadata": {
  "kernelspec": {
   "display_name": "Python [conda root]",
   "language": "python",
   "name": "conda-root-py"
  },
  "language_info": {
   "codemirror_mode": {
    "name": "ipython",
    "version": 3
   },
   "file_extension": ".py",
   "mimetype": "text/x-python",
   "name": "python",
   "nbconvert_exporter": "python",
   "pygments_lexer": "ipython3",
   "version": "3.6.1"
  }
 },
 "nbformat": 4,
 "nbformat_minor": 2
}
